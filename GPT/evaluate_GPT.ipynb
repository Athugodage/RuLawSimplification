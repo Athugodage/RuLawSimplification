{
  "nbformat": 4,
  "nbformat_minor": 0,
  "metadata": {
    "colab": {
      "provenance": [],
      "include_colab_link": true
    },
    "kernelspec": {
      "name": "python3",
      "display_name": "Python 3"
    },
    "language_info": {
      "name": "python"
    },
    "gpuClass": "standard",
    "widgets": {
      "application/vnd.jupyter.widget-state+json": {
        "07d727c4c35a4f27b94a50b0a9eddf89": {
          "model_module": "@jupyter-widgets/controls",
          "model_name": "HBoxModel",
          "model_module_version": "1.5.0",
          "state": {
            "_dom_classes": [],
            "_model_module": "@jupyter-widgets/controls",
            "_model_module_version": "1.5.0",
            "_model_name": "HBoxModel",
            "_view_count": null,
            "_view_module": "@jupyter-widgets/controls",
            "_view_module_version": "1.5.0",
            "_view_name": "HBoxView",
            "box_style": "",
            "children": [
              "IPY_MODEL_e5b92f7c3d2f425692a7b8a43fdc035e",
              "IPY_MODEL_b3ef9371590143efa897825b155ded43",
              "IPY_MODEL_99255267533444db8080b758e8340509"
            ],
            "layout": "IPY_MODEL_78869525c9f14d88bfa3a4da55c70925"
          }
        },
        "e5b92f7c3d2f425692a7b8a43fdc035e": {
          "model_module": "@jupyter-widgets/controls",
          "model_name": "HTMLModel",
          "model_module_version": "1.5.0",
          "state": {
            "_dom_classes": [],
            "_model_module": "@jupyter-widgets/controls",
            "_model_module_version": "1.5.0",
            "_model_name": "HTMLModel",
            "_view_count": null,
            "_view_module": "@jupyter-widgets/controls",
            "_view_module_version": "1.5.0",
            "_view_name": "HTMLView",
            "description": "",
            "description_tooltip": null,
            "layout": "IPY_MODEL_2ed51717b109408cbd237352def2b601",
            "placeholder": "​",
            "style": "IPY_MODEL_7bc14f154e734520b177f5e4668e5fa0",
            "value": "Downloading (…)lve/main/config.json: 100%"
          }
        },
        "b3ef9371590143efa897825b155ded43": {
          "model_module": "@jupyter-widgets/controls",
          "model_name": "FloatProgressModel",
          "model_module_version": "1.5.0",
          "state": {
            "_dom_classes": [],
            "_model_module": "@jupyter-widgets/controls",
            "_model_module_version": "1.5.0",
            "_model_name": "FloatProgressModel",
            "_view_count": null,
            "_view_module": "@jupyter-widgets/controls",
            "_view_module_version": "1.5.0",
            "_view_name": "ProgressView",
            "bar_style": "success",
            "description": "",
            "description_tooltip": null,
            "layout": "IPY_MODEL_2db4f71368f94f16919c794c0d56c131",
            "max": 863,
            "min": 0,
            "orientation": "horizontal",
            "style": "IPY_MODEL_abf13f765db542f79b05d1c86879a4b6",
            "value": 863
          }
        },
        "99255267533444db8080b758e8340509": {
          "model_module": "@jupyter-widgets/controls",
          "model_name": "HTMLModel",
          "model_module_version": "1.5.0",
          "state": {
            "_dom_classes": [],
            "_model_module": "@jupyter-widgets/controls",
            "_model_module_version": "1.5.0",
            "_model_name": "HTMLModel",
            "_view_count": null,
            "_view_module": "@jupyter-widgets/controls",
            "_view_module_version": "1.5.0",
            "_view_name": "HTMLView",
            "description": "",
            "description_tooltip": null,
            "layout": "IPY_MODEL_e7dfd5c97d184476a08133922c596e44",
            "placeholder": "​",
            "style": "IPY_MODEL_428d1893a7f64121994b743705a953b0",
            "value": " 863/863 [00:00&lt;00:00, 38.3kB/s]"
          }
        },
        "78869525c9f14d88bfa3a4da55c70925": {
          "model_module": "@jupyter-widgets/base",
          "model_name": "LayoutModel",
          "model_module_version": "1.2.0",
          "state": {
            "_model_module": "@jupyter-widgets/base",
            "_model_module_version": "1.2.0",
            "_model_name": "LayoutModel",
            "_view_count": null,
            "_view_module": "@jupyter-widgets/base",
            "_view_module_version": "1.2.0",
            "_view_name": "LayoutView",
            "align_content": null,
            "align_items": null,
            "align_self": null,
            "border": null,
            "bottom": null,
            "display": null,
            "flex": null,
            "flex_flow": null,
            "grid_area": null,
            "grid_auto_columns": null,
            "grid_auto_flow": null,
            "grid_auto_rows": null,
            "grid_column": null,
            "grid_gap": null,
            "grid_row": null,
            "grid_template_areas": null,
            "grid_template_columns": null,
            "grid_template_rows": null,
            "height": null,
            "justify_content": null,
            "justify_items": null,
            "left": null,
            "margin": null,
            "max_height": null,
            "max_width": null,
            "min_height": null,
            "min_width": null,
            "object_fit": null,
            "object_position": null,
            "order": null,
            "overflow": null,
            "overflow_x": null,
            "overflow_y": null,
            "padding": null,
            "right": null,
            "top": null,
            "visibility": null,
            "width": null
          }
        },
        "2ed51717b109408cbd237352def2b601": {
          "model_module": "@jupyter-widgets/base",
          "model_name": "LayoutModel",
          "model_module_version": "1.2.0",
          "state": {
            "_model_module": "@jupyter-widgets/base",
            "_model_module_version": "1.2.0",
            "_model_name": "LayoutModel",
            "_view_count": null,
            "_view_module": "@jupyter-widgets/base",
            "_view_module_version": "1.2.0",
            "_view_name": "LayoutView",
            "align_content": null,
            "align_items": null,
            "align_self": null,
            "border": null,
            "bottom": null,
            "display": null,
            "flex": null,
            "flex_flow": null,
            "grid_area": null,
            "grid_auto_columns": null,
            "grid_auto_flow": null,
            "grid_auto_rows": null,
            "grid_column": null,
            "grid_gap": null,
            "grid_row": null,
            "grid_template_areas": null,
            "grid_template_columns": null,
            "grid_template_rows": null,
            "height": null,
            "justify_content": null,
            "justify_items": null,
            "left": null,
            "margin": null,
            "max_height": null,
            "max_width": null,
            "min_height": null,
            "min_width": null,
            "object_fit": null,
            "object_position": null,
            "order": null,
            "overflow": null,
            "overflow_x": null,
            "overflow_y": null,
            "padding": null,
            "right": null,
            "top": null,
            "visibility": null,
            "width": null
          }
        },
        "7bc14f154e734520b177f5e4668e5fa0": {
          "model_module": "@jupyter-widgets/controls",
          "model_name": "DescriptionStyleModel",
          "model_module_version": "1.5.0",
          "state": {
            "_model_module": "@jupyter-widgets/controls",
            "_model_module_version": "1.5.0",
            "_model_name": "DescriptionStyleModel",
            "_view_count": null,
            "_view_module": "@jupyter-widgets/base",
            "_view_module_version": "1.2.0",
            "_view_name": "StyleView",
            "description_width": ""
          }
        },
        "2db4f71368f94f16919c794c0d56c131": {
          "model_module": "@jupyter-widgets/base",
          "model_name": "LayoutModel",
          "model_module_version": "1.2.0",
          "state": {
            "_model_module": "@jupyter-widgets/base",
            "_model_module_version": "1.2.0",
            "_model_name": "LayoutModel",
            "_view_count": null,
            "_view_module": "@jupyter-widgets/base",
            "_view_module_version": "1.2.0",
            "_view_name": "LayoutView",
            "align_content": null,
            "align_items": null,
            "align_self": null,
            "border": null,
            "bottom": null,
            "display": null,
            "flex": null,
            "flex_flow": null,
            "grid_area": null,
            "grid_auto_columns": null,
            "grid_auto_flow": null,
            "grid_auto_rows": null,
            "grid_column": null,
            "grid_gap": null,
            "grid_row": null,
            "grid_template_areas": null,
            "grid_template_columns": null,
            "grid_template_rows": null,
            "height": null,
            "justify_content": null,
            "justify_items": null,
            "left": null,
            "margin": null,
            "max_height": null,
            "max_width": null,
            "min_height": null,
            "min_width": null,
            "object_fit": null,
            "object_position": null,
            "order": null,
            "overflow": null,
            "overflow_x": null,
            "overflow_y": null,
            "padding": null,
            "right": null,
            "top": null,
            "visibility": null,
            "width": null
          }
        },
        "abf13f765db542f79b05d1c86879a4b6": {
          "model_module": "@jupyter-widgets/controls",
          "model_name": "ProgressStyleModel",
          "model_module_version": "1.5.0",
          "state": {
            "_model_module": "@jupyter-widgets/controls",
            "_model_module_version": "1.5.0",
            "_model_name": "ProgressStyleModel",
            "_view_count": null,
            "_view_module": "@jupyter-widgets/base",
            "_view_module_version": "1.2.0",
            "_view_name": "StyleView",
            "bar_color": null,
            "description_width": ""
          }
        },
        "e7dfd5c97d184476a08133922c596e44": {
          "model_module": "@jupyter-widgets/base",
          "model_name": "LayoutModel",
          "model_module_version": "1.2.0",
          "state": {
            "_model_module": "@jupyter-widgets/base",
            "_model_module_version": "1.2.0",
            "_model_name": "LayoutModel",
            "_view_count": null,
            "_view_module": "@jupyter-widgets/base",
            "_view_module_version": "1.2.0",
            "_view_name": "LayoutView",
            "align_content": null,
            "align_items": null,
            "align_self": null,
            "border": null,
            "bottom": null,
            "display": null,
            "flex": null,
            "flex_flow": null,
            "grid_area": null,
            "grid_auto_columns": null,
            "grid_auto_flow": null,
            "grid_auto_rows": null,
            "grid_column": null,
            "grid_gap": null,
            "grid_row": null,
            "grid_template_areas": null,
            "grid_template_columns": null,
            "grid_template_rows": null,
            "height": null,
            "justify_content": null,
            "justify_items": null,
            "left": null,
            "margin": null,
            "max_height": null,
            "max_width": null,
            "min_height": null,
            "min_width": null,
            "object_fit": null,
            "object_position": null,
            "order": null,
            "overflow": null,
            "overflow_x": null,
            "overflow_y": null,
            "padding": null,
            "right": null,
            "top": null,
            "visibility": null,
            "width": null
          }
        },
        "428d1893a7f64121994b743705a953b0": {
          "model_module": "@jupyter-widgets/controls",
          "model_name": "DescriptionStyleModel",
          "model_module_version": "1.5.0",
          "state": {
            "_model_module": "@jupyter-widgets/controls",
            "_model_module_version": "1.5.0",
            "_model_name": "DescriptionStyleModel",
            "_view_count": null,
            "_view_module": "@jupyter-widgets/base",
            "_view_module_version": "1.2.0",
            "_view_name": "StyleView",
            "description_width": ""
          }
        },
        "d69c9d8fbe5e445bb0ea1511e31c6322": {
          "model_module": "@jupyter-widgets/controls",
          "model_name": "HBoxModel",
          "model_module_version": "1.5.0",
          "state": {
            "_dom_classes": [],
            "_model_module": "@jupyter-widgets/controls",
            "_model_module_version": "1.5.0",
            "_model_name": "HBoxModel",
            "_view_count": null,
            "_view_module": "@jupyter-widgets/controls",
            "_view_module_version": "1.5.0",
            "_view_name": "HBoxView",
            "box_style": "",
            "children": [
              "IPY_MODEL_cc74deb5f4f74a5f941c8cb0a3686972",
              "IPY_MODEL_4ede1ed95ea04c7e894f8f9a7b0d58bc",
              "IPY_MODEL_95e9b6251ca64c548a816142042e66f8"
            ],
            "layout": "IPY_MODEL_8acaff7fe968452f8033a76208843abc"
          }
        },
        "cc74deb5f4f74a5f941c8cb0a3686972": {
          "model_module": "@jupyter-widgets/controls",
          "model_name": "HTMLModel",
          "model_module_version": "1.5.0",
          "state": {
            "_dom_classes": [],
            "_model_module": "@jupyter-widgets/controls",
            "_model_module_version": "1.5.0",
            "_model_name": "HTMLModel",
            "_view_count": null,
            "_view_module": "@jupyter-widgets/controls",
            "_view_module_version": "1.5.0",
            "_view_name": "HTMLView",
            "description": "",
            "description_tooltip": null,
            "layout": "IPY_MODEL_d26c0d0b4d9647d489b0ab0d389ca82f",
            "placeholder": "​",
            "style": "IPY_MODEL_7d1a3b775e394f6583ed3d80ed74ed5b",
            "value": "Downloading pytorch_model.bin: 100%"
          }
        },
        "4ede1ed95ea04c7e894f8f9a7b0d58bc": {
          "model_module": "@jupyter-widgets/controls",
          "model_name": "FloatProgressModel",
          "model_module_version": "1.5.0",
          "state": {
            "_dom_classes": [],
            "_model_module": "@jupyter-widgets/controls",
            "_model_module_version": "1.5.0",
            "_model_name": "FloatProgressModel",
            "_view_count": null,
            "_view_module": "@jupyter-widgets/controls",
            "_view_module_version": "1.5.0",
            "_view_name": "ProgressView",
            "bar_style": "success",
            "description": "",
            "description_tooltip": null,
            "layout": "IPY_MODEL_4d023e8350ab4b50a6d55f951cfe7b48",
            "max": 551313981,
            "min": 0,
            "orientation": "horizontal",
            "style": "IPY_MODEL_f5d884ec33f64f0db1e8a1bac5b302f4",
            "value": 551313981
          }
        },
        "95e9b6251ca64c548a816142042e66f8": {
          "model_module": "@jupyter-widgets/controls",
          "model_name": "HTMLModel",
          "model_module_version": "1.5.0",
          "state": {
            "_dom_classes": [],
            "_model_module": "@jupyter-widgets/controls",
            "_model_module_version": "1.5.0",
            "_model_name": "HTMLModel",
            "_view_count": null,
            "_view_module": "@jupyter-widgets/controls",
            "_view_module_version": "1.5.0",
            "_view_name": "HTMLView",
            "description": "",
            "description_tooltip": null,
            "layout": "IPY_MODEL_18260ac80d454f5f9976e9ff19009442",
            "placeholder": "​",
            "style": "IPY_MODEL_726f0064471244bdb464955690556f4c",
            "value": " 551M/551M [00:36&lt;00:00, 15.5MB/s]"
          }
        },
        "8acaff7fe968452f8033a76208843abc": {
          "model_module": "@jupyter-widgets/base",
          "model_name": "LayoutModel",
          "model_module_version": "1.2.0",
          "state": {
            "_model_module": "@jupyter-widgets/base",
            "_model_module_version": "1.2.0",
            "_model_name": "LayoutModel",
            "_view_count": null,
            "_view_module": "@jupyter-widgets/base",
            "_view_module_version": "1.2.0",
            "_view_name": "LayoutView",
            "align_content": null,
            "align_items": null,
            "align_self": null,
            "border": null,
            "bottom": null,
            "display": null,
            "flex": null,
            "flex_flow": null,
            "grid_area": null,
            "grid_auto_columns": null,
            "grid_auto_flow": null,
            "grid_auto_rows": null,
            "grid_column": null,
            "grid_gap": null,
            "grid_row": null,
            "grid_template_areas": null,
            "grid_template_columns": null,
            "grid_template_rows": null,
            "height": null,
            "justify_content": null,
            "justify_items": null,
            "left": null,
            "margin": null,
            "max_height": null,
            "max_width": null,
            "min_height": null,
            "min_width": null,
            "object_fit": null,
            "object_position": null,
            "order": null,
            "overflow": null,
            "overflow_x": null,
            "overflow_y": null,
            "padding": null,
            "right": null,
            "top": null,
            "visibility": null,
            "width": null
          }
        },
        "d26c0d0b4d9647d489b0ab0d389ca82f": {
          "model_module": "@jupyter-widgets/base",
          "model_name": "LayoutModel",
          "model_module_version": "1.2.0",
          "state": {
            "_model_module": "@jupyter-widgets/base",
            "_model_module_version": "1.2.0",
            "_model_name": "LayoutModel",
            "_view_count": null,
            "_view_module": "@jupyter-widgets/base",
            "_view_module_version": "1.2.0",
            "_view_name": "LayoutView",
            "align_content": null,
            "align_items": null,
            "align_self": null,
            "border": null,
            "bottom": null,
            "display": null,
            "flex": null,
            "flex_flow": null,
            "grid_area": null,
            "grid_auto_columns": null,
            "grid_auto_flow": null,
            "grid_auto_rows": null,
            "grid_column": null,
            "grid_gap": null,
            "grid_row": null,
            "grid_template_areas": null,
            "grid_template_columns": null,
            "grid_template_rows": null,
            "height": null,
            "justify_content": null,
            "justify_items": null,
            "left": null,
            "margin": null,
            "max_height": null,
            "max_width": null,
            "min_height": null,
            "min_width": null,
            "object_fit": null,
            "object_position": null,
            "order": null,
            "overflow": null,
            "overflow_x": null,
            "overflow_y": null,
            "padding": null,
            "right": null,
            "top": null,
            "visibility": null,
            "width": null
          }
        },
        "7d1a3b775e394f6583ed3d80ed74ed5b": {
          "model_module": "@jupyter-widgets/controls",
          "model_name": "DescriptionStyleModel",
          "model_module_version": "1.5.0",
          "state": {
            "_model_module": "@jupyter-widgets/controls",
            "_model_module_version": "1.5.0",
            "_model_name": "DescriptionStyleModel",
            "_view_count": null,
            "_view_module": "@jupyter-widgets/base",
            "_view_module_version": "1.2.0",
            "_view_name": "StyleView",
            "description_width": ""
          }
        },
        "4d023e8350ab4b50a6d55f951cfe7b48": {
          "model_module": "@jupyter-widgets/base",
          "model_name": "LayoutModel",
          "model_module_version": "1.2.0",
          "state": {
            "_model_module": "@jupyter-widgets/base",
            "_model_module_version": "1.2.0",
            "_model_name": "LayoutModel",
            "_view_count": null,
            "_view_module": "@jupyter-widgets/base",
            "_view_module_version": "1.2.0",
            "_view_name": "LayoutView",
            "align_content": null,
            "align_items": null,
            "align_self": null,
            "border": null,
            "bottom": null,
            "display": null,
            "flex": null,
            "flex_flow": null,
            "grid_area": null,
            "grid_auto_columns": null,
            "grid_auto_flow": null,
            "grid_auto_rows": null,
            "grid_column": null,
            "grid_gap": null,
            "grid_row": null,
            "grid_template_areas": null,
            "grid_template_columns": null,
            "grid_template_rows": null,
            "height": null,
            "justify_content": null,
            "justify_items": null,
            "left": null,
            "margin": null,
            "max_height": null,
            "max_width": null,
            "min_height": null,
            "min_width": null,
            "object_fit": null,
            "object_position": null,
            "order": null,
            "overflow": null,
            "overflow_x": null,
            "overflow_y": null,
            "padding": null,
            "right": null,
            "top": null,
            "visibility": null,
            "width": null
          }
        },
        "f5d884ec33f64f0db1e8a1bac5b302f4": {
          "model_module": "@jupyter-widgets/controls",
          "model_name": "ProgressStyleModel",
          "model_module_version": "1.5.0",
          "state": {
            "_model_module": "@jupyter-widgets/controls",
            "_model_module_version": "1.5.0",
            "_model_name": "ProgressStyleModel",
            "_view_count": null,
            "_view_module": "@jupyter-widgets/base",
            "_view_module_version": "1.2.0",
            "_view_name": "StyleView",
            "bar_color": null,
            "description_width": ""
          }
        },
        "18260ac80d454f5f9976e9ff19009442": {
          "model_module": "@jupyter-widgets/base",
          "model_name": "LayoutModel",
          "model_module_version": "1.2.0",
          "state": {
            "_model_module": "@jupyter-widgets/base",
            "_model_module_version": "1.2.0",
            "_model_name": "LayoutModel",
            "_view_count": null,
            "_view_module": "@jupyter-widgets/base",
            "_view_module_version": "1.2.0",
            "_view_name": "LayoutView",
            "align_content": null,
            "align_items": null,
            "align_self": null,
            "border": null,
            "bottom": null,
            "display": null,
            "flex": null,
            "flex_flow": null,
            "grid_area": null,
            "grid_auto_columns": null,
            "grid_auto_flow": null,
            "grid_auto_rows": null,
            "grid_column": null,
            "grid_gap": null,
            "grid_row": null,
            "grid_template_areas": null,
            "grid_template_columns": null,
            "grid_template_rows": null,
            "height": null,
            "justify_content": null,
            "justify_items": null,
            "left": null,
            "margin": null,
            "max_height": null,
            "max_width": null,
            "min_height": null,
            "min_width": null,
            "object_fit": null,
            "object_position": null,
            "order": null,
            "overflow": null,
            "overflow_x": null,
            "overflow_y": null,
            "padding": null,
            "right": null,
            "top": null,
            "visibility": null,
            "width": null
          }
        },
        "726f0064471244bdb464955690556f4c": {
          "model_module": "@jupyter-widgets/controls",
          "model_name": "DescriptionStyleModel",
          "model_module_version": "1.5.0",
          "state": {
            "_model_module": "@jupyter-widgets/controls",
            "_model_module_version": "1.5.0",
            "_model_name": "DescriptionStyleModel",
            "_view_count": null,
            "_view_module": "@jupyter-widgets/base",
            "_view_module_version": "1.2.0",
            "_view_name": "StyleView",
            "description_width": ""
          }
        }
      }
    },
    "accelerator": "GPU"
  },
  "cells": [
    {
      "cell_type": "markdown",
      "metadata": {
        "id": "view-in-github",
        "colab_type": "text"
      },
      "source": [
        "<a href=\"https://colab.research.google.com/github/Athugodage/RuLawSimplification/blob/main/GPT/evaluate_GPT.ipynb\" target=\"_parent\"><img src=\"https://colab.research.google.com/assets/colab-badge.svg\" alt=\"Open In Colab\"/></a>"
      ]
    },
    {
      "cell_type": "code",
      "source": [
        "!pip install bert_score"
      ],
      "metadata": {
        "id": "brYxKZBCGg4Q",
        "outputId": "46600fc7-a5a2-43a2-c1e4-1ef4b75a19ad",
        "colab": {
          "base_uri": "https://localhost:8080/"
        }
      },
      "execution_count": 13,
      "outputs": [
        {
          "output_type": "stream",
          "name": "stdout",
          "text": [
            "Looking in indexes: https://pypi.org/simple, https://us-python.pkg.dev/colab-wheels/public/simple/\n",
            "Collecting bert_score\n",
            "  Downloading bert_score-0.3.13-py3-none-any.whl (61 kB)\n",
            "\u001b[2K     \u001b[90m━━━━━━━━━━━━━━━━━━━━━━━━━━━━━━━━━━━━━━━━\u001b[0m \u001b[32m61.1/61.1 KB\u001b[0m \u001b[31m6.5 MB/s\u001b[0m eta \u001b[36m0:00:00\u001b[0m\n",
            "\u001b[?25hRequirement already satisfied: numpy in /usr/local/lib/python3.9/dist-packages (from bert_score) (1.22.4)\n",
            "Requirement already satisfied: transformers>=3.0.0 in /usr/local/lib/python3.9/dist-packages (from bert_score) (4.27.4)\n",
            "Requirement already satisfied: pandas>=1.0.1 in /usr/local/lib/python3.9/dist-packages (from bert_score) (1.4.4)\n",
            "Requirement already satisfied: requests in /usr/local/lib/python3.9/dist-packages (from bert_score) (2.27.1)\n",
            "Requirement already satisfied: packaging>=20.9 in /usr/local/lib/python3.9/dist-packages (from bert_score) (23.0)\n",
            "Requirement already satisfied: torch>=1.0.0 in /usr/local/lib/python3.9/dist-packages (from bert_score) (1.13.1+cu116)\n",
            "Requirement already satisfied: matplotlib in /usr/local/lib/python3.9/dist-packages (from bert_score) (3.7.1)\n",
            "Requirement already satisfied: tqdm>=4.31.1 in /usr/local/lib/python3.9/dist-packages (from bert_score) (4.65.0)\n",
            "Requirement already satisfied: python-dateutil>=2.8.1 in /usr/local/lib/python3.9/dist-packages (from pandas>=1.0.1->bert_score) (2.8.2)\n",
            "Requirement already satisfied: pytz>=2020.1 in /usr/local/lib/python3.9/dist-packages (from pandas>=1.0.1->bert_score) (2022.7.1)\n",
            "Requirement already satisfied: typing-extensions in /usr/local/lib/python3.9/dist-packages (from torch>=1.0.0->bert_score) (4.5.0)\n",
            "Requirement already satisfied: tokenizers!=0.11.3,<0.14,>=0.11.1 in /usr/local/lib/python3.9/dist-packages (from transformers>=3.0.0->bert_score) (0.13.2)\n",
            "Requirement already satisfied: pyyaml>=5.1 in /usr/local/lib/python3.9/dist-packages (from transformers>=3.0.0->bert_score) (6.0)\n",
            "Requirement already satisfied: filelock in /usr/local/lib/python3.9/dist-packages (from transformers>=3.0.0->bert_score) (3.10.7)\n",
            "Requirement already satisfied: regex!=2019.12.17 in /usr/local/lib/python3.9/dist-packages (from transformers>=3.0.0->bert_score) (2022.10.31)\n",
            "Requirement already satisfied: huggingface-hub<1.0,>=0.11.0 in /usr/local/lib/python3.9/dist-packages (from transformers>=3.0.0->bert_score) (0.13.3)\n",
            "Requirement already satisfied: pillow>=6.2.0 in /usr/local/lib/python3.9/dist-packages (from matplotlib->bert_score) (8.4.0)\n",
            "Requirement already satisfied: contourpy>=1.0.1 in /usr/local/lib/python3.9/dist-packages (from matplotlib->bert_score) (1.0.7)\n",
            "Requirement already satisfied: importlib-resources>=3.2.0 in /usr/local/lib/python3.9/dist-packages (from matplotlib->bert_score) (5.12.0)\n",
            "Requirement already satisfied: fonttools>=4.22.0 in /usr/local/lib/python3.9/dist-packages (from matplotlib->bert_score) (4.39.2)\n",
            "Requirement already satisfied: cycler>=0.10 in /usr/local/lib/python3.9/dist-packages (from matplotlib->bert_score) (0.11.0)\n",
            "Requirement already satisfied: kiwisolver>=1.0.1 in /usr/local/lib/python3.9/dist-packages (from matplotlib->bert_score) (1.4.4)\n",
            "Requirement already satisfied: pyparsing>=2.3.1 in /usr/local/lib/python3.9/dist-packages (from matplotlib->bert_score) (3.0.9)\n",
            "Requirement already satisfied: idna<4,>=2.5 in /usr/local/lib/python3.9/dist-packages (from requests->bert_score) (3.4)\n",
            "Requirement already satisfied: urllib3<1.27,>=1.21.1 in /usr/local/lib/python3.9/dist-packages (from requests->bert_score) (1.26.15)\n",
            "Requirement already satisfied: certifi>=2017.4.17 in /usr/local/lib/python3.9/dist-packages (from requests->bert_score) (2022.12.7)\n",
            "Requirement already satisfied: charset-normalizer~=2.0.0 in /usr/local/lib/python3.9/dist-packages (from requests->bert_score) (2.0.12)\n",
            "Requirement already satisfied: zipp>=3.1.0 in /usr/local/lib/python3.9/dist-packages (from importlib-resources>=3.2.0->matplotlib->bert_score) (3.15.0)\n",
            "Requirement already satisfied: six>=1.5 in /usr/local/lib/python3.9/dist-packages (from python-dateutil>=2.8.1->pandas>=1.0.1->bert_score) (1.16.0)\n",
            "Installing collected packages: bert_score\n",
            "Successfully installed bert_score-0.3.13\n"
          ]
        }
      ]
    },
    {
      "cell_type": "code",
      "source": [
        "!pip install transformers\n",
        "!pip install rouge_score sacrebleu sacremoses\n",
        "!pip install evaluate"
      ],
      "metadata": {
        "colab": {
          "base_uri": "https://localhost:8080/"
        },
        "id": "PXsePG4c0bLy",
        "outputId": "8251df35-ef11-4ebf-edb7-b1311702f9bc"
      },
      "execution_count": 1,
      "outputs": [
        {
          "output_type": "stream",
          "name": "stdout",
          "text": [
            "Looking in indexes: https://pypi.org/simple, https://us-python.pkg.dev/colab-wheels/public/simple/\n",
            "Collecting transformers\n",
            "  Downloading transformers-4.27.4-py3-none-any.whl (6.8 MB)\n",
            "\u001b[2K     \u001b[90m━━━━━━━━━━━━━━━━━━━━━━━━━━━━━━━━━━━━━━━━\u001b[0m \u001b[32m6.8/6.8 MB\u001b[0m \u001b[31m44.9 MB/s\u001b[0m eta \u001b[36m0:00:00\u001b[0m\n",
            "\u001b[?25hRequirement already satisfied: regex!=2019.12.17 in /usr/local/lib/python3.9/dist-packages (from transformers) (2022.10.31)\n",
            "Requirement already satisfied: requests in /usr/local/lib/python3.9/dist-packages (from transformers) (2.27.1)\n",
            "Requirement already satisfied: filelock in /usr/local/lib/python3.9/dist-packages (from transformers) (3.10.7)\n",
            "Requirement already satisfied: tqdm>=4.27 in /usr/local/lib/python3.9/dist-packages (from transformers) (4.65.0)\n",
            "Requirement already satisfied: pyyaml>=5.1 in /usr/local/lib/python3.9/dist-packages (from transformers) (6.0)\n",
            "Collecting huggingface-hub<1.0,>=0.11.0\n",
            "  Downloading huggingface_hub-0.13.3-py3-none-any.whl (199 kB)\n",
            "\u001b[2K     \u001b[90m━━━━━━━━━━━━━━━━━━━━━━━━━━━━━━━━━━━━━━\u001b[0m \u001b[32m199.8/199.8 KB\u001b[0m \u001b[31m13.5 MB/s\u001b[0m eta \u001b[36m0:00:00\u001b[0m\n",
            "\u001b[?25hCollecting tokenizers!=0.11.3,<0.14,>=0.11.1\n",
            "  Downloading tokenizers-0.13.2-cp39-cp39-manylinux_2_17_x86_64.manylinux2014_x86_64.whl (7.6 MB)\n",
            "\u001b[2K     \u001b[90m━━━━━━━━━━━━━━━━━━━━━━━━━━━━━━━━━━━━━━━━\u001b[0m \u001b[32m7.6/7.6 MB\u001b[0m \u001b[31m47.1 MB/s\u001b[0m eta \u001b[36m0:00:00\u001b[0m\n",
            "\u001b[?25hRequirement already satisfied: numpy>=1.17 in /usr/local/lib/python3.9/dist-packages (from transformers) (1.22.4)\n",
            "Requirement already satisfied: packaging>=20.0 in /usr/local/lib/python3.9/dist-packages (from transformers) (23.0)\n",
            "Requirement already satisfied: typing-extensions>=3.7.4.3 in /usr/local/lib/python3.9/dist-packages (from huggingface-hub<1.0,>=0.11.0->transformers) (4.5.0)\n",
            "Requirement already satisfied: urllib3<1.27,>=1.21.1 in /usr/local/lib/python3.9/dist-packages (from requests->transformers) (1.26.15)\n",
            "Requirement already satisfied: charset-normalizer~=2.0.0 in /usr/local/lib/python3.9/dist-packages (from requests->transformers) (2.0.12)\n",
            "Requirement already satisfied: certifi>=2017.4.17 in /usr/local/lib/python3.9/dist-packages (from requests->transformers) (2022.12.7)\n",
            "Requirement already satisfied: idna<4,>=2.5 in /usr/local/lib/python3.9/dist-packages (from requests->transformers) (3.4)\n",
            "Installing collected packages: tokenizers, huggingface-hub, transformers\n",
            "Successfully installed huggingface-hub-0.13.3 tokenizers-0.13.2 transformers-4.27.4\n",
            "Looking in indexes: https://pypi.org/simple, https://us-python.pkg.dev/colab-wheels/public/simple/\n",
            "Collecting rouge_score\n",
            "  Downloading rouge_score-0.1.2.tar.gz (17 kB)\n",
            "  Preparing metadata (setup.py) ... \u001b[?25l\u001b[?25hdone\n",
            "Collecting sacrebleu\n",
            "  Downloading sacrebleu-2.3.1-py3-none-any.whl (118 kB)\n",
            "\u001b[2K     \u001b[90m━━━━━━━━━━━━━━━━━━━━━━━━━━━━━━━━━━━━━━\u001b[0m \u001b[32m118.9/118.9 KB\u001b[0m \u001b[31m12.9 MB/s\u001b[0m eta \u001b[36m0:00:00\u001b[0m\n",
            "\u001b[?25hCollecting sacremoses\n",
            "  Downloading sacremoses-0.0.53.tar.gz (880 kB)\n",
            "\u001b[2K     \u001b[90m━━━━━━━━━━━━━━━━━━━━━━━━━━━━━━━━━━━━━━\u001b[0m \u001b[32m880.6/880.6 KB\u001b[0m \u001b[31m44.3 MB/s\u001b[0m eta \u001b[36m0:00:00\u001b[0m\n",
            "\u001b[?25h  Preparing metadata (setup.py) ... \u001b[?25l\u001b[?25hdone\n",
            "Requirement already satisfied: absl-py in /usr/local/lib/python3.9/dist-packages (from rouge_score) (1.4.0)\n",
            "Requirement already satisfied: nltk in /usr/local/lib/python3.9/dist-packages (from rouge_score) (3.8.1)\n",
            "Requirement already satisfied: numpy in /usr/local/lib/python3.9/dist-packages (from rouge_score) (1.22.4)\n",
            "Requirement already satisfied: six>=1.14.0 in /usr/local/lib/python3.9/dist-packages (from rouge_score) (1.16.0)\n",
            "Requirement already satisfied: lxml in /usr/local/lib/python3.9/dist-packages (from sacrebleu) (4.9.2)\n",
            "Requirement already satisfied: regex in /usr/local/lib/python3.9/dist-packages (from sacrebleu) (2022.10.31)\n",
            "Requirement already satisfied: tabulate>=0.8.9 in /usr/local/lib/python3.9/dist-packages (from sacrebleu) (0.8.10)\n",
            "Collecting portalocker\n",
            "  Downloading portalocker-2.7.0-py2.py3-none-any.whl (15 kB)\n",
            "Collecting colorama\n",
            "  Downloading colorama-0.4.6-py2.py3-none-any.whl (25 kB)\n",
            "Requirement already satisfied: click in /usr/local/lib/python3.9/dist-packages (from sacremoses) (8.1.3)\n",
            "Requirement already satisfied: joblib in /usr/local/lib/python3.9/dist-packages (from sacremoses) (1.1.1)\n",
            "Requirement already satisfied: tqdm in /usr/local/lib/python3.9/dist-packages (from sacremoses) (4.65.0)\n",
            "Building wheels for collected packages: rouge_score, sacremoses\n",
            "  Building wheel for rouge_score (setup.py) ... \u001b[?25l\u001b[?25hdone\n",
            "  Created wheel for rouge_score: filename=rouge_score-0.1.2-py3-none-any.whl size=24954 sha256=29963f78582a2dba06f0f5ff9c52b91f0c7b5c2ea02237fe2fa610686dd10611\n",
            "  Stored in directory: /root/.cache/pip/wheels/9b/3d/39/09558097d3119ca0a4d462df68f22c6f3c1b345ac63a09b86e\n",
            "  Building wheel for sacremoses (setup.py) ... \u001b[?25l\u001b[?25hdone\n",
            "  Created wheel for sacremoses: filename=sacremoses-0.0.53-py3-none-any.whl size=895259 sha256=9f369b641d61d484cf1700c95d881c4476988f465e33b4460c4a017303233ed7\n",
            "  Stored in directory: /root/.cache/pip/wheels/12/1c/3d/46cf06718d63a32ff798a89594b61e7f345ab6b36d909ce033\n",
            "Successfully built rouge_score sacremoses\n",
            "Installing collected packages: sacremoses, portalocker, colorama, sacrebleu, rouge_score\n",
            "Successfully installed colorama-0.4.6 portalocker-2.7.0 rouge_score-0.1.2 sacrebleu-2.3.1 sacremoses-0.0.53\n",
            "Looking in indexes: https://pypi.org/simple, https://us-python.pkg.dev/colab-wheels/public/simple/\n",
            "Collecting evaluate\n",
            "  Downloading evaluate-0.4.0-py3-none-any.whl (81 kB)\n",
            "\u001b[2K     \u001b[90m━━━━━━━━━━━━━━━━━━━━━━━━━━━━━━━━━━━━━━━━\u001b[0m \u001b[32m81.4/81.4 KB\u001b[0m \u001b[31m9.6 MB/s\u001b[0m eta \u001b[36m0:00:00\u001b[0m\n",
            "\u001b[?25hRequirement already satisfied: numpy>=1.17 in /usr/local/lib/python3.9/dist-packages (from evaluate) (1.22.4)\n",
            "Requirement already satisfied: huggingface-hub>=0.7.0 in /usr/local/lib/python3.9/dist-packages (from evaluate) (0.13.3)\n",
            "Collecting responses<0.19\n",
            "  Downloading responses-0.18.0-py3-none-any.whl (38 kB)\n",
            "Collecting dill\n",
            "  Downloading dill-0.3.6-py3-none-any.whl (110 kB)\n",
            "\u001b[2K     \u001b[90m━━━━━━━━━━━━━━━━━━━━━━━━━━━━━━━━━━━━━━\u001b[0m \u001b[32m110.5/110.5 KB\u001b[0m \u001b[31m16.2 MB/s\u001b[0m eta \u001b[36m0:00:00\u001b[0m\n",
            "\u001b[?25hRequirement already satisfied: tqdm>=4.62.1 in /usr/local/lib/python3.9/dist-packages (from evaluate) (4.65.0)\n",
            "Collecting xxhash\n",
            "  Downloading xxhash-3.2.0-cp39-cp39-manylinux_2_17_x86_64.manylinux2014_x86_64.whl (212 kB)\n",
            "\u001b[2K     \u001b[90m━━━━━━━━━━━━━━━━━━━━━━━━━━━━━━━━━━━━━━\u001b[0m \u001b[32m212.2/212.2 KB\u001b[0m \u001b[31m30.0 MB/s\u001b[0m eta \u001b[36m0:00:00\u001b[0m\n",
            "\u001b[?25hRequirement already satisfied: pandas in /usr/local/lib/python3.9/dist-packages (from evaluate) (1.4.4)\n",
            "Requirement already satisfied: packaging in /usr/local/lib/python3.9/dist-packages (from evaluate) (23.0)\n",
            "Requirement already satisfied: requests>=2.19.0 in /usr/local/lib/python3.9/dist-packages (from evaluate) (2.27.1)\n",
            "Requirement already satisfied: fsspec[http]>=2021.05.0 in /usr/local/lib/python3.9/dist-packages (from evaluate) (2023.3.0)\n",
            "Collecting multiprocess\n",
            "  Downloading multiprocess-0.70.14-py39-none-any.whl (132 kB)\n",
            "\u001b[2K     \u001b[90m━━━━━━━━━━━━━━━━━━━━━━━━━━━━━━━━━━━━━━\u001b[0m \u001b[32m132.9/132.9 KB\u001b[0m \u001b[31m15.0 MB/s\u001b[0m eta \u001b[36m0:00:00\u001b[0m\n",
            "\u001b[?25hCollecting datasets>=2.0.0\n",
            "  Downloading datasets-2.11.0-py3-none-any.whl (468 kB)\n",
            "\u001b[2K     \u001b[90m━━━━━━━━━━━━━━━━━━━━━━━━━━━━━━━━━━━━━━\u001b[0m \u001b[32m468.7/468.7 KB\u001b[0m \u001b[31m48.4 MB/s\u001b[0m eta \u001b[36m0:00:00\u001b[0m\n",
            "\u001b[?25hRequirement already satisfied: pyarrow>=8.0.0 in /usr/local/lib/python3.9/dist-packages (from datasets>=2.0.0->evaluate) (9.0.0)\n",
            "Requirement already satisfied: pyyaml>=5.1 in /usr/local/lib/python3.9/dist-packages (from datasets>=2.0.0->evaluate) (6.0)\n",
            "Collecting aiohttp\n",
            "  Downloading aiohttp-3.8.4-cp39-cp39-manylinux_2_17_x86_64.manylinux2014_x86_64.whl (1.0 MB)\n",
            "\u001b[2K     \u001b[90m━━━━━━━━━━━━━━━━━━━━━━━━━━━━━━━━━━━━━━━━\u001b[0m \u001b[32m1.0/1.0 MB\u001b[0m \u001b[31m73.8 MB/s\u001b[0m eta \u001b[36m0:00:00\u001b[0m\n",
            "\u001b[?25hRequirement already satisfied: filelock in /usr/local/lib/python3.9/dist-packages (from huggingface-hub>=0.7.0->evaluate) (3.10.7)\n",
            "Requirement already satisfied: typing-extensions>=3.7.4.3 in /usr/local/lib/python3.9/dist-packages (from huggingface-hub>=0.7.0->evaluate) (4.5.0)\n",
            "Requirement already satisfied: urllib3<1.27,>=1.21.1 in /usr/local/lib/python3.9/dist-packages (from requests>=2.19.0->evaluate) (1.26.15)\n",
            "Requirement already satisfied: certifi>=2017.4.17 in /usr/local/lib/python3.9/dist-packages (from requests>=2.19.0->evaluate) (2022.12.7)\n",
            "Requirement already satisfied: idna<4,>=2.5 in /usr/local/lib/python3.9/dist-packages (from requests>=2.19.0->evaluate) (3.4)\n",
            "Requirement already satisfied: charset-normalizer~=2.0.0 in /usr/local/lib/python3.9/dist-packages (from requests>=2.19.0->evaluate) (2.0.12)\n",
            "Requirement already satisfied: pytz>=2020.1 in /usr/local/lib/python3.9/dist-packages (from pandas->evaluate) (2022.7.1)\n",
            "Requirement already satisfied: python-dateutil>=2.8.1 in /usr/local/lib/python3.9/dist-packages (from pandas->evaluate) (2.8.2)\n",
            "Collecting frozenlist>=1.1.1\n",
            "  Downloading frozenlist-1.3.3-cp39-cp39-manylinux_2_5_x86_64.manylinux1_x86_64.manylinux_2_17_x86_64.manylinux2014_x86_64.whl (158 kB)\n",
            "\u001b[2K     \u001b[90m━━━━━━━━━━━━━━━━━━━━━━━━━━━━━━━━━━━━━━\u001b[0m \u001b[32m158.8/158.8 KB\u001b[0m \u001b[31m21.4 MB/s\u001b[0m eta \u001b[36m0:00:00\u001b[0m\n",
            "\u001b[?25hCollecting yarl<2.0,>=1.0\n",
            "  Downloading yarl-1.8.2-cp39-cp39-manylinux_2_17_x86_64.manylinux2014_x86_64.whl (264 kB)\n",
            "\u001b[2K     \u001b[90m━━━━━━━━━━━━━━━━━━━━━━━━━━━━━━━━━━━━━━\u001b[0m \u001b[32m264.6/264.6 KB\u001b[0m \u001b[31m34.7 MB/s\u001b[0m eta \u001b[36m0:00:00\u001b[0m\n",
            "\u001b[?25hCollecting aiosignal>=1.1.2\n",
            "  Downloading aiosignal-1.3.1-py3-none-any.whl (7.6 kB)\n",
            "Collecting async-timeout<5.0,>=4.0.0a3\n",
            "  Downloading async_timeout-4.0.2-py3-none-any.whl (5.8 kB)\n",
            "Collecting multidict<7.0,>=4.5\n",
            "  Downloading multidict-6.0.4-cp39-cp39-manylinux_2_17_x86_64.manylinux2014_x86_64.whl (114 kB)\n",
            "\u001b[2K     \u001b[90m━━━━━━━━━━━━━━━━━━━━━━━━━━━━━━━━━━━━━━\u001b[0m \u001b[32m114.2/114.2 KB\u001b[0m \u001b[31m14.3 MB/s\u001b[0m eta \u001b[36m0:00:00\u001b[0m\n",
            "\u001b[?25hRequirement already satisfied: attrs>=17.3.0 in /usr/local/lib/python3.9/dist-packages (from aiohttp->datasets>=2.0.0->evaluate) (22.2.0)\n",
            "Requirement already satisfied: six>=1.5 in /usr/local/lib/python3.9/dist-packages (from python-dateutil>=2.8.1->pandas->evaluate) (1.16.0)\n",
            "Installing collected packages: xxhash, multidict, frozenlist, dill, async-timeout, yarl, responses, multiprocess, aiosignal, aiohttp, datasets, evaluate\n",
            "Successfully installed aiohttp-3.8.4 aiosignal-1.3.1 async-timeout-4.0.2 datasets-2.11.0 dill-0.3.6 evaluate-0.4.0 frozenlist-1.3.3 multidict-6.0.4 multiprocess-0.70.14 responses-0.18.0 xxhash-3.2.0 yarl-1.8.2\n"
          ]
        }
      ]
    },
    {
      "cell_type": "code",
      "source": [
        "!git clone https://github.com/Athugodage/RuLawSimplification.git"
      ],
      "metadata": {
        "colab": {
          "base_uri": "https://localhost:8080/"
        },
        "id": "pFeP91XS07hS",
        "outputId": "34bd28ab-69aa-4471-cb74-4cc9c1ad4650"
      },
      "execution_count": 2,
      "outputs": [
        {
          "output_type": "stream",
          "name": "stdout",
          "text": [
            "Cloning into 'RuLawSimplification'...\n",
            "remote: Enumerating objects: 535, done.\u001b[K\n",
            "remote: Counting objects: 100% (269/269), done.\u001b[K\n",
            "remote: Compressing objects: 100% (183/183), done.\u001b[K\n",
            "remote: Total 535 (delta 138), reused 152 (delta 79), pack-reused 266\u001b[K\n",
            "Receiving objects: 100% (535/535), 243.92 MiB | 17.97 MiB/s, done.\n",
            "Resolving deltas: 100% (251/251), done.\n"
          ]
        }
      ]
    },
    {
      "cell_type": "code",
      "source": [
        "!unzip '/content/RuLawSimplification/corpus/cut_corpus.zip'"
      ],
      "metadata": {
        "colab": {
          "base_uri": "https://localhost:8080/"
        },
        "id": "J590jeXl09nj",
        "outputId": "a527a8ae-452d-4f9b-c8d9-1531356df043"
      },
      "execution_count": 3,
      "outputs": [
        {
          "output_type": "stream",
          "name": "stdout",
          "text": [
            "Archive:  /content/RuLawSimplification/corpus/cut_corpus.zip\n",
            "  inflating: cut_corpus.csv          \n"
          ]
        }
      ]
    },
    {
      "cell_type": "code",
      "source": [
        "import pandas as pd\n",
        "\n",
        "df = pd.read_csv('cut_corpus.csv')"
      ],
      "metadata": {
        "id": "BwrtMDb603BK"
      },
      "execution_count": 44,
      "outputs": []
    },
    {
      "cell_type": "code",
      "source": [
        "df = df.dropna()"
      ],
      "metadata": {
        "id": "i2A3P3sE05YU"
      },
      "execution_count": 45,
      "outputs": []
    },
    {
      "cell_type": "code",
      "source": [
        "from sklearn.model_selection import train_test_split\n",
        "\n",
        "train, test = train_test_split(df, random_state=42, test_size=0.05)"
      ],
      "metadata": {
        "id": "KzzPVOQE0vPf"
      },
      "execution_count": 46,
      "outputs": []
    },
    {
      "cell_type": "code",
      "source": [
        "train.columns = [\"text\", \"commentary\"]\n",
        "test.columns = [\"text\", \"commentary\"]"
      ],
      "metadata": {
        "id": "C1_WcaGL1MCH"
      },
      "execution_count": 47,
      "outputs": []
    },
    {
      "cell_type": "code",
      "execution_count": 8,
      "metadata": {
        "id": "MmDKoCzd0XQD"
      },
      "outputs": [],
      "source": [
        "from transformers import pipeline"
      ]
    },
    {
      "cell_type": "code",
      "source": [
        "text_generator = pipeline(\"text-generation\", \n",
        "                          model='marcus2000/GPT_simplifier25', \n",
        "                          tokenizer='sberbank-ai/rugpt3small_based_on_gpt2')\n",
        "\n",
        "# Generate text"
      ],
      "metadata": {
        "colab": {
          "base_uri": "https://localhost:8080/"
        },
        "id": "ffds0XeC1WJ4",
        "outputId": "a9fbfb99-ff20-4cd0-9042-22c66505d0d6"
      },
      "execution_count": 43,
      "outputs": [
        {
          "output_type": "stream",
          "name": "stderr",
          "text": [
            "Special tokens have been added in the vocabulary, make sure the associated word embeddings are fine-tuned or trained.\n"
          ]
        }
      ]
    },
    {
      "cell_type": "code",
      "source": [
        "prompt = test.iloc[0][\"text\"][:2400] + '[SEP] '"
      ],
      "metadata": {
        "id": "LeRBEk-D2aw_"
      },
      "execution_count": null,
      "outputs": []
    },
    {
      "cell_type": "code",
      "source": [
        "generated_text = text_generator(prompt, max_length=1000, repetition_penalty=1.0, do_sample=False)\n",
        "print(generated_text)"
      ],
      "metadata": {
        "id": "ZZoCOYrd99bU"
      },
      "execution_count": null,
      "outputs": []
    },
    {
      "cell_type": "code",
      "source": [
        "generated_text"
      ],
      "metadata": {
        "colab": {
          "base_uri": "https://localhost:8080/"
        },
        "id": "L11ynO62pR22",
        "outputId": "b9718dbe-9366-4249-cb29-d8d5a19b4a8a"
      },
      "execution_count": null,
      "outputs": [
        {
          "output_type": "execute_result",
          "data": {
            "text/plain": [
              "[{'generated_text': ' При этом, обязывая государственные власти воздерживаться от всякого вмешательства, способного ограничить право на объединение или воспрепятствовать его законному осуществлению, данная Конвенция рассматривает в качестве элемента его содержания право организаций трудящихся и предпринимателей самостоятельно вырабатывать свои уставы и административные регламенты, свободно выбирать своих представителей, организовывать свой аппарат и свою деятельность, формулировать свою программу действий и гарантирует указанные права также федерациям и конфедерациям организаций трудящихся и предпринимателей (статьи 3 и 6). Исходя из этого и в силу статей 1 (часть 1), 2, 15 (часть 4), 17 (часть 1), 18, 30 и 55 (часть 3) Конституции Российской Федерации федеральный законодатель при осуществлении правового регулирования отношений, связанных с реализацией гражданами конституционного права на объединение в профессиональные союзы, созданием и деятельностью профессиональных союзов и их объединений (ассоциаций), не вправе допускать искажений самого существа права на объединение (Постановление Конституционного Суда Российской Федерации от 24 октября 2013 года N 22-П). Установление же законодательных предписаний должно осуществляться с соблюдением принципа профсоюзной автономии, предполагающего в первую очередь независимость профессиональных союзов и их объединений (ассоциаций) от органов государственной власти и их самостоятельность в регулировании внутрикорпоративных отношений, а какое-либо ограничение свободы объединения возможно исключительно в конституционно значимых целях, перечисленных в статье 55 (часть 3) Конституции Российской Федерации. Аналогичная позиция высказывалась и Комитетом по свободе объединения Административного совета Международной организации труда (Свобода объединения: сборник решений, принятых Комитетом по свободе объединения Административного совета МОТ, и выработанных им принципов / Международное бюро труда. 3. Общественные отношения, возникающие в связи с реализацией гражданами конституционного права на объединение, включая объединение в профессиональные союзы, регулируются Федеральным законом от 19 мая 1995 года N 82-ФЗ \"Об общественных объединениях\", закрепляющим основные принципы деятельности общественных объединений, к числу которых отнесены добровольность и самоуправление, а также право на определение своей внутренней структуры, целей, форм и методов свое[SEP]  Конституционный суд РФ защитил права профсоюзов на доступ к информации о деятельности общественных объединений. Соответствующее постановление публикует \"РГ\". Поводом к рассмотрению дела послужила жалоба Александра Кокотова, который был зарегистрирован в качестве индивидуального предпринимателя. В 2011 году он был зарегистрирован в качестве индивидуального предпринимателя. Однако в связи с реформированием ФНПР, возникшим в результате преобразования, он был исключен из реестра общественных объединений и лишен права участвовать в работе профессиональных союзов. В связи с этим Кокотов подал в суд. По мнению заяв [SEP]  Конституционный суд РФ защитил права профсоюзов на доступ к информации о деятельности общественных объединений. Соответствующее постановление публикует \"РГ\". Поводом к рассмотрению дела послужила жалоба Александра Кокотова, который был зарегистрирован в качестве индивидуального предпринимателя. В 2011 году он был зарегистрирован в качестве индивидуального предпринимателя. Однако в связи с реформированием ФНПР, возникшим в результате преобразования, он был исключен из реестра общественных объединений и лишен права участвовать в работе профессиональных союзов. В связи с этим Кокотов подал в суд. По мнению заявителя, в его случае нарушается статья 54 Конституции РФ, которая гарантирует свободу мысли и слова, свободу печати, собраний, митингов, шествий и пикетирований, свободу массовой информации, свободу массовой информации, свободу массовой информации, а также право на выражение мнений и действий. Однако статья 54 Конституции РФ не ограничивает права профсоюзов на доступ к информации о деятельности профсоюзов. Она устанавливает, что свобода массовой информации - это \"реализация прав и свобод человека и гражданина\", а свобода массовой информации - это \"реализация прав и свобод человека и гражданина в соответствии с законодательством Российской Федерации\". Таким образом, КС РФ признал неконституционным пункт \"Перечня организаций профсоюзов, деятельность которых не подлежит ограничению в соответствии с федеральными законами\". Дело Александра Кокотова подлежит пересмотру. Как пояснил в ходе рассмотрения дела судья-докладчик по данному делу Юрий Рудкин, КС РФ признал неконституционным пункт \"Перечня организаций профсоюзов, деятельность которых подлежит ограничению в соответствии с федеральными законами\". Дело подлежит пересмотру. Дело Александра Кокотова подлежит пересмотру. По мнению Рудкина, оспариваемые нормы противоречат Конституции РФ, поскольку предполагают предоставление профсоюзовам доступа к информации о своей деятельности, в том числе к ее размещению в сети Интернет. Кроме того, статья 54 Конституции РФ не ограничивает права профсоюзов на доступ к информации о деятельности профсоюзов. Она не исключает возможность получения доступа к ней только в том случае, если такая возможность предусмотрена законом. По мнению Рудкина, в связи с этим КС РФ не вправе устанавливать ограничения доступа к такой информации. Дело Александра Кокотова подлежит пересмотру. По мнению Рудкина, оспариваемые нормы противоречат Конституции РФ, поскольку предполагают предоставление профсоюзовам доступа к информации о своей деятельности, в том числе к ее размещению в сети Интернет. Кроме того, статья 54 Конституции РФ не ограничивает права профсоюзов на доступ к информации о своей деятельности. Она не'}]"
            ]
          },
          "metadata": {},
          "execution_count": 12
        }
      ]
    },
    {
      "cell_type": "code",
      "source": [
        "len(test[\"commentary\"])"
      ],
      "metadata": {
        "colab": {
          "base_uri": "https://localhost:8080/"
        },
        "id": "948UK9PD4TAC",
        "outputId": "91e527a3-d23d-4716-ba20-035f79b67f15"
      },
      "execution_count": null,
      "outputs": [
        {
          "output_type": "execute_result",
          "data": {
            "text/plain": [
              "93"
            ]
          },
          "metadata": {},
          "execution_count": 15
        }
      ]
    },
    {
      "cell_type": "code",
      "source": [
        "from tqdm import tqdm\n",
        "\n",
        "real = test['text'].to_list()\n",
        "preds = []\n",
        "\n",
        "for orig in tqdm(real):\n",
        "    generated_text = text_generator(orig[:2500], max_length=1000, repetition_penalty=1.0)\n",
        "    generated_text = str(generated_text[0]['generated_text']).split(\"[SEP] \")[1:]\n",
        "    preds.append(generated_text)\n",
        "\n"
      ],
      "metadata": {
        "colab": {
          "base_uri": "https://localhost:8080/"
        },
        "id": "ac5tm6aHnJQQ",
        "outputId": "57d7f248-6575-44ba-c91e-bdd34e70e3e8"
      },
      "execution_count": 48,
      "outputs": [
        {
          "output_type": "stream",
          "name": "stderr",
          "text": [
            "  0%|          | 0/93 [00:00<?, ?it/s]Setting `pad_token_id` to `eos_token_id`:50256 for open-end generation.\n",
            "  1%|          | 1/93 [00:54<1:23:33, 54.50s/it]Setting `pad_token_id` to `eos_token_id`:50256 for open-end generation.\n",
            "  2%|▏         | 2/93 [01:34<1:09:58, 46.14s/it]Setting `pad_token_id` to `eos_token_id`:50256 for open-end generation.\n",
            "  3%|▎         | 3/93 [02:24<1:11:48, 47.88s/it]Setting `pad_token_id` to `eos_token_id`:50256 for open-end generation.\n",
            "  4%|▍         | 4/93 [03:12<1:10:50, 47.76s/it]Setting `pad_token_id` to `eos_token_id`:50256 for open-end generation.\n",
            "  5%|▌         | 5/93 [03:55<1:07:44, 46.19s/it]Setting `pad_token_id` to `eos_token_id`:50256 for open-end generation.\n",
            "  6%|▋         | 6/93 [04:35<1:03:40, 43.91s/it]Setting `pad_token_id` to `eos_token_id`:50256 for open-end generation.\n",
            "  8%|▊         | 7/93 [05:12<59:47, 41.72s/it]  Setting `pad_token_id` to `eos_token_id`:50256 for open-end generation.\n",
            "  9%|▊         | 8/93 [05:42<53:53, 38.04s/it]Setting `pad_token_id` to `eos_token_id`:50256 for open-end generation.\n",
            " 10%|▉         | 9/93 [06:25<55:16, 39.49s/it]Setting `pad_token_id` to `eos_token_id`:50256 for open-end generation.\n",
            " 11%|█         | 10/93 [07:05<55:09, 39.87s/it]Setting `pad_token_id` to `eos_token_id`:50256 for open-end generation.\n",
            " 12%|█▏        | 11/93 [07:47<54:59, 40.24s/it]Setting `pad_token_id` to `eos_token_id`:50256 for open-end generation.\n",
            " 13%|█▎        | 12/93 [08:25<53:34, 39.68s/it]Setting `pad_token_id` to `eos_token_id`:50256 for open-end generation.\n",
            " 14%|█▍        | 13/93 [09:04<52:45, 39.57s/it]Setting `pad_token_id` to `eos_token_id`:50256 for open-end generation.\n",
            " 15%|█▌        | 14/93 [09:38<49:56, 37.93s/it]Setting `pad_token_id` to `eos_token_id`:50256 for open-end generation.\n",
            " 16%|█▌        | 15/93 [10:17<49:29, 38.07s/it]Setting `pad_token_id` to `eos_token_id`:50256 for open-end generation.\n",
            " 17%|█▋        | 16/93 [10:49<46:43, 36.41s/it]Setting `pad_token_id` to `eos_token_id`:50256 for open-end generation.\n",
            " 18%|█▊        | 17/93 [11:28<47:02, 37.14s/it]Setting `pad_token_id` to `eos_token_id`:50256 for open-end generation.\n",
            "Input length of input_ids is 1213, but `max_length` is set to 1000. This can lead to unexpected behavior. You should consider increasing `max_new_tokens`.\n",
            " 19%|█▉        | 18/93 [11:33<34:21, 27.49s/it]Setting `pad_token_id` to `eos_token_id`:50256 for open-end generation.\n",
            " 20%|██        | 19/93 [12:11<37:37, 30.51s/it]Setting `pad_token_id` to `eos_token_id`:50256 for open-end generation.\n",
            " 22%|██▏       | 20/93 [12:48<39:38, 32.58s/it]Setting `pad_token_id` to `eos_token_id`:50256 for open-end generation.\n",
            " 23%|██▎       | 21/93 [13:25<40:30, 33.75s/it]Setting `pad_token_id` to `eos_token_id`:50256 for open-end generation.\n",
            " 24%|██▎       | 22/93 [14:10<43:52, 37.08s/it]Setting `pad_token_id` to `eos_token_id`:50256 for open-end generation.\n",
            " 25%|██▍       | 23/93 [14:46<43:13, 37.05s/it]Setting `pad_token_id` to `eos_token_id`:50256 for open-end generation.\n",
            " 26%|██▌       | 24/93 [15:29<44:33, 38.75s/it]Setting `pad_token_id` to `eos_token_id`:50256 for open-end generation.\n",
            " 27%|██▋       | 25/93 [16:11<45:07, 39.81s/it]Setting `pad_token_id` to `eos_token_id`:50256 for open-end generation.\n",
            " 28%|██▊       | 26/93 [16:55<45:35, 40.82s/it]Setting `pad_token_id` to `eos_token_id`:50256 for open-end generation.\n",
            " 29%|██▉       | 27/93 [17:33<44:10, 40.16s/it]Setting `pad_token_id` to `eos_token_id`:50256 for open-end generation.\n",
            " 30%|███       | 28/93 [18:15<44:00, 40.62s/it]Setting `pad_token_id` to `eos_token_id`:50256 for open-end generation.\n",
            " 31%|███       | 29/93 [18:57<43:49, 41.08s/it]Setting `pad_token_id` to `eos_token_id`:50256 for open-end generation.\n",
            " 32%|███▏      | 30/93 [19:37<42:41, 40.65s/it]Setting `pad_token_id` to `eos_token_id`:50256 for open-end generation.\n",
            " 33%|███▎      | 31/93 [20:11<40:08, 38.85s/it]Setting `pad_token_id` to `eos_token_id`:50256 for open-end generation.\n",
            " 34%|███▍      | 32/93 [20:51<39:37, 38.97s/it]Setting `pad_token_id` to `eos_token_id`:50256 for open-end generation.\n",
            " 35%|███▌      | 33/93 [21:32<39:47, 39.80s/it]Setting `pad_token_id` to `eos_token_id`:50256 for open-end generation.\n",
            " 37%|███▋      | 34/93 [22:14<39:43, 40.40s/it]Setting `pad_token_id` to `eos_token_id`:50256 for open-end generation.\n",
            " 38%|███▊      | 35/93 [22:56<39:19, 40.69s/it]Setting `pad_token_id` to `eos_token_id`:50256 for open-end generation.\n",
            " 39%|███▊      | 36/93 [23:37<38:48, 40.84s/it]Setting `pad_token_id` to `eos_token_id`:50256 for open-end generation.\n",
            " 40%|███▉      | 37/93 [24:21<39:01, 41.82s/it]Setting `pad_token_id` to `eos_token_id`:50256 for open-end generation.\n",
            " 41%|████      | 38/93 [25:03<38:23, 41.88s/it]Setting `pad_token_id` to `eos_token_id`:50256 for open-end generation.\n",
            " 42%|████▏     | 39/93 [25:40<36:19, 40.35s/it]Setting `pad_token_id` to `eos_token_id`:50256 for open-end generation.\n",
            " 43%|████▎     | 40/93 [26:18<34:59, 39.60s/it]Setting `pad_token_id` to `eos_token_id`:50256 for open-end generation.\n",
            " 44%|████▍     | 41/93 [27:01<35:15, 40.68s/it]Setting `pad_token_id` to `eos_token_id`:50256 for open-end generation.\n",
            " 45%|████▌     | 42/93 [27:40<34:19, 40.37s/it]Setting `pad_token_id` to `eos_token_id`:50256 for open-end generation.\n",
            " 46%|████▌     | 43/93 [28:16<32:27, 38.94s/it]Setting `pad_token_id` to `eos_token_id`:50256 for open-end generation.\n",
            " 47%|████▋     | 44/93 [28:57<32:19, 39.57s/it]Setting `pad_token_id` to `eos_token_id`:50256 for open-end generation.\n",
            " 48%|████▊     | 45/93 [29:35<31:10, 38.98s/it]Setting `pad_token_id` to `eos_token_id`:50256 for open-end generation.\n",
            " 49%|████▉     | 46/93 [30:13<30:18, 38.70s/it]Setting `pad_token_id` to `eos_token_id`:50256 for open-end generation.\n",
            " 51%|█████     | 47/93 [30:49<29:02, 37.87s/it]Setting `pad_token_id` to `eos_token_id`:50256 for open-end generation.\n",
            " 52%|█████▏    | 48/93 [31:29<28:59, 38.64s/it]Setting `pad_token_id` to `eos_token_id`:50256 for open-end generation.\n",
            " 53%|█████▎    | 49/93 [32:09<28:43, 39.17s/it]Setting `pad_token_id` to `eos_token_id`:50256 for open-end generation.\n",
            " 54%|█████▍    | 50/93 [32:47<27:46, 38.75s/it]Setting `pad_token_id` to `eos_token_id`:50256 for open-end generation.\n",
            " 55%|█████▍    | 51/93 [33:21<26:00, 37.15s/it]Setting `pad_token_id` to `eos_token_id`:50256 for open-end generation.\n",
            " 56%|█████▌    | 52/93 [34:04<26:45, 39.15s/it]Setting `pad_token_id` to `eos_token_id`:50256 for open-end generation.\n",
            " 57%|█████▋    | 53/93 [34:43<25:56, 38.91s/it]Setting `pad_token_id` to `eos_token_id`:50256 for open-end generation.\n",
            " 58%|█████▊    | 54/93 [35:24<25:40, 39.50s/it]Setting `pad_token_id` to `eos_token_id`:50256 for open-end generation.\n",
            " 59%|█████▉    | 55/93 [35:59<24:11, 38.21s/it]Setting `pad_token_id` to `eos_token_id`:50256 for open-end generation.\n",
            " 60%|██████    | 56/93 [36:37<23:37, 38.31s/it]Setting `pad_token_id` to `eos_token_id`:50256 for open-end generation.\n",
            " 61%|██████▏   | 57/93 [37:13<22:30, 37.51s/it]Setting `pad_token_id` to `eos_token_id`:50256 for open-end generation.\n",
            " 62%|██████▏   | 58/93 [37:54<22:25, 38.44s/it]Setting `pad_token_id` to `eos_token_id`:50256 for open-end generation.\n",
            " 63%|██████▎   | 59/93 [38:26<20:44, 36.62s/it]Setting `pad_token_id` to `eos_token_id`:50256 for open-end generation.\n",
            " 65%|██████▍   | 60/93 [39:11<21:32, 39.17s/it]Setting `pad_token_id` to `eos_token_id`:50256 for open-end generation.\n",
            " 66%|██████▌   | 61/93 [39:51<20:59, 39.35s/it]Setting `pad_token_id` to `eos_token_id`:50256 for open-end generation.\n",
            " 67%|██████▋   | 62/93 [40:32<20:31, 39.73s/it]Setting `pad_token_id` to `eos_token_id`:50256 for open-end generation.\n",
            " 68%|██████▊   | 63/93 [41:03<18:39, 37.30s/it]Setting `pad_token_id` to `eos_token_id`:50256 for open-end generation.\n",
            " 69%|██████▉   | 64/93 [41:38<17:42, 36.64s/it]Setting `pad_token_id` to `eos_token_id`:50256 for open-end generation.\n",
            " 70%|██████▉   | 65/93 [42:20<17:52, 38.29s/it]Setting `pad_token_id` to `eos_token_id`:50256 for open-end generation.\n",
            " 71%|███████   | 66/93 [43:03<17:48, 39.58s/it]Setting `pad_token_id` to `eos_token_id`:50256 for open-end generation.\n",
            " 72%|███████▏  | 67/93 [43:38<16:35, 38.31s/it]Setting `pad_token_id` to `eos_token_id`:50256 for open-end generation.\n",
            " 73%|███████▎  | 68/93 [44:18<16:06, 38.66s/it]Setting `pad_token_id` to `eos_token_id`:50256 for open-end generation.\n",
            " 74%|███████▍  | 69/93 [44:57<15:33, 38.90s/it]Setting `pad_token_id` to `eos_token_id`:50256 for open-end generation.\n",
            " 75%|███████▌  | 70/93 [45:34<14:36, 38.09s/it]Setting `pad_token_id` to `eos_token_id`:50256 for open-end generation.\n",
            " 76%|███████▋  | 71/93 [46:13<14:08, 38.57s/it]Setting `pad_token_id` to `eos_token_id`:50256 for open-end generation.\n",
            " 77%|███████▋  | 72/93 [46:52<13:31, 38.65s/it]Setting `pad_token_id` to `eos_token_id`:50256 for open-end generation.\n",
            " 78%|███████▊  | 73/93 [47:30<12:50, 38.51s/it]Setting `pad_token_id` to `eos_token_id`:50256 for open-end generation.\n",
            " 80%|███████▉  | 74/93 [48:06<11:57, 37.78s/it]Setting `pad_token_id` to `eos_token_id`:50256 for open-end generation.\n",
            " 81%|████████  | 75/93 [48:40<10:56, 36.46s/it]Setting `pad_token_id` to `eos_token_id`:50256 for open-end generation.\n",
            " 82%|████████▏ | 76/93 [49:21<10:42, 37.77s/it]Setting `pad_token_id` to `eos_token_id`:50256 for open-end generation.\n",
            " 83%|████████▎ | 77/93 [50:00<10:14, 38.43s/it]Setting `pad_token_id` to `eos_token_id`:50256 for open-end generation.\n",
            " 84%|████████▍ | 78/93 [50:39<09:37, 38.50s/it]Setting `pad_token_id` to `eos_token_id`:50256 for open-end generation.\n",
            " 85%|████████▍ | 79/93 [51:22<09:17, 39.85s/it]Setting `pad_token_id` to `eos_token_id`:50256 for open-end generation.\n",
            " 86%|████████▌ | 80/93 [52:04<08:45, 40.45s/it]Setting `pad_token_id` to `eos_token_id`:50256 for open-end generation.\n",
            " 87%|████████▋ | 81/93 [52:37<07:37, 38.10s/it]Setting `pad_token_id` to `eos_token_id`:50256 for open-end generation.\n",
            " 88%|████████▊ | 82/93 [53:13<06:52, 37.52s/it]Setting `pad_token_id` to `eos_token_id`:50256 for open-end generation.\n",
            " 89%|████████▉ | 83/93 [53:49<06:11, 37.13s/it]Setting `pad_token_id` to `eos_token_id`:50256 for open-end generation.\n",
            " 90%|█████████ | 84/93 [54:27<05:36, 37.38s/it]Setting `pad_token_id` to `eos_token_id`:50256 for open-end generation.\n",
            " 91%|█████████▏| 85/93 [54:59<04:46, 35.77s/it]Setting `pad_token_id` to `eos_token_id`:50256 for open-end generation.\n",
            " 92%|█████████▏| 86/93 [55:40<04:22, 37.48s/it]Setting `pad_token_id` to `eos_token_id`:50256 for open-end generation.\n",
            " 94%|█████████▎| 87/93 [56:19<03:47, 37.85s/it]Setting `pad_token_id` to `eos_token_id`:50256 for open-end generation.\n",
            " 95%|█████████▍| 88/93 [56:59<03:12, 38.58s/it]Setting `pad_token_id` to `eos_token_id`:50256 for open-end generation.\n",
            " 96%|█████████▌| 89/93 [57:38<02:33, 38.49s/it]Setting `pad_token_id` to `eos_token_id`:50256 for open-end generation.\n",
            " 97%|█████████▋| 90/93 [58:11<01:50, 36.80s/it]Setting `pad_token_id` to `eos_token_id`:50256 for open-end generation.\n",
            " 98%|█████████▊| 91/93 [58:45<01:12, 36.22s/it]Setting `pad_token_id` to `eos_token_id`:50256 for open-end generation.\n",
            " 99%|█████████▉| 92/93 [59:41<00:42, 42.11s/it]Setting `pad_token_id` to `eos_token_id`:50256 for open-end generation.\n",
            "100%|██████████| 93/93 [1:00:17<00:00, 38.90s/it]\n"
          ]
        }
      ]
    },
    {
      "cell_type": "code",
      "source": [
        "import evaluate\n",
        "\n",
        "sari = evaluate.load(\"sari\")\n",
        "\n",
        "real = [list(orig[:2500]) for orig in test['text']]\n",
        "\n",
        "\n",
        "sari.compute(sources=test['text'].to_list(),  ## original\n",
        "             references=[[ref] for ref in test['commentary'].to_list()], ## the comment from RG\n",
        "             predictions=[str(p) for p in preds]  ## model's version\n",
        "             )"
      ],
      "metadata": {
        "colab": {
          "base_uri": "https://localhost:8080/"
        },
        "id": "amOAMbzaDpmo",
        "outputId": "66f02825-6de7-4686-f812-b00a1b779599"
      },
      "execution_count": null,
      "outputs": [
        {
          "output_type": "execute_result",
          "data": {
            "text/plain": [
              "{'sari': 40.965917447138395}"
            ]
          },
          "metadata": {},
          "execution_count": 62
        }
      ]
    },
    {
      "cell_type": "code",
      "source": [
        "rouge = evaluate.load(\"rouge\")\n",
        "rouge.compute(references=test['text'].to_list(), predictions=[str(p) for p in preds])"
      ],
      "metadata": {
        "colab": {
          "base_uri": "https://localhost:8080/"
        },
        "id": "wKJ0KFogHyUn",
        "outputId": "9b3780c5-75fe-46e9-cc0c-61efedadb6c1"
      },
      "execution_count": null,
      "outputs": [
        {
          "output_type": "execute_result",
          "data": {
            "text/plain": [
              "{'rouge1': 0.050720799371253684,\n",
              " 'rouge2': 0.009823308466685079,\n",
              " 'rougeL': 0.04693134201289889,\n",
              " 'rougeLsum': 0.046370965136756634}"
            ]
          },
          "metadata": {},
          "execution_count": 58
        }
      ]
    },
    {
      "cell_type": "code",
      "source": [
        "from evaluate import load\n",
        "bertscore = load(\"bertscore\")\n",
        "\n",
        "results = bertscore.compute(predictions=[str(p) for p in preds], \n",
        "                            references=[[ref] for ref in test['commentary'].to_list()], lang='ru')"
      ],
      "metadata": {
        "id": "f9XZzdnT5iad"
      },
      "execution_count": 52,
      "outputs": []
    },
    {
      "cell_type": "code",
      "source": [
        "results"
      ],
      "metadata": {
        "id": "hmqTuKTRGZUO",
        "outputId": "6d7711f4-44a9-4b74-fde0-4287541039a9",
        "colab": {
          "base_uri": "https://localhost:8080/"
        }
      },
      "execution_count": 17,
      "outputs": [
        {
          "output_type": "execute_result",
          "data": {
            "text/plain": [
              "{'precision': [0.7408359050750732,\n",
              "  0.542073130607605,\n",
              "  0.6467236876487732,\n",
              "  0.6242067813873291,\n",
              "  0.7165180444717407,\n",
              "  0.7257958054542542,\n",
              "  0.6309124827384949,\n",
              "  0.6342910528182983,\n",
              "  0.6654045581817627,\n",
              "  0.6142334938049316,\n",
              "  0.7033154368400574,\n",
              "  0.6084568500518799,\n",
              "  0.6963027715682983,\n",
              "  0.6510747671127319,\n",
              "  0.6695857644081116,\n",
              "  0.5865983963012695,\n",
              "  0.5379906892776489,\n",
              "  0.48743653297424316,\n",
              "  0.6873959898948669,\n",
              "  0.6263144612312317,\n",
              "  0.6618980169296265,\n",
              "  0.6198432445526123,\n",
              "  0.646277904510498,\n",
              "  0.7176063060760498,\n",
              "  0.6451316475868225,\n",
              "  0.7053526639938354,\n",
              "  0.685310959815979,\n",
              "  0.6626693606376648,\n",
              "  0.8201364278793335,\n",
              "  0.6890645027160645,\n",
              "  0.643937349319458,\n",
              "  0.7106426954269409,\n",
              "  0.648639440536499,\n",
              "  0.6535667777061462,\n",
              "  0.7534561157226562,\n",
              "  0.6496905088424683,\n",
              "  0.7122853398323059,\n",
              "  0.6882227659225464,\n",
              "  0.6270362138748169,\n",
              "  0.6250671148300171,\n",
              "  0.6116323471069336,\n",
              "  0.7008638978004456,\n",
              "  0.6468048095703125,\n",
              "  0.5837111473083496,\n",
              "  0.6290551424026489,\n",
              "  0.5779211521148682,\n",
              "  0.7122535109519958,\n",
              "  0.6761545538902283,\n",
              "  0.712925374507904,\n",
              "  0.6251615285873413,\n",
              "  0.6767544746398926,\n",
              "  0.6565126776695251,\n",
              "  0.6066562533378601,\n",
              "  0.6125686168670654,\n",
              "  0.6229099035263062,\n",
              "  0.6350721120834351,\n",
              "  0.6039073467254639,\n",
              "  0.6547961235046387,\n",
              "  0.6767544746398926,\n",
              "  0.6124693751335144,\n",
              "  0.7781732082366943,\n",
              "  0.6246190667152405,\n",
              "  0.6451148986816406,\n",
              "  0.6437528133392334,\n",
              "  0.6316638588905334,\n",
              "  0.6518896818161011,\n",
              "  0.691901445388794,\n",
              "  0.6286922693252563,\n",
              "  0.6558465957641602,\n",
              "  0.7173132300376892,\n",
              "  0.6443341970443726,\n",
              "  0.6939491629600525,\n",
              "  0.6632059812545776,\n",
              "  0.5954238176345825,\n",
              "  0.5962416529655457,\n",
              "  0.620114803314209,\n",
              "  0.7138199806213379,\n",
              "  0.6267802715301514,\n",
              "  0.5689135193824768,\n",
              "  0.6998105645179749,\n",
              "  0.5651113986968994,\n",
              "  0.6153682470321655,\n",
              "  0.6040369272232056,\n",
              "  0.5796858072280884,\n",
              "  0.6911020278930664,\n",
              "  0.5952407717704773,\n",
              "  0.6149787902832031,\n",
              "  0.6272099614143372,\n",
              "  0.6423089504241943,\n",
              "  0.5958656072616577,\n",
              "  0.6890740990638733,\n",
              "  0.5892665982246399,\n",
              "  0.6229099035263062],\n",
              " 'recall': [0.7345278859138489,\n",
              "  0.5771432518959045,\n",
              "  0.6851239204406738,\n",
              "  0.6236321926116943,\n",
              "  0.69202721118927,\n",
              "  0.7106062173843384,\n",
              "  0.6377602815628052,\n",
              "  0.6508815288543701,\n",
              "  0.6789792776107788,\n",
              "  0.6122444868087769,\n",
              "  0.7107736468315125,\n",
              "  0.6014708280563354,\n",
              "  0.6673229932785034,\n",
              "  0.6675198078155518,\n",
              "  0.6378145813941956,\n",
              "  0.6143389344215393,\n",
              "  0.5815723538398743,\n",
              "  0.4985630512237549,\n",
              "  0.6721838712692261,\n",
              "  0.6334556341171265,\n",
              "  0.6669886112213135,\n",
              "  0.6085119247436523,\n",
              "  0.7293037176132202,\n",
              "  0.7151870131492615,\n",
              "  0.6361660957336426,\n",
              "  0.6575994491577148,\n",
              "  0.7113097310066223,\n",
              "  0.6560946702957153,\n",
              "  0.7355867624282837,\n",
              "  0.6620118021965027,\n",
              "  0.6098463535308838,\n",
              "  0.6711450219154358,\n",
              "  0.6473375558853149,\n",
              "  0.6515893936157227,\n",
              "  0.6947071552276611,\n",
              "  0.6525219678878784,\n",
              "  0.6740120053291321,\n",
              "  0.7136170864105225,\n",
              "  0.6271735429763794,\n",
              "  0.6425856947898865,\n",
              "  0.6217327117919922,\n",
              "  0.6677689552307129,\n",
              "  0.6556755900382996,\n",
              "  0.5783380270004272,\n",
              "  0.6307213306427002,\n",
              "  0.5920675992965698,\n",
              "  0.7294764518737793,\n",
              "  0.6639398336410522,\n",
              "  0.698379635810852,\n",
              "  0.6493695974349976,\n",
              "  0.6993570327758789,\n",
              "  0.6404431462287903,\n",
              "  0.6235048770904541,\n",
              "  0.6257210373878479,\n",
              "  0.6272434592247009,\n",
              "  0.6374621987342834,\n",
              "  0.5922781825065613,\n",
              "  0.654869556427002,\n",
              "  0.6993570327758789,\n",
              "  0.641242504119873,\n",
              "  0.7575536966323853,\n",
              "  0.6232584118843079,\n",
              "  0.6259034276008606,\n",
              "  0.6266599893569946,\n",
              "  0.6196768879890442,\n",
              "  0.6538877487182617,\n",
              "  0.6940696239471436,\n",
              "  0.6343159675598145,\n",
              "  0.6491802334785461,\n",
              "  0.6732941269874573,\n",
              "  0.6336212158203125,\n",
              "  0.6935777068138123,\n",
              "  0.6435409784317017,\n",
              "  0.6207301020622253,\n",
              "  0.586969256401062,\n",
              "  0.6375446319580078,\n",
              "  0.6777499914169312,\n",
              "  0.6355807781219482,\n",
              "  0.6178684234619141,\n",
              "  0.6835466027259827,\n",
              "  0.6214468479156494,\n",
              "  0.6190239191055298,\n",
              "  0.6491126418113708,\n",
              "  0.601319432258606,\n",
              "  0.6680582761764526,\n",
              "  0.6184996962547302,\n",
              "  0.6171247959136963,\n",
              "  0.6287439465522766,\n",
              "  0.6282282471656799,\n",
              "  0.6161950826644897,\n",
              "  0.6813579797744751,\n",
              "  0.5921509265899658,\n",
              "  0.6272434592247009],\n",
              " 'f1': [0.7376684546470642,\n",
              "  0.5590587258338928,\n",
              "  0.6653702259063721,\n",
              "  0.6239193081855774,\n",
              "  0.7040597200393677,\n",
              "  0.7181206345558167,\n",
              "  0.634317934513092,\n",
              "  0.6424791812896729,\n",
              "  0.672123372554779,\n",
              "  0.6132373809814453,\n",
              "  0.707024872303009,\n",
              "  0.6049436330795288,\n",
              "  0.6815049648284912,\n",
              "  0.6591947078704834,\n",
              "  0.6533141732215881,\n",
              "  0.6001483201980591,\n",
              "  0.5589332580566406,\n",
              "  0.49293702840805054,\n",
              "  0.6797048449516296,\n",
              "  0.6298648118972778,\n",
              "  0.6644335389137268,\n",
              "  0.6141253113746643,\n",
              "  0.685285210609436,\n",
              "  0.7163945436477661,\n",
              "  0.6406175494194031,\n",
              "  0.6806395053863525,\n",
              "  0.6980683207511902,\n",
              "  0.6593656539916992,\n",
              "  0.7755640745162964,\n",
              "  0.6752672791481018,\n",
              "  0.6264283657073975,\n",
              "  0.6903293132781982,\n",
              "  0.6479878425598145,\n",
              "  0.6525765657424927,\n",
              "  0.7228899598121643,\n",
              "  0.651103138923645,\n",
              "  0.6926203370094299,\n",
              "  0.7006899118423462,\n",
              "  0.6271048784255981,\n",
              "  0.6337053775787354,\n",
              "  0.6166412234306335,\n",
              "  0.6839163303375244,\n",
              "  0.6512099504470825,\n",
              "  0.5810121297836304,\n",
              "  0.6298871636390686,\n",
              "  0.5849088430404663,\n",
              "  0.7207620143890381,\n",
              "  0.6699915528297424,\n",
              "  0.705577552318573,\n",
              "  0.6370356678962708,\n",
              "  0.6878701448440552,\n",
              "  0.648378312587738,\n",
              "  0.6149651408195496,\n",
              "  0.6190750002861023,\n",
              "  0.6250692009925842,\n",
              "  0.6362649202346802,\n",
              "  0.5980362296104431,\n",
              "  0.6548328399658203,\n",
              "  0.6878701448440552,\n",
              "  0.6265257000923157,\n",
              "  0.7677250504493713,\n",
              "  0.6239380240440369,\n",
              "  0.6353639960289001,\n",
              "  0.6350914239883423,\n",
              "  0.6256129741668701,\n",
              "  0.6528871655464172,\n",
              "  0.6929838061332703,\n",
              "  0.6314916014671326,\n",
              "  0.6524964570999146,\n",
              "  0.6946069598197937,\n",
              "  0.6389327645301819,\n",
              "  0.6937633752822876,\n",
              "  0.6532254815101624,\n",
              "  0.6078137159347534,\n",
              "  0.591569185256958,\n",
              "  0.6287089586257935,\n",
              "  0.6953175067901611,\n",
              "  0.6311498284339905,\n",
              "  0.5923812985420227,\n",
              "  0.691582977771759,\n",
              "  0.591941773891449,\n",
              "  0.6171906590461731,\n",
              "  0.6257641315460205,\n",
              "  0.5903044939041138,\n",
              "  0.6793847680091858,\n",
              "  0.6066473722457886,\n",
              "  0.6160499453544617,\n",
              "  0.6279760003089905,\n",
              "  0.6351906061172485,\n",
              "  0.6058598756790161,\n",
              "  0.6851943135261536,\n",
              "  0.5907052755355835,\n",
              "  0.6250692009925842],\n",
              " 'hashcode': 'bert-base-multilingual-cased_L9_no-idf_version=0.3.12(hug_trans=4.27.4)'}"
            ]
          },
          "metadata": {},
          "execution_count": 17
        }
      ]
    },
    {
      "cell_type": "code",
      "source": [
        "from statistics import mean\n",
        "mean(results['precision'])"
      ],
      "metadata": {
        "id": "L8lSa-38Yslz",
        "outputId": "15ff3dee-d993-4311-94ba-69b4bf8bd200",
        "colab": {
          "base_uri": "https://localhost:8080/"
        }
      },
      "execution_count": 53,
      "outputs": [
        {
          "output_type": "execute_result",
          "data": {
            "text/plain": [
              "0.6191451360461533"
            ]
          },
          "metadata": {},
          "execution_count": 53
        }
      ]
    },
    {
      "cell_type": "code",
      "source": [
        "from statistics import mean\n",
        "mean(results['f1'])"
      ],
      "metadata": {
        "id": "AAe7Bfz4ZQ8Q",
        "outputId": "03279728-1220-4542-c7c2-1162f9ae8ccf",
        "colab": {
          "base_uri": "https://localhost:8080/"
        }
      },
      "execution_count": 54,
      "outputs": [
        {
          "output_type": "execute_result",
          "data": {
            "text/plain": [
              "0.6041428706338329"
            ]
          },
          "metadata": {},
          "execution_count": 54
        }
      ]
    },
    {
      "cell_type": "code",
      "source": [
        "## GUNNING FOG READABILITY INDEX\n",
        "\n",
        "def gunning_fog(text):\n",
        "  text = str(text)\n",
        "\n",
        "  tokens = nltk.word_tokenize(text)\n",
        "  tokens_length = len(tokens)\n",
        "  sent_length = len(nltk.sent_tokenize(text))\n",
        "  complex_tokens_len = len([tok for tok in tokens if len(tok) > 6])\n",
        "  formule = 0.4 * (tokens_length / sent_length) + 100 * (complex_tokens_len / tokens_length)\n",
        "  return formule\n"
      ],
      "metadata": {
        "id": "eGjHOnkdi0qh"
      },
      "execution_count": 55,
      "outputs": []
    },
    {
      "cell_type": "code",
      "source": [
        "indexes = []\n",
        "\n",
        "## original\n",
        "\n",
        "for t in test['text'].to_list():\n",
        "  indexes.append(gunning_fog(t))\n",
        "\n",
        "print(mean(indexes))"
      ],
      "metadata": {
        "id": "qiiqMP_Ji5Un",
        "outputId": "1130348a-159e-4921-c1f5-a89878337d07",
        "colab": {
          "base_uri": "https://localhost:8080/"
        }
      },
      "execution_count": 56,
      "outputs": [
        {
          "output_type": "stream",
          "name": "stdout",
          "text": [
            "59.56413033697357\n"
          ]
        }
      ]
    },
    {
      "cell_type": "code",
      "source": [
        "indexes = []\n",
        "\n",
        "## simplified by model\n",
        "\n",
        "for pred in preds:\n",
        "  indexes.append(gunning_fog(pred))\n",
        "\n",
        "print(mean(indexes))"
      ],
      "metadata": {
        "id": "cmUVUYY-i7rl",
        "outputId": "f953bd8d-caab-4f9c-ad18-09e051c70ba7",
        "colab": {
          "base_uri": "https://localhost:8080/"
        }
      },
      "execution_count": 57,
      "outputs": [
        {
          "output_type": "stream",
          "name": "stdout",
          "text": [
            "41.83912856502404\n"
          ]
        }
      ]
    },
    {
      "cell_type": "markdown",
      "source": [
        "uncut\n"
      ],
      "metadata": {
        "id": "GtNfqEsBhfnG"
      }
    },
    {
      "cell_type": "code",
      "source": [
        "!unzip '/content/RuLawSimplification/corpus/the_corpus.zip'"
      ],
      "metadata": {
        "id": "983UtJQr34Sj",
        "outputId": "e2d5676a-219c-42e2-aed0-94173bc6397c",
        "colab": {
          "base_uri": "https://localhost:8080/"
        }
      },
      "execution_count": 18,
      "outputs": [
        {
          "output_type": "stream",
          "name": "stdout",
          "text": [
            "Archive:  /content/RuLawSimplification/corpus/the_corpus.zip\n",
            "  inflating: the_corpus.csv          \n"
          ]
        }
      ]
    },
    {
      "cell_type": "code",
      "source": [
        "df = pd.read_csv('the_corpus.csv')"
      ],
      "metadata": {
        "id": "Ul53ysoy3671"
      },
      "execution_count": 19,
      "outputs": []
    },
    {
      "cell_type": "code",
      "source": [
        "text_generator = pipeline(\"text-generation\", \n",
        "                          model='marcus2000/GPT_simplifier_large_text', \n",
        "                          tokenizer='sberbank-ai/rugpt3small_based_on_gpt2')"
      ],
      "metadata": {
        "colab": {
          "base_uri": "https://localhost:8080/",
          "height": 98,
          "referenced_widgets": [
            "07d727c4c35a4f27b94a50b0a9eddf89",
            "e5b92f7c3d2f425692a7b8a43fdc035e",
            "b3ef9371590143efa897825b155ded43",
            "99255267533444db8080b758e8340509",
            "78869525c9f14d88bfa3a4da55c70925",
            "2ed51717b109408cbd237352def2b601",
            "7bc14f154e734520b177f5e4668e5fa0",
            "2db4f71368f94f16919c794c0d56c131",
            "abf13f765db542f79b05d1c86879a4b6",
            "e7dfd5c97d184476a08133922c596e44",
            "428d1893a7f64121994b743705a953b0",
            "d69c9d8fbe5e445bb0ea1511e31c6322",
            "cc74deb5f4f74a5f941c8cb0a3686972",
            "4ede1ed95ea04c7e894f8f9a7b0d58bc",
            "95e9b6251ca64c548a816142042e66f8",
            "8acaff7fe968452f8033a76208843abc",
            "d26c0d0b4d9647d489b0ab0d389ca82f",
            "7d1a3b775e394f6583ed3d80ed74ed5b",
            "4d023e8350ab4b50a6d55f951cfe7b48",
            "f5d884ec33f64f0db1e8a1bac5b302f4",
            "18260ac80d454f5f9976e9ff19009442",
            "726f0064471244bdb464955690556f4c"
          ]
        },
        "id": "TZfx9pz1hfCf",
        "outputId": "a69b28af-09ff-44b0-c67f-5b55e9bf57b5"
      },
      "execution_count": 20,
      "outputs": [
        {
          "output_type": "display_data",
          "data": {
            "text/plain": [
              "Downloading (…)lve/main/config.json:   0%|          | 0.00/863 [00:00<?, ?B/s]"
            ],
            "application/vnd.jupyter.widget-view+json": {
              "version_major": 2,
              "version_minor": 0,
              "model_id": "07d727c4c35a4f27b94a50b0a9eddf89"
            }
          },
          "metadata": {}
        },
        {
          "output_type": "display_data",
          "data": {
            "text/plain": [
              "Downloading pytorch_model.bin:   0%|          | 0.00/551M [00:00<?, ?B/s]"
            ],
            "application/vnd.jupyter.widget-view+json": {
              "version_major": 2,
              "version_minor": 0,
              "model_id": "d69c9d8fbe5e445bb0ea1511e31c6322"
            }
          },
          "metadata": {}
        },
        {
          "output_type": "stream",
          "name": "stderr",
          "text": [
            "Special tokens have been added in the vocabulary, make sure the associated word embeddings are fine-tuned or trained.\n"
          ]
        }
      ]
    },
    {
      "cell_type": "code",
      "source": [
        "from tqdm import tqdm\n",
        "\n",
        "real = test['text'].to_list()\n",
        "preds = []\n",
        "\n",
        "for orig in tqdm(real):\n",
        "    generated_text = text_generator(orig[:2500] + '[SEP] ', max_length=1000)\n",
        "    generated_text = str(generated_text[0]['generated_text']).split(\"[SEP] \")[1:]\n",
        "    preds.append(generated_text)"
      ],
      "metadata": {
        "colab": {
          "base_uri": "https://localhost:8080/"
        },
        "id": "ebsqJapChnil",
        "outputId": "a5fb6d27-d954-43cf-d3d9-5692397a2c4e"
      },
      "execution_count": 21,
      "outputs": [
        {
          "output_type": "stream",
          "name": "stderr",
          "text": [
            "  0%|          | 0/93 [00:00<?, ?it/s]Setting `pad_token_id` to `eos_token_id`:50256 for open-end generation.\n",
            "  1%|          | 1/93 [00:38<59:22, 38.72s/it]Setting `pad_token_id` to `eos_token_id`:50256 for open-end generation.\n",
            "  2%|▏         | 2/93 [01:11<53:23, 35.21s/it]Setting `pad_token_id` to `eos_token_id`:50256 for open-end generation.\n",
            "  3%|▎         | 3/93 [01:46<52:54, 35.27s/it]Setting `pad_token_id` to `eos_token_id`:50256 for open-end generation.\n",
            "  4%|▍         | 4/93 [02:22<52:41, 35.52s/it]Setting `pad_token_id` to `eos_token_id`:50256 for open-end generation.\n",
            "  5%|▌         | 5/93 [03:02<54:06, 36.89s/it]Setting `pad_token_id` to `eos_token_id`:50256 for open-end generation.\n",
            "  6%|▋         | 6/93 [03:38<53:30, 36.90s/it]Setting `pad_token_id` to `eos_token_id`:50256 for open-end generation.\n",
            "  8%|▊         | 7/93 [04:13<51:56, 36.24s/it]Setting `pad_token_id` to `eos_token_id`:50256 for open-end generation.\n",
            "  9%|▊         | 8/93 [04:41<47:38, 33.63s/it]Setting `pad_token_id` to `eos_token_id`:50256 for open-end generation.\n",
            " 10%|▉         | 9/93 [05:21<49:42, 35.51s/it]Setting `pad_token_id` to `eos_token_id`:50256 for open-end generation.\n",
            " 11%|█         | 10/93 [05:59<50:05, 36.22s/it]Setting `pad_token_id` to `eos_token_id`:50256 for open-end generation.\n",
            " 12%|█▏        | 11/93 [06:38<50:45, 37.14s/it]Setting `pad_token_id` to `eos_token_id`:50256 for open-end generation.\n",
            " 13%|█▎        | 12/93 [07:14<49:28, 36.64s/it]Setting `pad_token_id` to `eos_token_id`:50256 for open-end generation.\n",
            " 14%|█▍        | 13/93 [07:51<49:03, 36.79s/it]Setting `pad_token_id` to `eos_token_id`:50256 for open-end generation.\n",
            " 15%|█▌        | 14/93 [08:21<45:55, 34.87s/it]Setting `pad_token_id` to `eos_token_id`:50256 for open-end generation.\n",
            " 16%|█▌        | 15/93 [08:56<45:27, 34.97s/it]Setting `pad_token_id` to `eos_token_id`:50256 for open-end generation.\n",
            " 17%|█▋        | 16/93 [09:27<43:17, 33.74s/it]Setting `pad_token_id` to `eos_token_id`:50256 for open-end generation.\n",
            " 18%|█▊        | 17/93 [10:04<44:02, 34.77s/it]Setting `pad_token_id` to `eos_token_id`:50256 for open-end generation.\n",
            "Input length of input_ids is 1219, but `max_length` is set to 1000. This can lead to unexpected behavior. You should consider increasing `max_new_tokens`.\n",
            " 19%|█▉        | 18/93 [10:09<32:01, 25.62s/it]Setting `pad_token_id` to `eos_token_id`:50256 for open-end generation.\n",
            " 20%|██        | 19/93 [10:44<35:17, 28.62s/it]Setting `pad_token_id` to `eos_token_id`:50256 for open-end generation.\n",
            " 22%|██▏       | 20/93 [11:19<37:03, 30.46s/it]Setting `pad_token_id` to `eos_token_id`:50256 for open-end generation.\n",
            " 23%|██▎       | 21/93 [11:53<37:42, 31.43s/it]Setting `pad_token_id` to `eos_token_id`:50256 for open-end generation.\n",
            " 24%|██▎       | 22/93 [12:35<41:06, 34.74s/it]Setting `pad_token_id` to `eos_token_id`:50256 for open-end generation.\n",
            " 25%|██▍       | 23/93 [13:11<40:52, 35.03s/it]Setting `pad_token_id` to `eos_token_id`:50256 for open-end generation.\n",
            " 26%|██▌       | 24/93 [13:51<42:03, 36.57s/it]Setting `pad_token_id` to `eos_token_id`:50256 for open-end generation.\n",
            " 27%|██▋       | 25/93 [14:31<42:35, 37.58s/it]Setting `pad_token_id` to `eos_token_id`:50256 for open-end generation.\n",
            " 28%|██▊       | 26/93 [15:11<42:53, 38.41s/it]Setting `pad_token_id` to `eos_token_id`:50256 for open-end generation.\n",
            " 29%|██▉       | 27/93 [15:48<41:33, 37.78s/it]Setting `pad_token_id` to `eos_token_id`:50256 for open-end generation.\n",
            " 30%|███       | 28/93 [16:27<41:25, 38.24s/it]Setting `pad_token_id` to `eos_token_id`:50256 for open-end generation.\n",
            " 31%|███       | 29/93 [17:07<41:22, 38.79s/it]Setting `pad_token_id` to `eos_token_id`:50256 for open-end generation.\n",
            " 32%|███▏      | 30/93 [17:44<40:03, 38.15s/it]Setting `pad_token_id` to `eos_token_id`:50256 for open-end generation.\n",
            " 33%|███▎      | 31/93 [18:17<37:50, 36.62s/it]Setting `pad_token_id` to `eos_token_id`:50256 for open-end generation.\n",
            " 34%|███▍      | 32/93 [18:54<37:21, 36.75s/it]Setting `pad_token_id` to `eos_token_id`:50256 for open-end generation.\n",
            " 35%|███▌      | 33/93 [19:32<37:11, 37.20s/it]Setting `pad_token_id` to `eos_token_id`:50256 for open-end generation.\n",
            " 37%|███▋      | 34/93 [20:11<37:00, 37.64s/it]Setting `pad_token_id` to `eos_token_id`:50256 for open-end generation.\n",
            " 38%|███▊      | 35/93 [20:52<37:17, 38.58s/it]Setting `pad_token_id` to `eos_token_id`:50256 for open-end generation.\n",
            " 39%|███▊      | 36/93 [21:30<36:40, 38.60s/it]Setting `pad_token_id` to `eos_token_id`:50256 for open-end generation.\n",
            " 40%|███▉      | 37/93 [22:11<36:33, 39.17s/it]Setting `pad_token_id` to `eos_token_id`:50256 for open-end generation.\n",
            " 41%|████      | 38/93 [22:49<35:46, 39.03s/it]Setting `pad_token_id` to `eos_token_id`:50256 for open-end generation.\n",
            " 42%|████▏     | 39/93 [23:24<34:00, 37.79s/it]Setting `pad_token_id` to `eos_token_id`:50256 for open-end generation.\n",
            " 43%|████▎     | 40/93 [24:00<32:53, 37.23s/it]Setting `pad_token_id` to `eos_token_id`:50256 for open-end generation.\n",
            " 44%|████▍     | 41/93 [24:41<33:07, 38.21s/it]Setting `pad_token_id` to `eos_token_id`:50256 for open-end generation.\n",
            " 45%|████▌     | 42/93 [25:18<32:12, 37.90s/it]Setting `pad_token_id` to `eos_token_id`:50256 for open-end generation.\n",
            " 46%|████▌     | 43/93 [25:52<30:32, 36.65s/it]Setting `pad_token_id` to `eos_token_id`:50256 for open-end generation.\n",
            " 47%|████▋     | 44/93 [26:30<30:25, 37.25s/it]Setting `pad_token_id` to `eos_token_id`:50256 for open-end generation.\n",
            " 48%|████▊     | 45/93 [27:06<29:23, 36.75s/it]Setting `pad_token_id` to `eos_token_id`:50256 for open-end generation.\n",
            " 49%|████▉     | 46/93 [27:41<28:25, 36.29s/it]Setting `pad_token_id` to `eos_token_id`:50256 for open-end generation.\n",
            " 51%|█████     | 47/93 [28:15<27:15, 35.56s/it]Setting `pad_token_id` to `eos_token_id`:50256 for open-end generation.\n",
            " 52%|█████▏    | 48/93 [28:53<27:12, 36.28s/it]Setting `pad_token_id` to `eos_token_id`:50256 for open-end generation.\n",
            " 53%|█████▎    | 49/93 [29:31<26:59, 36.81s/it]Setting `pad_token_id` to `eos_token_id`:50256 for open-end generation.\n",
            " 54%|█████▍    | 50/93 [30:06<26:04, 36.39s/it]Setting `pad_token_id` to `eos_token_id`:50256 for open-end generation.\n",
            " 55%|█████▍    | 51/93 [30:38<24:27, 34.93s/it]Setting `pad_token_id` to `eos_token_id`:50256 for open-end generation.\n",
            " 56%|█████▌    | 52/93 [31:19<25:12, 36.90s/it]Setting `pad_token_id` to `eos_token_id`:50256 for open-end generation.\n",
            " 57%|█████▋    | 53/93 [31:56<24:34, 36.85s/it]Setting `pad_token_id` to `eos_token_id`:50256 for open-end generation.\n",
            " 58%|█████▊    | 54/93 [32:34<24:04, 37.04s/it]Setting `pad_token_id` to `eos_token_id`:50256 for open-end generation.\n",
            " 59%|█████▉    | 55/93 [33:08<22:57, 36.25s/it]Setting `pad_token_id` to `eos_token_id`:50256 for open-end generation.\n",
            " 60%|██████    | 56/93 [33:47<22:47, 36.95s/it]Setting `pad_token_id` to `eos_token_id`:50256 for open-end generation.\n",
            " 61%|██████▏   | 57/93 [34:25<22:23, 37.33s/it]Setting `pad_token_id` to `eos_token_id`:50256 for open-end generation.\n",
            " 62%|██████▏   | 58/93 [35:04<22:11, 38.04s/it]Setting `pad_token_id` to `eos_token_id`:50256 for open-end generation.\n",
            " 63%|██████▎   | 59/93 [35:37<20:32, 36.26s/it]Setting `pad_token_id` to `eos_token_id`:50256 for open-end generation.\n",
            " 65%|██████▍   | 60/93 [36:21<21:14, 38.62s/it]Setting `pad_token_id` to `eos_token_id`:50256 for open-end generation.\n",
            " 66%|██████▌   | 61/93 [36:59<20:31, 38.50s/it]Setting `pad_token_id` to `eos_token_id`:50256 for open-end generation.\n",
            " 67%|██████▋   | 62/93 [37:40<20:19, 39.33s/it]Setting `pad_token_id` to `eos_token_id`:50256 for open-end generation.\n",
            " 68%|██████▊   | 63/93 [38:10<18:16, 36.54s/it]Setting `pad_token_id` to `eos_token_id`:50256 for open-end generation.\n",
            " 69%|██████▉   | 64/93 [38:46<17:30, 36.21s/it]Setting `pad_token_id` to `eos_token_id`:50256 for open-end generation.\n",
            " 70%|██████▉   | 65/93 [39:27<17:37, 37.77s/it]Setting `pad_token_id` to `eos_token_id`:50256 for open-end generation.\n",
            " 71%|███████   | 66/93 [40:09<17:34, 39.04s/it]Setting `pad_token_id` to `eos_token_id`:50256 for open-end generation.\n",
            " 72%|███████▏  | 67/93 [40:44<16:25, 37.89s/it]Setting `pad_token_id` to `eos_token_id`:50256 for open-end generation.\n",
            " 73%|███████▎  | 68/93 [41:22<15:45, 37.82s/it]Setting `pad_token_id` to `eos_token_id`:50256 for open-end generation.\n",
            " 74%|███████▍  | 69/93 [42:00<15:08, 37.84s/it]Setting `pad_token_id` to `eos_token_id`:50256 for open-end generation.\n",
            " 75%|███████▌  | 70/93 [42:35<14:13, 37.13s/it]Setting `pad_token_id` to `eos_token_id`:50256 for open-end generation.\n",
            " 76%|███████▋  | 71/93 [43:14<13:44, 37.49s/it]Setting `pad_token_id` to `eos_token_id`:50256 for open-end generation.\n",
            " 77%|███████▋  | 72/93 [43:53<13:16, 37.91s/it]Setting `pad_token_id` to `eos_token_id`:50256 for open-end generation.\n",
            " 78%|███████▊  | 73/93 [44:30<12:33, 37.68s/it]Setting `pad_token_id` to `eos_token_id`:50256 for open-end generation.\n",
            " 80%|███████▉  | 74/93 [45:05<11:41, 36.92s/it]Setting `pad_token_id` to `eos_token_id`:50256 for open-end generation.\n",
            " 81%|████████  | 75/93 [45:37<10:40, 35.59s/it]Setting `pad_token_id` to `eos_token_id`:50256 for open-end generation.\n",
            " 82%|████████▏ | 76/93 [46:18<10:28, 36.98s/it]Setting `pad_token_id` to `eos_token_id`:50256 for open-end generation.\n",
            " 83%|████████▎ | 77/93 [46:56<09:59, 37.44s/it]Setting `pad_token_id` to `eos_token_id`:50256 for open-end generation.\n",
            " 84%|████████▍ | 78/93 [47:35<09:27, 37.81s/it]Setting `pad_token_id` to `eos_token_id`:50256 for open-end generation.\n",
            " 85%|████████▍ | 79/93 [48:17<09:08, 39.20s/it]Setting `pad_token_id` to `eos_token_id`:50256 for open-end generation.\n",
            " 86%|████████▌ | 80/93 [48:58<08:37, 39.81s/it]Setting `pad_token_id` to `eos_token_id`:50256 for open-end generation.\n",
            " 87%|████████▋ | 81/93 [49:30<07:27, 37.30s/it]Setting `pad_token_id` to `eos_token_id`:50256 for open-end generation.\n",
            " 88%|████████▊ | 82/93 [50:05<06:42, 36.63s/it]Setting `pad_token_id` to `eos_token_id`:50256 for open-end generation.\n",
            " 89%|████████▉ | 83/93 [50:41<06:05, 36.56s/it]Setting `pad_token_id` to `eos_token_id`:50256 for open-end generation.\n",
            " 90%|█████████ | 84/93 [51:18<05:30, 36.75s/it]Setting `pad_token_id` to `eos_token_id`:50256 for open-end generation.\n",
            " 91%|█████████▏| 85/93 [51:50<04:40, 35.11s/it]Setting `pad_token_id` to `eos_token_id`:50256 for open-end generation.\n",
            " 92%|█████████▏| 86/93 [52:29<04:15, 36.44s/it]Setting `pad_token_id` to `eos_token_id`:50256 for open-end generation.\n",
            " 94%|█████████▎| 87/93 [53:08<03:42, 37.05s/it]Setting `pad_token_id` to `eos_token_id`:50256 for open-end generation.\n",
            " 95%|█████████▍| 88/93 [53:48<03:10, 38.10s/it]Setting `pad_token_id` to `eos_token_id`:50256 for open-end generation.\n",
            " 96%|█████████▌| 89/93 [54:25<02:31, 37.80s/it]Setting `pad_token_id` to `eos_token_id`:50256 for open-end generation.\n",
            " 97%|█████████▋| 90/93 [54:57<01:47, 35.97s/it]Setting `pad_token_id` to `eos_token_id`:50256 for open-end generation.\n",
            " 98%|█████████▊| 91/93 [55:32<01:11, 35.55s/it]Setting `pad_token_id` to `eos_token_id`:50256 for open-end generation.\n",
            " 99%|█████████▉| 92/93 [56:27<00:41, 41.36s/it]Setting `pad_token_id` to `eos_token_id`:50256 for open-end generation.\n",
            "100%|██████████| 93/93 [57:02<00:00, 36.81s/it]\n"
          ]
        }
      ]
    },
    {
      "cell_type": "code",
      "source": [
        "import evaluate\n",
        "\n",
        "sari = evaluate.load(\"sari\")\n",
        "\n",
        "real = [list(orig[:2500]) for orig in test['text']]\n",
        "\n",
        "\n",
        "sari.compute(sources=test['text'].to_list(),  ## original\n",
        "             references=[[ref] for ref in test['commentary'].to_list()], ## the comment from RG\n",
        "             predictions=[str(p) for p in preds]  ## model's version\n",
        "             )"
      ],
      "metadata": {
        "colab": {
          "base_uri": "https://localhost:8080/"
        },
        "id": "W4krn-xDqy2g",
        "outputId": "ec266f8c-d69f-473b-d647-af6d8301ad87"
      },
      "execution_count": null,
      "outputs": [
        {
          "output_type": "execute_result",
          "data": {
            "text/plain": [
              "{'sari': 39.907188213348654}"
            ]
          },
          "metadata": {},
          "execution_count": 77
        }
      ]
    },
    {
      "cell_type": "code",
      "source": [
        "rouge = evaluate.load(\"rouge\")\n",
        "rouge.compute(references=test['text'].to_list(), predictions=[str(p) for p in preds])"
      ],
      "metadata": {
        "colab": {
          "base_uri": "https://localhost:8080/"
        },
        "id": "nD1wW4dqq_Nr",
        "outputId": "fe6f6647-2702-4870-fe47-0ce77d3ef33f"
      },
      "execution_count": null,
      "outputs": [
        {
          "output_type": "execute_result",
          "data": {
            "text/plain": [
              "{'rouge1': 0.07365608088048531,\n",
              " 'rouge2': 0.014426468385822993,\n",
              " 'rougeL': 0.0690339414274968,\n",
              " 'rougeLsum': 0.0689156230010729}"
            ]
          },
          "metadata": {},
          "execution_count": 78
        }
      ]
    },
    {
      "cell_type": "code",
      "source": [
        "from tqdm import tqdm\n",
        "\n",
        "real = test['text'].to_list()\n",
        "preds = []\n",
        "\n",
        "for orig in tqdm(real):\n",
        "    generated_text = text_generator(orig[:2500] + '[SEP] ', max_length=1000)\n",
        "    generated_text = str(generated_text[0]['generated_text']).split(\"[SEP] \")[1:]\n",
        "    preds.append(generated_text)"
      ],
      "metadata": {
        "id": "dy9UDGgm9VU-"
      },
      "execution_count": null,
      "outputs": []
    },
    {
      "cell_type": "code",
      "source": [
        "import evaluate\n",
        "\n",
        "sari = evaluate.load(\"sari\")\n",
        "\n",
        "real = [list(orig[:2500]) for orig in test['text']]\n",
        "\n",
        "\n",
        "sari.compute(sources=test['text'].to_list(),  ## original\n",
        "             references=[[ref] for ref in test['commentary'].to_list()], ## the comment from RG\n",
        "             predictions=[str(p) for p in preds]  ## model's version\n",
        "             )"
      ],
      "metadata": {
        "id": "_GBkWfmV9mkT"
      },
      "execution_count": null,
      "outputs": []
    },
    {
      "cell_type": "code",
      "source": [
        "rouge = evaluate.load(\"rouge\")\n",
        "rouge.compute(references=test['text'].to_list(), predictions=[str(p) for p in preds])"
      ],
      "metadata": {
        "id": "PGoAid-f9pAU"
      },
      "execution_count": null,
      "outputs": []
    },
    {
      "cell_type": "code",
      "source": [
        "from evaluate import load\n",
        "bertscore = load(\"bertscore\")\n",
        "\n",
        "results = bertscore.compute(predictions=[str(p) for p in preds], \n",
        "                            references=[[ref] for ref in test['commentary'].to_list()], lang='ru')"
      ],
      "metadata": {
        "id": "ulXTl3b63Hcq"
      },
      "execution_count": 32,
      "outputs": []
    },
    {
      "cell_type": "code",
      "source": [
        "from statistics import mean\n",
        "mean(results['precision'])"
      ],
      "metadata": {
        "id": "yZg5jU8jZnFg",
        "outputId": "34f2ca9a-a4c0-4924-fb47-f3714218e2ab",
        "colab": {
          "base_uri": "https://localhost:8080/"
        }
      },
      "execution_count": 33,
      "outputs": [
        {
          "output_type": "execute_result",
          "data": {
            "text/plain": [
              "0.6155967558583906"
            ]
          },
          "metadata": {},
          "execution_count": 33
        }
      ]
    },
    {
      "cell_type": "code",
      "source": [
        "from statistics import mean\n",
        "mean(results['f1'])"
      ],
      "metadata": {
        "id": "kCxITzNzZnon",
        "outputId": "69f3d583-02f0-4ec1-ef20-fb6bbd0d4018",
        "colab": {
          "base_uri": "https://localhost:8080/"
        }
      },
      "execution_count": 34,
      "outputs": [
        {
          "output_type": "execute_result",
          "data": {
            "text/plain": [
              "0.6025642294396636"
            ]
          },
          "metadata": {},
          "execution_count": 34
        }
      ]
    },
    {
      "cell_type": "markdown",
      "source": [
        "Индекс наводящего тумана\n",
        "\n",
        "далее используют следующую формулу:\n",
        "\n",
        "\n",
        "0.4* (кол-во токенов/кол-во предложений)+100(кол-во сложных токенов/кол-во токенов)"
      ],
      "metadata": {
        "id": "COCjJ7bvcn6p"
      }
    },
    {
      "cell_type": "code",
      "source": [
        "import nltk\n",
        "nltk.download('punkt')\n",
        "\n",
        "def gunning_fog(text):\n",
        "  text = str(text)\n",
        "\n",
        "  tokens = nltk.word_tokenize(text)\n",
        "  tokens_length = len(tokens)\n",
        "  sent_length = len(nltk.sent_tokenize(text))\n",
        "  complex_tokens_len = len([tok for tok in tokens if len(tok) > 6])\n",
        "  formule = 0.4 * (tokens_length / sent_length) + 100 * (complex_tokens_len / tokens_length)\n",
        "  return formule\n",
        "\n",
        "\n",
        "gunning_fog(preds[0])"
      ],
      "metadata": {
        "id": "DgdpAjlZcnbm",
        "outputId": "df186d8f-30d2-4549-85ef-7a34f49c1c14",
        "colab": {
          "base_uri": "https://localhost:8080/"
        }
      },
      "execution_count": 39,
      "outputs": [
        {
          "output_type": "stream",
          "name": "stderr",
          "text": [
            "[nltk_data] Downloading package punkt to /root/nltk_data...\n",
            "[nltk_data]   Package punkt is already up-to-date!\n"
          ]
        },
        {
          "output_type": "execute_result",
          "data": {
            "text/plain": [
              "33.00055517002082"
            ]
          },
          "metadata": {},
          "execution_count": 39
        }
      ]
    },
    {
      "cell_type": "code",
      "source": [
        "indexes = []\n",
        "\n",
        "## simplified by model\n",
        "\n",
        "for pred in preds:\n",
        "  indexes.append(gunning_fog(pred))\n",
        "\n",
        "print(mean(indexes))"
      ],
      "metadata": {
        "id": "fSTE-kN4gJYj",
        "outputId": "cd91bc63-6ec6-4005-9ad7-21f22d8875ff",
        "colab": {
          "base_uri": "https://localhost:8080/"
        }
      },
      "execution_count": 40,
      "outputs": [
        {
          "output_type": "stream",
          "name": "stdout",
          "text": [
            "54.08566165689718\n"
          ]
        }
      ]
    },
    {
      "cell_type": "code",
      "source": [
        "indexes = []\n",
        "\n",
        "## original text\n",
        "\n",
        "for t in test['text'].to_list():\n",
        "  indexes.append(gunning_fog(t))\n",
        "\n",
        "print(mean(indexes))"
      ],
      "metadata": {
        "id": "D4ki-xD2hm4W",
        "outputId": "81356b89-358a-4c0d-edb1-85f07458846b",
        "colab": {
          "base_uri": "https://localhost:8080/"
        }
      },
      "execution_count": 42,
      "outputs": [
        {
          "output_type": "stream",
          "name": "stdout",
          "text": [
            "59.56413033697357\n"
          ]
        }
      ]
    }
  ]
}