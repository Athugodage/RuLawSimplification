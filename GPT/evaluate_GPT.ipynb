{
  "nbformat": 4,
  "nbformat_minor": 0,
  "metadata": {
    "colab": {
      "provenance": [],
      "include_colab_link": true
    },
    "kernelspec": {
      "name": "python3",
      "display_name": "Python 3"
    },
    "language_info": {
      "name": "python"
    },
    "gpuClass": "standard",
    "widgets": {
      "application/vnd.jupyter.widget-state+json": {
        "389bf78ae29d438082b9e0b2c1cfe911": {
          "model_module": "@jupyter-widgets/controls",
          "model_name": "HBoxModel",
          "model_module_version": "1.5.0",
          "state": {
            "_dom_classes": [],
            "_model_module": "@jupyter-widgets/controls",
            "_model_module_version": "1.5.0",
            "_model_name": "HBoxModel",
            "_view_count": null,
            "_view_module": "@jupyter-widgets/controls",
            "_view_module_version": "1.5.0",
            "_view_name": "HBoxView",
            "box_style": "",
            "children": [
              "IPY_MODEL_13050051a1dc44a0a45e1da3c87b520d",
              "IPY_MODEL_8d03e3fd2f344311a0979f7d27ab791f",
              "IPY_MODEL_491b531d01cb4eb89c147a75fdd9d8b3"
            ],
            "layout": "IPY_MODEL_72f58cf86dfc44d5af5298369792c1d3"
          }
        },
        "13050051a1dc44a0a45e1da3c87b520d": {
          "model_module": "@jupyter-widgets/controls",
          "model_name": "HTMLModel",
          "model_module_version": "1.5.0",
          "state": {
            "_dom_classes": [],
            "_model_module": "@jupyter-widgets/controls",
            "_model_module_version": "1.5.0",
            "_model_name": "HTMLModel",
            "_view_count": null,
            "_view_module": "@jupyter-widgets/controls",
            "_view_module_version": "1.5.0",
            "_view_name": "HTMLView",
            "description": "",
            "description_tooltip": null,
            "layout": "IPY_MODEL_26dac36885da4982994d32ae99d8a4e9",
            "placeholder": "​",
            "style": "IPY_MODEL_a2bc4e0bbaec451c905f1ba3ca1ecf23",
            "value": "Downloading (…)lve/main/config.json: 100%"
          }
        },
        "8d03e3fd2f344311a0979f7d27ab791f": {
          "model_module": "@jupyter-widgets/controls",
          "model_name": "FloatProgressModel",
          "model_module_version": "1.5.0",
          "state": {
            "_dom_classes": [],
            "_model_module": "@jupyter-widgets/controls",
            "_model_module_version": "1.5.0",
            "_model_name": "FloatProgressModel",
            "_view_count": null,
            "_view_module": "@jupyter-widgets/controls",
            "_view_module_version": "1.5.0",
            "_view_name": "ProgressView",
            "bar_style": "success",
            "description": "",
            "description_tooltip": null,
            "layout": "IPY_MODEL_a7ed25302ce7451580b7e68745f2d2e4",
            "max": 863,
            "min": 0,
            "orientation": "horizontal",
            "style": "IPY_MODEL_d29dd9b398074fe0b7003ae834b1508d",
            "value": 863
          }
        },
        "491b531d01cb4eb89c147a75fdd9d8b3": {
          "model_module": "@jupyter-widgets/controls",
          "model_name": "HTMLModel",
          "model_module_version": "1.5.0",
          "state": {
            "_dom_classes": [],
            "_model_module": "@jupyter-widgets/controls",
            "_model_module_version": "1.5.0",
            "_model_name": "HTMLModel",
            "_view_count": null,
            "_view_module": "@jupyter-widgets/controls",
            "_view_module_version": "1.5.0",
            "_view_name": "HTMLView",
            "description": "",
            "description_tooltip": null,
            "layout": "IPY_MODEL_99efb86449714ab4b9c5b2f214c54a29",
            "placeholder": "​",
            "style": "IPY_MODEL_67fd3701354947ed9c53f9cce7654593",
            "value": " 863/863 [00:00&lt;00:00, 19.0kB/s]"
          }
        },
        "72f58cf86dfc44d5af5298369792c1d3": {
          "model_module": "@jupyter-widgets/base",
          "model_name": "LayoutModel",
          "model_module_version": "1.2.0",
          "state": {
            "_model_module": "@jupyter-widgets/base",
            "_model_module_version": "1.2.0",
            "_model_name": "LayoutModel",
            "_view_count": null,
            "_view_module": "@jupyter-widgets/base",
            "_view_module_version": "1.2.0",
            "_view_name": "LayoutView",
            "align_content": null,
            "align_items": null,
            "align_self": null,
            "border": null,
            "bottom": null,
            "display": null,
            "flex": null,
            "flex_flow": null,
            "grid_area": null,
            "grid_auto_columns": null,
            "grid_auto_flow": null,
            "grid_auto_rows": null,
            "grid_column": null,
            "grid_gap": null,
            "grid_row": null,
            "grid_template_areas": null,
            "grid_template_columns": null,
            "grid_template_rows": null,
            "height": null,
            "justify_content": null,
            "justify_items": null,
            "left": null,
            "margin": null,
            "max_height": null,
            "max_width": null,
            "min_height": null,
            "min_width": null,
            "object_fit": null,
            "object_position": null,
            "order": null,
            "overflow": null,
            "overflow_x": null,
            "overflow_y": null,
            "padding": null,
            "right": null,
            "top": null,
            "visibility": null,
            "width": null
          }
        },
        "26dac36885da4982994d32ae99d8a4e9": {
          "model_module": "@jupyter-widgets/base",
          "model_name": "LayoutModel",
          "model_module_version": "1.2.0",
          "state": {
            "_model_module": "@jupyter-widgets/base",
            "_model_module_version": "1.2.0",
            "_model_name": "LayoutModel",
            "_view_count": null,
            "_view_module": "@jupyter-widgets/base",
            "_view_module_version": "1.2.0",
            "_view_name": "LayoutView",
            "align_content": null,
            "align_items": null,
            "align_self": null,
            "border": null,
            "bottom": null,
            "display": null,
            "flex": null,
            "flex_flow": null,
            "grid_area": null,
            "grid_auto_columns": null,
            "grid_auto_flow": null,
            "grid_auto_rows": null,
            "grid_column": null,
            "grid_gap": null,
            "grid_row": null,
            "grid_template_areas": null,
            "grid_template_columns": null,
            "grid_template_rows": null,
            "height": null,
            "justify_content": null,
            "justify_items": null,
            "left": null,
            "margin": null,
            "max_height": null,
            "max_width": null,
            "min_height": null,
            "min_width": null,
            "object_fit": null,
            "object_position": null,
            "order": null,
            "overflow": null,
            "overflow_x": null,
            "overflow_y": null,
            "padding": null,
            "right": null,
            "top": null,
            "visibility": null,
            "width": null
          }
        },
        "a2bc4e0bbaec451c905f1ba3ca1ecf23": {
          "model_module": "@jupyter-widgets/controls",
          "model_name": "DescriptionStyleModel",
          "model_module_version": "1.5.0",
          "state": {
            "_model_module": "@jupyter-widgets/controls",
            "_model_module_version": "1.5.0",
            "_model_name": "DescriptionStyleModel",
            "_view_count": null,
            "_view_module": "@jupyter-widgets/base",
            "_view_module_version": "1.2.0",
            "_view_name": "StyleView",
            "description_width": ""
          }
        },
        "a7ed25302ce7451580b7e68745f2d2e4": {
          "model_module": "@jupyter-widgets/base",
          "model_name": "LayoutModel",
          "model_module_version": "1.2.0",
          "state": {
            "_model_module": "@jupyter-widgets/base",
            "_model_module_version": "1.2.0",
            "_model_name": "LayoutModel",
            "_view_count": null,
            "_view_module": "@jupyter-widgets/base",
            "_view_module_version": "1.2.0",
            "_view_name": "LayoutView",
            "align_content": null,
            "align_items": null,
            "align_self": null,
            "border": null,
            "bottom": null,
            "display": null,
            "flex": null,
            "flex_flow": null,
            "grid_area": null,
            "grid_auto_columns": null,
            "grid_auto_flow": null,
            "grid_auto_rows": null,
            "grid_column": null,
            "grid_gap": null,
            "grid_row": null,
            "grid_template_areas": null,
            "grid_template_columns": null,
            "grid_template_rows": null,
            "height": null,
            "justify_content": null,
            "justify_items": null,
            "left": null,
            "margin": null,
            "max_height": null,
            "max_width": null,
            "min_height": null,
            "min_width": null,
            "object_fit": null,
            "object_position": null,
            "order": null,
            "overflow": null,
            "overflow_x": null,
            "overflow_y": null,
            "padding": null,
            "right": null,
            "top": null,
            "visibility": null,
            "width": null
          }
        },
        "d29dd9b398074fe0b7003ae834b1508d": {
          "model_module": "@jupyter-widgets/controls",
          "model_name": "ProgressStyleModel",
          "model_module_version": "1.5.0",
          "state": {
            "_model_module": "@jupyter-widgets/controls",
            "_model_module_version": "1.5.0",
            "_model_name": "ProgressStyleModel",
            "_view_count": null,
            "_view_module": "@jupyter-widgets/base",
            "_view_module_version": "1.2.0",
            "_view_name": "StyleView",
            "bar_color": null,
            "description_width": ""
          }
        },
        "99efb86449714ab4b9c5b2f214c54a29": {
          "model_module": "@jupyter-widgets/base",
          "model_name": "LayoutModel",
          "model_module_version": "1.2.0",
          "state": {
            "_model_module": "@jupyter-widgets/base",
            "_model_module_version": "1.2.0",
            "_model_name": "LayoutModel",
            "_view_count": null,
            "_view_module": "@jupyter-widgets/base",
            "_view_module_version": "1.2.0",
            "_view_name": "LayoutView",
            "align_content": null,
            "align_items": null,
            "align_self": null,
            "border": null,
            "bottom": null,
            "display": null,
            "flex": null,
            "flex_flow": null,
            "grid_area": null,
            "grid_auto_columns": null,
            "grid_auto_flow": null,
            "grid_auto_rows": null,
            "grid_column": null,
            "grid_gap": null,
            "grid_row": null,
            "grid_template_areas": null,
            "grid_template_columns": null,
            "grid_template_rows": null,
            "height": null,
            "justify_content": null,
            "justify_items": null,
            "left": null,
            "margin": null,
            "max_height": null,
            "max_width": null,
            "min_height": null,
            "min_width": null,
            "object_fit": null,
            "object_position": null,
            "order": null,
            "overflow": null,
            "overflow_x": null,
            "overflow_y": null,
            "padding": null,
            "right": null,
            "top": null,
            "visibility": null,
            "width": null
          }
        },
        "67fd3701354947ed9c53f9cce7654593": {
          "model_module": "@jupyter-widgets/controls",
          "model_name": "DescriptionStyleModel",
          "model_module_version": "1.5.0",
          "state": {
            "_model_module": "@jupyter-widgets/controls",
            "_model_module_version": "1.5.0",
            "_model_name": "DescriptionStyleModel",
            "_view_count": null,
            "_view_module": "@jupyter-widgets/base",
            "_view_module_version": "1.2.0",
            "_view_name": "StyleView",
            "description_width": ""
          }
        },
        "c969dd4dd84c4642a299beacdf6ea330": {
          "model_module": "@jupyter-widgets/controls",
          "model_name": "HBoxModel",
          "model_module_version": "1.5.0",
          "state": {
            "_dom_classes": [],
            "_model_module": "@jupyter-widgets/controls",
            "_model_module_version": "1.5.0",
            "_model_name": "HBoxModel",
            "_view_count": null,
            "_view_module": "@jupyter-widgets/controls",
            "_view_module_version": "1.5.0",
            "_view_name": "HBoxView",
            "box_style": "",
            "children": [
              "IPY_MODEL_67f386e159884bc3a49e15e5a51d7e3d",
              "IPY_MODEL_f2614bb3905a4685aecbec575d82d56e",
              "IPY_MODEL_87e3fabe2db4470286645c800feb0c6f"
            ],
            "layout": "IPY_MODEL_d48d2a926bd64712b6efa4b80b8eb78e"
          }
        },
        "67f386e159884bc3a49e15e5a51d7e3d": {
          "model_module": "@jupyter-widgets/controls",
          "model_name": "HTMLModel",
          "model_module_version": "1.5.0",
          "state": {
            "_dom_classes": [],
            "_model_module": "@jupyter-widgets/controls",
            "_model_module_version": "1.5.0",
            "_model_name": "HTMLModel",
            "_view_count": null,
            "_view_module": "@jupyter-widgets/controls",
            "_view_module_version": "1.5.0",
            "_view_name": "HTMLView",
            "description": "",
            "description_tooltip": null,
            "layout": "IPY_MODEL_ef2e6942fce24392b2d9a79b8ec56353",
            "placeholder": "​",
            "style": "IPY_MODEL_8d749f7174a545c5b682253d3466cb21",
            "value": "Downloading pytorch_model.bin: 100%"
          }
        },
        "f2614bb3905a4685aecbec575d82d56e": {
          "model_module": "@jupyter-widgets/controls",
          "model_name": "FloatProgressModel",
          "model_module_version": "1.5.0",
          "state": {
            "_dom_classes": [],
            "_model_module": "@jupyter-widgets/controls",
            "_model_module_version": "1.5.0",
            "_model_name": "FloatProgressModel",
            "_view_count": null,
            "_view_module": "@jupyter-widgets/controls",
            "_view_module_version": "1.5.0",
            "_view_name": "ProgressView",
            "bar_style": "success",
            "description": "",
            "description_tooltip": null,
            "layout": "IPY_MODEL_82d5f26c90984a39b5e1bf1d0c436d1f",
            "max": 551313981,
            "min": 0,
            "orientation": "horizontal",
            "style": "IPY_MODEL_719d2503ba3b47168a8fb0e457bf028c",
            "value": 551313981
          }
        },
        "87e3fabe2db4470286645c800feb0c6f": {
          "model_module": "@jupyter-widgets/controls",
          "model_name": "HTMLModel",
          "model_module_version": "1.5.0",
          "state": {
            "_dom_classes": [],
            "_model_module": "@jupyter-widgets/controls",
            "_model_module_version": "1.5.0",
            "_model_name": "HTMLModel",
            "_view_count": null,
            "_view_module": "@jupyter-widgets/controls",
            "_view_module_version": "1.5.0",
            "_view_name": "HTMLView",
            "description": "",
            "description_tooltip": null,
            "layout": "IPY_MODEL_2cda204d47694c62bc31ddac83c37ef3",
            "placeholder": "​",
            "style": "IPY_MODEL_b047ebf9c6364c92ba35d083e7b81d9d",
            "value": " 551M/551M [00:10&lt;00:00, 59.1MB/s]"
          }
        },
        "d48d2a926bd64712b6efa4b80b8eb78e": {
          "model_module": "@jupyter-widgets/base",
          "model_name": "LayoutModel",
          "model_module_version": "1.2.0",
          "state": {
            "_model_module": "@jupyter-widgets/base",
            "_model_module_version": "1.2.0",
            "_model_name": "LayoutModel",
            "_view_count": null,
            "_view_module": "@jupyter-widgets/base",
            "_view_module_version": "1.2.0",
            "_view_name": "LayoutView",
            "align_content": null,
            "align_items": null,
            "align_self": null,
            "border": null,
            "bottom": null,
            "display": null,
            "flex": null,
            "flex_flow": null,
            "grid_area": null,
            "grid_auto_columns": null,
            "grid_auto_flow": null,
            "grid_auto_rows": null,
            "grid_column": null,
            "grid_gap": null,
            "grid_row": null,
            "grid_template_areas": null,
            "grid_template_columns": null,
            "grid_template_rows": null,
            "height": null,
            "justify_content": null,
            "justify_items": null,
            "left": null,
            "margin": null,
            "max_height": null,
            "max_width": null,
            "min_height": null,
            "min_width": null,
            "object_fit": null,
            "object_position": null,
            "order": null,
            "overflow": null,
            "overflow_x": null,
            "overflow_y": null,
            "padding": null,
            "right": null,
            "top": null,
            "visibility": null,
            "width": null
          }
        },
        "ef2e6942fce24392b2d9a79b8ec56353": {
          "model_module": "@jupyter-widgets/base",
          "model_name": "LayoutModel",
          "model_module_version": "1.2.0",
          "state": {
            "_model_module": "@jupyter-widgets/base",
            "_model_module_version": "1.2.0",
            "_model_name": "LayoutModel",
            "_view_count": null,
            "_view_module": "@jupyter-widgets/base",
            "_view_module_version": "1.2.0",
            "_view_name": "LayoutView",
            "align_content": null,
            "align_items": null,
            "align_self": null,
            "border": null,
            "bottom": null,
            "display": null,
            "flex": null,
            "flex_flow": null,
            "grid_area": null,
            "grid_auto_columns": null,
            "grid_auto_flow": null,
            "grid_auto_rows": null,
            "grid_column": null,
            "grid_gap": null,
            "grid_row": null,
            "grid_template_areas": null,
            "grid_template_columns": null,
            "grid_template_rows": null,
            "height": null,
            "justify_content": null,
            "justify_items": null,
            "left": null,
            "margin": null,
            "max_height": null,
            "max_width": null,
            "min_height": null,
            "min_width": null,
            "object_fit": null,
            "object_position": null,
            "order": null,
            "overflow": null,
            "overflow_x": null,
            "overflow_y": null,
            "padding": null,
            "right": null,
            "top": null,
            "visibility": null,
            "width": null
          }
        },
        "8d749f7174a545c5b682253d3466cb21": {
          "model_module": "@jupyter-widgets/controls",
          "model_name": "DescriptionStyleModel",
          "model_module_version": "1.5.0",
          "state": {
            "_model_module": "@jupyter-widgets/controls",
            "_model_module_version": "1.5.0",
            "_model_name": "DescriptionStyleModel",
            "_view_count": null,
            "_view_module": "@jupyter-widgets/base",
            "_view_module_version": "1.2.0",
            "_view_name": "StyleView",
            "description_width": ""
          }
        },
        "82d5f26c90984a39b5e1bf1d0c436d1f": {
          "model_module": "@jupyter-widgets/base",
          "model_name": "LayoutModel",
          "model_module_version": "1.2.0",
          "state": {
            "_model_module": "@jupyter-widgets/base",
            "_model_module_version": "1.2.0",
            "_model_name": "LayoutModel",
            "_view_count": null,
            "_view_module": "@jupyter-widgets/base",
            "_view_module_version": "1.2.0",
            "_view_name": "LayoutView",
            "align_content": null,
            "align_items": null,
            "align_self": null,
            "border": null,
            "bottom": null,
            "display": null,
            "flex": null,
            "flex_flow": null,
            "grid_area": null,
            "grid_auto_columns": null,
            "grid_auto_flow": null,
            "grid_auto_rows": null,
            "grid_column": null,
            "grid_gap": null,
            "grid_row": null,
            "grid_template_areas": null,
            "grid_template_columns": null,
            "grid_template_rows": null,
            "height": null,
            "justify_content": null,
            "justify_items": null,
            "left": null,
            "margin": null,
            "max_height": null,
            "max_width": null,
            "min_height": null,
            "min_width": null,
            "object_fit": null,
            "object_position": null,
            "order": null,
            "overflow": null,
            "overflow_x": null,
            "overflow_y": null,
            "padding": null,
            "right": null,
            "top": null,
            "visibility": null,
            "width": null
          }
        },
        "719d2503ba3b47168a8fb0e457bf028c": {
          "model_module": "@jupyter-widgets/controls",
          "model_name": "ProgressStyleModel",
          "model_module_version": "1.5.0",
          "state": {
            "_model_module": "@jupyter-widgets/controls",
            "_model_module_version": "1.5.0",
            "_model_name": "ProgressStyleModel",
            "_view_count": null,
            "_view_module": "@jupyter-widgets/base",
            "_view_module_version": "1.2.0",
            "_view_name": "StyleView",
            "bar_color": null,
            "description_width": ""
          }
        },
        "2cda204d47694c62bc31ddac83c37ef3": {
          "model_module": "@jupyter-widgets/base",
          "model_name": "LayoutModel",
          "model_module_version": "1.2.0",
          "state": {
            "_model_module": "@jupyter-widgets/base",
            "_model_module_version": "1.2.0",
            "_model_name": "LayoutModel",
            "_view_count": null,
            "_view_module": "@jupyter-widgets/base",
            "_view_module_version": "1.2.0",
            "_view_name": "LayoutView",
            "align_content": null,
            "align_items": null,
            "align_self": null,
            "border": null,
            "bottom": null,
            "display": null,
            "flex": null,
            "flex_flow": null,
            "grid_area": null,
            "grid_auto_columns": null,
            "grid_auto_flow": null,
            "grid_auto_rows": null,
            "grid_column": null,
            "grid_gap": null,
            "grid_row": null,
            "grid_template_areas": null,
            "grid_template_columns": null,
            "grid_template_rows": null,
            "height": null,
            "justify_content": null,
            "justify_items": null,
            "left": null,
            "margin": null,
            "max_height": null,
            "max_width": null,
            "min_height": null,
            "min_width": null,
            "object_fit": null,
            "object_position": null,
            "order": null,
            "overflow": null,
            "overflow_x": null,
            "overflow_y": null,
            "padding": null,
            "right": null,
            "top": null,
            "visibility": null,
            "width": null
          }
        },
        "b047ebf9c6364c92ba35d083e7b81d9d": {
          "model_module": "@jupyter-widgets/controls",
          "model_name": "DescriptionStyleModel",
          "model_module_version": "1.5.0",
          "state": {
            "_model_module": "@jupyter-widgets/controls",
            "_model_module_version": "1.5.0",
            "_model_name": "DescriptionStyleModel",
            "_view_count": null,
            "_view_module": "@jupyter-widgets/base",
            "_view_module_version": "1.2.0",
            "_view_name": "StyleView",
            "description_width": ""
          }
        },
        "9a6549be776a47bd9e5b29e9e40cc45f": {
          "model_module": "@jupyter-widgets/controls",
          "model_name": "HBoxModel",
          "model_module_version": "1.5.0",
          "state": {
            "_dom_classes": [],
            "_model_module": "@jupyter-widgets/controls",
            "_model_module_version": "1.5.0",
            "_model_name": "HBoxModel",
            "_view_count": null,
            "_view_module": "@jupyter-widgets/controls",
            "_view_module_version": "1.5.0",
            "_view_name": "HBoxView",
            "box_style": "",
            "children": [
              "IPY_MODEL_d47e9b9fc40241cbbc73c923fc5b4ffb",
              "IPY_MODEL_107a30be46424ad8bbf4d21dd0c38bc6",
              "IPY_MODEL_183ae39d266745c4972c88c74abf7ce9"
            ],
            "layout": "IPY_MODEL_3f78c9daa79d48f79bb7e12ae7f9bdc2"
          }
        },
        "d47e9b9fc40241cbbc73c923fc5b4ffb": {
          "model_module": "@jupyter-widgets/controls",
          "model_name": "HTMLModel",
          "model_module_version": "1.5.0",
          "state": {
            "_dom_classes": [],
            "_model_module": "@jupyter-widgets/controls",
            "_model_module_version": "1.5.0",
            "_model_name": "HTMLModel",
            "_view_count": null,
            "_view_module": "@jupyter-widgets/controls",
            "_view_module_version": "1.5.0",
            "_view_name": "HTMLView",
            "description": "",
            "description_tooltip": null,
            "layout": "IPY_MODEL_548bc5a684f64a4a9ebe5974dd49b961",
            "placeholder": "​",
            "style": "IPY_MODEL_022bae81d88d4b48abc4b05d06c5e256",
            "value": "Downloading (…)lve/main/config.json: 100%"
          }
        },
        "107a30be46424ad8bbf4d21dd0c38bc6": {
          "model_module": "@jupyter-widgets/controls",
          "model_name": "FloatProgressModel",
          "model_module_version": "1.5.0",
          "state": {
            "_dom_classes": [],
            "_model_module": "@jupyter-widgets/controls",
            "_model_module_version": "1.5.0",
            "_model_name": "FloatProgressModel",
            "_view_count": null,
            "_view_module": "@jupyter-widgets/controls",
            "_view_module_version": "1.5.0",
            "_view_name": "ProgressView",
            "bar_style": "success",
            "description": "",
            "description_tooltip": null,
            "layout": "IPY_MODEL_d3585bf6cbb54790a95203090170230f",
            "max": 608,
            "min": 0,
            "orientation": "horizontal",
            "style": "IPY_MODEL_a1f2001934154083a384d5f29f6a5724",
            "value": 608
          }
        },
        "183ae39d266745c4972c88c74abf7ce9": {
          "model_module": "@jupyter-widgets/controls",
          "model_name": "HTMLModel",
          "model_module_version": "1.5.0",
          "state": {
            "_dom_classes": [],
            "_model_module": "@jupyter-widgets/controls",
            "_model_module_version": "1.5.0",
            "_model_name": "HTMLModel",
            "_view_count": null,
            "_view_module": "@jupyter-widgets/controls",
            "_view_module_version": "1.5.0",
            "_view_name": "HTMLView",
            "description": "",
            "description_tooltip": null,
            "layout": "IPY_MODEL_2d4f154feed24b5793ecfae6662fa41a",
            "placeholder": "​",
            "style": "IPY_MODEL_9b22289aa55141989b60618a8fc9c307",
            "value": " 608/608 [00:00&lt;00:00, 6.30kB/s]"
          }
        },
        "3f78c9daa79d48f79bb7e12ae7f9bdc2": {
          "model_module": "@jupyter-widgets/base",
          "model_name": "LayoutModel",
          "model_module_version": "1.2.0",
          "state": {
            "_model_module": "@jupyter-widgets/base",
            "_model_module_version": "1.2.0",
            "_model_name": "LayoutModel",
            "_view_count": null,
            "_view_module": "@jupyter-widgets/base",
            "_view_module_version": "1.2.0",
            "_view_name": "LayoutView",
            "align_content": null,
            "align_items": null,
            "align_self": null,
            "border": null,
            "bottom": null,
            "display": null,
            "flex": null,
            "flex_flow": null,
            "grid_area": null,
            "grid_auto_columns": null,
            "grid_auto_flow": null,
            "grid_auto_rows": null,
            "grid_column": null,
            "grid_gap": null,
            "grid_row": null,
            "grid_template_areas": null,
            "grid_template_columns": null,
            "grid_template_rows": null,
            "height": null,
            "justify_content": null,
            "justify_items": null,
            "left": null,
            "margin": null,
            "max_height": null,
            "max_width": null,
            "min_height": null,
            "min_width": null,
            "object_fit": null,
            "object_position": null,
            "order": null,
            "overflow": null,
            "overflow_x": null,
            "overflow_y": null,
            "padding": null,
            "right": null,
            "top": null,
            "visibility": null,
            "width": null
          }
        },
        "548bc5a684f64a4a9ebe5974dd49b961": {
          "model_module": "@jupyter-widgets/base",
          "model_name": "LayoutModel",
          "model_module_version": "1.2.0",
          "state": {
            "_model_module": "@jupyter-widgets/base",
            "_model_module_version": "1.2.0",
            "_model_name": "LayoutModel",
            "_view_count": null,
            "_view_module": "@jupyter-widgets/base",
            "_view_module_version": "1.2.0",
            "_view_name": "LayoutView",
            "align_content": null,
            "align_items": null,
            "align_self": null,
            "border": null,
            "bottom": null,
            "display": null,
            "flex": null,
            "flex_flow": null,
            "grid_area": null,
            "grid_auto_columns": null,
            "grid_auto_flow": null,
            "grid_auto_rows": null,
            "grid_column": null,
            "grid_gap": null,
            "grid_row": null,
            "grid_template_areas": null,
            "grid_template_columns": null,
            "grid_template_rows": null,
            "height": null,
            "justify_content": null,
            "justify_items": null,
            "left": null,
            "margin": null,
            "max_height": null,
            "max_width": null,
            "min_height": null,
            "min_width": null,
            "object_fit": null,
            "object_position": null,
            "order": null,
            "overflow": null,
            "overflow_x": null,
            "overflow_y": null,
            "padding": null,
            "right": null,
            "top": null,
            "visibility": null,
            "width": null
          }
        },
        "022bae81d88d4b48abc4b05d06c5e256": {
          "model_module": "@jupyter-widgets/controls",
          "model_name": "DescriptionStyleModel",
          "model_module_version": "1.5.0",
          "state": {
            "_model_module": "@jupyter-widgets/controls",
            "_model_module_version": "1.5.0",
            "_model_name": "DescriptionStyleModel",
            "_view_count": null,
            "_view_module": "@jupyter-widgets/base",
            "_view_module_version": "1.2.0",
            "_view_name": "StyleView",
            "description_width": ""
          }
        },
        "d3585bf6cbb54790a95203090170230f": {
          "model_module": "@jupyter-widgets/base",
          "model_name": "LayoutModel",
          "model_module_version": "1.2.0",
          "state": {
            "_model_module": "@jupyter-widgets/base",
            "_model_module_version": "1.2.0",
            "_model_name": "LayoutModel",
            "_view_count": null,
            "_view_module": "@jupyter-widgets/base",
            "_view_module_version": "1.2.0",
            "_view_name": "LayoutView",
            "align_content": null,
            "align_items": null,
            "align_self": null,
            "border": null,
            "bottom": null,
            "display": null,
            "flex": null,
            "flex_flow": null,
            "grid_area": null,
            "grid_auto_columns": null,
            "grid_auto_flow": null,
            "grid_auto_rows": null,
            "grid_column": null,
            "grid_gap": null,
            "grid_row": null,
            "grid_template_areas": null,
            "grid_template_columns": null,
            "grid_template_rows": null,
            "height": null,
            "justify_content": null,
            "justify_items": null,
            "left": null,
            "margin": null,
            "max_height": null,
            "max_width": null,
            "min_height": null,
            "min_width": null,
            "object_fit": null,
            "object_position": null,
            "order": null,
            "overflow": null,
            "overflow_x": null,
            "overflow_y": null,
            "padding": null,
            "right": null,
            "top": null,
            "visibility": null,
            "width": null
          }
        },
        "a1f2001934154083a384d5f29f6a5724": {
          "model_module": "@jupyter-widgets/controls",
          "model_name": "ProgressStyleModel",
          "model_module_version": "1.5.0",
          "state": {
            "_model_module": "@jupyter-widgets/controls",
            "_model_module_version": "1.5.0",
            "_model_name": "ProgressStyleModel",
            "_view_count": null,
            "_view_module": "@jupyter-widgets/base",
            "_view_module_version": "1.2.0",
            "_view_name": "StyleView",
            "bar_color": null,
            "description_width": ""
          }
        },
        "2d4f154feed24b5793ecfae6662fa41a": {
          "model_module": "@jupyter-widgets/base",
          "model_name": "LayoutModel",
          "model_module_version": "1.2.0",
          "state": {
            "_model_module": "@jupyter-widgets/base",
            "_model_module_version": "1.2.0",
            "_model_name": "LayoutModel",
            "_view_count": null,
            "_view_module": "@jupyter-widgets/base",
            "_view_module_version": "1.2.0",
            "_view_name": "LayoutView",
            "align_content": null,
            "align_items": null,
            "align_self": null,
            "border": null,
            "bottom": null,
            "display": null,
            "flex": null,
            "flex_flow": null,
            "grid_area": null,
            "grid_auto_columns": null,
            "grid_auto_flow": null,
            "grid_auto_rows": null,
            "grid_column": null,
            "grid_gap": null,
            "grid_row": null,
            "grid_template_areas": null,
            "grid_template_columns": null,
            "grid_template_rows": null,
            "height": null,
            "justify_content": null,
            "justify_items": null,
            "left": null,
            "margin": null,
            "max_height": null,
            "max_width": null,
            "min_height": null,
            "min_width": null,
            "object_fit": null,
            "object_position": null,
            "order": null,
            "overflow": null,
            "overflow_x": null,
            "overflow_y": null,
            "padding": null,
            "right": null,
            "top": null,
            "visibility": null,
            "width": null
          }
        },
        "9b22289aa55141989b60618a8fc9c307": {
          "model_module": "@jupyter-widgets/controls",
          "model_name": "DescriptionStyleModel",
          "model_module_version": "1.5.0",
          "state": {
            "_model_module": "@jupyter-widgets/controls",
            "_model_module_version": "1.5.0",
            "_model_name": "DescriptionStyleModel",
            "_view_count": null,
            "_view_module": "@jupyter-widgets/base",
            "_view_module_version": "1.2.0",
            "_view_name": "StyleView",
            "description_width": ""
          }
        },
        "ba645eb2ffd64965b9030592ab2e39f2": {
          "model_module": "@jupyter-widgets/controls",
          "model_name": "HBoxModel",
          "model_module_version": "1.5.0",
          "state": {
            "_dom_classes": [],
            "_model_module": "@jupyter-widgets/controls",
            "_model_module_version": "1.5.0",
            "_model_name": "HBoxModel",
            "_view_count": null,
            "_view_module": "@jupyter-widgets/controls",
            "_view_module_version": "1.5.0",
            "_view_name": "HBoxView",
            "box_style": "",
            "children": [
              "IPY_MODEL_d09d7d89ab774d31b5537fc9c7c7d725",
              "IPY_MODEL_7afc4a1423b74ab9846e566afd786a07",
              "IPY_MODEL_8146560059ac40b995430f932174138b"
            ],
            "layout": "IPY_MODEL_aa77a1a035e0496e94b208fdc26d7a61"
          }
        },
        "d09d7d89ab774d31b5537fc9c7c7d725": {
          "model_module": "@jupyter-widgets/controls",
          "model_name": "HTMLModel",
          "model_module_version": "1.5.0",
          "state": {
            "_dom_classes": [],
            "_model_module": "@jupyter-widgets/controls",
            "_model_module_version": "1.5.0",
            "_model_name": "HTMLModel",
            "_view_count": null,
            "_view_module": "@jupyter-widgets/controls",
            "_view_module_version": "1.5.0",
            "_view_name": "HTMLView",
            "description": "",
            "description_tooltip": null,
            "layout": "IPY_MODEL_0794af43c79e4868b02768b27c74d2a5",
            "placeholder": "​",
            "style": "IPY_MODEL_2779febc459b4813b877a957efcbeb0e",
            "value": "Downloading (…)olve/main/vocab.json: 100%"
          }
        },
        "7afc4a1423b74ab9846e566afd786a07": {
          "model_module": "@jupyter-widgets/controls",
          "model_name": "FloatProgressModel",
          "model_module_version": "1.5.0",
          "state": {
            "_dom_classes": [],
            "_model_module": "@jupyter-widgets/controls",
            "_model_module_version": "1.5.0",
            "_model_name": "FloatProgressModel",
            "_view_count": null,
            "_view_module": "@jupyter-widgets/controls",
            "_view_module_version": "1.5.0",
            "_view_name": "ProgressView",
            "bar_style": "success",
            "description": "",
            "description_tooltip": null,
            "layout": "IPY_MODEL_072f282cb60f4fe6a17dbd369b08d569",
            "max": 1713123,
            "min": 0,
            "orientation": "horizontal",
            "style": "IPY_MODEL_9add2744b5754e34afa67ff0406d26cb",
            "value": 1713123
          }
        },
        "8146560059ac40b995430f932174138b": {
          "model_module": "@jupyter-widgets/controls",
          "model_name": "HTMLModel",
          "model_module_version": "1.5.0",
          "state": {
            "_dom_classes": [],
            "_model_module": "@jupyter-widgets/controls",
            "_model_module_version": "1.5.0",
            "_model_name": "HTMLModel",
            "_view_count": null,
            "_view_module": "@jupyter-widgets/controls",
            "_view_module_version": "1.5.0",
            "_view_name": "HTMLView",
            "description": "",
            "description_tooltip": null,
            "layout": "IPY_MODEL_6d012e14c42f4d9bb1f227d18567274c",
            "placeholder": "​",
            "style": "IPY_MODEL_ae8dcb422f714a94b17558655032d06b",
            "value": " 1.71M/1.71M [00:00&lt;00:00, 10.8MB/s]"
          }
        },
        "aa77a1a035e0496e94b208fdc26d7a61": {
          "model_module": "@jupyter-widgets/base",
          "model_name": "LayoutModel",
          "model_module_version": "1.2.0",
          "state": {
            "_model_module": "@jupyter-widgets/base",
            "_model_module_version": "1.2.0",
            "_model_name": "LayoutModel",
            "_view_count": null,
            "_view_module": "@jupyter-widgets/base",
            "_view_module_version": "1.2.0",
            "_view_name": "LayoutView",
            "align_content": null,
            "align_items": null,
            "align_self": null,
            "border": null,
            "bottom": null,
            "display": null,
            "flex": null,
            "flex_flow": null,
            "grid_area": null,
            "grid_auto_columns": null,
            "grid_auto_flow": null,
            "grid_auto_rows": null,
            "grid_column": null,
            "grid_gap": null,
            "grid_row": null,
            "grid_template_areas": null,
            "grid_template_columns": null,
            "grid_template_rows": null,
            "height": null,
            "justify_content": null,
            "justify_items": null,
            "left": null,
            "margin": null,
            "max_height": null,
            "max_width": null,
            "min_height": null,
            "min_width": null,
            "object_fit": null,
            "object_position": null,
            "order": null,
            "overflow": null,
            "overflow_x": null,
            "overflow_y": null,
            "padding": null,
            "right": null,
            "top": null,
            "visibility": null,
            "width": null
          }
        },
        "0794af43c79e4868b02768b27c74d2a5": {
          "model_module": "@jupyter-widgets/base",
          "model_name": "LayoutModel",
          "model_module_version": "1.2.0",
          "state": {
            "_model_module": "@jupyter-widgets/base",
            "_model_module_version": "1.2.0",
            "_model_name": "LayoutModel",
            "_view_count": null,
            "_view_module": "@jupyter-widgets/base",
            "_view_module_version": "1.2.0",
            "_view_name": "LayoutView",
            "align_content": null,
            "align_items": null,
            "align_self": null,
            "border": null,
            "bottom": null,
            "display": null,
            "flex": null,
            "flex_flow": null,
            "grid_area": null,
            "grid_auto_columns": null,
            "grid_auto_flow": null,
            "grid_auto_rows": null,
            "grid_column": null,
            "grid_gap": null,
            "grid_row": null,
            "grid_template_areas": null,
            "grid_template_columns": null,
            "grid_template_rows": null,
            "height": null,
            "justify_content": null,
            "justify_items": null,
            "left": null,
            "margin": null,
            "max_height": null,
            "max_width": null,
            "min_height": null,
            "min_width": null,
            "object_fit": null,
            "object_position": null,
            "order": null,
            "overflow": null,
            "overflow_x": null,
            "overflow_y": null,
            "padding": null,
            "right": null,
            "top": null,
            "visibility": null,
            "width": null
          }
        },
        "2779febc459b4813b877a957efcbeb0e": {
          "model_module": "@jupyter-widgets/controls",
          "model_name": "DescriptionStyleModel",
          "model_module_version": "1.5.0",
          "state": {
            "_model_module": "@jupyter-widgets/controls",
            "_model_module_version": "1.5.0",
            "_model_name": "DescriptionStyleModel",
            "_view_count": null,
            "_view_module": "@jupyter-widgets/base",
            "_view_module_version": "1.2.0",
            "_view_name": "StyleView",
            "description_width": ""
          }
        },
        "072f282cb60f4fe6a17dbd369b08d569": {
          "model_module": "@jupyter-widgets/base",
          "model_name": "LayoutModel",
          "model_module_version": "1.2.0",
          "state": {
            "_model_module": "@jupyter-widgets/base",
            "_model_module_version": "1.2.0",
            "_model_name": "LayoutModel",
            "_view_count": null,
            "_view_module": "@jupyter-widgets/base",
            "_view_module_version": "1.2.0",
            "_view_name": "LayoutView",
            "align_content": null,
            "align_items": null,
            "align_self": null,
            "border": null,
            "bottom": null,
            "display": null,
            "flex": null,
            "flex_flow": null,
            "grid_area": null,
            "grid_auto_columns": null,
            "grid_auto_flow": null,
            "grid_auto_rows": null,
            "grid_column": null,
            "grid_gap": null,
            "grid_row": null,
            "grid_template_areas": null,
            "grid_template_columns": null,
            "grid_template_rows": null,
            "height": null,
            "justify_content": null,
            "justify_items": null,
            "left": null,
            "margin": null,
            "max_height": null,
            "max_width": null,
            "min_height": null,
            "min_width": null,
            "object_fit": null,
            "object_position": null,
            "order": null,
            "overflow": null,
            "overflow_x": null,
            "overflow_y": null,
            "padding": null,
            "right": null,
            "top": null,
            "visibility": null,
            "width": null
          }
        },
        "9add2744b5754e34afa67ff0406d26cb": {
          "model_module": "@jupyter-widgets/controls",
          "model_name": "ProgressStyleModel",
          "model_module_version": "1.5.0",
          "state": {
            "_model_module": "@jupyter-widgets/controls",
            "_model_module_version": "1.5.0",
            "_model_name": "ProgressStyleModel",
            "_view_count": null,
            "_view_module": "@jupyter-widgets/base",
            "_view_module_version": "1.2.0",
            "_view_name": "StyleView",
            "bar_color": null,
            "description_width": ""
          }
        },
        "6d012e14c42f4d9bb1f227d18567274c": {
          "model_module": "@jupyter-widgets/base",
          "model_name": "LayoutModel",
          "model_module_version": "1.2.0",
          "state": {
            "_model_module": "@jupyter-widgets/base",
            "_model_module_version": "1.2.0",
            "_model_name": "LayoutModel",
            "_view_count": null,
            "_view_module": "@jupyter-widgets/base",
            "_view_module_version": "1.2.0",
            "_view_name": "LayoutView",
            "align_content": null,
            "align_items": null,
            "align_self": null,
            "border": null,
            "bottom": null,
            "display": null,
            "flex": null,
            "flex_flow": null,
            "grid_area": null,
            "grid_auto_columns": null,
            "grid_auto_flow": null,
            "grid_auto_rows": null,
            "grid_column": null,
            "grid_gap": null,
            "grid_row": null,
            "grid_template_areas": null,
            "grid_template_columns": null,
            "grid_template_rows": null,
            "height": null,
            "justify_content": null,
            "justify_items": null,
            "left": null,
            "margin": null,
            "max_height": null,
            "max_width": null,
            "min_height": null,
            "min_width": null,
            "object_fit": null,
            "object_position": null,
            "order": null,
            "overflow": null,
            "overflow_x": null,
            "overflow_y": null,
            "padding": null,
            "right": null,
            "top": null,
            "visibility": null,
            "width": null
          }
        },
        "ae8dcb422f714a94b17558655032d06b": {
          "model_module": "@jupyter-widgets/controls",
          "model_name": "DescriptionStyleModel",
          "model_module_version": "1.5.0",
          "state": {
            "_model_module": "@jupyter-widgets/controls",
            "_model_module_version": "1.5.0",
            "_model_name": "DescriptionStyleModel",
            "_view_count": null,
            "_view_module": "@jupyter-widgets/base",
            "_view_module_version": "1.2.0",
            "_view_name": "StyleView",
            "description_width": ""
          }
        },
        "9e941e3d046041dd88abc85b027dda7e": {
          "model_module": "@jupyter-widgets/controls",
          "model_name": "HBoxModel",
          "model_module_version": "1.5.0",
          "state": {
            "_dom_classes": [],
            "_model_module": "@jupyter-widgets/controls",
            "_model_module_version": "1.5.0",
            "_model_name": "HBoxModel",
            "_view_count": null,
            "_view_module": "@jupyter-widgets/controls",
            "_view_module_version": "1.5.0",
            "_view_name": "HBoxView",
            "box_style": "",
            "children": [
              "IPY_MODEL_9d605bbb012946c9b57304399a25962e",
              "IPY_MODEL_9893bf78114e472fb5262d8d862410d4",
              "IPY_MODEL_6ac98588d5d3432da196be986d139996"
            ],
            "layout": "IPY_MODEL_90f8f2daa5e544139c22b07f8bee015e"
          }
        },
        "9d605bbb012946c9b57304399a25962e": {
          "model_module": "@jupyter-widgets/controls",
          "model_name": "HTMLModel",
          "model_module_version": "1.5.0",
          "state": {
            "_dom_classes": [],
            "_model_module": "@jupyter-widgets/controls",
            "_model_module_version": "1.5.0",
            "_model_name": "HTMLModel",
            "_view_count": null,
            "_view_module": "@jupyter-widgets/controls",
            "_view_module_version": "1.5.0",
            "_view_name": "HTMLView",
            "description": "",
            "description_tooltip": null,
            "layout": "IPY_MODEL_cbd3b8c2e5a3498abad6983b299c1f81",
            "placeholder": "​",
            "style": "IPY_MODEL_b7f6c01589624ec2b8519147bd32f6c6",
            "value": "Downloading (…)olve/main/merges.txt: 100%"
          }
        },
        "9893bf78114e472fb5262d8d862410d4": {
          "model_module": "@jupyter-widgets/controls",
          "model_name": "FloatProgressModel",
          "model_module_version": "1.5.0",
          "state": {
            "_dom_classes": [],
            "_model_module": "@jupyter-widgets/controls",
            "_model_module_version": "1.5.0",
            "_model_name": "FloatProgressModel",
            "_view_count": null,
            "_view_module": "@jupyter-widgets/controls",
            "_view_module_version": "1.5.0",
            "_view_name": "ProgressView",
            "bar_style": "success",
            "description": "",
            "description_tooltip": null,
            "layout": "IPY_MODEL_9c0676502f3e4854a0459815a8585629",
            "max": 1270925,
            "min": 0,
            "orientation": "horizontal",
            "style": "IPY_MODEL_036e7c06686649d1b4525655f1398b30",
            "value": 1270925
          }
        },
        "6ac98588d5d3432da196be986d139996": {
          "model_module": "@jupyter-widgets/controls",
          "model_name": "HTMLModel",
          "model_module_version": "1.5.0",
          "state": {
            "_dom_classes": [],
            "_model_module": "@jupyter-widgets/controls",
            "_model_module_version": "1.5.0",
            "_model_name": "HTMLModel",
            "_view_count": null,
            "_view_module": "@jupyter-widgets/controls",
            "_view_module_version": "1.5.0",
            "_view_name": "HTMLView",
            "description": "",
            "description_tooltip": null,
            "layout": "IPY_MODEL_0c94e9fc5ca24884a2bbb8b9fa19c1e3",
            "placeholder": "​",
            "style": "IPY_MODEL_aff8172e18ac4d84aa66bb015f9ce739",
            "value": " 1.27M/1.27M [00:00&lt;00:00, 7.34MB/s]"
          }
        },
        "90f8f2daa5e544139c22b07f8bee015e": {
          "model_module": "@jupyter-widgets/base",
          "model_name": "LayoutModel",
          "model_module_version": "1.2.0",
          "state": {
            "_model_module": "@jupyter-widgets/base",
            "_model_module_version": "1.2.0",
            "_model_name": "LayoutModel",
            "_view_count": null,
            "_view_module": "@jupyter-widgets/base",
            "_view_module_version": "1.2.0",
            "_view_name": "LayoutView",
            "align_content": null,
            "align_items": null,
            "align_self": null,
            "border": null,
            "bottom": null,
            "display": null,
            "flex": null,
            "flex_flow": null,
            "grid_area": null,
            "grid_auto_columns": null,
            "grid_auto_flow": null,
            "grid_auto_rows": null,
            "grid_column": null,
            "grid_gap": null,
            "grid_row": null,
            "grid_template_areas": null,
            "grid_template_columns": null,
            "grid_template_rows": null,
            "height": null,
            "justify_content": null,
            "justify_items": null,
            "left": null,
            "margin": null,
            "max_height": null,
            "max_width": null,
            "min_height": null,
            "min_width": null,
            "object_fit": null,
            "object_position": null,
            "order": null,
            "overflow": null,
            "overflow_x": null,
            "overflow_y": null,
            "padding": null,
            "right": null,
            "top": null,
            "visibility": null,
            "width": null
          }
        },
        "cbd3b8c2e5a3498abad6983b299c1f81": {
          "model_module": "@jupyter-widgets/base",
          "model_name": "LayoutModel",
          "model_module_version": "1.2.0",
          "state": {
            "_model_module": "@jupyter-widgets/base",
            "_model_module_version": "1.2.0",
            "_model_name": "LayoutModel",
            "_view_count": null,
            "_view_module": "@jupyter-widgets/base",
            "_view_module_version": "1.2.0",
            "_view_name": "LayoutView",
            "align_content": null,
            "align_items": null,
            "align_self": null,
            "border": null,
            "bottom": null,
            "display": null,
            "flex": null,
            "flex_flow": null,
            "grid_area": null,
            "grid_auto_columns": null,
            "grid_auto_flow": null,
            "grid_auto_rows": null,
            "grid_column": null,
            "grid_gap": null,
            "grid_row": null,
            "grid_template_areas": null,
            "grid_template_columns": null,
            "grid_template_rows": null,
            "height": null,
            "justify_content": null,
            "justify_items": null,
            "left": null,
            "margin": null,
            "max_height": null,
            "max_width": null,
            "min_height": null,
            "min_width": null,
            "object_fit": null,
            "object_position": null,
            "order": null,
            "overflow": null,
            "overflow_x": null,
            "overflow_y": null,
            "padding": null,
            "right": null,
            "top": null,
            "visibility": null,
            "width": null
          }
        },
        "b7f6c01589624ec2b8519147bd32f6c6": {
          "model_module": "@jupyter-widgets/controls",
          "model_name": "DescriptionStyleModel",
          "model_module_version": "1.5.0",
          "state": {
            "_model_module": "@jupyter-widgets/controls",
            "_model_module_version": "1.5.0",
            "_model_name": "DescriptionStyleModel",
            "_view_count": null,
            "_view_module": "@jupyter-widgets/base",
            "_view_module_version": "1.2.0",
            "_view_name": "StyleView",
            "description_width": ""
          }
        },
        "9c0676502f3e4854a0459815a8585629": {
          "model_module": "@jupyter-widgets/base",
          "model_name": "LayoutModel",
          "model_module_version": "1.2.0",
          "state": {
            "_model_module": "@jupyter-widgets/base",
            "_model_module_version": "1.2.0",
            "_model_name": "LayoutModel",
            "_view_count": null,
            "_view_module": "@jupyter-widgets/base",
            "_view_module_version": "1.2.0",
            "_view_name": "LayoutView",
            "align_content": null,
            "align_items": null,
            "align_self": null,
            "border": null,
            "bottom": null,
            "display": null,
            "flex": null,
            "flex_flow": null,
            "grid_area": null,
            "grid_auto_columns": null,
            "grid_auto_flow": null,
            "grid_auto_rows": null,
            "grid_column": null,
            "grid_gap": null,
            "grid_row": null,
            "grid_template_areas": null,
            "grid_template_columns": null,
            "grid_template_rows": null,
            "height": null,
            "justify_content": null,
            "justify_items": null,
            "left": null,
            "margin": null,
            "max_height": null,
            "max_width": null,
            "min_height": null,
            "min_width": null,
            "object_fit": null,
            "object_position": null,
            "order": null,
            "overflow": null,
            "overflow_x": null,
            "overflow_y": null,
            "padding": null,
            "right": null,
            "top": null,
            "visibility": null,
            "width": null
          }
        },
        "036e7c06686649d1b4525655f1398b30": {
          "model_module": "@jupyter-widgets/controls",
          "model_name": "ProgressStyleModel",
          "model_module_version": "1.5.0",
          "state": {
            "_model_module": "@jupyter-widgets/controls",
            "_model_module_version": "1.5.0",
            "_model_name": "ProgressStyleModel",
            "_view_count": null,
            "_view_module": "@jupyter-widgets/base",
            "_view_module_version": "1.2.0",
            "_view_name": "StyleView",
            "bar_color": null,
            "description_width": ""
          }
        },
        "0c94e9fc5ca24884a2bbb8b9fa19c1e3": {
          "model_module": "@jupyter-widgets/base",
          "model_name": "LayoutModel",
          "model_module_version": "1.2.0",
          "state": {
            "_model_module": "@jupyter-widgets/base",
            "_model_module_version": "1.2.0",
            "_model_name": "LayoutModel",
            "_view_count": null,
            "_view_module": "@jupyter-widgets/base",
            "_view_module_version": "1.2.0",
            "_view_name": "LayoutView",
            "align_content": null,
            "align_items": null,
            "align_self": null,
            "border": null,
            "bottom": null,
            "display": null,
            "flex": null,
            "flex_flow": null,
            "grid_area": null,
            "grid_auto_columns": null,
            "grid_auto_flow": null,
            "grid_auto_rows": null,
            "grid_column": null,
            "grid_gap": null,
            "grid_row": null,
            "grid_template_areas": null,
            "grid_template_columns": null,
            "grid_template_rows": null,
            "height": null,
            "justify_content": null,
            "justify_items": null,
            "left": null,
            "margin": null,
            "max_height": null,
            "max_width": null,
            "min_height": null,
            "min_width": null,
            "object_fit": null,
            "object_position": null,
            "order": null,
            "overflow": null,
            "overflow_x": null,
            "overflow_y": null,
            "padding": null,
            "right": null,
            "top": null,
            "visibility": null,
            "width": null
          }
        },
        "aff8172e18ac4d84aa66bb015f9ce739": {
          "model_module": "@jupyter-widgets/controls",
          "model_name": "DescriptionStyleModel",
          "model_module_version": "1.5.0",
          "state": {
            "_model_module": "@jupyter-widgets/controls",
            "_model_module_version": "1.5.0",
            "_model_name": "DescriptionStyleModel",
            "_view_count": null,
            "_view_module": "@jupyter-widgets/base",
            "_view_module_version": "1.2.0",
            "_view_name": "StyleView",
            "description_width": ""
          }
        },
        "c7c26ea49e6d4180abd2b4194f630054": {
          "model_module": "@jupyter-widgets/controls",
          "model_name": "HBoxModel",
          "model_module_version": "1.5.0",
          "state": {
            "_dom_classes": [],
            "_model_module": "@jupyter-widgets/controls",
            "_model_module_version": "1.5.0",
            "_model_name": "HBoxModel",
            "_view_count": null,
            "_view_module": "@jupyter-widgets/controls",
            "_view_module_version": "1.5.0",
            "_view_name": "HBoxView",
            "box_style": "",
            "children": [
              "IPY_MODEL_499207c47bfc41869ab446a3ba68e1df",
              "IPY_MODEL_47b2740caee2424182a297f2317a5c4c",
              "IPY_MODEL_b18b99a69fc641a28981b3b9a3aa2011"
            ],
            "layout": "IPY_MODEL_f1393467f48647938e2dbd0ab4b589fb"
          }
        },
        "499207c47bfc41869ab446a3ba68e1df": {
          "model_module": "@jupyter-widgets/controls",
          "model_name": "HTMLModel",
          "model_module_version": "1.5.0",
          "state": {
            "_dom_classes": [],
            "_model_module": "@jupyter-widgets/controls",
            "_model_module_version": "1.5.0",
            "_model_name": "HTMLModel",
            "_view_count": null,
            "_view_module": "@jupyter-widgets/controls",
            "_view_module_version": "1.5.0",
            "_view_name": "HTMLView",
            "description": "",
            "description_tooltip": null,
            "layout": "IPY_MODEL_bf62f87127c648ad875783a04ff56783",
            "placeholder": "​",
            "style": "IPY_MODEL_b11f53395ffb4c0bbcfe1a202e5a689e",
            "value": "Downloading (…)lve/main/config.json: 100%"
          }
        },
        "47b2740caee2424182a297f2317a5c4c": {
          "model_module": "@jupyter-widgets/controls",
          "model_name": "FloatProgressModel",
          "model_module_version": "1.5.0",
          "state": {
            "_dom_classes": [],
            "_model_module": "@jupyter-widgets/controls",
            "_model_module_version": "1.5.0",
            "_model_name": "FloatProgressModel",
            "_view_count": null,
            "_view_module": "@jupyter-widgets/controls",
            "_view_module_version": "1.5.0",
            "_view_name": "ProgressView",
            "bar_style": "success",
            "description": "",
            "description_tooltip": null,
            "layout": "IPY_MODEL_7a221ed16e9945e288552a1cb53b7dd9",
            "max": 863,
            "min": 0,
            "orientation": "horizontal",
            "style": "IPY_MODEL_1f992f202b034638a5284fe95d058e60",
            "value": 863
          }
        },
        "b18b99a69fc641a28981b3b9a3aa2011": {
          "model_module": "@jupyter-widgets/controls",
          "model_name": "HTMLModel",
          "model_module_version": "1.5.0",
          "state": {
            "_dom_classes": [],
            "_model_module": "@jupyter-widgets/controls",
            "_model_module_version": "1.5.0",
            "_model_name": "HTMLModel",
            "_view_count": null,
            "_view_module": "@jupyter-widgets/controls",
            "_view_module_version": "1.5.0",
            "_view_name": "HTMLView",
            "description": "",
            "description_tooltip": null,
            "layout": "IPY_MODEL_365a2215ab704ba7b4c5797b5e5197bb",
            "placeholder": "​",
            "style": "IPY_MODEL_37dda3d1d140489cb0eb3f87a1fa216e",
            "value": " 863/863 [00:00&lt;00:00, 12.1kB/s]"
          }
        },
        "f1393467f48647938e2dbd0ab4b589fb": {
          "model_module": "@jupyter-widgets/base",
          "model_name": "LayoutModel",
          "model_module_version": "1.2.0",
          "state": {
            "_model_module": "@jupyter-widgets/base",
            "_model_module_version": "1.2.0",
            "_model_name": "LayoutModel",
            "_view_count": null,
            "_view_module": "@jupyter-widgets/base",
            "_view_module_version": "1.2.0",
            "_view_name": "LayoutView",
            "align_content": null,
            "align_items": null,
            "align_self": null,
            "border": null,
            "bottom": null,
            "display": null,
            "flex": null,
            "flex_flow": null,
            "grid_area": null,
            "grid_auto_columns": null,
            "grid_auto_flow": null,
            "grid_auto_rows": null,
            "grid_column": null,
            "grid_gap": null,
            "grid_row": null,
            "grid_template_areas": null,
            "grid_template_columns": null,
            "grid_template_rows": null,
            "height": null,
            "justify_content": null,
            "justify_items": null,
            "left": null,
            "margin": null,
            "max_height": null,
            "max_width": null,
            "min_height": null,
            "min_width": null,
            "object_fit": null,
            "object_position": null,
            "order": null,
            "overflow": null,
            "overflow_x": null,
            "overflow_y": null,
            "padding": null,
            "right": null,
            "top": null,
            "visibility": null,
            "width": null
          }
        },
        "bf62f87127c648ad875783a04ff56783": {
          "model_module": "@jupyter-widgets/base",
          "model_name": "LayoutModel",
          "model_module_version": "1.2.0",
          "state": {
            "_model_module": "@jupyter-widgets/base",
            "_model_module_version": "1.2.0",
            "_model_name": "LayoutModel",
            "_view_count": null,
            "_view_module": "@jupyter-widgets/base",
            "_view_module_version": "1.2.0",
            "_view_name": "LayoutView",
            "align_content": null,
            "align_items": null,
            "align_self": null,
            "border": null,
            "bottom": null,
            "display": null,
            "flex": null,
            "flex_flow": null,
            "grid_area": null,
            "grid_auto_columns": null,
            "grid_auto_flow": null,
            "grid_auto_rows": null,
            "grid_column": null,
            "grid_gap": null,
            "grid_row": null,
            "grid_template_areas": null,
            "grid_template_columns": null,
            "grid_template_rows": null,
            "height": null,
            "justify_content": null,
            "justify_items": null,
            "left": null,
            "margin": null,
            "max_height": null,
            "max_width": null,
            "min_height": null,
            "min_width": null,
            "object_fit": null,
            "object_position": null,
            "order": null,
            "overflow": null,
            "overflow_x": null,
            "overflow_y": null,
            "padding": null,
            "right": null,
            "top": null,
            "visibility": null,
            "width": null
          }
        },
        "b11f53395ffb4c0bbcfe1a202e5a689e": {
          "model_module": "@jupyter-widgets/controls",
          "model_name": "DescriptionStyleModel",
          "model_module_version": "1.5.0",
          "state": {
            "_model_module": "@jupyter-widgets/controls",
            "_model_module_version": "1.5.0",
            "_model_name": "DescriptionStyleModel",
            "_view_count": null,
            "_view_module": "@jupyter-widgets/base",
            "_view_module_version": "1.2.0",
            "_view_name": "StyleView",
            "description_width": ""
          }
        },
        "7a221ed16e9945e288552a1cb53b7dd9": {
          "model_module": "@jupyter-widgets/base",
          "model_name": "LayoutModel",
          "model_module_version": "1.2.0",
          "state": {
            "_model_module": "@jupyter-widgets/base",
            "_model_module_version": "1.2.0",
            "_model_name": "LayoutModel",
            "_view_count": null,
            "_view_module": "@jupyter-widgets/base",
            "_view_module_version": "1.2.0",
            "_view_name": "LayoutView",
            "align_content": null,
            "align_items": null,
            "align_self": null,
            "border": null,
            "bottom": null,
            "display": null,
            "flex": null,
            "flex_flow": null,
            "grid_area": null,
            "grid_auto_columns": null,
            "grid_auto_flow": null,
            "grid_auto_rows": null,
            "grid_column": null,
            "grid_gap": null,
            "grid_row": null,
            "grid_template_areas": null,
            "grid_template_columns": null,
            "grid_template_rows": null,
            "height": null,
            "justify_content": null,
            "justify_items": null,
            "left": null,
            "margin": null,
            "max_height": null,
            "max_width": null,
            "min_height": null,
            "min_width": null,
            "object_fit": null,
            "object_position": null,
            "order": null,
            "overflow": null,
            "overflow_x": null,
            "overflow_y": null,
            "padding": null,
            "right": null,
            "top": null,
            "visibility": null,
            "width": null
          }
        },
        "1f992f202b034638a5284fe95d058e60": {
          "model_module": "@jupyter-widgets/controls",
          "model_name": "ProgressStyleModel",
          "model_module_version": "1.5.0",
          "state": {
            "_model_module": "@jupyter-widgets/controls",
            "_model_module_version": "1.5.0",
            "_model_name": "ProgressStyleModel",
            "_view_count": null,
            "_view_module": "@jupyter-widgets/base",
            "_view_module_version": "1.2.0",
            "_view_name": "StyleView",
            "bar_color": null,
            "description_width": ""
          }
        },
        "365a2215ab704ba7b4c5797b5e5197bb": {
          "model_module": "@jupyter-widgets/base",
          "model_name": "LayoutModel",
          "model_module_version": "1.2.0",
          "state": {
            "_model_module": "@jupyter-widgets/base",
            "_model_module_version": "1.2.0",
            "_model_name": "LayoutModel",
            "_view_count": null,
            "_view_module": "@jupyter-widgets/base",
            "_view_module_version": "1.2.0",
            "_view_name": "LayoutView",
            "align_content": null,
            "align_items": null,
            "align_self": null,
            "border": null,
            "bottom": null,
            "display": null,
            "flex": null,
            "flex_flow": null,
            "grid_area": null,
            "grid_auto_columns": null,
            "grid_auto_flow": null,
            "grid_auto_rows": null,
            "grid_column": null,
            "grid_gap": null,
            "grid_row": null,
            "grid_template_areas": null,
            "grid_template_columns": null,
            "grid_template_rows": null,
            "height": null,
            "justify_content": null,
            "justify_items": null,
            "left": null,
            "margin": null,
            "max_height": null,
            "max_width": null,
            "min_height": null,
            "min_width": null,
            "object_fit": null,
            "object_position": null,
            "order": null,
            "overflow": null,
            "overflow_x": null,
            "overflow_y": null,
            "padding": null,
            "right": null,
            "top": null,
            "visibility": null,
            "width": null
          }
        },
        "37dda3d1d140489cb0eb3f87a1fa216e": {
          "model_module": "@jupyter-widgets/controls",
          "model_name": "DescriptionStyleModel",
          "model_module_version": "1.5.0",
          "state": {
            "_model_module": "@jupyter-widgets/controls",
            "_model_module_version": "1.5.0",
            "_model_name": "DescriptionStyleModel",
            "_view_count": null,
            "_view_module": "@jupyter-widgets/base",
            "_view_module_version": "1.2.0",
            "_view_name": "StyleView",
            "description_width": ""
          }
        },
        "a2bc6e983133492188cf160cba083d0e": {
          "model_module": "@jupyter-widgets/controls",
          "model_name": "HBoxModel",
          "model_module_version": "1.5.0",
          "state": {
            "_dom_classes": [],
            "_model_module": "@jupyter-widgets/controls",
            "_model_module_version": "1.5.0",
            "_model_name": "HBoxModel",
            "_view_count": null,
            "_view_module": "@jupyter-widgets/controls",
            "_view_module_version": "1.5.0",
            "_view_name": "HBoxView",
            "box_style": "",
            "children": [
              "IPY_MODEL_fe9f11ba9aee4d0badea3ced79e5b045",
              "IPY_MODEL_ad50bb1380f648d9ac38dcef7690bf8a",
              "IPY_MODEL_59e85d425c9741b09727a3384bfb3a3f"
            ],
            "layout": "IPY_MODEL_b7532e6ac8d84648be5e889ec5273f96"
          }
        },
        "fe9f11ba9aee4d0badea3ced79e5b045": {
          "model_module": "@jupyter-widgets/controls",
          "model_name": "HTMLModel",
          "model_module_version": "1.5.0",
          "state": {
            "_dom_classes": [],
            "_model_module": "@jupyter-widgets/controls",
            "_model_module_version": "1.5.0",
            "_model_name": "HTMLModel",
            "_view_count": null,
            "_view_module": "@jupyter-widgets/controls",
            "_view_module_version": "1.5.0",
            "_view_name": "HTMLView",
            "description": "",
            "description_tooltip": null,
            "layout": "IPY_MODEL_8615f88534d84c3da52ad395559b03ae",
            "placeholder": "​",
            "style": "IPY_MODEL_183b90992e0148ae8506f6f62822cd21",
            "value": "Downloading pytorch_model.bin: 100%"
          }
        },
        "ad50bb1380f648d9ac38dcef7690bf8a": {
          "model_module": "@jupyter-widgets/controls",
          "model_name": "FloatProgressModel",
          "model_module_version": "1.5.0",
          "state": {
            "_dom_classes": [],
            "_model_module": "@jupyter-widgets/controls",
            "_model_module_version": "1.5.0",
            "_model_name": "FloatProgressModel",
            "_view_count": null,
            "_view_module": "@jupyter-widgets/controls",
            "_view_module_version": "1.5.0",
            "_view_name": "ProgressView",
            "bar_style": "success",
            "description": "",
            "description_tooltip": null,
            "layout": "IPY_MODEL_13e80b201a644ac8986e4fe7fcebd52d",
            "max": 551313981,
            "min": 0,
            "orientation": "horizontal",
            "style": "IPY_MODEL_1905c5017b984672b6123742951c33a3",
            "value": 551313981
          }
        },
        "59e85d425c9741b09727a3384bfb3a3f": {
          "model_module": "@jupyter-widgets/controls",
          "model_name": "HTMLModel",
          "model_module_version": "1.5.0",
          "state": {
            "_dom_classes": [],
            "_model_module": "@jupyter-widgets/controls",
            "_model_module_version": "1.5.0",
            "_model_name": "HTMLModel",
            "_view_count": null,
            "_view_module": "@jupyter-widgets/controls",
            "_view_module_version": "1.5.0",
            "_view_name": "HTMLView",
            "description": "",
            "description_tooltip": null,
            "layout": "IPY_MODEL_559a2de472d4480e8d3cfd05172ff2aa",
            "placeholder": "​",
            "style": "IPY_MODEL_f1fab293569b4e19bfee41155453a560",
            "value": " 551M/551M [00:09&lt;00:00, 73.5MB/s]"
          }
        },
        "b7532e6ac8d84648be5e889ec5273f96": {
          "model_module": "@jupyter-widgets/base",
          "model_name": "LayoutModel",
          "model_module_version": "1.2.0",
          "state": {
            "_model_module": "@jupyter-widgets/base",
            "_model_module_version": "1.2.0",
            "_model_name": "LayoutModel",
            "_view_count": null,
            "_view_module": "@jupyter-widgets/base",
            "_view_module_version": "1.2.0",
            "_view_name": "LayoutView",
            "align_content": null,
            "align_items": null,
            "align_self": null,
            "border": null,
            "bottom": null,
            "display": null,
            "flex": null,
            "flex_flow": null,
            "grid_area": null,
            "grid_auto_columns": null,
            "grid_auto_flow": null,
            "grid_auto_rows": null,
            "grid_column": null,
            "grid_gap": null,
            "grid_row": null,
            "grid_template_areas": null,
            "grid_template_columns": null,
            "grid_template_rows": null,
            "height": null,
            "justify_content": null,
            "justify_items": null,
            "left": null,
            "margin": null,
            "max_height": null,
            "max_width": null,
            "min_height": null,
            "min_width": null,
            "object_fit": null,
            "object_position": null,
            "order": null,
            "overflow": null,
            "overflow_x": null,
            "overflow_y": null,
            "padding": null,
            "right": null,
            "top": null,
            "visibility": null,
            "width": null
          }
        },
        "8615f88534d84c3da52ad395559b03ae": {
          "model_module": "@jupyter-widgets/base",
          "model_name": "LayoutModel",
          "model_module_version": "1.2.0",
          "state": {
            "_model_module": "@jupyter-widgets/base",
            "_model_module_version": "1.2.0",
            "_model_name": "LayoutModel",
            "_view_count": null,
            "_view_module": "@jupyter-widgets/base",
            "_view_module_version": "1.2.0",
            "_view_name": "LayoutView",
            "align_content": null,
            "align_items": null,
            "align_self": null,
            "border": null,
            "bottom": null,
            "display": null,
            "flex": null,
            "flex_flow": null,
            "grid_area": null,
            "grid_auto_columns": null,
            "grid_auto_flow": null,
            "grid_auto_rows": null,
            "grid_column": null,
            "grid_gap": null,
            "grid_row": null,
            "grid_template_areas": null,
            "grid_template_columns": null,
            "grid_template_rows": null,
            "height": null,
            "justify_content": null,
            "justify_items": null,
            "left": null,
            "margin": null,
            "max_height": null,
            "max_width": null,
            "min_height": null,
            "min_width": null,
            "object_fit": null,
            "object_position": null,
            "order": null,
            "overflow": null,
            "overflow_x": null,
            "overflow_y": null,
            "padding": null,
            "right": null,
            "top": null,
            "visibility": null,
            "width": null
          }
        },
        "183b90992e0148ae8506f6f62822cd21": {
          "model_module": "@jupyter-widgets/controls",
          "model_name": "DescriptionStyleModel",
          "model_module_version": "1.5.0",
          "state": {
            "_model_module": "@jupyter-widgets/controls",
            "_model_module_version": "1.5.0",
            "_model_name": "DescriptionStyleModel",
            "_view_count": null,
            "_view_module": "@jupyter-widgets/base",
            "_view_module_version": "1.2.0",
            "_view_name": "StyleView",
            "description_width": ""
          }
        },
        "13e80b201a644ac8986e4fe7fcebd52d": {
          "model_module": "@jupyter-widgets/base",
          "model_name": "LayoutModel",
          "model_module_version": "1.2.0",
          "state": {
            "_model_module": "@jupyter-widgets/base",
            "_model_module_version": "1.2.0",
            "_model_name": "LayoutModel",
            "_view_count": null,
            "_view_module": "@jupyter-widgets/base",
            "_view_module_version": "1.2.0",
            "_view_name": "LayoutView",
            "align_content": null,
            "align_items": null,
            "align_self": null,
            "border": null,
            "bottom": null,
            "display": null,
            "flex": null,
            "flex_flow": null,
            "grid_area": null,
            "grid_auto_columns": null,
            "grid_auto_flow": null,
            "grid_auto_rows": null,
            "grid_column": null,
            "grid_gap": null,
            "grid_row": null,
            "grid_template_areas": null,
            "grid_template_columns": null,
            "grid_template_rows": null,
            "height": null,
            "justify_content": null,
            "justify_items": null,
            "left": null,
            "margin": null,
            "max_height": null,
            "max_width": null,
            "min_height": null,
            "min_width": null,
            "object_fit": null,
            "object_position": null,
            "order": null,
            "overflow": null,
            "overflow_x": null,
            "overflow_y": null,
            "padding": null,
            "right": null,
            "top": null,
            "visibility": null,
            "width": null
          }
        },
        "1905c5017b984672b6123742951c33a3": {
          "model_module": "@jupyter-widgets/controls",
          "model_name": "ProgressStyleModel",
          "model_module_version": "1.5.0",
          "state": {
            "_model_module": "@jupyter-widgets/controls",
            "_model_module_version": "1.5.0",
            "_model_name": "ProgressStyleModel",
            "_view_count": null,
            "_view_module": "@jupyter-widgets/base",
            "_view_module_version": "1.2.0",
            "_view_name": "StyleView",
            "bar_color": null,
            "description_width": ""
          }
        },
        "559a2de472d4480e8d3cfd05172ff2aa": {
          "model_module": "@jupyter-widgets/base",
          "model_name": "LayoutModel",
          "model_module_version": "1.2.0",
          "state": {
            "_model_module": "@jupyter-widgets/base",
            "_model_module_version": "1.2.0",
            "_model_name": "LayoutModel",
            "_view_count": null,
            "_view_module": "@jupyter-widgets/base",
            "_view_module_version": "1.2.0",
            "_view_name": "LayoutView",
            "align_content": null,
            "align_items": null,
            "align_self": null,
            "border": null,
            "bottom": null,
            "display": null,
            "flex": null,
            "flex_flow": null,
            "grid_area": null,
            "grid_auto_columns": null,
            "grid_auto_flow": null,
            "grid_auto_rows": null,
            "grid_column": null,
            "grid_gap": null,
            "grid_row": null,
            "grid_template_areas": null,
            "grid_template_columns": null,
            "grid_template_rows": null,
            "height": null,
            "justify_content": null,
            "justify_items": null,
            "left": null,
            "margin": null,
            "max_height": null,
            "max_width": null,
            "min_height": null,
            "min_width": null,
            "object_fit": null,
            "object_position": null,
            "order": null,
            "overflow": null,
            "overflow_x": null,
            "overflow_y": null,
            "padding": null,
            "right": null,
            "top": null,
            "visibility": null,
            "width": null
          }
        },
        "f1fab293569b4e19bfee41155453a560": {
          "model_module": "@jupyter-widgets/controls",
          "model_name": "DescriptionStyleModel",
          "model_module_version": "1.5.0",
          "state": {
            "_model_module": "@jupyter-widgets/controls",
            "_model_module_version": "1.5.0",
            "_model_name": "DescriptionStyleModel",
            "_view_count": null,
            "_view_module": "@jupyter-widgets/base",
            "_view_module_version": "1.2.0",
            "_view_name": "StyleView",
            "description_width": ""
          }
        }
      }
    }
  },
  "cells": [
    {
      "cell_type": "markdown",
      "metadata": {
        "id": "view-in-github",
        "colab_type": "text"
      },
      "source": [
        "<a href=\"https://colab.research.google.com/github/Athugodage/RuLawSimplification/blob/main/GPT/evaluate_GPT.ipynb\" target=\"_parent\"><img src=\"https://colab.research.google.com/assets/colab-badge.svg\" alt=\"Open In Colab\"/></a>"
      ]
    },
    {
      "cell_type": "code",
      "source": [
        "!pip install transformers"
      ],
      "metadata": {
        "colab": {
          "base_uri": "https://localhost:8080/"
        },
        "id": "PXsePG4c0bLy",
        "outputId": "03f945d0-ea70-4bcf-8162-037c641b9170"
      },
      "execution_count": 1,
      "outputs": [
        {
          "output_type": "stream",
          "name": "stdout",
          "text": [
            "Looking in indexes: https://pypi.org/simple, https://us-python.pkg.dev/colab-wheels/public/simple/\n",
            "Collecting transformers\n",
            "  Downloading transformers-4.27.2-py3-none-any.whl (6.8 MB)\n",
            "\u001b[2K     \u001b[90m━━━━━━━━━━━━━━━━━━━━━━━━━━━━━━━━━━━━━━━━\u001b[0m \u001b[32m6.8/6.8 MB\u001b[0m \u001b[31m34.5 MB/s\u001b[0m eta \u001b[36m0:00:00\u001b[0m\n",
            "\u001b[?25hRequirement already satisfied: tqdm>=4.27 in /usr/local/lib/python3.9/dist-packages (from transformers) (4.65.0)\n",
            "Collecting huggingface-hub<1.0,>=0.11.0\n",
            "  Downloading huggingface_hub-0.13.3-py3-none-any.whl (199 kB)\n",
            "\u001b[2K     \u001b[90m━━━━━━━━━━━━━━━━━━━━━━━━━━━━━━━━━━━━━━\u001b[0m \u001b[32m199.8/199.8 KB\u001b[0m \u001b[31m10.2 MB/s\u001b[0m eta \u001b[36m0:00:00\u001b[0m\n",
            "\u001b[?25hRequirement already satisfied: numpy>=1.17 in /usr/local/lib/python3.9/dist-packages (from transformers) (1.22.4)\n",
            "Requirement already satisfied: filelock in /usr/local/lib/python3.9/dist-packages (from transformers) (3.10.0)\n",
            "Collecting tokenizers!=0.11.3,<0.14,>=0.11.1\n",
            "  Downloading tokenizers-0.13.2-cp39-cp39-manylinux_2_17_x86_64.manylinux2014_x86_64.whl (7.6 MB)\n",
            "\u001b[2K     \u001b[90m━━━━━━━━━━━━━━━━━━━━━━━━━━━━━━━━━━━━━━━━\u001b[0m \u001b[32m7.6/7.6 MB\u001b[0m \u001b[31m41.5 MB/s\u001b[0m eta \u001b[36m0:00:00\u001b[0m\n",
            "\u001b[?25hRequirement already satisfied: packaging>=20.0 in /usr/local/lib/python3.9/dist-packages (from transformers) (23.0)\n",
            "Requirement already satisfied: requests in /usr/local/lib/python3.9/dist-packages (from transformers) (2.27.1)\n",
            "Requirement already satisfied: regex!=2019.12.17 in /usr/local/lib/python3.9/dist-packages (from transformers) (2022.10.31)\n",
            "Requirement already satisfied: pyyaml>=5.1 in /usr/local/lib/python3.9/dist-packages (from transformers) (6.0)\n",
            "Requirement already satisfied: typing-extensions>=3.7.4.3 in /usr/local/lib/python3.9/dist-packages (from huggingface-hub<1.0,>=0.11.0->transformers) (4.5.0)\n",
            "Requirement already satisfied: idna<4,>=2.5 in /usr/local/lib/python3.9/dist-packages (from requests->transformers) (3.4)\n",
            "Requirement already satisfied: charset-normalizer~=2.0.0 in /usr/local/lib/python3.9/dist-packages (from requests->transformers) (2.0.12)\n",
            "Requirement already satisfied: urllib3<1.27,>=1.21.1 in /usr/local/lib/python3.9/dist-packages (from requests->transformers) (1.26.15)\n",
            "Requirement already satisfied: certifi>=2017.4.17 in /usr/local/lib/python3.9/dist-packages (from requests->transformers) (2022.12.7)\n",
            "Installing collected packages: tokenizers, huggingface-hub, transformers\n",
            "Successfully installed huggingface-hub-0.13.3 tokenizers-0.13.2 transformers-4.27.2\n"
          ]
        }
      ]
    },
    {
      "cell_type": "code",
      "source": [
        "!pip install rouge_score"
      ],
      "metadata": {
        "colab": {
          "base_uri": "https://localhost:8080/"
        },
        "id": "LjxtR8tWdmNu",
        "outputId": "e597e531-32e3-4c3f-8f98-3e2da89cc6f4"
      },
      "execution_count": 52,
      "outputs": [
        {
          "output_type": "stream",
          "name": "stdout",
          "text": [
            "Looking in indexes: https://pypi.org/simple, https://us-python.pkg.dev/colab-wheels/public/simple/\n",
            "Collecting rouge_score\n",
            "  Downloading rouge_score-0.1.2.tar.gz (17 kB)\n",
            "  Preparing metadata (setup.py) ... \u001b[?25l\u001b[?25hdone\n",
            "Requirement already satisfied: absl-py in /usr/local/lib/python3.9/dist-packages (from rouge_score) (1.4.0)\n",
            "Requirement already satisfied: nltk in /usr/local/lib/python3.9/dist-packages (from rouge_score) (3.8.1)\n",
            "Requirement already satisfied: numpy in /usr/local/lib/python3.9/dist-packages (from rouge_score) (1.22.4)\n",
            "Requirement already satisfied: six>=1.14.0 in /usr/local/lib/python3.9/dist-packages (from rouge_score) (1.16.0)\n",
            "Requirement already satisfied: click in /usr/local/lib/python3.9/dist-packages (from nltk->rouge_score) (8.1.3)\n",
            "Requirement already satisfied: tqdm in /usr/local/lib/python3.9/dist-packages (from nltk->rouge_score) (4.65.0)\n",
            "Requirement already satisfied: joblib in /usr/local/lib/python3.9/dist-packages (from nltk->rouge_score) (1.1.1)\n",
            "Requirement already satisfied: regex>=2021.8.3 in /usr/local/lib/python3.9/dist-packages (from nltk->rouge_score) (2022.10.31)\n",
            "Building wheels for collected packages: rouge_score\n",
            "  Building wheel for rouge_score (setup.py) ... \u001b[?25l\u001b[?25hdone\n",
            "  Created wheel for rouge_score: filename=rouge_score-0.1.2-py3-none-any.whl size=24954 sha256=034091ca263bef6435c68701119be2d38e73cae9940c33af49210a281764c425\n",
            "  Stored in directory: /root/.cache/pip/wheels/9b/3d/39/09558097d3119ca0a4d462df68f22c6f3c1b345ac63a09b86e\n",
            "Successfully built rouge_score\n",
            "Installing collected packages: rouge_score\n",
            "Successfully installed rouge_score-0.1.2\n"
          ]
        }
      ]
    },
    {
      "cell_type": "code",
      "source": [
        "!pip install evaluate"
      ],
      "metadata": {
        "colab": {
          "base_uri": "https://localhost:8080/"
        },
        "id": "kHa2gOIEEKQo",
        "outputId": "9adffcb2-4120-4e74-e00b-067a83a3d0fe"
      },
      "execution_count": 18,
      "outputs": [
        {
          "output_type": "stream",
          "name": "stdout",
          "text": [
            "Looking in indexes: https://pypi.org/simple, https://us-python.pkg.dev/colab-wheels/public/simple/\n",
            "Collecting evaluate\n",
            "  Downloading evaluate-0.4.0-py3-none-any.whl (81 kB)\n",
            "\u001b[2K     \u001b[90m━━━━━━━━━━━━━━━━━━━━━━━━━━━━━━━━━━━━━━━━\u001b[0m \u001b[32m81.4/81.4 KB\u001b[0m \u001b[31m2.7 MB/s\u001b[0m eta \u001b[36m0:00:00\u001b[0m\n",
            "\u001b[?25hCollecting datasets>=2.0.0\n",
            "  Downloading datasets-2.10.1-py3-none-any.whl (469 kB)\n",
            "\u001b[2K     \u001b[90m━━━━━━━━━━━━━━━━━━━━━━━━━━━━━━━━━━━━━━\u001b[0m \u001b[32m469.0/469.0 KB\u001b[0m \u001b[31m19.8 MB/s\u001b[0m eta \u001b[36m0:00:00\u001b[0m\n",
            "\u001b[?25hRequirement already satisfied: huggingface-hub>=0.7.0 in /usr/local/lib/python3.9/dist-packages (from evaluate) (0.13.3)\n",
            "Collecting xxhash\n",
            "  Downloading xxhash-3.2.0-cp39-cp39-manylinux_2_17_x86_64.manylinux2014_x86_64.whl (212 kB)\n",
            "\u001b[2K     \u001b[90m━━━━━━━━━━━━━━━━━━━━━━━━━━━━━━━━━━━━━━\u001b[0m \u001b[32m212.2/212.2 KB\u001b[0m \u001b[31m15.5 MB/s\u001b[0m eta \u001b[36m0:00:00\u001b[0m\n",
            "\u001b[?25hCollecting responses<0.19\n",
            "  Downloading responses-0.18.0-py3-none-any.whl (38 kB)\n",
            "Requirement already satisfied: numpy>=1.17 in /usr/local/lib/python3.9/dist-packages (from evaluate) (1.22.4)\n",
            "Requirement already satisfied: requests>=2.19.0 in /usr/local/lib/python3.9/dist-packages (from evaluate) (2.27.1)\n",
            "Collecting multiprocess\n",
            "  Downloading multiprocess-0.70.14-py39-none-any.whl (132 kB)\n",
            "\u001b[2K     \u001b[90m━━━━━━━━━━━━━━━━━━━━━━━━━━━━━━━━━━━━━━━\u001b[0m \u001b[32m132.9/132.9 KB\u001b[0m \u001b[31m9.7 MB/s\u001b[0m eta \u001b[36m0:00:00\u001b[0m\n",
            "\u001b[?25hCollecting dill\n",
            "  Downloading dill-0.3.6-py3-none-any.whl (110 kB)\n",
            "\u001b[2K     \u001b[90m━━━━━━━━━━━━━━━━━━━━━━━━━━━━━━━━━━━━━━\u001b[0m \u001b[32m110.5/110.5 KB\u001b[0m \u001b[31m10.5 MB/s\u001b[0m eta \u001b[36m0:00:00\u001b[0m\n",
            "\u001b[?25hRequirement already satisfied: fsspec[http]>=2021.05.0 in /usr/local/lib/python3.9/dist-packages (from evaluate) (2023.3.0)\n",
            "Requirement already satisfied: packaging in /usr/local/lib/python3.9/dist-packages (from evaluate) (23.0)\n",
            "Requirement already satisfied: tqdm>=4.62.1 in /usr/local/lib/python3.9/dist-packages (from evaluate) (4.65.0)\n",
            "Requirement already satisfied: pandas in /usr/local/lib/python3.9/dist-packages (from evaluate) (1.4.4)\n",
            "Requirement already satisfied: pyyaml>=5.1 in /usr/local/lib/python3.9/dist-packages (from datasets>=2.0.0->evaluate) (6.0)\n",
            "Requirement already satisfied: pyarrow>=6.0.0 in /usr/local/lib/python3.9/dist-packages (from datasets>=2.0.0->evaluate) (9.0.0)\n",
            "Collecting aiohttp\n",
            "  Downloading aiohttp-3.8.4-cp39-cp39-manylinux_2_17_x86_64.manylinux2014_x86_64.whl (1.0 MB)\n",
            "\u001b[2K     \u001b[90m━━━━━━━━━━━━━━━━━━━━━━━━━━━━━━━━━━━━━━━━\u001b[0m \u001b[32m1.0/1.0 MB\u001b[0m \u001b[31m26.5 MB/s\u001b[0m eta \u001b[36m0:00:00\u001b[0m\n",
            "\u001b[?25hRequirement already satisfied: filelock in /usr/local/lib/python3.9/dist-packages (from huggingface-hub>=0.7.0->evaluate) (3.10.0)\n",
            "Requirement already satisfied: typing-extensions>=3.7.4.3 in /usr/local/lib/python3.9/dist-packages (from huggingface-hub>=0.7.0->evaluate) (4.5.0)\n",
            "Requirement already satisfied: urllib3<1.27,>=1.21.1 in /usr/local/lib/python3.9/dist-packages (from requests>=2.19.0->evaluate) (1.26.15)\n",
            "Requirement already satisfied: charset-normalizer~=2.0.0 in /usr/local/lib/python3.9/dist-packages (from requests>=2.19.0->evaluate) (2.0.12)\n",
            "Requirement already satisfied: certifi>=2017.4.17 in /usr/local/lib/python3.9/dist-packages (from requests>=2.19.0->evaluate) (2022.12.7)\n",
            "Requirement already satisfied: idna<4,>=2.5 in /usr/local/lib/python3.9/dist-packages (from requests>=2.19.0->evaluate) (3.4)\n",
            "Requirement already satisfied: python-dateutil>=2.8.1 in /usr/local/lib/python3.9/dist-packages (from pandas->evaluate) (2.8.2)\n",
            "Requirement already satisfied: pytz>=2020.1 in /usr/local/lib/python3.9/dist-packages (from pandas->evaluate) (2022.7.1)\n",
            "Requirement already satisfied: attrs>=17.3.0 in /usr/local/lib/python3.9/dist-packages (from aiohttp->datasets>=2.0.0->evaluate) (22.2.0)\n",
            "Collecting multidict<7.0,>=4.5\n",
            "  Downloading multidict-6.0.4-cp39-cp39-manylinux_2_17_x86_64.manylinux2014_x86_64.whl (114 kB)\n",
            "\u001b[2K     \u001b[90m━━━━━━━━━━━━━━━━━━━━━━━━━━━━━━━━━━━━━━━\u001b[0m \u001b[32m114.2/114.2 KB\u001b[0m \u001b[31m5.9 MB/s\u001b[0m eta \u001b[36m0:00:00\u001b[0m\n",
            "\u001b[?25hCollecting async-timeout<5.0,>=4.0.0a3\n",
            "  Downloading async_timeout-4.0.2-py3-none-any.whl (5.8 kB)\n",
            "Collecting frozenlist>=1.1.1\n",
            "  Downloading frozenlist-1.3.3-cp39-cp39-manylinux_2_5_x86_64.manylinux1_x86_64.manylinux_2_17_x86_64.manylinux2014_x86_64.whl (158 kB)\n",
            "\u001b[2K     \u001b[90m━━━━━━━━━━━━━━━━━━━━━━━━━━━━━━━━━━━━━━\u001b[0m \u001b[32m158.8/158.8 KB\u001b[0m \u001b[31m13.6 MB/s\u001b[0m eta \u001b[36m0:00:00\u001b[0m\n",
            "\u001b[?25hCollecting yarl<2.0,>=1.0\n",
            "  Downloading yarl-1.8.2-cp39-cp39-manylinux_2_17_x86_64.manylinux2014_x86_64.whl (264 kB)\n",
            "\u001b[2K     \u001b[90m━━━━━━━━━━━━━━━━━━━━━━━━━━━━━━━━━━━━━━\u001b[0m \u001b[32m264.6/264.6 KB\u001b[0m \u001b[31m19.7 MB/s\u001b[0m eta \u001b[36m0:00:00\u001b[0m\n",
            "\u001b[?25hCollecting aiosignal>=1.1.2\n",
            "  Downloading aiosignal-1.3.1-py3-none-any.whl (7.6 kB)\n",
            "Requirement already satisfied: six>=1.5 in /usr/local/lib/python3.9/dist-packages (from python-dateutil>=2.8.1->pandas->evaluate) (1.16.0)\n",
            "Installing collected packages: xxhash, multidict, frozenlist, dill, async-timeout, yarl, responses, multiprocess, aiosignal, aiohttp, datasets, evaluate\n",
            "Successfully installed aiohttp-3.8.4 aiosignal-1.3.1 async-timeout-4.0.2 datasets-2.10.1 dill-0.3.6 evaluate-0.4.0 frozenlist-1.3.3 multidict-6.0.4 multiprocess-0.70.14 responses-0.18.0 xxhash-3.2.0 yarl-1.8.2\n"
          ]
        }
      ]
    },
    {
      "cell_type": "code",
      "source": [
        "!pip install sacrebleu sacremoses"
      ],
      "metadata": {
        "colab": {
          "base_uri": "https://localhost:8080/"
        },
        "id": "8U7_LY8CDzIc",
        "outputId": "89dca029-3c41-45ba-ee64-e3cda9147f2e"
      },
      "execution_count": 17,
      "outputs": [
        {
          "output_type": "stream",
          "name": "stdout",
          "text": [
            "Looking in indexes: https://pypi.org/simple, https://us-python.pkg.dev/colab-wheels/public/simple/\n",
            "Collecting sacrebleu\n",
            "  Downloading sacrebleu-2.3.1-py3-none-any.whl (118 kB)\n",
            "\u001b[2K     \u001b[90m━━━━━━━━━━━━━━━━━━━━━━━━━━━━━━━━━━━━━━━\u001b[0m \u001b[32m118.9/118.9 KB\u001b[0m \u001b[31m2.8 MB/s\u001b[0m eta \u001b[36m0:00:00\u001b[0m\n",
            "\u001b[?25hCollecting sacremoses\n",
            "  Downloading sacremoses-0.0.53.tar.gz (880 kB)\n",
            "\u001b[2K     \u001b[90m━━━━━━━━━━━━━━━━━━━━━━━━━━━━━━━━━━━━━━\u001b[0m \u001b[32m880.6/880.6 KB\u001b[0m \u001b[31m12.8 MB/s\u001b[0m eta \u001b[36m0:00:00\u001b[0m\n",
            "\u001b[?25h  Preparing metadata (setup.py) ... \u001b[?25l\u001b[?25hdone\n",
            "Collecting portalocker\n",
            "  Downloading portalocker-2.7.0-py2.py3-none-any.whl (15 kB)\n",
            "Requirement already satisfied: numpy>=1.17 in /usr/local/lib/python3.9/dist-packages (from sacrebleu) (1.22.4)\n",
            "Requirement already satisfied: regex in /usr/local/lib/python3.9/dist-packages (from sacrebleu) (2022.10.31)\n",
            "Requirement already satisfied: tabulate>=0.8.9 in /usr/local/lib/python3.9/dist-packages (from sacrebleu) (0.8.10)\n",
            "Requirement already satisfied: lxml in /usr/local/lib/python3.9/dist-packages (from sacrebleu) (4.9.2)\n",
            "Collecting colorama\n",
            "  Downloading colorama-0.4.6-py2.py3-none-any.whl (25 kB)\n",
            "Requirement already satisfied: six in /usr/local/lib/python3.9/dist-packages (from sacremoses) (1.16.0)\n",
            "Requirement already satisfied: click in /usr/local/lib/python3.9/dist-packages (from sacremoses) (8.1.3)\n",
            "Requirement already satisfied: joblib in /usr/local/lib/python3.9/dist-packages (from sacremoses) (1.1.1)\n",
            "Requirement already satisfied: tqdm in /usr/local/lib/python3.9/dist-packages (from sacremoses) (4.65.0)\n",
            "Building wheels for collected packages: sacremoses\n",
            "  Building wheel for sacremoses (setup.py) ... \u001b[?25l\u001b[?25hdone\n",
            "  Created wheel for sacremoses: filename=sacremoses-0.0.53-py3-none-any.whl size=895259 sha256=6e109b0fb88e776e059805e82c259be50adfe28babb98317305ced8104694476\n",
            "  Stored in directory: /root/.cache/pip/wheels/12/1c/3d/46cf06718d63a32ff798a89594b61e7f345ab6b36d909ce033\n",
            "Successfully built sacremoses\n",
            "Installing collected packages: sacremoses, portalocker, colorama, sacrebleu\n",
            "Successfully installed colorama-0.4.6 portalocker-2.7.0 sacrebleu-2.3.1 sacremoses-0.0.53\n"
          ]
        }
      ]
    },
    {
      "cell_type": "code",
      "source": [
        "!git clone https://github.com/Athugodage/RuLawSimplification.git"
      ],
      "metadata": {
        "colab": {
          "base_uri": "https://localhost:8080/"
        },
        "id": "pFeP91XS07hS",
        "outputId": "c3810031-6214-4b83-937f-3398017762b6"
      },
      "execution_count": 2,
      "outputs": [
        {
          "output_type": "stream",
          "name": "stdout",
          "text": [
            "Cloning into 'RuLawSimplification'...\n",
            "remote: Enumerating objects: 454, done.\u001b[K\n",
            "remote: Counting objects: 100% (189/189), done.\u001b[K\n",
            "remote: Compressing objects: 100% (107/107), done.\u001b[K\n",
            "remote: Total 454 (delta 97), reused 152 (delta 79), pack-reused 265\u001b[K\n",
            "Receiving objects: 100% (454/454), 243.17 MiB | 19.54 MiB/s, done.\n",
            "Resolving deltas: 100% (210/210), done.\n",
            "Updating files: 100% (34/34), done.\n"
          ]
        }
      ]
    },
    {
      "cell_type": "code",
      "source": [
        "!unzip '/content/RuLawSimplification/corpus/cut_corpus.zip'"
      ],
      "metadata": {
        "colab": {
          "base_uri": "https://localhost:8080/"
        },
        "id": "J590jeXl09nj",
        "outputId": "3afec6f2-a199-42fe-836f-51c01736c12f"
      },
      "execution_count": 3,
      "outputs": [
        {
          "output_type": "stream",
          "name": "stdout",
          "text": [
            "Archive:  /content/RuLawSimplification/corpus/cut_corpus.zip\n",
            "  inflating: cut_corpus.csv          \n"
          ]
        }
      ]
    },
    {
      "cell_type": "code",
      "source": [
        "import pandas as pd\n",
        "\n",
        "df = pd.read_csv('cut_corpus.csv')"
      ],
      "metadata": {
        "id": "BwrtMDb603BK"
      },
      "execution_count": 4,
      "outputs": []
    },
    {
      "cell_type": "code",
      "source": [
        "df = df.dropna()"
      ],
      "metadata": {
        "id": "i2A3P3sE05YU"
      },
      "execution_count": 5,
      "outputs": []
    },
    {
      "cell_type": "code",
      "source": [
        "from sklearn.model_selection import train_test_split\n",
        "\n",
        "train, test = train_test_split(df, random_state=42, test_size=0.05)"
      ],
      "metadata": {
        "id": "KzzPVOQE0vPf"
      },
      "execution_count": 6,
      "outputs": []
    },
    {
      "cell_type": "code",
      "source": [
        "train.columns = [\"text\", \"commentary\"]\n",
        "test.columns = [\"text\", \"commentary\"]"
      ],
      "metadata": {
        "id": "C1_WcaGL1MCH"
      },
      "execution_count": 7,
      "outputs": []
    },
    {
      "cell_type": "code",
      "execution_count": 8,
      "metadata": {
        "id": "MmDKoCzd0XQD"
      },
      "outputs": [],
      "source": [
        "from transformers import pipeline"
      ]
    },
    {
      "cell_type": "code",
      "source": [
        "text_generator = pipeline(\"text-generation\", \n",
        "                          model='marcus2000/GPT_simplifier25', \n",
        "                          tokenizer='sberbank-ai/rugpt3small_based_on_gpt2')\n",
        "\n",
        "# Generate text"
      ],
      "metadata": {
        "colab": {
          "base_uri": "https://localhost:8080/",
          "height": 194,
          "referenced_widgets": [
            "389bf78ae29d438082b9e0b2c1cfe911",
            "13050051a1dc44a0a45e1da3c87b520d",
            "8d03e3fd2f344311a0979f7d27ab791f",
            "491b531d01cb4eb89c147a75fdd9d8b3",
            "72f58cf86dfc44d5af5298369792c1d3",
            "26dac36885da4982994d32ae99d8a4e9",
            "a2bc4e0bbaec451c905f1ba3ca1ecf23",
            "a7ed25302ce7451580b7e68745f2d2e4",
            "d29dd9b398074fe0b7003ae834b1508d",
            "99efb86449714ab4b9c5b2f214c54a29",
            "67fd3701354947ed9c53f9cce7654593",
            "c969dd4dd84c4642a299beacdf6ea330",
            "67f386e159884bc3a49e15e5a51d7e3d",
            "f2614bb3905a4685aecbec575d82d56e",
            "87e3fabe2db4470286645c800feb0c6f",
            "d48d2a926bd64712b6efa4b80b8eb78e",
            "ef2e6942fce24392b2d9a79b8ec56353",
            "8d749f7174a545c5b682253d3466cb21",
            "82d5f26c90984a39b5e1bf1d0c436d1f",
            "719d2503ba3b47168a8fb0e457bf028c",
            "2cda204d47694c62bc31ddac83c37ef3",
            "b047ebf9c6364c92ba35d083e7b81d9d",
            "9a6549be776a47bd9e5b29e9e40cc45f",
            "d47e9b9fc40241cbbc73c923fc5b4ffb",
            "107a30be46424ad8bbf4d21dd0c38bc6",
            "183ae39d266745c4972c88c74abf7ce9",
            "3f78c9daa79d48f79bb7e12ae7f9bdc2",
            "548bc5a684f64a4a9ebe5974dd49b961",
            "022bae81d88d4b48abc4b05d06c5e256",
            "d3585bf6cbb54790a95203090170230f",
            "a1f2001934154083a384d5f29f6a5724",
            "2d4f154feed24b5793ecfae6662fa41a",
            "9b22289aa55141989b60618a8fc9c307",
            "ba645eb2ffd64965b9030592ab2e39f2",
            "d09d7d89ab774d31b5537fc9c7c7d725",
            "7afc4a1423b74ab9846e566afd786a07",
            "8146560059ac40b995430f932174138b",
            "aa77a1a035e0496e94b208fdc26d7a61",
            "0794af43c79e4868b02768b27c74d2a5",
            "2779febc459b4813b877a957efcbeb0e",
            "072f282cb60f4fe6a17dbd369b08d569",
            "9add2744b5754e34afa67ff0406d26cb",
            "6d012e14c42f4d9bb1f227d18567274c",
            "ae8dcb422f714a94b17558655032d06b",
            "9e941e3d046041dd88abc85b027dda7e",
            "9d605bbb012946c9b57304399a25962e",
            "9893bf78114e472fb5262d8d862410d4",
            "6ac98588d5d3432da196be986d139996",
            "90f8f2daa5e544139c22b07f8bee015e",
            "cbd3b8c2e5a3498abad6983b299c1f81",
            "b7f6c01589624ec2b8519147bd32f6c6",
            "9c0676502f3e4854a0459815a8585629",
            "036e7c06686649d1b4525655f1398b30",
            "0c94e9fc5ca24884a2bbb8b9fa19c1e3",
            "aff8172e18ac4d84aa66bb015f9ce739"
          ]
        },
        "id": "ffds0XeC1WJ4",
        "outputId": "8aa0091a-e474-4788-9bd0-9a7b98008da6"
      },
      "execution_count": 9,
      "outputs": [
        {
          "output_type": "display_data",
          "data": {
            "text/plain": [
              "Downloading (…)lve/main/config.json:   0%|          | 0.00/863 [00:00<?, ?B/s]"
            ],
            "application/vnd.jupyter.widget-view+json": {
              "version_major": 2,
              "version_minor": 0,
              "model_id": "389bf78ae29d438082b9e0b2c1cfe911"
            }
          },
          "metadata": {}
        },
        {
          "output_type": "display_data",
          "data": {
            "text/plain": [
              "Downloading pytorch_model.bin:   0%|          | 0.00/551M [00:00<?, ?B/s]"
            ],
            "application/vnd.jupyter.widget-view+json": {
              "version_major": 2,
              "version_minor": 0,
              "model_id": "c969dd4dd84c4642a299beacdf6ea330"
            }
          },
          "metadata": {}
        },
        {
          "output_type": "display_data",
          "data": {
            "text/plain": [
              "Downloading (…)lve/main/config.json:   0%|          | 0.00/608 [00:00<?, ?B/s]"
            ],
            "application/vnd.jupyter.widget-view+json": {
              "version_major": 2,
              "version_minor": 0,
              "model_id": "9a6549be776a47bd9e5b29e9e40cc45f"
            }
          },
          "metadata": {}
        },
        {
          "output_type": "display_data",
          "data": {
            "text/plain": [
              "Downloading (…)olve/main/vocab.json:   0%|          | 0.00/1.71M [00:00<?, ?B/s]"
            ],
            "application/vnd.jupyter.widget-view+json": {
              "version_major": 2,
              "version_minor": 0,
              "model_id": "ba645eb2ffd64965b9030592ab2e39f2"
            }
          },
          "metadata": {}
        },
        {
          "output_type": "display_data",
          "data": {
            "text/plain": [
              "Downloading (…)olve/main/merges.txt:   0%|          | 0.00/1.27M [00:00<?, ?B/s]"
            ],
            "application/vnd.jupyter.widget-view+json": {
              "version_major": 2,
              "version_minor": 0,
              "model_id": "9e941e3d046041dd88abc85b027dda7e"
            }
          },
          "metadata": {}
        },
        {
          "output_type": "stream",
          "name": "stderr",
          "text": [
            "Special tokens have been added in the vocabulary, make sure the associated word embeddings are fine-tuned or trained.\n"
          ]
        }
      ]
    },
    {
      "cell_type": "code",
      "source": [
        "prompt = test.iloc[0][\"text\"][:2400] + '[SEP] '"
      ],
      "metadata": {
        "id": "LeRBEk-D2aw_"
      },
      "execution_count": 10,
      "outputs": []
    },
    {
      "cell_type": "code",
      "source": [
        "generated_text = text_generator(prompt, max_length=1000, repetition_penalty=1.0, do_sample=False)\n",
        "print(generated_text)"
      ],
      "metadata": {
        "id": "ZZoCOYrd99bU"
      },
      "execution_count": null,
      "outputs": []
    },
    {
      "cell_type": "code",
      "source": [
        "generated_text"
      ],
      "metadata": {
        "colab": {
          "base_uri": "https://localhost:8080/"
        },
        "id": "L11ynO62pR22",
        "outputId": "b9718dbe-9366-4249-cb29-d8d5a19b4a8a"
      },
      "execution_count": 12,
      "outputs": [
        {
          "output_type": "execute_result",
          "data": {
            "text/plain": [
              "[{'generated_text': ' При этом, обязывая государственные власти воздерживаться от всякого вмешательства, способного ограничить право на объединение или воспрепятствовать его законному осуществлению, данная Конвенция рассматривает в качестве элемента его содержания право организаций трудящихся и предпринимателей самостоятельно вырабатывать свои уставы и административные регламенты, свободно выбирать своих представителей, организовывать свой аппарат и свою деятельность, формулировать свою программу действий и гарантирует указанные права также федерациям и конфедерациям организаций трудящихся и предпринимателей (статьи 3 и 6). Исходя из этого и в силу статей 1 (часть 1), 2, 15 (часть 4), 17 (часть 1), 18, 30 и 55 (часть 3) Конституции Российской Федерации федеральный законодатель при осуществлении правового регулирования отношений, связанных с реализацией гражданами конституционного права на объединение в профессиональные союзы, созданием и деятельностью профессиональных союзов и их объединений (ассоциаций), не вправе допускать искажений самого существа права на объединение (Постановление Конституционного Суда Российской Федерации от 24 октября 2013 года N 22-П). Установление же законодательных предписаний должно осуществляться с соблюдением принципа профсоюзной автономии, предполагающего в первую очередь независимость профессиональных союзов и их объединений (ассоциаций) от органов государственной власти и их самостоятельность в регулировании внутрикорпоративных отношений, а какое-либо ограничение свободы объединения возможно исключительно в конституционно значимых целях, перечисленных в статье 55 (часть 3) Конституции Российской Федерации. Аналогичная позиция высказывалась и Комитетом по свободе объединения Административного совета Международной организации труда (Свобода объединения: сборник решений, принятых Комитетом по свободе объединения Административного совета МОТ, и выработанных им принципов / Международное бюро труда. 3. Общественные отношения, возникающие в связи с реализацией гражданами конституционного права на объединение, включая объединение в профессиональные союзы, регулируются Федеральным законом от 19 мая 1995 года N 82-ФЗ \"Об общественных объединениях\", закрепляющим основные принципы деятельности общественных объединений, к числу которых отнесены добровольность и самоуправление, а также право на определение своей внутренней структуры, целей, форм и методов свое[SEP]  Конституционный суд РФ защитил права профсоюзов на доступ к информации о деятельности общественных объединений. Соответствующее постановление публикует \"РГ\". Поводом к рассмотрению дела послужила жалоба Александра Кокотова, который был зарегистрирован в качестве индивидуального предпринимателя. В 2011 году он был зарегистрирован в качестве индивидуального предпринимателя. Однако в связи с реформированием ФНПР, возникшим в результате преобразования, он был исключен из реестра общественных объединений и лишен права участвовать в работе профессиональных союзов. В связи с этим Кокотов подал в суд. По мнению заяв [SEP]  Конституционный суд РФ защитил права профсоюзов на доступ к информации о деятельности общественных объединений. Соответствующее постановление публикует \"РГ\". Поводом к рассмотрению дела послужила жалоба Александра Кокотова, который был зарегистрирован в качестве индивидуального предпринимателя. В 2011 году он был зарегистрирован в качестве индивидуального предпринимателя. Однако в связи с реформированием ФНПР, возникшим в результате преобразования, он был исключен из реестра общественных объединений и лишен права участвовать в работе профессиональных союзов. В связи с этим Кокотов подал в суд. По мнению заявителя, в его случае нарушается статья 54 Конституции РФ, которая гарантирует свободу мысли и слова, свободу печати, собраний, митингов, шествий и пикетирований, свободу массовой информации, свободу массовой информации, свободу массовой информации, а также право на выражение мнений и действий. Однако статья 54 Конституции РФ не ограничивает права профсоюзов на доступ к информации о деятельности профсоюзов. Она устанавливает, что свобода массовой информации - это \"реализация прав и свобод человека и гражданина\", а свобода массовой информации - это \"реализация прав и свобод человека и гражданина в соответствии с законодательством Российской Федерации\". Таким образом, КС РФ признал неконституционным пункт \"Перечня организаций профсоюзов, деятельность которых не подлежит ограничению в соответствии с федеральными законами\". Дело Александра Кокотова подлежит пересмотру. Как пояснил в ходе рассмотрения дела судья-докладчик по данному делу Юрий Рудкин, КС РФ признал неконституционным пункт \"Перечня организаций профсоюзов, деятельность которых подлежит ограничению в соответствии с федеральными законами\". Дело подлежит пересмотру. Дело Александра Кокотова подлежит пересмотру. По мнению Рудкина, оспариваемые нормы противоречат Конституции РФ, поскольку предполагают предоставление профсоюзовам доступа к информации о своей деятельности, в том числе к ее размещению в сети Интернет. Кроме того, статья 54 Конституции РФ не ограничивает права профсоюзов на доступ к информации о деятельности профсоюзов. Она не исключает возможность получения доступа к ней только в том случае, если такая возможность предусмотрена законом. По мнению Рудкина, в связи с этим КС РФ не вправе устанавливать ограничения доступа к такой информации. Дело Александра Кокотова подлежит пересмотру. По мнению Рудкина, оспариваемые нормы противоречат Конституции РФ, поскольку предполагают предоставление профсоюзовам доступа к информации о своей деятельности, в том числе к ее размещению в сети Интернет. Кроме того, статья 54 Конституции РФ не ограничивает права профсоюзов на доступ к информации о своей деятельности. Она не'}]"
            ]
          },
          "metadata": {},
          "execution_count": 12
        }
      ]
    },
    {
      "cell_type": "code",
      "source": [
        "len(test[\"commentary\"])"
      ],
      "metadata": {
        "colab": {
          "base_uri": "https://localhost:8080/"
        },
        "id": "948UK9PD4TAC",
        "outputId": "91e527a3-d23d-4716-ba20-035f79b67f15"
      },
      "execution_count": 15,
      "outputs": [
        {
          "output_type": "execute_result",
          "data": {
            "text/plain": [
              "93"
            ]
          },
          "metadata": {},
          "execution_count": 15
        }
      ]
    },
    {
      "cell_type": "code",
      "source": [
        "from tqdm import tqdm\n",
        "\n",
        "real = test['text'].to_list()\n",
        "preds = []\n",
        "\n",
        "for orig in tqdm(real):\n",
        "    generated_text = text_generator(orig[:2500], max_length=1000, repetition_penalty=1.0)\n",
        "    generated_text = str(generated_text[0]['generated_text']).split(\"[SEP] \")[1:]\n",
        "    preds.append(generated_text)\n",
        "\n"
      ],
      "metadata": {
        "colab": {
          "base_uri": "https://localhost:8080/"
        },
        "id": "ac5tm6aHnJQQ",
        "outputId": "0e55721c-faed-40da-bf2b-a8887b5b5a0d"
      },
      "execution_count": 47,
      "outputs": [
        {
          "output_type": "stream",
          "name": "stderr",
          "text": [
            "  0%|          | 0/93 [00:00<?, ?it/s]Setting `pad_token_id` to `eos_token_id`:50256 for open-end generation.\n",
            "  1%|          | 1/93 [01:09<1:46:11, 69.26s/it]Setting `pad_token_id` to `eos_token_id`:50256 for open-end generation.\n",
            "  2%|▏         | 2/93 [02:04<1:32:30, 60.99s/it]Setting `pad_token_id` to `eos_token_id`:50256 for open-end generation.\n",
            "  3%|▎         | 3/93 [03:03<1:30:23, 60.27s/it]Setting `pad_token_id` to `eos_token_id`:50256 for open-end generation.\n",
            "  4%|▍         | 4/93 [04:16<1:36:52, 65.31s/it]Setting `pad_token_id` to `eos_token_id`:50256 for open-end generation.\n",
            "  5%|▌         | 5/93 [05:20<1:34:57, 64.74s/it]Setting `pad_token_id` to `eos_token_id`:50256 for open-end generation.\n",
            "  6%|▋         | 6/93 [06:21<1:31:46, 63.30s/it]Setting `pad_token_id` to `eos_token_id`:50256 for open-end generation.\n",
            "  8%|▊         | 7/93 [07:19<1:28:19, 61.62s/it]Setting `pad_token_id` to `eos_token_id`:50256 for open-end generation.\n",
            "  9%|▊         | 8/93 [08:07<1:21:02, 57.21s/it]Setting `pad_token_id` to `eos_token_id`:50256 for open-end generation.\n",
            " 10%|▉         | 9/93 [09:12<1:23:43, 59.80s/it]Setting `pad_token_id` to `eos_token_id`:50256 for open-end generation.\n",
            " 11%|█         | 10/93 [10:15<1:24:06, 60.80s/it]Setting `pad_token_id` to `eos_token_id`:50256 for open-end generation.\n",
            " 12%|█▏        | 11/93 [11:18<1:23:50, 61.34s/it]Setting `pad_token_id` to `eos_token_id`:50256 for open-end generation.\n",
            " 13%|█▎        | 12/93 [12:17<1:21:53, 60.67s/it]Setting `pad_token_id` to `eos_token_id`:50256 for open-end generation.\n",
            " 14%|█▍        | 13/93 [13:18<1:21:01, 60.77s/it]Setting `pad_token_id` to `eos_token_id`:50256 for open-end generation.\n",
            " 15%|█▌        | 14/93 [14:09<1:16:21, 57.99s/it]Setting `pad_token_id` to `eos_token_id`:50256 for open-end generation.\n",
            " 16%|█▌        | 15/93 [15:08<1:15:35, 58.15s/it]Setting `pad_token_id` to `eos_token_id`:50256 for open-end generation.\n",
            " 17%|█▋        | 16/93 [15:58<1:11:39, 55.84s/it]Setting `pad_token_id` to `eos_token_id`:50256 for open-end generation.\n",
            " 18%|█▊        | 17/93 [16:59<1:12:41, 57.39s/it]Setting `pad_token_id` to `eos_token_id`:50256 for open-end generation.\n",
            "Input length of input_ids is 1213, but `max_length` is set to 1000. This can lead to unexpected behavior. You should consider increasing `max_new_tokens`.\n",
            " 19%|█▉        | 18/93 [17:08<53:23, 42.71s/it]  Setting `pad_token_id` to `eos_token_id`:50256 for open-end generation.\n",
            " 20%|██        | 19/93 [18:06<58:33, 47.48s/it]Setting `pad_token_id` to `eos_token_id`:50256 for open-end generation.\n",
            " 22%|██▏       | 20/93 [19:05<1:01:47, 50.79s/it]Setting `pad_token_id` to `eos_token_id`:50256 for open-end generation.\n",
            " 23%|██▎       | 21/93 [20:02<1:03:03, 52.55s/it]Setting `pad_token_id` to `eos_token_id`:50256 for open-end generation.\n",
            " 24%|██▎       | 22/93 [21:11<1:08:19, 57.74s/it]Setting `pad_token_id` to `eos_token_id`:50256 for open-end generation.\n",
            " 25%|██▍       | 23/93 [22:10<1:07:31, 57.87s/it]Setting `pad_token_id` to `eos_token_id`:50256 for open-end generation.\n",
            " 26%|██▌       | 24/93 [23:15<1:09:06, 60.10s/it]Setting `pad_token_id` to `eos_token_id`:50256 for open-end generation.\n",
            " 27%|██▋       | 25/93 [24:20<1:09:49, 61.62s/it]Setting `pad_token_id` to `eos_token_id`:50256 for open-end generation.\n",
            " 28%|██▊       | 26/93 [25:27<1:10:26, 63.09s/it]Setting `pad_token_id` to `eos_token_id`:50256 for open-end generation.\n",
            " 29%|██▉       | 27/93 [26:26<1:08:08, 61.94s/it]Setting `pad_token_id` to `eos_token_id`:50256 for open-end generation.\n",
            " 30%|███       | 28/93 [27:30<1:07:46, 62.56s/it]Setting `pad_token_id` to `eos_token_id`:50256 for open-end generation.\n",
            " 31%|███       | 29/93 [28:36<1:07:49, 63.58s/it]Setting `pad_token_id` to `eos_token_id`:50256 for open-end generation.\n",
            " 32%|███▏      | 30/93 [29:36<1:05:45, 62.63s/it]Setting `pad_token_id` to `eos_token_id`:50256 for open-end generation.\n",
            " 33%|███▎      | 31/93 [30:31<1:02:17, 60.29s/it]Setting `pad_token_id` to `eos_token_id`:50256 for open-end generation.\n",
            " 34%|███▍      | 32/93 [31:31<1:01:15, 60.25s/it]Setting `pad_token_id` to `eos_token_id`:50256 for open-end generation.\n",
            " 35%|███▌      | 33/93 [32:34<1:01:02, 61.04s/it]Setting `pad_token_id` to `eos_token_id`:50256 for open-end generation.\n",
            " 37%|███▋      | 34/93 [33:40<1:01:23, 62.42s/it]Setting `pad_token_id` to `eos_token_id`:50256 for open-end generation.\n",
            " 38%|███▊      | 35/93 [34:45<1:01:03, 63.16s/it]Setting `pad_token_id` to `eos_token_id`:50256 for open-end generation.\n",
            " 39%|███▊      | 36/93 [35:49<1:00:20, 63.53s/it]Setting `pad_token_id` to `eos_token_id`:50256 for open-end generation.\n",
            " 40%|███▉      | 37/93 [36:55<1:00:01, 64.32s/it]Setting `pad_token_id` to `eos_token_id`:50256 for open-end generation.\n",
            " 41%|████      | 38/93 [38:01<59:15, 64.65s/it]  Setting `pad_token_id` to `eos_token_id`:50256 for open-end generation.\n",
            " 42%|████▏     | 39/93 [38:58<56:05, 62.33s/it]Setting `pad_token_id` to `eos_token_id`:50256 for open-end generation.\n",
            " 43%|████▎     | 40/93 [39:56<54:06, 61.26s/it]Setting `pad_token_id` to `eos_token_id`:50256 for open-end generation.\n",
            " 44%|████▍     | 41/93 [41:03<54:26, 62.82s/it]Setting `pad_token_id` to `eos_token_id`:50256 for open-end generation.\n",
            " 45%|████▌     | 42/93 [42:05<53:11, 62.58s/it]Setting `pad_token_id` to `eos_token_id`:50256 for open-end generation.\n",
            " 46%|████▌     | 43/93 [43:01<50:36, 60.72s/it]Setting `pad_token_id` to `eos_token_id`:50256 for open-end generation.\n",
            " 47%|████▋     | 44/93 [44:05<50:14, 61.53s/it]Setting `pad_token_id` to `eos_token_id`:50256 for open-end generation.\n",
            " 48%|████▊     | 45/93 [45:03<48:30, 60.64s/it]Setting `pad_token_id` to `eos_token_id`:50256 for open-end generation.\n",
            " 49%|████▉     | 46/93 [46:01<46:45, 59.70s/it]Setting `pad_token_id` to `eos_token_id`:50256 for open-end generation.\n",
            " 51%|█████     | 47/93 [46:58<45:08, 58.88s/it]Setting `pad_token_id` to `eos_token_id`:50256 for open-end generation.\n",
            " 52%|█████▏    | 48/93 [48:00<44:57, 59.95s/it]Setting `pad_token_id` to `eos_token_id`:50256 for open-end generation.\n",
            " 53%|█████▎    | 49/93 [49:04<44:46, 61.06s/it]Setting `pad_token_id` to `eos_token_id`:50256 for open-end generation.\n",
            " 54%|█████▍    | 50/93 [50:03<43:19, 60.45s/it]Setting `pad_token_id` to `eos_token_id`:50256 for open-end generation.\n",
            " 55%|█████▍    | 51/93 [50:54<40:27, 57.79s/it]Setting `pad_token_id` to `eos_token_id`:50256 for open-end generation.\n",
            " 56%|█████▌    | 52/93 [52:03<41:43, 61.05s/it]Setting `pad_token_id` to `eos_token_id`:50256 for open-end generation.\n",
            " 57%|█████▋    | 53/93 [53:05<40:56, 61.41s/it]Setting `pad_token_id` to `eos_token_id`:50256 for open-end generation.\n",
            " 58%|█████▊    | 54/93 [54:08<40:15, 61.93s/it]Setting `pad_token_id` to `eos_token_id`:50256 for open-end generation.\n",
            " 59%|█████▉    | 55/93 [55:06<38:22, 60.58s/it]Setting `pad_token_id` to `eos_token_id`:50256 for open-end generation.\n",
            " 60%|██████    | 56/93 [56:08<37:36, 60.98s/it]Setting `pad_token_id` to `eos_token_id`:50256 for open-end generation.\n",
            " 61%|██████▏   | 57/93 [57:07<36:15, 60.42s/it]Setting `pad_token_id` to `eos_token_id`:50256 for open-end generation.\n",
            " 62%|██████▏   | 58/93 [58:13<36:11, 62.05s/it]Setting `pad_token_id` to `eos_token_id`:50256 for open-end generation.\n",
            " 63%|██████▎   | 59/93 [59:04<33:15, 58.68s/it]Setting `pad_token_id` to `eos_token_id`:50256 for open-end generation.\n",
            " 65%|██████▍   | 60/93 [1:00:16<34:33, 62.84s/it]Setting `pad_token_id` to `eos_token_id`:50256 for open-end generation.\n",
            " 66%|██████▌   | 61/93 [1:01:20<33:45, 63.30s/it]Setting `pad_token_id` to `eos_token_id`:50256 for open-end generation.\n",
            " 67%|██████▋   | 62/93 [1:02:26<32:58, 63.83s/it]Setting `pad_token_id` to `eos_token_id`:50256 for open-end generation.\n",
            " 68%|██████▊   | 63/93 [1:03:16<29:56, 59.90s/it]Setting `pad_token_id` to `eos_token_id`:50256 for open-end generation.\n",
            " 69%|██████▉   | 64/93 [1:04:13<28:28, 58.90s/it]Setting `pad_token_id` to `eos_token_id`:50256 for open-end generation.\n",
            " 70%|██████▉   | 65/93 [1:05:19<28:34, 61.22s/it]Setting `pad_token_id` to `eos_token_id`:50256 for open-end generation.\n",
            " 71%|███████   | 66/93 [1:06:28<28:31, 63.39s/it]Setting `pad_token_id` to `eos_token_id`:50256 for open-end generation.\n",
            " 72%|███████▏  | 67/93 [1:07:24<26:28, 61.10s/it]Setting `pad_token_id` to `eos_token_id`:50256 for open-end generation.\n",
            " 73%|███████▎  | 68/93 [1:08:25<25:27, 61.11s/it]Setting `pad_token_id` to `eos_token_id`:50256 for open-end generation.\n",
            " 74%|███████▍  | 69/93 [1:09:27<24:30, 61.29s/it]Setting `pad_token_id` to `eos_token_id`:50256 for open-end generation.\n",
            " 75%|███████▌  | 70/93 [1:10:25<23:07, 60.33s/it]Setting `pad_token_id` to `eos_token_id`:50256 for open-end generation.\n",
            " 76%|███████▋  | 71/93 [1:11:28<22:25, 61.18s/it]Setting `pad_token_id` to `eos_token_id`:50256 for open-end generation.\n",
            " 77%|███████▋  | 72/93 [1:12:28<21:15, 60.76s/it]Setting `pad_token_id` to `eos_token_id`:50256 for open-end generation.\n",
            " 78%|███████▊  | 73/93 [1:13:28<20:12, 60.63s/it]Setting `pad_token_id` to `eos_token_id`:50256 for open-end generation.\n",
            " 80%|███████▉  | 74/93 [1:14:24<18:45, 59.25s/it]Setting `pad_token_id` to `eos_token_id`:50256 for open-end generation.\n",
            " 81%|████████  | 75/93 [1:15:17<17:13, 57.40s/it]Setting `pad_token_id` to `eos_token_id`:50256 for open-end generation.\n",
            " 82%|████████▏ | 76/93 [1:16:21<16:49, 59.38s/it]Setting `pad_token_id` to `eos_token_id`:50256 for open-end generation.\n",
            " 83%|████████▎ | 77/93 [1:17:24<16:07, 60.44s/it]Setting `pad_token_id` to `eos_token_id`:50256 for open-end generation.\n",
            " 84%|████████▍ | 78/93 [1:18:25<15:10, 60.71s/it]Setting `pad_token_id` to `eos_token_id`:50256 for open-end generation.\n",
            " 85%|████████▍ | 79/93 [1:19:35<14:49, 63.52s/it]Setting `pad_token_id` to `eos_token_id`:50256 for open-end generation.\n",
            " 86%|████████▌ | 80/93 [1:20:42<13:59, 64.61s/it]Setting `pad_token_id` to `eos_token_id`:50256 for open-end generation.\n",
            " 87%|████████▋ | 81/93 [1:21:35<12:12, 61.06s/it]Setting `pad_token_id` to `eos_token_id`:50256 for open-end generation.\n",
            " 88%|████████▊ | 82/93 [1:22:32<10:57, 59.80s/it]Setting `pad_token_id` to `eos_token_id`:50256 for open-end generation.\n",
            " 89%|████████▉ | 83/93 [1:23:30<09:51, 59.18s/it]Setting `pad_token_id` to `eos_token_id`:50256 for open-end generation.\n",
            " 90%|█████████ | 84/93 [1:24:31<08:57, 59.77s/it]Setting `pad_token_id` to `eos_token_id`:50256 for open-end generation.\n",
            " 91%|█████████▏| 85/93 [1:25:22<07:36, 57.01s/it]Setting `pad_token_id` to `eos_token_id`:50256 for open-end generation.\n",
            " 92%|█████████▏| 86/93 [1:26:26<06:54, 59.15s/it]Setting `pad_token_id` to `eos_token_id`:50256 for open-end generation.\n",
            " 94%|█████████▎| 87/93 [1:27:27<05:59, 59.85s/it]Setting `pad_token_id` to `eos_token_id`:50256 for open-end generation.\n",
            " 95%|█████████▍| 88/93 [1:28:32<05:06, 61.36s/it]Setting `pad_token_id` to `eos_token_id`:50256 for open-end generation.\n",
            " 96%|█████████▌| 89/93 [1:29:32<04:04, 61.06s/it]Setting `pad_token_id` to `eos_token_id`:50256 for open-end generation.\n",
            " 97%|█████████▋| 90/93 [1:30:22<02:52, 57.59s/it]Setting `pad_token_id` to `eos_token_id`:50256 for open-end generation.\n",
            " 98%|█████████▊| 91/93 [1:31:18<01:54, 57.02s/it]Setting `pad_token_id` to `eos_token_id`:50256 for open-end generation.\n",
            " 99%|█████████▉| 92/93 [1:32:45<01:06, 66.02s/it]Setting `pad_token_id` to `eos_token_id`:50256 for open-end generation.\n",
            "100%|██████████| 93/93 [1:33:42<00:00, 60.46s/it]\n"
          ]
        }
      ]
    },
    {
      "cell_type": "code",
      "source": [
        "import evaluate\n",
        "\n",
        "sari = evaluate.load(\"sari\")\n",
        "\n",
        "real = [list(orig[:2500]) for orig in test['text']]\n",
        "\n",
        "\n",
        "sari.compute(sources=test['text'].to_list(),  ## original\n",
        "             references=[[ref] for ref in test['commentary'].to_list()], ## the comment from RG\n",
        "             predictions=[str(p) for p in preds]  ## model's version\n",
        "             )"
      ],
      "metadata": {
        "colab": {
          "base_uri": "https://localhost:8080/"
        },
        "id": "amOAMbzaDpmo",
        "outputId": "66f02825-6de7-4686-f812-b00a1b779599"
      },
      "execution_count": 62,
      "outputs": [
        {
          "output_type": "execute_result",
          "data": {
            "text/plain": [
              "{'sari': 40.965917447138395}"
            ]
          },
          "metadata": {},
          "execution_count": 62
        }
      ]
    },
    {
      "cell_type": "code",
      "source": [
        "rouge = evaluate.load(\"rouge\")\n",
        "rouge.compute(references=test['text'].to_list(), predictions=[str(p) for p in preds])"
      ],
      "metadata": {
        "colab": {
          "base_uri": "https://localhost:8080/"
        },
        "id": "wKJ0KFogHyUn",
        "outputId": "9b3780c5-75fe-46e9-cc0c-61efedadb6c1"
      },
      "execution_count": 58,
      "outputs": [
        {
          "output_type": "execute_result",
          "data": {
            "text/plain": [
              "{'rouge1': 0.050720799371253684,\n",
              " 'rouge2': 0.009823308466685079,\n",
              " 'rougeL': 0.04693134201289889,\n",
              " 'rougeLsum': 0.046370965136756634}"
            ]
          },
          "metadata": {},
          "execution_count": 58
        }
      ]
    },
    {
      "cell_type": "markdown",
      "source": [
        "uncut\n"
      ],
      "metadata": {
        "id": "GtNfqEsBhfnG"
      }
    },
    {
      "cell_type": "code",
      "source": [
        "text_generator = pipeline(\"text-generation\", \n",
        "                          model='marcus2000/GPT_simplifier_large_text', \n",
        "                          tokenizer='sberbank-ai/rugpt3small_based_on_gpt2')"
      ],
      "metadata": {
        "colab": {
          "base_uri": "https://localhost:8080/",
          "height": 98,
          "referenced_widgets": [
            "c7c26ea49e6d4180abd2b4194f630054",
            "499207c47bfc41869ab446a3ba68e1df",
            "47b2740caee2424182a297f2317a5c4c",
            "b18b99a69fc641a28981b3b9a3aa2011",
            "f1393467f48647938e2dbd0ab4b589fb",
            "bf62f87127c648ad875783a04ff56783",
            "b11f53395ffb4c0bbcfe1a202e5a689e",
            "7a221ed16e9945e288552a1cb53b7dd9",
            "1f992f202b034638a5284fe95d058e60",
            "365a2215ab704ba7b4c5797b5e5197bb",
            "37dda3d1d140489cb0eb3f87a1fa216e",
            "a2bc6e983133492188cf160cba083d0e",
            "fe9f11ba9aee4d0badea3ced79e5b045",
            "ad50bb1380f648d9ac38dcef7690bf8a",
            "59e85d425c9741b09727a3384bfb3a3f",
            "b7532e6ac8d84648be5e889ec5273f96",
            "8615f88534d84c3da52ad395559b03ae",
            "183b90992e0148ae8506f6f62822cd21",
            "13e80b201a644ac8986e4fe7fcebd52d",
            "1905c5017b984672b6123742951c33a3",
            "559a2de472d4480e8d3cfd05172ff2aa",
            "f1fab293569b4e19bfee41155453a560"
          ]
        },
        "id": "TZfx9pz1hfCf",
        "outputId": "65f0d682-0456-45e4-d637-772f821f5e35"
      },
      "execution_count": 64,
      "outputs": [
        {
          "output_type": "display_data",
          "data": {
            "text/plain": [
              "Downloading (…)lve/main/config.json:   0%|          | 0.00/863 [00:00<?, ?B/s]"
            ],
            "application/vnd.jupyter.widget-view+json": {
              "version_major": 2,
              "version_minor": 0,
              "model_id": "c7c26ea49e6d4180abd2b4194f630054"
            }
          },
          "metadata": {}
        },
        {
          "output_type": "display_data",
          "data": {
            "text/plain": [
              "Downloading pytorch_model.bin:   0%|          | 0.00/551M [00:00<?, ?B/s]"
            ],
            "application/vnd.jupyter.widget-view+json": {
              "version_major": 2,
              "version_minor": 0,
              "model_id": "a2bc6e983133492188cf160cba083d0e"
            }
          },
          "metadata": {}
        },
        {
          "output_type": "stream",
          "name": "stderr",
          "text": [
            "Special tokens have been added in the vocabulary, make sure the associated word embeddings are fine-tuned or trained.\n"
          ]
        }
      ]
    },
    {
      "cell_type": "code",
      "source": [
        "from tqdm import tqdm\n",
        "\n",
        "real = test['text'].to_list()\n",
        "preds = []\n",
        "\n",
        "for orig in tqdm(real):\n",
        "    generated_text = text_generator(orig[:2500] + '[SEP] ', max_length=1000)\n",
        "    generated_text = str(generated_text[0]['generated_text']).split(\"[SEP] \")[1:]\n",
        "    preds.append(generated_text)"
      ],
      "metadata": {
        "colab": {
          "base_uri": "https://localhost:8080/"
        },
        "id": "ebsqJapChnil",
        "outputId": "587e092a-2108-4766-e076-7b918ceeaddf"
      },
      "execution_count": 75,
      "outputs": [
        {
          "output_type": "stream",
          "name": "stderr",
          "text": [
            "  0%|          | 0/93 [00:00<?, ?it/s]Setting `pad_token_id` to `eos_token_id`:50256 for open-end generation.\n",
            "  1%|          | 1/93 [00:59<1:31:24, 59.61s/it]Setting `pad_token_id` to `eos_token_id`:50256 for open-end generation.\n",
            "  2%|▏         | 2/93 [01:42<1:15:33, 49.82s/it]Setting `pad_token_id` to `eos_token_id`:50256 for open-end generation.\n",
            "  3%|▎         | 3/93 [02:28<1:12:11, 48.13s/it]Setting `pad_token_id` to `eos_token_id`:50256 for open-end generation.\n",
            "  4%|▍         | 4/93 [03:14<1:10:08, 47.29s/it]Setting `pad_token_id` to `eos_token_id`:50256 for open-end generation.\n",
            "  5%|▌         | 5/93 [04:06<1:11:35, 48.82s/it]Setting `pad_token_id` to `eos_token_id`:50256 for open-end generation.\n",
            "  6%|▋         | 6/93 [04:53<1:09:58, 48.26s/it]Setting `pad_token_id` to `eos_token_id`:50256 for open-end generation.\n",
            "  8%|▊         | 7/93 [05:38<1:07:44, 47.26s/it]Setting `pad_token_id` to `eos_token_id`:50256 for open-end generation.\n",
            "  9%|▊         | 8/93 [06:16<1:02:41, 44.25s/it]Setting `pad_token_id` to `eos_token_id`:50256 for open-end generation.\n",
            " 10%|▉         | 9/93 [07:07<1:04:59, 46.42s/it]Setting `pad_token_id` to `eos_token_id`:50256 for open-end generation.\n",
            " 11%|█         | 10/93 [07:57<1:05:36, 47.43s/it]Setting `pad_token_id` to `eos_token_id`:50256 for open-end generation.\n",
            " 12%|█▏        | 11/93 [08:46<1:05:27, 47.90s/it]Setting `pad_token_id` to `eos_token_id`:50256 for open-end generation.\n",
            " 13%|█▎        | 12/93 [09:32<1:04:10, 47.54s/it]Setting `pad_token_id` to `eos_token_id`:50256 for open-end generation.\n",
            " 14%|█▍        | 13/93 [10:24<1:04:54, 48.68s/it]Setting `pad_token_id` to `eos_token_id`:50256 for open-end generation.\n",
            " 15%|█▌        | 14/93 [11:03<1:00:30, 45.95s/it]Setting `pad_token_id` to `eos_token_id`:50256 for open-end generation.\n",
            " 16%|█▌        | 15/93 [11:49<59:45, 45.97s/it]  Setting `pad_token_id` to `eos_token_id`:50256 for open-end generation.\n",
            " 17%|█▋        | 16/93 [12:29<56:40, 44.16s/it]Setting `pad_token_id` to `eos_token_id`:50256 for open-end generation.\n",
            " 18%|█▊        | 17/93 [13:17<57:05, 45.07s/it]Setting `pad_token_id` to `eos_token_id`:50256 for open-end generation.\n",
            "Input length of input_ids is 1219, but `max_length` is set to 1000. This can lead to unexpected behavior. You should consider increasing `max_new_tokens`.\n",
            " 19%|█▉        | 18/93 [13:24<42:11, 33.76s/it]Setting `pad_token_id` to `eos_token_id`:50256 for open-end generation.\n",
            " 20%|██        | 19/93 [14:11<46:21, 37.59s/it]Setting `pad_token_id` to `eos_token_id`:50256 for open-end generation.\n",
            " 22%|██▏       | 20/93 [14:57<48:52, 40.18s/it]Setting `pad_token_id` to `eos_token_id`:50256 for open-end generation.\n",
            " 23%|██▎       | 21/93 [15:40<49:29, 41.25s/it]Setting `pad_token_id` to `eos_token_id`:50256 for open-end generation.\n",
            " 24%|██▎       | 22/93 [16:35<53:27, 45.18s/it]Setting `pad_token_id` to `eos_token_id`:50256 for open-end generation.\n",
            " 25%|██▍       | 23/93 [17:22<53:16, 45.66s/it]Setting `pad_token_id` to `eos_token_id`:50256 for open-end generation.\n",
            " 26%|██▌       | 24/93 [18:13<54:19, 47.23s/it]Setting `pad_token_id` to `eos_token_id`:50256 for open-end generation.\n",
            " 27%|██▋       | 25/93 [19:04<55:02, 48.56s/it]Setting `pad_token_id` to `eos_token_id`:50256 for open-end generation.\n",
            " 28%|██▊       | 26/93 [19:56<55:14, 49.47s/it]Setting `pad_token_id` to `eos_token_id`:50256 for open-end generation.\n",
            " 29%|██▉       | 27/93 [20:43<53:50, 48.95s/it]Setting `pad_token_id` to `eos_token_id`:50256 for open-end generation.\n",
            " 30%|███       | 28/93 [21:34<53:29, 49.38s/it]Setting `pad_token_id` to `eos_token_id`:50256 for open-end generation.\n",
            " 31%|███       | 29/93 [22:25<53:13, 49.90s/it]Setting `pad_token_id` to `eos_token_id`:50256 for open-end generation.\n",
            " 32%|███▏      | 30/93 [23:12<51:36, 49.16s/it]Setting `pad_token_id` to `eos_token_id`:50256 for open-end generation.\n",
            " 33%|███▎      | 31/93 [23:55<48:51, 47.28s/it]Setting `pad_token_id` to `eos_token_id`:50256 for open-end generation.\n",
            " 34%|███▍      | 32/93 [24:43<48:03, 47.27s/it]Setting `pad_token_id` to `eos_token_id`:50256 for open-end generation.\n",
            " 35%|███▌      | 33/93 [25:32<47:49, 47.83s/it]Setting `pad_token_id` to `eos_token_id`:50256 for open-end generation.\n",
            " 37%|███▋      | 34/93 [26:23<48:00, 48.81s/it]Setting `pad_token_id` to `eos_token_id`:50256 for open-end generation.\n",
            " 38%|███▊      | 35/93 [27:14<47:48, 49.46s/it]Setting `pad_token_id` to `eos_token_id`:50256 for open-end generation.\n",
            " 39%|███▊      | 36/93 [28:04<47:16, 49.76s/it]Setting `pad_token_id` to `eos_token_id`:50256 for open-end generation.\n",
            " 40%|███▉      | 37/93 [28:58<47:31, 50.92s/it]Setting `pad_token_id` to `eos_token_id`:50256 for open-end generation.\n",
            " 41%|████      | 38/93 [29:49<46:44, 51.00s/it]Setting `pad_token_id` to `eos_token_id`:50256 for open-end generation.\n",
            " 42%|████▏     | 39/93 [30:35<44:30, 49.45s/it]Setting `pad_token_id` to `eos_token_id`:50256 for open-end generation.\n",
            " 43%|████▎     | 40/93 [31:23<43:19, 49.06s/it]Setting `pad_token_id` to `eos_token_id`:50256 for open-end generation.\n",
            " 44%|████▍     | 41/93 [32:15<43:13, 49.87s/it]Setting `pad_token_id` to `eos_token_id`:50256 for open-end generation.\n",
            " 45%|████▌     | 42/93 [33:04<42:11, 49.63s/it]Setting `pad_token_id` to `eos_token_id`:50256 for open-end generation.\n",
            " 46%|████▌     | 43/93 [33:49<40:08, 48.18s/it]Setting `pad_token_id` to `eos_token_id`:50256 for open-end generation.\n",
            " 47%|████▋     | 44/93 [34:38<39:37, 48.53s/it]Setting `pad_token_id` to `eos_token_id`:50256 for open-end generation.\n",
            " 48%|████▊     | 45/93 [35:24<38:07, 47.67s/it]Setting `pad_token_id` to `eos_token_id`:50256 for open-end generation.\n",
            " 49%|████▉     | 46/93 [36:10<37:07, 47.40s/it]Setting `pad_token_id` to `eos_token_id`:50256 for open-end generation.\n",
            " 51%|█████     | 47/93 [36:59<36:34, 47.72s/it]Setting `pad_token_id` to `eos_token_id`:50256 for open-end generation.\n",
            " 52%|█████▏    | 48/93 [37:48<36:03, 48.08s/it]Setting `pad_token_id` to `eos_token_id`:50256 for open-end generation.\n",
            " 53%|█████▎    | 49/93 [38:37<35:27, 48.34s/it]Setting `pad_token_id` to `eos_token_id`:50256 for open-end generation.\n",
            " 54%|█████▍    | 50/93 [39:23<34:12, 47.74s/it]Setting `pad_token_id` to `eos_token_id`:50256 for open-end generation.\n",
            " 55%|█████▍    | 51/93 [40:03<31:40, 45.26s/it]Setting `pad_token_id` to `eos_token_id`:50256 for open-end generation.\n",
            " 56%|█████▌    | 52/93 [40:56<32:40, 47.82s/it]Setting `pad_token_id` to `eos_token_id`:50256 for open-end generation.\n",
            " 57%|█████▋    | 53/93 [41:43<31:44, 47.61s/it]Setting `pad_token_id` to `eos_token_id`:50256 for open-end generation.\n",
            " 58%|█████▊    | 54/93 [42:33<31:19, 48.19s/it]Setting `pad_token_id` to `eos_token_id`:50256 for open-end generation.\n",
            " 59%|█████▉    | 55/93 [43:17<29:46, 47.01s/it]Setting `pad_token_id` to `eos_token_id`:50256 for open-end generation.\n",
            " 60%|██████    | 56/93 [44:05<29:08, 47.26s/it]Setting `pad_token_id` to `eos_token_id`:50256 for open-end generation.\n",
            " 61%|██████▏   | 57/93 [44:51<28:02, 46.75s/it]Setting `pad_token_id` to `eos_token_id`:50256 for open-end generation.\n",
            " 62%|██████▏   | 58/93 [45:42<28:04, 48.13s/it]Setting `pad_token_id` to `eos_token_id`:50256 for open-end generation.\n",
            " 63%|██████▎   | 59/93 [46:22<25:54, 45.73s/it]Setting `pad_token_id` to `eos_token_id`:50256 for open-end generation.\n",
            " 65%|██████▍   | 60/93 [47:18<26:53, 48.89s/it]Setting `pad_token_id` to `eos_token_id`:50256 for open-end generation.\n",
            " 66%|██████▌   | 61/93 [48:09<26:16, 49.26s/it]Setting `pad_token_id` to `eos_token_id`:50256 for open-end generation.\n",
            " 67%|██████▋   | 62/93 [49:00<25:44, 49.81s/it]Setting `pad_token_id` to `eos_token_id`:50256 for open-end generation.\n",
            " 68%|██████▊   | 63/93 [49:39<23:17, 46.59s/it]Setting `pad_token_id` to `eos_token_id`:50256 for open-end generation.\n",
            " 69%|██████▉   | 64/93 [50:23<22:09, 45.86s/it]Setting `pad_token_id` to `eos_token_id`:50256 for open-end generation.\n",
            " 70%|██████▉   | 65/93 [51:15<22:19, 47.84s/it]Setting `pad_token_id` to `eos_token_id`:50256 for open-end generation.\n",
            " 71%|███████   | 66/93 [52:07<22:05, 49.09s/it]Setting `pad_token_id` to `eos_token_id`:50256 for open-end generation.\n",
            " 72%|███████▏  | 67/93 [52:52<20:42, 47.80s/it]Setting `pad_token_id` to `eos_token_id`:50256 for open-end generation.\n",
            " 73%|███████▎  | 68/93 [53:41<19:59, 47.98s/it]Setting `pad_token_id` to `eos_token_id`:50256 for open-end generation.\n",
            " 74%|███████▍  | 69/93 [54:29<19:11, 47.99s/it]Setting `pad_token_id` to `eos_token_id`:50256 for open-end generation.\n",
            " 75%|███████▌  | 70/93 [55:14<18:03, 47.11s/it]Setting `pad_token_id` to `eos_token_id`:50256 for open-end generation.\n",
            " 76%|███████▋  | 71/93 [56:03<17:33, 47.90s/it]Setting `pad_token_id` to `eos_token_id`:50256 for open-end generation.\n",
            " 77%|███████▋  | 72/93 [56:50<16:37, 47.49s/it]Setting `pad_token_id` to `eos_token_id`:50256 for open-end generation.\n",
            " 78%|███████▊  | 73/93 [57:37<15:49, 47.49s/it]Setting `pad_token_id` to `eos_token_id`:50256 for open-end generation.\n",
            " 80%|███████▉  | 74/93 [58:22<14:43, 46.49s/it]Setting `pad_token_id` to `eos_token_id`:50256 for open-end generation.\n",
            " 81%|████████  | 75/93 [59:04<13:34, 45.23s/it]Setting `pad_token_id` to `eos_token_id`:50256 for open-end generation.\n",
            " 82%|████████▏ | 76/93 [59:55<13:17, 46.93s/it]Setting `pad_token_id` to `eos_token_id`:50256 for open-end generation.\n",
            " 83%|████████▎ | 77/93 [1:00:43<12:38, 47.40s/it]Setting `pad_token_id` to `eos_token_id`:50256 for open-end generation.\n",
            " 84%|████████▍ | 78/93 [1:01:31<11:50, 47.38s/it]Setting `pad_token_id` to `eos_token_id`:50256 for open-end generation.\n",
            " 85%|████████▍ | 79/93 [1:02:25<11:33, 49.50s/it]Setting `pad_token_id` to `eos_token_id`:50256 for open-end generation.\n",
            " 86%|████████▌ | 80/93 [1:03:18<10:55, 50.43s/it]Setting `pad_token_id` to `eos_token_id`:50256 for open-end generation.\n",
            " 87%|████████▋ | 81/93 [1:03:58<09:27, 47.33s/it]Setting `pad_token_id` to `eos_token_id`:50256 for open-end generation.\n",
            " 88%|████████▊ | 82/93 [1:04:44<08:35, 46.88s/it]Setting `pad_token_id` to `eos_token_id`:50256 for open-end generation.\n",
            " 89%|████████▉ | 83/93 [1:05:29<07:43, 46.37s/it]Setting `pad_token_id` to `eos_token_id`:50256 for open-end generation.\n",
            " 90%|█████████ | 84/93 [1:06:16<06:59, 46.63s/it]Setting `pad_token_id` to `eos_token_id`:50256 for open-end generation.\n",
            " 91%|█████████▏| 85/93 [1:06:55<05:54, 44.29s/it]Setting `pad_token_id` to `eos_token_id`:50256 for open-end generation.\n",
            " 92%|█████████▏| 86/93 [1:07:44<05:20, 45.74s/it]Setting `pad_token_id` to `eos_token_id`:50256 for open-end generation.\n",
            " 94%|█████████▎| 87/93 [1:08:33<04:40, 46.81s/it]Setting `pad_token_id` to `eos_token_id`:50256 for open-end generation.\n",
            " 95%|█████████▍| 88/93 [1:09:23<03:58, 47.79s/it]Setting `pad_token_id` to `eos_token_id`:50256 for open-end generation.\n",
            " 96%|█████████▌| 89/93 [1:10:10<03:09, 47.45s/it]Setting `pad_token_id` to `eos_token_id`:50256 for open-end generation.\n",
            " 97%|█████████▋| 90/93 [1:10:49<02:15, 45.05s/it]Setting `pad_token_id` to `eos_token_id`:50256 for open-end generation.\n",
            " 98%|█████████▊| 91/93 [1:11:32<01:28, 44.36s/it]Setting `pad_token_id` to `eos_token_id`:50256 for open-end generation.\n",
            " 99%|█████████▉| 92/93 [1:12:39<00:51, 51.01s/it]Setting `pad_token_id` to `eos_token_id`:50256 for open-end generation.\n",
            "100%|██████████| 93/93 [1:13:24<00:00, 47.36s/it]\n"
          ]
        }
      ]
    },
    {
      "cell_type": "code",
      "source": [
        "import evaluate\n",
        "\n",
        "sari = evaluate.load(\"sari\")\n",
        "\n",
        "real = [list(orig[:2500]) for orig in test['text']]\n",
        "\n",
        "\n",
        "sari.compute(sources=test['text'].to_list(),  ## original\n",
        "             references=[[ref] for ref in test['commentary'].to_list()], ## the comment from RG\n",
        "             predictions=[str(p) for p in preds]  ## model's version\n",
        "             )"
      ],
      "metadata": {
        "colab": {
          "base_uri": "https://localhost:8080/"
        },
        "id": "W4krn-xDqy2g",
        "outputId": "ec266f8c-d69f-473b-d647-af6d8301ad87"
      },
      "execution_count": 77,
      "outputs": [
        {
          "output_type": "execute_result",
          "data": {
            "text/plain": [
              "{'sari': 39.907188213348654}"
            ]
          },
          "metadata": {},
          "execution_count": 77
        }
      ]
    },
    {
      "cell_type": "code",
      "source": [
        "rouge = evaluate.load(\"rouge\")\n",
        "rouge.compute(references=test['text'].to_list(), predictions=[str(p) for p in preds])"
      ],
      "metadata": {
        "colab": {
          "base_uri": "https://localhost:8080/"
        },
        "id": "nD1wW4dqq_Nr",
        "outputId": "fe6f6647-2702-4870-fe47-0ce77d3ef33f"
      },
      "execution_count": 78,
      "outputs": [
        {
          "output_type": "execute_result",
          "data": {
            "text/plain": [
              "{'rouge1': 0.07365608088048531,\n",
              " 'rouge2': 0.014426468385822993,\n",
              " 'rougeL': 0.0690339414274968,\n",
              " 'rougeLsum': 0.0689156230010729}"
            ]
          },
          "metadata": {},
          "execution_count": 78
        }
      ]
    },
    {
      "cell_type": "code",
      "source": [
        "from tqdm import tqdm\n",
        "\n",
        "real = test['text'].to_list()\n",
        "preds = []\n",
        "\n",
        "for orig in tqdm(real):\n",
        "    generated_text = text_generator(orig[:2500] + '[SEP] ', max_length=1000)\n",
        "    generated_text = str(generated_text[0]['generated_text']).split(\"[SEP] \")[1:]\n",
        "    preds.append(generated_text)"
      ],
      "metadata": {
        "id": "dy9UDGgm9VU-"
      },
      "execution_count": null,
      "outputs": []
    },
    {
      "cell_type": "code",
      "source": [
        "import evaluate\n",
        "\n",
        "sari = evaluate.load(\"sari\")\n",
        "\n",
        "real = [list(orig[:2500]) for orig in test['text']]\n",
        "\n",
        "\n",
        "sari.compute(sources=test['text'].to_list(),  ## original\n",
        "             references=[[ref] for ref in test['commentary'].to_list()], ## the comment from RG\n",
        "             predictions=[str(p) for p in preds]  ## model's version\n",
        "             )"
      ],
      "metadata": {
        "id": "_GBkWfmV9mkT"
      },
      "execution_count": null,
      "outputs": []
    },
    {
      "cell_type": "code",
      "source": [
        "rouge = evaluate.load(\"rouge\")\n",
        "rouge.compute(references=test['text'].to_list(), predictions=[str(p) for p in preds])"
      ],
      "metadata": {
        "id": "PGoAid-f9pAU"
      },
      "execution_count": null,
      "outputs": []
    }
  ]
}