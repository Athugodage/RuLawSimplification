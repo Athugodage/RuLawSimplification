{
  "nbformat": 4,
  "nbformat_minor": 0,
  "metadata": {
    "colab": {
      "private_outputs": true,
      "provenance": [],
      "authorship_tag": "ABX9TyMZwwmERwg7hUQR8diMu2QV",
      "include_colab_link": true
    },
    "kernelspec": {
      "name": "python3",
      "display_name": "Python 3"
    },
    "language_info": {
      "name": "python"
    }
  },
  "cells": [
    {
      "cell_type": "markdown",
      "metadata": {
        "id": "view-in-github",
        "colab_type": "text"
      },
      "source": [
        "<a href=\"https://colab.research.google.com/github/Athugodage/RuLawSimplification/blob/main/use_transformers.ipynb\" target=\"_parent\"><img src=\"https://colab.research.google.com/assets/colab-badge.svg\" alt=\"Open In Colab\"/></a>"
      ]
    },
    {
      "cell_type": "code",
      "source": [
        "!pip install transformers"
      ],
      "metadata": {
        "id": "FoqIV67oyFIE"
      },
      "execution_count": null,
      "outputs": []
    },
    {
      "cell_type": "code",
      "source": [
        "!pip install huggingface_hub"
      ],
      "metadata": {
        "id": "0p4_LhinyHxx"
      },
      "execution_count": null,
      "outputs": []
    },
    {
      "cell_type": "code",
      "source": [
        "from huggingface_hub import notebook_login\n",
        "\n",
        "notebook_login()"
      ],
      "metadata": {
        "id": "mJ3ndpzPycIn"
      },
      "execution_count": null,
      "outputs": []
    },
    {
      "cell_type": "code",
      "execution_count": null,
      "metadata": {
        "id": "HLyPck_8x3oY"
      },
      "outputs": [],
      "source": [
        "from transformers import pipeline, AutoModelForSeq2SeqLM, AutoTokenizer"
      ]
    },
    {
      "cell_type": "code",
      "source": [
        "tokenizer = AutoTokenizer.from_pretrained(\"marcus2000/RLS_t5-500articles\")\n",
        "model = AutoModelForSeq2SeqLM.from_pretrained(\"marcus2000/RLS_t5-500articles\")\n"
      ],
      "metadata": {
        "id": "e-8hcAeLyAFc"
      },
      "execution_count": null,
      "outputs": []
    },
    {
      "cell_type": "code",
      "source": [
        "generator = pipeline('text-generation', model=model, tokenizer=tokenizer)"
      ],
      "metadata": {
        "id": "zcV7kbL3yz4k"
      },
      "execution_count": null,
      "outputs": []
    },
    {
      "cell_type": "code",
      "source": [
        "text = '''Со дня принятия в Российскую Федерацию Донецкой Народной Республики и образования в составе Российской Федерации нового субъекта граждане Донецкой Народной Республики, граждане Украины и лица без гражданства, постоянно проживавшие на этот день на территории Донецкой Народной Республики или ранее постоянно проживавшие на указанной территории и выехавшие из Донецкой Народной Республики в Российскую Федерацию, в том числе через территории третьих государств, а также их несовершеннолетние дети приобретают гражданство Российской Федерации в результате признания их гражданами Российской Федерации при условии принесения Присяги гражданина Российской Федерации.'''"
      ],
      "metadata": {
        "id": "BUJM13s9zjph"
      },
      "execution_count": null,
      "outputs": []
    },
    {
      "cell_type": "code",
      "source": [
        "generator(text)[0]['generated_text']"
      ],
      "metadata": {
        "id": "K8Dt6xsqzLMv"
      },
      "execution_count": null,
      "outputs": []
    }
  ]
}