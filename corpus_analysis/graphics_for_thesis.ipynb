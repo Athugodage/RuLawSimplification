{
  "nbformat": 4,
  "nbformat_minor": 0,
  "metadata": {
    "colab": {
      "private_outputs": true,
      "provenance": [],
      "include_colab_link": true
    },
    "kernelspec": {
      "name": "python3",
      "display_name": "Python 3"
    },
    "language_info": {
      "name": "python"
    }
  },
  "cells": [
    {
      "cell_type": "markdown",
      "metadata": {
        "id": "view-in-github",
        "colab_type": "text"
      },
      "source": [
        "<a href=\"https://colab.research.google.com/github/Athugodage/RuLawSimplification/blob/main/corpus_analysis/graphics_for_thesis.ipynb\" target=\"_parent\"><img src=\"https://colab.research.google.com/assets/colab-badge.svg\" alt=\"Open In Colab\"/></a>"
      ]
    },
    {
      "cell_type": "code",
      "execution_count": null,
      "metadata": {
        "id": "vUPX48pHC9de"
      },
      "outputs": [],
      "source": [
        "!pip install opendatasets"
      ]
    },
    {
      "cell_type": "code",
      "source": [
        "import opendatasets as od\n",
        "\n",
        "od.download('https://www.kaggle.com/datasets/athugodage/russian-legal-text-parallel-corpus')"
      ],
      "metadata": {
        "id": "JwUv_iOrI45v"
      },
      "execution_count": null,
      "outputs": []
    },
    {
      "cell_type": "code",
      "source": [
        "import pandas as pd\n",
        "\n",
        "df = pd.read_csv('/content/russian-legal-text-parallel-corpus/legal_text_corpus.csv')"
      ],
      "metadata": {
        "id": "tpzPEa4WI_Wu"
      },
      "execution_count": null,
      "outputs": []
    },
    {
      "cell_type": "code",
      "source": [
        "df.head(5)"
      ],
      "metadata": {
        "id": "MdkYZ4t0JLi5"
      },
      "execution_count": null,
      "outputs": []
    },
    {
      "cell_type": "code",
      "source": [
        "def check(data):\n",
        "\n",
        "    if \"президент\" in str(data).lower():\n",
        "        return True\n",
        "    else:\n",
        "        return False\n",
        "\n",
        "\n",
        "df['President_is_in'] = df['Текст'].apply(check)\n",
        "df"
      ],
      "metadata": {
        "id": "CU3VCks3K8Q6"
      },
      "execution_count": null,
      "outputs": []
    },
    {
      "cell_type": "code",
      "source": [
        "df['year'] = df['Дата'].apply(lambda x: x[:4])"
      ],
      "metadata": {
        "id": "8ZSGy4YpOHMd"
      },
      "execution_count": null,
      "outputs": []
    },
    {
      "cell_type": "code",
      "source": [
        "data = df.sort_values('year')"
      ],
      "metadata": {
        "id": "6jN9q3niOhL6"
      },
      "execution_count": null,
      "outputs": []
    },
    {
      "cell_type": "code",
      "source": [
        "import seaborn as sns\n",
        "\n",
        "sns.histplot(data['President_is_in'].dropna())"
      ],
      "metadata": {
        "id": "U6Oz5ekBLneE"
      },
      "execution_count": null,
      "outputs": []
    },
    {
      "cell_type": "code",
      "source": [
        "import matplotlib.pyplot as plt\n",
        "\n",
        "sns.barplot(data=data, x=\"year\", y='President_is_in')\n",
        "\n",
        "plt.title('Ratio of documents with lemma \"президент\" inside')\n",
        "plt.xticks(rotation=90)\n",
        "plt.tight_layout()\n"
      ],
      "metadata": {
        "id": "jYx454uuNzts"
      },
      "execution_count": null,
      "outputs": []
    },
    {
      "cell_type": "code",
      "source": [
        "def detect(data):\n",
        "    if \"указ\" in data.split(' ')[0].lower():\n",
        "        return \"Указ\"\n",
        "    elif \"постановление\" in data.split(' ')[0].lower():\n",
        "        return \"Постановление\"\n",
        "    elif \"федеральный\" in data.split(' ')[0].lower():\n",
        "        return \"Закон\"\n",
        "    elif \"приказ\" in data.split(' ')[0].lower():\n",
        "        return \"Приказ\"\n",
        "    elif \"изменения\" or \"поправки\" in data:\n",
        "        return \"Поправки\"\n",
        "    else:\n",
        "        return \"Другое\"\n",
        "\n",
        "df['Type'] = df['Название документа'].apply(detect)"
      ],
      "metadata": {
        "id": "08ZhfFDUXjvp"
      },
      "execution_count": null,
      "outputs": []
    },
    {
      "cell_type": "code",
      "source": [
        "df"
      ],
      "metadata": {
        "id": "4Bo8m145YNon"
      },
      "execution_count": null,
      "outputs": []
    },
    {
      "cell_type": "code",
      "source": [
        "df.groupby('Type').agg({'Type': 'count'})['Type']"
      ],
      "metadata": {
        "id": "FHHX01LRbSE2"
      },
      "execution_count": null,
      "outputs": []
    },
    {
      "cell_type": "code",
      "source": [
        "import matplotlib.pyplot as plt\n",
        "import seaborn as sns\n",
        "\n",
        "stats = df.groupby('Type').agg({'Type': 'count'})\n",
        "\n",
        "#define Seaborn color palette to use\n",
        "colors = sns.color_palette('pastel')[ 0:5 ]\n",
        "plt.title('Ratio of different types of legal documents')\n",
        "#create pie chart\n",
        "plt.pie(stats['Type'], labels=stats.index, colors = colors, autopct='%.0f%%')\n",
        "plt.figure(figsize=(20, 20), dpi=120)\n",
        "\n",
        "plt.show()"
      ],
      "metadata": {
        "id": "E2OoHYo8ajwA"
      },
      "execution_count": null,
      "outputs": []
    },
    {
      "cell_type": "code",
      "source": [
        "df.head()"
      ],
      "metadata": {
        "id": "S93q6W05f8ST"
      },
      "execution_count": null,
      "outputs": []
    },
    {
      "cell_type": "code",
      "source": [
        "df['Text_len'] = df[\"Текст\"].astype(str).apply(lambda x: len(x.split(' ')))\n",
        "df['Comment_len'] = df['Комментарий РГ'].astype(str).apply(lambda x: len(x.split(' ')))"
      ],
      "metadata": {
        "id": "146ScpQLhyZt"
      },
      "execution_count": null,
      "outputs": []
    },
    {
      "cell_type": "code",
      "source": [
        "\n",
        "\n",
        "fig, (ax, ax1) = plt.subplots(1, 2)\n",
        "plt.title('Number of tokens in each category of texts')\n",
        "df['Text_len'].hist(ax=ax, color='red')\n",
        "ax.set_title('Legal document')\n",
        "\n",
        "df['Comment_len'].hist(ax=ax1)\n",
        "ax1.set_title('Simplified text')"
      ],
      "metadata": {
        "id": "7uZdWbSfjJc0"
      },
      "execution_count": null,
      "outputs": []
    },
    {
      "cell_type": "code",
      "source": [
        "\n",
        "fig, ax = plt.subplots()\n",
        "df.groupby(['year']).agg({'Text_len': 'mean', 'Comment_len': 'mean'}).plot(cmap=\"PiYG\", ax=ax)\n",
        "ax.legend(['Legal Text', 'Simplified Text'])\n",
        "\n",
        "%matplotlib inline\n",
        "plt.title('Mean number of tokens in legal documents and its simplified versions (comments) by year')\n",
        "plt.xlabel(\"Year\")\n",
        "plt.ylabel(\"Number of tokens\")\n",
        "plt.rcParams[\"figure.figsize\"] = [10, 7]"
      ],
      "metadata": {
        "id": "-gbttkNFiVCh"
      },
      "execution_count": null,
      "outputs": []
    },
    {
      "cell_type": "code",
      "source": [
        "fig, ax = plt.subplots()\n",
        "\n",
        "plt.suptitle('Text size (in number of tokens) in original legal documents')\n",
        "df.groupby('year').agg({'Text_len': ['min', 'max', 'mean']}).plot(cmap=\"tab10\", ax=ax)\n",
        "ax.legend(['Minimum', 'Maximum', 'Mean'])\n",
        "\n",
        "\n",
        "\n",
        "\n",
        "plt.rcParams[\"figure.figsize\"] = [15, 10]"
      ],
      "metadata": {
        "id": "vRbm6iW1m6LA"
      },
      "execution_count": null,
      "outputs": []
    },
    {
      "cell_type": "code",
      "source": [
        "fig, ax = plt.subplots()\n",
        "plt.suptitle('Text size (in number of tokens) in simplified versions')\n",
        "df.groupby('year').agg({'Comment_len': ['min', 'max', 'mean']}).plot(cmap=\"turbo\", ax=ax)\n",
        "ax.legend(['Minimum', 'Maximum', 'Mean'])\n",
        "\n",
        "plt.xlabel(\"Year\")\n",
        "plt.ylabel(\"Number of tokens\")\n",
        "plt.rcParams[\"figure.figsize\"] = [7, 10]"
      ],
      "metadata": {
        "id": "NO5ouZv8rQNF"
      },
      "execution_count": null,
      "outputs": []
    },
    {
      "cell_type": "code",
      "source": [
        "df.iloc[1597]['Текст']"
      ],
      "metadata": {
        "id": "bYh4jkbcy3Tz"
      },
      "execution_count": null,
      "outputs": []
    },
    {
      "cell_type": "code",
      "source": [
        "\n",
        "df[df[\"Text_len\"].astype(int) > 40000]"
      ],
      "metadata": {
        "id": "QMArPg4Yyyyx"
      },
      "execution_count": null,
      "outputs": []
    }
  ]
}