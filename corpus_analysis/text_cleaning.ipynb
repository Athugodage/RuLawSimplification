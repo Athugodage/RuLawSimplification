{
  "cells": [
    {
      "cell_type": "markdown",
      "metadata": {
        "id": "view-in-github",
        "colab_type": "text"
      },
      "source": [
        "<a href=\"https://colab.research.google.com/github/Athugodage/RuLawSimplification/blob/main/corpus_analysis/text_cleaning.ipynb\" target=\"_parent\"><img src=\"https://colab.research.google.com/assets/colab-badge.svg\" alt=\"Open In Colab\"/></a>"
      ]
    },
    {
      "cell_type": "code",
      "execution_count": null,
      "metadata": {
        "colab": {
          "base_uri": "https://localhost:8080/"
        },
        "id": "iLl615PfoD5U",
        "outputId": "8f201ef8-ba06-42f7-a160-1b419c7ecf86"
      },
      "outputs": [
        {
          "output_type": "stream",
          "name": "stdout",
          "text": [
            "fatal: destination path 'RuLawSimplification' already exists and is not an empty directory.\n"
          ]
        }
      ],
      "source": [
        "!git clone https://github.com/Athugodage/RuLawSimplification.git"
      ]
    },
    {
      "cell_type": "code",
      "execution_count": null,
      "metadata": {
        "id": "40p8kKy3odxV",
        "outputId": "2081836a-ee95-441a-c62e-719833e6fdde",
        "colab": {
          "base_uri": "https://localhost:8080/"
        }
      },
      "outputs": [
        {
          "output_type": "stream",
          "name": "stdout",
          "text": [
            "Archive:  /content/RuLawSimplification/corpus/the_corpus.zip\n",
            "replace the_corpus.csv? [y]es, [n]o, [A]ll, [N]one, [r]ename: n\n"
          ]
        }
      ],
      "source": [
        "!unzip '/content/RuLawSimplification/corpus/the_corpus.zip'"
      ]
    },
    {
      "cell_type": "code",
      "execution_count": null,
      "metadata": {
        "id": "_jJSnpHuof4C"
      },
      "outputs": [],
      "source": [
        "import pandas as pd\n",
        "\n",
        "df = pd.read_csv('the_corpus.csv')"
      ]
    },
    {
      "cell_type": "code",
      "source": [
        "df.head()"
      ],
      "metadata": {
        "id": "wwi6V9jL_j8j",
        "outputId": "5931cea5-dc18-4b31-b283-305b858cb011",
        "colab": {
          "base_uri": "https://localhost:8080/",
          "height": 510
        }
      },
      "execution_count": null,
      "outputs": [
        {
          "output_type": "execute_result",
          "data": {
            "text/plain": [
              "                                  Название документа  \\\n",
              "0  Постановление Конституционного Суда Российской...   \n",
              "1  Постановление Пленума Верховного Суда Российск...   \n",
              "2  Федеральный закон от 21 ноября 2022 г. N 455-Ф...   \n",
              "3  Федеральный закон от 21 ноября 2022 г. N 443-Ф...   \n",
              "4  Федеральный закон от 21 ноября 2022 г. N 448-Ф...   \n",
              "\n",
              "                                              Ссылка  \\\n",
              "0  https://rg.ru/documents/2022/11/25/document-ob...   \n",
              "1  https://rg.ru/documents/2022/11/25/document-pl...   \n",
              "2  https://rg.ru/documents/2022/11/24/document-po...   \n",
              "3  https://rg.ru/documents/2022/11/24/document-na...   \n",
              "4  https://rg.ru/documents/2022/11/24/document-by...   \n",
              "\n",
              "                                               Текст  \\\n",
              "0  Именем Российской Федерации\\n  Конституционный...   \n",
              "1  В целях обеспечения единства практики применен...   \n",
              "2  Принят Государственной Думой 15 ноября 2022 го...   \n",
              "3  Принят Государственной Думой 10 ноября 2022 го...   \n",
              "4  Принят Государственной Думой 10 ноября 2022 го...   \n",
              "\n",
              "                                      Комментарий РГ        Date  \n",
              "0  Бессрочный запрет на профессию для адвокатов, ...  2022-11-25  \n",
              "1  Пленум Верховного суда России утвердил постано...  2022-11-25  \n",
              "2  Единое пособие для беременных женщин и граждан...  2022-11-24  \n",
              "3  На сладкую газировку с 1 июля 2023 года введут...  2022-11-24  \n",
              "4  Приостановленное в этом году бюджетное правило...  2022-11-24  "
            ],
            "text/html": [
              "\n",
              "  <div id=\"df-533f56fc-41c2-416b-9be6-8e0ae7cad084\">\n",
              "    <div class=\"colab-df-container\">\n",
              "      <div>\n",
              "<style scoped>\n",
              "    .dataframe tbody tr th:only-of-type {\n",
              "        vertical-align: middle;\n",
              "    }\n",
              "\n",
              "    .dataframe tbody tr th {\n",
              "        vertical-align: top;\n",
              "    }\n",
              "\n",
              "    .dataframe thead th {\n",
              "        text-align: right;\n",
              "    }\n",
              "</style>\n",
              "<table border=\"1\" class=\"dataframe\">\n",
              "  <thead>\n",
              "    <tr style=\"text-align: right;\">\n",
              "      <th></th>\n",
              "      <th>Название документа</th>\n",
              "      <th>Ссылка</th>\n",
              "      <th>Текст</th>\n",
              "      <th>Комментарий РГ</th>\n",
              "      <th>Date</th>\n",
              "    </tr>\n",
              "  </thead>\n",
              "  <tbody>\n",
              "    <tr>\n",
              "      <th>0</th>\n",
              "      <td>Постановление Конституционного Суда Российской...</td>\n",
              "      <td>https://rg.ru/documents/2022/11/25/document-ob...</td>\n",
              "      <td>Именем Российской Федерации\\n  Конституционный...</td>\n",
              "      <td>Бессрочный запрет на профессию для адвокатов, ...</td>\n",
              "      <td>2022-11-25</td>\n",
              "    </tr>\n",
              "    <tr>\n",
              "      <th>1</th>\n",
              "      <td>Постановление Пленума Верховного Суда Российск...</td>\n",
              "      <td>https://rg.ru/documents/2022/11/25/document-pl...</td>\n",
              "      <td>В целях обеспечения единства практики применен...</td>\n",
              "      <td>Пленум Верховного суда России утвердил постано...</td>\n",
              "      <td>2022-11-25</td>\n",
              "    </tr>\n",
              "    <tr>\n",
              "      <th>2</th>\n",
              "      <td>Федеральный закон от 21 ноября 2022 г. N 455-Ф...</td>\n",
              "      <td>https://rg.ru/documents/2022/11/24/document-po...</td>\n",
              "      <td>Принят Государственной Думой 15 ноября 2022 го...</td>\n",
              "      <td>Единое пособие для беременных женщин и граждан...</td>\n",
              "      <td>2022-11-24</td>\n",
              "    </tr>\n",
              "    <tr>\n",
              "      <th>3</th>\n",
              "      <td>Федеральный закон от 21 ноября 2022 г. N 443-Ф...</td>\n",
              "      <td>https://rg.ru/documents/2022/11/24/document-na...</td>\n",
              "      <td>Принят Государственной Думой 10 ноября 2022 го...</td>\n",
              "      <td>На сладкую газировку с 1 июля 2023 года введут...</td>\n",
              "      <td>2022-11-24</td>\n",
              "    </tr>\n",
              "    <tr>\n",
              "      <th>4</th>\n",
              "      <td>Федеральный закон от 21 ноября 2022 г. N 448-Ф...</td>\n",
              "      <td>https://rg.ru/documents/2022/11/24/document-by...</td>\n",
              "      <td>Принят Государственной Думой 10 ноября 2022 го...</td>\n",
              "      <td>Приостановленное в этом году бюджетное правило...</td>\n",
              "      <td>2022-11-24</td>\n",
              "    </tr>\n",
              "  </tbody>\n",
              "</table>\n",
              "</div>\n",
              "      <button class=\"colab-df-convert\" onclick=\"convertToInteractive('df-533f56fc-41c2-416b-9be6-8e0ae7cad084')\"\n",
              "              title=\"Convert this dataframe to an interactive table.\"\n",
              "              style=\"display:none;\">\n",
              "        \n",
              "  <svg xmlns=\"http://www.w3.org/2000/svg\" height=\"24px\"viewBox=\"0 0 24 24\"\n",
              "       width=\"24px\">\n",
              "    <path d=\"M0 0h24v24H0V0z\" fill=\"none\"/>\n",
              "    <path d=\"M18.56 5.44l.94 2.06.94-2.06 2.06-.94-2.06-.94-.94-2.06-.94 2.06-2.06.94zm-11 1L8.5 8.5l.94-2.06 2.06-.94-2.06-.94L8.5 2.5l-.94 2.06-2.06.94zm10 10l.94 2.06.94-2.06 2.06-.94-2.06-.94-.94-2.06-.94 2.06-2.06.94z\"/><path d=\"M17.41 7.96l-1.37-1.37c-.4-.4-.92-.59-1.43-.59-.52 0-1.04.2-1.43.59L10.3 9.45l-7.72 7.72c-.78.78-.78 2.05 0 2.83L4 21.41c.39.39.9.59 1.41.59.51 0 1.02-.2 1.41-.59l7.78-7.78 2.81-2.81c.8-.78.8-2.07 0-2.86zM5.41 20L4 18.59l7.72-7.72 1.47 1.35L5.41 20z\"/>\n",
              "  </svg>\n",
              "      </button>\n",
              "      \n",
              "  <style>\n",
              "    .colab-df-container {\n",
              "      display:flex;\n",
              "      flex-wrap:wrap;\n",
              "      gap: 12px;\n",
              "    }\n",
              "\n",
              "    .colab-df-convert {\n",
              "      background-color: #E8F0FE;\n",
              "      border: none;\n",
              "      border-radius: 50%;\n",
              "      cursor: pointer;\n",
              "      display: none;\n",
              "      fill: #1967D2;\n",
              "      height: 32px;\n",
              "      padding: 0 0 0 0;\n",
              "      width: 32px;\n",
              "    }\n",
              "\n",
              "    .colab-df-convert:hover {\n",
              "      background-color: #E2EBFA;\n",
              "      box-shadow: 0px 1px 2px rgba(60, 64, 67, 0.3), 0px 1px 3px 1px rgba(60, 64, 67, 0.15);\n",
              "      fill: #174EA6;\n",
              "    }\n",
              "\n",
              "    [theme=dark] .colab-df-convert {\n",
              "      background-color: #3B4455;\n",
              "      fill: #D2E3FC;\n",
              "    }\n",
              "\n",
              "    [theme=dark] .colab-df-convert:hover {\n",
              "      background-color: #434B5C;\n",
              "      box-shadow: 0px 1px 3px 1px rgba(0, 0, 0, 0.15);\n",
              "      filter: drop-shadow(0px 1px 2px rgba(0, 0, 0, 0.3));\n",
              "      fill: #FFFFFF;\n",
              "    }\n",
              "  </style>\n",
              "\n",
              "      <script>\n",
              "        const buttonEl =\n",
              "          document.querySelector('#df-533f56fc-41c2-416b-9be6-8e0ae7cad084 button.colab-df-convert');\n",
              "        buttonEl.style.display =\n",
              "          google.colab.kernel.accessAllowed ? 'block' : 'none';\n",
              "\n",
              "        async function convertToInteractive(key) {\n",
              "          const element = document.querySelector('#df-533f56fc-41c2-416b-9be6-8e0ae7cad084');\n",
              "          const dataTable =\n",
              "            await google.colab.kernel.invokeFunction('convertToInteractive',\n",
              "                                                     [key], {});\n",
              "          if (!dataTable) return;\n",
              "\n",
              "          const docLinkHtml = 'Like what you see? Visit the ' +\n",
              "            '<a target=\"_blank\" href=https://colab.research.google.com/notebooks/data_table.ipynb>data table notebook</a>'\n",
              "            + ' to learn more about interactive tables.';\n",
              "          element.innerHTML = '';\n",
              "          dataTable['output_type'] = 'display_data';\n",
              "          await google.colab.output.renderOutput(dataTable, element);\n",
              "          const docLink = document.createElement('div');\n",
              "          docLink.innerHTML = docLinkHtml;\n",
              "          element.appendChild(docLink);\n",
              "        }\n",
              "      </script>\n",
              "    </div>\n",
              "  </div>\n",
              "  "
            ]
          },
          "metadata": {},
          "execution_count": 4
        }
      ]
    },
    {
      "cell_type": "code",
      "source": [
        "!pip install razdel\n",
        "from razdel import sentenize"
      ],
      "metadata": {
        "id": "cGtHJESiAnba",
        "outputId": "589f61c8-9da8-4f8a-c878-79a7d61a683a",
        "colab": {
          "base_uri": "https://localhost:8080/"
        }
      },
      "execution_count": null,
      "outputs": [
        {
          "output_type": "stream",
          "name": "stdout",
          "text": [
            "Looking in indexes: https://pypi.org/simple, https://us-python.pkg.dev/colab-wheels/public/simple/\n",
            "Requirement already satisfied: razdel in /usr/local/lib/python3.9/dist-packages (0.5.0)\n"
          ]
        }
      ]
    },
    {
      "cell_type": "code",
      "source": [
        "import re\n",
        "from tqdm import tqdm\n",
        "\n",
        "tqdm.pandas()\n",
        "\n",
        "n = 0\n",
        "\n",
        "def cut_it(text):\n",
        "    sents = list(sentenize(text))\n",
        "    start = len(sents) if len(sents) < 40 else 35\n",
        "\n",
        "    sents = [s.text for s in sents[-start:]] \n",
        "    \n",
        "    new_text = ''\n",
        "    for s in sents:\n",
        "        new_text = new_text + ' ' + s\n",
        "    return new_text\n",
        "                \n",
        "\n",
        "\n",
        "df['Cut_original'] = df['Текст'].progress_apply(cut_it)\n"
      ],
      "metadata": {
        "id": "c92xw1WAuJ0B",
        "outputId": "f9906870-b139-4c51-900b-e8d227e45fee",
        "colab": {
          "base_uri": "https://localhost:8080/"
        }
      },
      "execution_count": null,
      "outputs": [
        {
          "output_type": "stream",
          "name": "stderr",
          "text": [
            "100%|██████████| 2022/2022 [00:19<00:00, 103.61it/s]\n"
          ]
        }
      ]
    },
    {
      "cell_type": "code",
      "source": [
        "def cut_it(text):\n",
        "    ## функции отличаются, т.к. в первая режет со второго предложения,\n",
        "    ## а вторая с первого. Также тут меньше предложений в итоге\n",
        "\n",
        "    sents = list(sentenize(text))\n",
        "    end = len(sents) if len(sents) < 30 else 21\n",
        "    if len(sents) > 30:\n",
        "        end = 21\n",
        "    elif len(sents) < 30:\n",
        "        end = len(sents)\n",
        "\n",
        "    sents = [s.text for s in sents[0:end]] \n",
        "    \n",
        "    new_text = ''\n",
        "    for s in sents:\n",
        "        new_text = new_text + ' ' + s\n",
        "    return new_text\n",
        "                \n",
        "df['Cut_comment'] = df['Комментарий РГ'].progress_apply(cut_it)"
      ],
      "metadata": {
        "id": "zklvHcsdM0F-",
        "outputId": "d8c75f78-01dc-4d56-f32f-6c5bb0b71cc0",
        "colab": {
          "base_uri": "https://localhost:8080/"
        }
      },
      "execution_count": null,
      "outputs": [
        {
          "output_type": "stream",
          "name": "stderr",
          "text": [
            "100%|██████████| 2022/2022 [00:01<00:00, 1568.89it/s]\n"
          ]
        }
      ]
    },
    {
      "cell_type": "code",
      "source": [
        "data = df.copy()\n",
        "\n",
        "df[['Cut_original', 'Cut_comment']]"
      ],
      "metadata": {
        "id": "-xwqbNBhNqRx",
        "outputId": "9a310530-f10b-4aa4-9581-cf1a4b2b9a18",
        "colab": {
          "base_uri": "https://localhost:8080/",
          "height": 424
        }
      },
      "execution_count": null,
      "outputs": [
        {
          "output_type": "execute_result",
          "data": {
            "text/plain": [
              "                                           Cut_original  \\\n",
              "0      При этом должны использоваться не чрезмерные,...   \n",
              "1      Суд, установив факт нарушения прав потребител...   \n",
              "2      В состав семьи, учитываемый при определении п...   \n",
              "3      2019, N 50, ст. 7201; 2022, N 27, ст. 4607) с...   \n",
              "4      Перечисление средств по таким контрактам (дог...   \n",
              "...                                                 ...   \n",
              "2017   2006, N 52 (часть I), ст. 5498; 2007, N 46, с...   \n",
              "2018   Правительство Российской Федерации постановля...   \n",
              "2019   Правительство Российской Федерации постановля...   \n",
              "2020   Правительство Российской Федерации постановля...   \n",
              "2021   Порядок исключения патентного поверенного из ...   \n",
              "\n",
              "                                            Cut_comment  \n",
              "0      Бессрочный запрет на профессию для адвокатов,...  \n",
              "1      Пленум Верховного суда России утвердил постан...  \n",
              "2      Единое пособие для беременных женщин и гражда...  \n",
              "3      На сладкую газировку с 1 июля 2023 года введу...  \n",
              "4      Приостановленное в этом году бюджетное правил...  \n",
              "...                                                 ...  \n",
              "2017   Через десять дней автомобиль можно будет пост...  \n",
              "2018   Правительство утвердило изменения в правила н...  \n",
              "2019   Правительство приняло постановление, расширяю...  \n",
              "2020   Специфическим образом теперь должны быть раск...  \n",
              "2021   В этом году деятельность патентных поверенных...  \n",
              "\n",
              "[2022 rows x 2 columns]"
            ],
            "text/html": [
              "\n",
              "  <div id=\"df-62dc1aa0-2d7b-4478-b584-0e27fe986759\">\n",
              "    <div class=\"colab-df-container\">\n",
              "      <div>\n",
              "<style scoped>\n",
              "    .dataframe tbody tr th:only-of-type {\n",
              "        vertical-align: middle;\n",
              "    }\n",
              "\n",
              "    .dataframe tbody tr th {\n",
              "        vertical-align: top;\n",
              "    }\n",
              "\n",
              "    .dataframe thead th {\n",
              "        text-align: right;\n",
              "    }\n",
              "</style>\n",
              "<table border=\"1\" class=\"dataframe\">\n",
              "  <thead>\n",
              "    <tr style=\"text-align: right;\">\n",
              "      <th></th>\n",
              "      <th>Cut_original</th>\n",
              "      <th>Cut_comment</th>\n",
              "    </tr>\n",
              "  </thead>\n",
              "  <tbody>\n",
              "    <tr>\n",
              "      <th>0</th>\n",
              "      <td>При этом должны использоваться не чрезмерные,...</td>\n",
              "      <td>Бессрочный запрет на профессию для адвокатов,...</td>\n",
              "    </tr>\n",
              "    <tr>\n",
              "      <th>1</th>\n",
              "      <td>Суд, установив факт нарушения прав потребител...</td>\n",
              "      <td>Пленум Верховного суда России утвердил постан...</td>\n",
              "    </tr>\n",
              "    <tr>\n",
              "      <th>2</th>\n",
              "      <td>В состав семьи, учитываемый при определении п...</td>\n",
              "      <td>Единое пособие для беременных женщин и гражда...</td>\n",
              "    </tr>\n",
              "    <tr>\n",
              "      <th>3</th>\n",
              "      <td>2019, N 50, ст. 7201; 2022, N 27, ст. 4607) с...</td>\n",
              "      <td>На сладкую газировку с 1 июля 2023 года введу...</td>\n",
              "    </tr>\n",
              "    <tr>\n",
              "      <th>4</th>\n",
              "      <td>Перечисление средств по таким контрактам (дог...</td>\n",
              "      <td>Приостановленное в этом году бюджетное правил...</td>\n",
              "    </tr>\n",
              "    <tr>\n",
              "      <th>...</th>\n",
              "      <td>...</td>\n",
              "      <td>...</td>\n",
              "    </tr>\n",
              "    <tr>\n",
              "      <th>2017</th>\n",
              "      <td>2006, N 52 (часть I), ст. 5498; 2007, N 46, с...</td>\n",
              "      <td>Через десять дней автомобиль можно будет пост...</td>\n",
              "    </tr>\n",
              "    <tr>\n",
              "      <th>2018</th>\n",
              "      <td>Правительство Российской Федерации постановля...</td>\n",
              "      <td>Правительство утвердило изменения в правила н...</td>\n",
              "    </tr>\n",
              "    <tr>\n",
              "      <th>2019</th>\n",
              "      <td>Правительство Российской Федерации постановля...</td>\n",
              "      <td>Правительство приняло постановление, расширяю...</td>\n",
              "    </tr>\n",
              "    <tr>\n",
              "      <th>2020</th>\n",
              "      <td>Правительство Российской Федерации постановля...</td>\n",
              "      <td>Специфическим образом теперь должны быть раск...</td>\n",
              "    </tr>\n",
              "    <tr>\n",
              "      <th>2021</th>\n",
              "      <td>Порядок исключения патентного поверенного из ...</td>\n",
              "      <td>В этом году деятельность патентных поверенных...</td>\n",
              "    </tr>\n",
              "  </tbody>\n",
              "</table>\n",
              "<p>2022 rows × 2 columns</p>\n",
              "</div>\n",
              "      <button class=\"colab-df-convert\" onclick=\"convertToInteractive('df-62dc1aa0-2d7b-4478-b584-0e27fe986759')\"\n",
              "              title=\"Convert this dataframe to an interactive table.\"\n",
              "              style=\"display:none;\">\n",
              "        \n",
              "  <svg xmlns=\"http://www.w3.org/2000/svg\" height=\"24px\"viewBox=\"0 0 24 24\"\n",
              "       width=\"24px\">\n",
              "    <path d=\"M0 0h24v24H0V0z\" fill=\"none\"/>\n",
              "    <path d=\"M18.56 5.44l.94 2.06.94-2.06 2.06-.94-2.06-.94-.94-2.06-.94 2.06-2.06.94zm-11 1L8.5 8.5l.94-2.06 2.06-.94-2.06-.94L8.5 2.5l-.94 2.06-2.06.94zm10 10l.94 2.06.94-2.06 2.06-.94-2.06-.94-.94-2.06-.94 2.06-2.06.94z\"/><path d=\"M17.41 7.96l-1.37-1.37c-.4-.4-.92-.59-1.43-.59-.52 0-1.04.2-1.43.59L10.3 9.45l-7.72 7.72c-.78.78-.78 2.05 0 2.83L4 21.41c.39.39.9.59 1.41.59.51 0 1.02-.2 1.41-.59l7.78-7.78 2.81-2.81c.8-.78.8-2.07 0-2.86zM5.41 20L4 18.59l7.72-7.72 1.47 1.35L5.41 20z\"/>\n",
              "  </svg>\n",
              "      </button>\n",
              "      \n",
              "  <style>\n",
              "    .colab-df-container {\n",
              "      display:flex;\n",
              "      flex-wrap:wrap;\n",
              "      gap: 12px;\n",
              "    }\n",
              "\n",
              "    .colab-df-convert {\n",
              "      background-color: #E8F0FE;\n",
              "      border: none;\n",
              "      border-radius: 50%;\n",
              "      cursor: pointer;\n",
              "      display: none;\n",
              "      fill: #1967D2;\n",
              "      height: 32px;\n",
              "      padding: 0 0 0 0;\n",
              "      width: 32px;\n",
              "    }\n",
              "\n",
              "    .colab-df-convert:hover {\n",
              "      background-color: #E2EBFA;\n",
              "      box-shadow: 0px 1px 2px rgba(60, 64, 67, 0.3), 0px 1px 3px 1px rgba(60, 64, 67, 0.15);\n",
              "      fill: #174EA6;\n",
              "    }\n",
              "\n",
              "    [theme=dark] .colab-df-convert {\n",
              "      background-color: #3B4455;\n",
              "      fill: #D2E3FC;\n",
              "    }\n",
              "\n",
              "    [theme=dark] .colab-df-convert:hover {\n",
              "      background-color: #434B5C;\n",
              "      box-shadow: 0px 1px 3px 1px rgba(0, 0, 0, 0.15);\n",
              "      filter: drop-shadow(0px 1px 2px rgba(0, 0, 0, 0.3));\n",
              "      fill: #FFFFFF;\n",
              "    }\n",
              "  </style>\n",
              "\n",
              "      <script>\n",
              "        const buttonEl =\n",
              "          document.querySelector('#df-62dc1aa0-2d7b-4478-b584-0e27fe986759 button.colab-df-convert');\n",
              "        buttonEl.style.display =\n",
              "          google.colab.kernel.accessAllowed ? 'block' : 'none';\n",
              "\n",
              "        async function convertToInteractive(key) {\n",
              "          const element = document.querySelector('#df-62dc1aa0-2d7b-4478-b584-0e27fe986759');\n",
              "          const dataTable =\n",
              "            await google.colab.kernel.invokeFunction('convertToInteractive',\n",
              "                                                     [key], {});\n",
              "          if (!dataTable) return;\n",
              "\n",
              "          const docLinkHtml = 'Like what you see? Visit the ' +\n",
              "            '<a target=\"_blank\" href=https://colab.research.google.com/notebooks/data_table.ipynb>data table notebook</a>'\n",
              "            + ' to learn more about interactive tables.';\n",
              "          element.innerHTML = '';\n",
              "          dataTable['output_type'] = 'display_data';\n",
              "          await google.colab.output.renderOutput(dataTable, element);\n",
              "          const docLink = document.createElement('div');\n",
              "          docLink.innerHTML = docLinkHtml;\n",
              "          element.appendChild(docLink);\n",
              "        }\n",
              "      </script>\n",
              "    </div>\n",
              "  </div>\n",
              "  "
            ]
          },
          "metadata": {},
          "execution_count": 66
        }
      ]
    },
    {
      "cell_type": "code",
      "source": [
        "df[['Cut_original', 'Cut_comment']].to_csv('cut_corpus.csv', index=False)"
      ],
      "metadata": {
        "id": "-JFSjVvkQmUS"
      },
      "execution_count": null,
      "outputs": []
    },
    {
      "cell_type": "code",
      "execution_count": null,
      "metadata": {
        "id": "SyUkCBLppgXu"
      },
      "outputs": [],
      "source": [
        "from sklearn.model_selection import train_test_split"
      ]
    },
    {
      "cell_type": "code",
      "execution_count": null,
      "metadata": {
        "id": "9-nz7njgpmyu"
      },
      "outputs": [],
      "source": [
        "train, test = train_test_split(df, random_state=42, test_size=0.05)"
      ]
    },
    {
      "cell_type": "markdown",
      "metadata": {
        "id": "959PjU1QMUbB"
      },
      "source": [
        "# Tutorial\n",
        "\n",
        "In the tutorial, we are going to fine-tune a German GPT-2 from the [Huggingface model hub](https://huggingface.co/models). As fine-tune, data we are using the [German Recipes Dataset](https://www.kaggle.com/sterby/german-recipes-dataset), which consists of 12190 german recipes with metadata crawled from [chefkoch.de](http://chefkoch.de/).\n",
        "\n",
        "The idea is we use the recipe description to fine-tune our GPT-2 to let us write recipes we can cook.\n",
        "\n",
        "![EgmAK04WoAAoA-W.png](data:image/png;base64,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)\n",
        "\n",
        "I am using Google Colab with a GPU runtime for this tutorial. If you are not sure how to use a GPU Runtime take a look here."
      ]
    },
    {
      "cell_type": "markdown",
      "metadata": {
        "id": "DRHEjKRJbNjY"
      },
      "source": [
        "## **What are we going to do:**\n",
        "\n",
        "- load the dataset from kaggle\n",
        "- prepare the dataset and build a ``TextDataset``\n",
        "- load the pre-trained GPT-2 model and tokenizer\n",
        "- initialize ``Trainer`` with ``TrainingArguments``\n",
        "- train and save the model\n",
        "- test the model"
      ]
    },
    {
      "cell_type": "code",
      "execution_count": null,
      "metadata": {
        "colab": {
          "base_uri": "https://localhost:8080/"
        },
        "id": "hP2tyGFplaFy",
        "outputId": "6021a664-34f8-4257-c659-6afaf1fa43fa"
      },
      "outputs": [
        {
          "output_type": "stream",
          "name": "stdout",
          "text": [
            "Looking in indexes: https://pypi.org/simple, https://us-python.pkg.dev/colab-wheels/public/simple/\n",
            "Requirement already satisfied: sacremoses in /usr/local/lib/python3.9/dist-packages (0.0.53)\n",
            "Requirement already satisfied: joblib in /usr/local/lib/python3.9/dist-packages (from sacremoses) (1.1.1)\n",
            "Requirement already satisfied: tqdm in /usr/local/lib/python3.9/dist-packages (from sacremoses) (4.65.0)\n",
            "Requirement already satisfied: regex in /usr/local/lib/python3.9/dist-packages (from sacremoses) (2022.6.2)\n",
            "Requirement already satisfied: click in /usr/local/lib/python3.9/dist-packages (from sacremoses) (8.1.3)\n",
            "Requirement already satisfied: six in /usr/local/lib/python3.9/dist-packages (from sacremoses) (1.15.0)\n",
            "Looking in indexes: https://pypi.org/simple, https://us-python.pkg.dev/colab-wheels/public/simple/\n",
            "Requirement already satisfied: sacrebleu in /usr/local/lib/python3.9/dist-packages (2.3.1)\n",
            "Requirement already satisfied: colorama in /usr/local/lib/python3.9/dist-packages (from sacrebleu) (0.4.6)\n",
            "Requirement already satisfied: tabulate>=0.8.9 in /usr/local/lib/python3.9/dist-packages (from sacrebleu) (0.8.10)\n",
            "Requirement already satisfied: portalocker in /usr/local/lib/python3.9/dist-packages (from sacrebleu) (2.7.0)\n",
            "Requirement already satisfied: regex in /usr/local/lib/python3.9/dist-packages (from sacrebleu) (2022.6.2)\n",
            "Requirement already satisfied: lxml in /usr/local/lib/python3.9/dist-packages (from sacrebleu) (4.9.2)\n",
            "Requirement already satisfied: numpy>=1.17 in /usr/local/lib/python3.9/dist-packages (from sacrebleu) (1.22.4)\n",
            "Looking in indexes: https://pypi.org/simple, https://us-python.pkg.dev/colab-wheels/public/simple/\n",
            "Requirement already satisfied: transformers in /usr/local/lib/python3.9/dist-packages (4.26.1)\n",
            "Requirement already satisfied: tokenizers!=0.11.3,<0.14,>=0.11.1 in /usr/local/lib/python3.9/dist-packages (from transformers) (0.13.2)\n",
            "Requirement already satisfied: pyyaml>=5.1 in /usr/local/lib/python3.9/dist-packages (from transformers) (6.0)\n",
            "Requirement already satisfied: numpy>=1.17 in /usr/local/lib/python3.9/dist-packages (from transformers) (1.22.4)\n",
            "Requirement already satisfied: regex!=2019.12.17 in /usr/local/lib/python3.9/dist-packages (from transformers) (2022.6.2)\n",
            "Requirement already satisfied: requests in /usr/local/lib/python3.9/dist-packages (from transformers) (2.25.1)\n",
            "Requirement already satisfied: filelock in /usr/local/lib/python3.9/dist-packages (from transformers) (3.9.1)\n",
            "Requirement already satisfied: huggingface-hub<1.0,>=0.11.0 in /usr/local/lib/python3.9/dist-packages (from transformers) (0.13.2)\n",
            "Requirement already satisfied: tqdm>=4.27 in /usr/local/lib/python3.9/dist-packages (from transformers) (4.65.0)\n",
            "Requirement already satisfied: packaging>=20.0 in /usr/local/lib/python3.9/dist-packages (from transformers) (23.0)\n",
            "Requirement already satisfied: typing-extensions>=3.7.4.3 in /usr/local/lib/python3.9/dist-packages (from huggingface-hub<1.0,>=0.11.0->transformers) (4.5.0)\n",
            "Requirement already satisfied: chardet<5,>=3.0.2 in /usr/local/lib/python3.9/dist-packages (from requests->transformers) (4.0.0)\n",
            "Requirement already satisfied: idna<3,>=2.5 in /usr/local/lib/python3.9/dist-packages (from requests->transformers) (2.10)\n",
            "Requirement already satisfied: certifi>=2017.4.17 in /usr/local/lib/python3.9/dist-packages (from requests->transformers) (2022.12.7)\n",
            "Requirement already satisfied: urllib3<1.27,>=1.21.1 in /usr/local/lib/python3.9/dist-packages (from requests->transformers) (1.26.15)\n",
            "Looking in indexes: https://pypi.org/simple, https://us-python.pkg.dev/colab-wheels/public/simple/\n",
            "Requirement already satisfied: torch in /usr/local/lib/python3.9/dist-packages (1.13.1+cu116)\n",
            "Requirement already satisfied: typing-extensions in /usr/local/lib/python3.9/dist-packages (from torch) (4.5.0)\n"
          ]
        }
      ],
      "source": [
        "!pip install sacremoses\n",
        "!pip install sacrebleu\n",
        "!pip install transformers\n",
        "!pip install torch"
      ]
    },
    {
      "cell_type": "code",
      "execution_count": null,
      "metadata": {
        "colab": {
          "base_uri": "https://localhost:8080/"
        },
        "id": "JH0JtdCeE1n2",
        "outputId": "68f83755-abd8-4b1c-e36a-5d4a2a2cebdd"
      },
      "outputs": [
        {
          "output_type": "stream",
          "name": "stdout",
          "text": [
            "Thu Mar 16 20:53:37 2023       \n",
            "+-----------------------------------------------------------------------------+\n",
            "| NVIDIA-SMI 525.85.12    Driver Version: 525.85.12    CUDA Version: 12.0     |\n",
            "|-------------------------------+----------------------+----------------------+\n",
            "| GPU  Name        Persistence-M| Bus-Id        Disp.A | Volatile Uncorr. ECC |\n",
            "| Fan  Temp  Perf  Pwr:Usage/Cap|         Memory-Usage | GPU-Util  Compute M. |\n",
            "|                               |                      |               MIG M. |\n",
            "|===============================+======================+======================|\n",
            "|   0  Tesla T4            Off  | 00000000:00:04.0 Off |                    0 |\n",
            "| N/A   49C    P0    25W /  70W |      0MiB / 15360MiB |      0%      Default |\n",
            "|                               |                      |                  N/A |\n",
            "+-------------------------------+----------------------+----------------------+\n",
            "                                                                               \n",
            "+-----------------------------------------------------------------------------+\n",
            "| Processes:                                                                  |\n",
            "|  GPU   GI   CI        PID   Type   Process name                  GPU Memory |\n",
            "|        ID   ID                                                   Usage      |\n",
            "|=============================================================================|\n",
            "|  No running processes found                                                 |\n",
            "+-----------------------------------------------------------------------------+\n"
          ]
        }
      ],
      "source": [
        "!nvidia-smi"
      ]
    },
    {
      "cell_type": "code",
      "execution_count": null,
      "metadata": {
        "colab": {
          "base_uri": "https://localhost:8080/",
          "height": 130,
          "referenced_widgets": [
            "a3565cb3027747458a220c7a38214df4",
            "fdc561ad610b42b28887fc737785c7c9",
            "b58611a5391b4b81bc30e57d55876483",
            "0f3d4098ffa548d5ab30d0d1f34a8d6e",
            "14d029c192cc40c5ae98c9034c70e0ab",
            "ac5a6566d7a74b53b150fef75b42bdd2",
            "3df4b16d8d734fcc8ce5c597c764e5c9",
            "1db57d2875fc46c5985edd657412355e",
            "3086a2f39b934be0a962e81de73d6789",
            "2790cf16cbe54734a552cfe3b8d60cf7",
            "8318c73b5c05494cb2c39d37b57e89fb",
            "2d041503dff140f8a6fb4f8248757648",
            "87cb036e33fa4576b69dc4e9d4676bea",
            "5920cd8dab0841f4af455e8f2f06bbe2",
            "ca108721fc5048a5ad17134b65608bb7",
            "8987a531bfa7485b99b02543b974a88a",
            "0ba479e794a14619a1b7a958da35dae9",
            "8afec69eff184f8e9869d664b4d71509",
            "e4dbe32276454ae8be831c33c6e91fc4",
            "42a31c9de05c4d9fad541c95cc3519cf",
            "5317fe8f9b8343f48e8bdb25d11171a8",
            "7e1c4bd82e0d4757a94571805f7d2b0a",
            "95a63efeff4e429e844a1d9f6fa8b6e4",
            "43b0c69a55be450eb6a7152958353b63",
            "c21aebaf5d6f48ed81a475961d26b55b",
            "1891bb19f74c41f99c4e3742a01ebdfe",
            "279e74dbe3a64aed9d5dbafe0843f911",
            "dee9e6d35740433db84e6c7653d3fe5f",
            "5819f480f0e34b59add73b0e05690b9a",
            "f17a241a021c4e2ca650d9c54a9feced",
            "987a0b8248af40099b7b1f0cc595c9c3",
            "16f9f1ca8f314026bbd1c8c4893a899f",
            "6bf2f6229b2f47e48cec8b7efebec455"
          ]
        },
        "id": "VCaunLMtlPfw",
        "outputId": "de60c1c3-bdc7-4615-cded-ff2ef0d7daf8"
      },
      "outputs": [
        {
          "output_type": "display_data",
          "data": {
            "text/plain": [
              "Downloading (…)lve/main/config.json:   0%|          | 0.00/608 [00:00<?, ?B/s]"
            ],
            "application/vnd.jupyter.widget-view+json": {
              "version_major": 2,
              "version_minor": 0,
              "model_id": "a3565cb3027747458a220c7a38214df4"
            }
          },
          "metadata": {}
        },
        {
          "output_type": "display_data",
          "data": {
            "text/plain": [
              "Downloading (…)olve/main/vocab.json:   0%|          | 0.00/1.71M [00:00<?, ?B/s]"
            ],
            "application/vnd.jupyter.widget-view+json": {
              "version_major": 2,
              "version_minor": 0,
              "model_id": "2d041503dff140f8a6fb4f8248757648"
            }
          },
          "metadata": {}
        },
        {
          "output_type": "display_data",
          "data": {
            "text/plain": [
              "Downloading (…)olve/main/merges.txt:   0%|          | 0.00/1.27M [00:00<?, ?B/s]"
            ],
            "application/vnd.jupyter.widget-view+json": {
              "version_major": 2,
              "version_minor": 0,
              "model_id": "95a63efeff4e429e844a1d9f6fa8b6e4"
            }
          },
          "metadata": {}
        },
        {
          "output_type": "stream",
          "name": "stderr",
          "text": [
            "Special tokens have been added in the vocabulary, make sure the associated word embeddings are fine-tuned or trained.\n"
          ]
        }
      ],
      "source": [
        "from transformers import AutoTokenizer\n",
        "\n",
        "tokenizer = AutoTokenizer.from_pretrained(\"sberbank-ai/rugpt3small_based_on_gpt2\")"
      ]
    },
    {
      "cell_type": "code",
      "execution_count": null,
      "metadata": {
        "id": "_cYWa7RcqP_F"
      },
      "outputs": [],
      "source": [
        "train = train.drop(['Название документа', \"Ссылка\", 'Date'], axis=1)\n",
        "test = test.drop(['Название документа', \"Ссылка\", 'Date'], axis=1)"
      ]
    },
    {
      "cell_type": "code",
      "execution_count": null,
      "metadata": {
        "id": "m9lHS0mIMak4"
      },
      "outputs": [],
      "source": [
        "train.columns = [\"text\", \"commentary\"]\n",
        "test.columns = [\"text\", \"commentary\"]"
      ]
    },
    {
      "cell_type": "code",
      "source": [
        "tokenizer.add_special_tokens({'pad_token': '[PAD]'})"
      ],
      "metadata": {
        "id": "6J8oyhjeGp8X",
        "outputId": "6f951dd7-6bd1-4f43-90f5-c0c7db231180",
        "colab": {
          "base_uri": "https://localhost:8080/"
        }
      },
      "execution_count": null,
      "outputs": [
        {
          "output_type": "execute_result",
          "data": {
            "text/plain": [
              "1"
            ]
          },
          "metadata": {},
          "execution_count": 14
        }
      ]
    },
    {
      "cell_type": "code",
      "source": [
        "import torch\n",
        "from transformers import TextDataset, DataCollatorForLanguageModeling\n",
        "from transformers import TrainingArguments, Trainer\n",
        "from datasets import Dataset\n",
        "\n",
        "\n",
        "\n",
        "def tokenize_function(examples):\n",
        "    law_tokens = tokenizer(examples[\"text\"], truncation=True, max_length=512, padding='max_length', return_special_tokens_mask=True)\n",
        "    special_tok = tokenizer(\" [SEP] \", return_special_tokens_mask=True)\n",
        "    commentary_tokens = tokenizer(examples[\"commentary\"], truncation=True, max_length=512, padding='max_length', return_special_tokens_mask=True)\n",
        "    tokens = {key: torch.cat((torch.tensor(law_tokens[key]), torch.tensor(special_tok[key]), torch.tensor(commentary_tokens[key])), dim=-1) for key in law_tokens}\n",
        "    return tokens\n",
        "\n",
        "# Convert pandas DataFrames to Hugging Face Dataset objects\n",
        "train_dataset = Dataset.from_pandas(train)\n",
        "test_dataset = Dataset.from_pandas(test)\n",
        "# Tokenize the train and validation datasets\n",
        "ds = train_dataset.map(tokenize_function, remove_columns=['text', 'commentary', '__index_level_0__'])\n",
        "val = test_dataset.map(tokenize_function, remove_columns=['text', 'commentary', '__index_level_0__'])\n",
        "\n",
        "# Set up the data collator\n",
        "data_collator = DataCollatorForLanguageModeling(tokenizer=tokenizer, mlm=False)\n",
        "\n"
      ],
      "metadata": {
        "id": "ADc1k_gBD7tU",
        "outputId": "c5bd3a2c-5cd7-4c90-c8ca-959970849d96",
        "colab": {
          "base_uri": "https://localhost:8080/",
          "height": 17,
          "referenced_widgets": [
            "40db6e9dd1524c0abfc1d9a271c0a4e5",
            "a08f35315b614dce8c7fe2bbb60910db",
            "aa1fffd8ff254066b01f1db8d0f2f567",
            "8f6b13e4b6bf451d97aff52cf2eb68ec",
            "aacd2c24d76247ee848ef4726a6739b3",
            "52785a1ba8834c47b5f685c84fab2ad9",
            "da6a8f9d33834c928d1fb128ee969c8b",
            "8e2c4322bb4f431293a7fa9cf30d99a5",
            "1cb92b4ed80e4137a456505bd0ac7502",
            "a02104b1363942ed98b85ededb69bf57",
            "555bc03d852547f7a0dee3125934c92f",
            "c81eeddbacb24bde807993f4bd09bb97",
            "485dc77c92c247bd95a2b04a60f7a414",
            "fb9f00345a2f4d0b9b7a8099cc6e03ee",
            "dba92d7b2782442699e4d2174f5d559e",
            "9c8a4dce277b4263800e1fb4c3079da9",
            "f7542cef154a4e08a72e465bb0bfc71e",
            "11b6dac303504b0998d27fcefe874f50",
            "03759a3e4f1e48049201a12d30eddde5",
            "2ec4408ab33e4b3e9b5a90612fdf87c3",
            "64f3b56b3432479f88b348631eec4be2",
            "9cdddec7cb9741678c22c85edc4d924f"
          ]
        }
      },
      "execution_count": null,
      "outputs": [
        {
          "output_type": "display_data",
          "data": {
            "text/plain": [
              "Map:   0%|          | 0/1920 [00:00<?, ? examples/s]"
            ],
            "application/vnd.jupyter.widget-view+json": {
              "version_major": 2,
              "version_minor": 0,
              "model_id": "40db6e9dd1524c0abfc1d9a271c0a4e5"
            }
          },
          "metadata": {}
        },
        {
          "output_type": "display_data",
          "data": {
            "text/plain": [
              "Map:   0%|          | 0/102 [00:00<?, ? examples/s]"
            ],
            "application/vnd.jupyter.widget-view+json": {
              "version_major": 2,
              "version_minor": 0,
              "model_id": "c81eeddbacb24bde807993f4bd09bb97"
            }
          },
          "metadata": {}
        }
      ]
    },
    {
      "cell_type": "code",
      "source": [
        "!nvidia-smi"
      ],
      "metadata": {
        "id": "5qyINNnKKRDs",
        "outputId": "f7d831b2-ca07-4c91-8387-e057de8ad434",
        "colab": {
          "base_uri": "https://localhost:8080/"
        }
      },
      "execution_count": null,
      "outputs": [
        {
          "output_type": "stream",
          "name": "stdout",
          "text": [
            "Thu Mar 16 20:58:46 2023       \n",
            "+-----------------------------------------------------------------------------+\n",
            "| NVIDIA-SMI 525.85.12    Driver Version: 525.85.12    CUDA Version: 12.0     |\n",
            "|-------------------------------+----------------------+----------------------+\n",
            "| GPU  Name        Persistence-M| Bus-Id        Disp.A | Volatile Uncorr. ECC |\n",
            "| Fan  Temp  Perf  Pwr:Usage/Cap|         Memory-Usage | GPU-Util  Compute M. |\n",
            "|                               |                      |               MIG M. |\n",
            "|===============================+======================+======================|\n",
            "|   0  Tesla T4            Off  | 00000000:00:04.0 Off |                    0 |\n",
            "| N/A   48C    P0    25W /  70W |      0MiB / 15360MiB |      0%      Default |\n",
            "|                               |                      |                  N/A |\n",
            "+-------------------------------+----------------------+----------------------+\n",
            "                                                                               \n",
            "+-----------------------------------------------------------------------------+\n",
            "| Processes:                                                                  |\n",
            "|  GPU   GI   CI        PID   Type   Process name                  GPU Memory |\n",
            "|        ID   ID                                                   Usage      |\n",
            "|=============================================================================|\n",
            "|  No running processes found                                                 |\n",
            "+-----------------------------------------------------------------------------+\n"
          ]
        }
      ]
    },
    {
      "cell_type": "code",
      "execution_count": null,
      "metadata": {
        "id": "H7hhmbT2ModI",
        "colab": {
          "base_uri": "https://localhost:8080/",
          "height": 1000
        },
        "outputId": "00271551-2586-4feb-c19d-c9d7517be6f1"
      },
      "outputs": [
        {
          "output_type": "stream",
          "name": "stderr",
          "text": [
            "/usr/local/lib/python3.9/dist-packages/transformers/models/auto/modeling_auto.py:1248: FutureWarning: The class `AutoModelWithLMHead` is deprecated and will be removed in a future version. Please use `AutoModelForCausalLM` for causal language models, `AutoModelForMaskedLM` for masked language models and `AutoModelForSeq2SeqLM` for encoder-decoder models.\n",
            "  warnings.warn(\n",
            "loading configuration file config.json from cache at /root/.cache/huggingface/hub/models--sberbank-ai--rugpt3small_based_on_gpt2/snapshots/f2f7c585b05a16726efe8974586e10b4d5939082/config.json\n",
            "Model config GPT2Config {\n",
            "  \"_name_or_path\": \"sberbank-ai/rugpt3small_based_on_gpt2\",\n",
            "  \"activation_function\": \"gelu_new\",\n",
            "  \"architectures\": [\n",
            "    \"GPT2LMHeadModel\"\n",
            "  ],\n",
            "  \"attn_pdrop\": 0.1,\n",
            "  \"bos_token_id\": 50256,\n",
            "  \"embd_pdrop\": 0.1,\n",
            "  \"eos_token_id\": 50256,\n",
            "  \"gradient_checkpointing\": false,\n",
            "  \"initializer_range\": 0.02,\n",
            "  \"layer_norm_epsilon\": 1e-05,\n",
            "  \"model_type\": \"gpt2\",\n",
            "  \"n_ctx\": 2048,\n",
            "  \"n_embd\": 768,\n",
            "  \"n_head\": 12,\n",
            "  \"n_inner\": null,\n",
            "  \"n_layer\": 12,\n",
            "  \"n_positions\": 2048,\n",
            "  \"reorder_and_upcast_attn\": false,\n",
            "  \"resid_pdrop\": 0.1,\n",
            "  \"scale_attn_by_inverse_layer_idx\": false,\n",
            "  \"scale_attn_weights\": true,\n",
            "  \"summary_activation\": null,\n",
            "  \"summary_first_dropout\": 0.1,\n",
            "  \"summary_proj_to_labels\": true,\n",
            "  \"summary_type\": \"cls_index\",\n",
            "  \"summary_use_proj\": true,\n",
            "  \"transformers_version\": \"4.26.1\",\n",
            "  \"use_cache\": true,\n",
            "  \"vocab_size\": 50264\n",
            "}\n",
            "\n",
            "loading weights file pytorch_model.bin from cache at /root/.cache/huggingface/hub/models--sberbank-ai--rugpt3small_based_on_gpt2/snapshots/f2f7c585b05a16726efe8974586e10b4d5939082/pytorch_model.bin\n",
            "Generate config GenerationConfig {\n",
            "  \"bos_token_id\": 50256,\n",
            "  \"eos_token_id\": 50256,\n",
            "  \"transformers_version\": \"4.26.1\"\n",
            "}\n",
            "\n",
            "All model checkpoint weights were used when initializing GPT2LMHeadModel.\n",
            "\n",
            "All the weights of GPT2LMHeadModel were initialized from the model checkpoint at sberbank-ai/rugpt3small_based_on_gpt2.\n",
            "If your task is similar to the task the model of the checkpoint was trained on, you can already use GPT2LMHeadModel for predictions without further training.\n",
            "Generation config file not found, using a generation config created from the model config.\n",
            "PyTorch: setting up devices\n",
            "The default value for the training argument `--report_to` will change in v5 (from all installed integrations to none). In v5, you will need to use `--report_to all` to get the same behavior as now. You should start updating your code and make this info disappear :-).\n",
            "The following columns in the training set don't have a corresponding argument in `GPT2LMHeadModel.forward` and have been ignored: special_tokens_mask. If special_tokens_mask are not expected by `GPT2LMHeadModel.forward`,  you can safely ignore this message.\n",
            "/usr/local/lib/python3.9/dist-packages/transformers/optimization.py:306: FutureWarning: This implementation of AdamW is deprecated and will be removed in a future version. Use the PyTorch implementation torch.optim.AdamW instead, or set `no_deprecation_warning=True` to disable this warning\n",
            "  warnings.warn(\n",
            "***** Running training *****\n",
            "  Num examples = 1920\n",
            "  Num Epochs = 3\n",
            "  Instantaneous batch size per device = 3\n",
            "  Total train batch size (w. parallel, distributed & accumulation) = 12\n",
            "  Gradient Accumulation steps = 4\n",
            "  Total optimization steps = 480\n",
            "  Number of trainable parameters = 125231616\n"
          ]
        },
        {
          "output_type": "display_data",
          "data": {
            "text/plain": [
              "<IPython.core.display.HTML object>"
            ],
            "text/html": [
              "\n",
              "    <div>\n",
              "      \n",
              "      <progress value='96' max='480' style='width:300px; height:20px; vertical-align: middle;'></progress>\n",
              "      [ 96/480 06:28 < 26:29, 0.24 it/s, Epoch 0.59/3]\n",
              "    </div>\n",
              "    <table border=\"1\" class=\"dataframe\">\n",
              "  <thead>\n",
              " <tr style=\"text-align: left;\">\n",
              "      <th>Epoch</th>\n",
              "      <th>Training Loss</th>\n",
              "      <th>Validation Loss</th>\n",
              "    </tr>\n",
              "  </thead>\n",
              "  <tbody>\n",
              "  </tbody>\n",
              "</table><p>"
            ]
          },
          "metadata": {}
        },
        {
          "output_type": "error",
          "ename": "KeyboardInterrupt",
          "evalue": "ignored",
          "traceback": [
            "\u001b[0;31m---------------------------------------------------------------------------\u001b[0m",
            "\u001b[0;31mKeyboardInterrupt\u001b[0m                         Traceback (most recent call last)",
            "\u001b[0;32m<ipython-input-29-8f86ba7f6fd0>\u001b[0m in \u001b[0;36m<module>\u001b[0;34m\u001b[0m\n\u001b[1;32m     27\u001b[0m \u001b[0;34m\u001b[0m\u001b[0m\n\u001b[1;32m     28\u001b[0m \u001b[0;31m# Train the model\u001b[0m\u001b[0;34m\u001b[0m\u001b[0;34m\u001b[0m\u001b[0m\n\u001b[0;32m---> 29\u001b[0;31m \u001b[0mtrainer\u001b[0m\u001b[0;34m.\u001b[0m\u001b[0mtrain\u001b[0m\u001b[0;34m(\u001b[0m\u001b[0;34m)\u001b[0m\u001b[0;34m\u001b[0m\u001b[0;34m\u001b[0m\u001b[0m\n\u001b[0m",
            "\u001b[0;32m/usr/local/lib/python3.9/dist-packages/transformers/trainer.py\u001b[0m in \u001b[0;36mtrain\u001b[0;34m(self, resume_from_checkpoint, trial, ignore_keys_for_eval, **kwargs)\u001b[0m\n\u001b[1;32m   1541\u001b[0m             \u001b[0mself\u001b[0m\u001b[0;34m.\u001b[0m\u001b[0m_inner_training_loop\u001b[0m\u001b[0;34m,\u001b[0m \u001b[0mself\u001b[0m\u001b[0;34m.\u001b[0m\u001b[0m_train_batch_size\u001b[0m\u001b[0;34m,\u001b[0m \u001b[0margs\u001b[0m\u001b[0;34m.\u001b[0m\u001b[0mauto_find_batch_size\u001b[0m\u001b[0;34m\u001b[0m\u001b[0;34m\u001b[0m\u001b[0m\n\u001b[1;32m   1542\u001b[0m         )\n\u001b[0;32m-> 1543\u001b[0;31m         return inner_training_loop(\n\u001b[0m\u001b[1;32m   1544\u001b[0m             \u001b[0margs\u001b[0m\u001b[0;34m=\u001b[0m\u001b[0margs\u001b[0m\u001b[0;34m,\u001b[0m\u001b[0;34m\u001b[0m\u001b[0;34m\u001b[0m\u001b[0m\n\u001b[1;32m   1545\u001b[0m             \u001b[0mresume_from_checkpoint\u001b[0m\u001b[0;34m=\u001b[0m\u001b[0mresume_from_checkpoint\u001b[0m\u001b[0;34m,\u001b[0m\u001b[0;34m\u001b[0m\u001b[0;34m\u001b[0m\u001b[0m\n",
            "\u001b[0;32m/usr/local/lib/python3.9/dist-packages/transformers/trainer.py\u001b[0m in \u001b[0;36m_inner_training_loop\u001b[0;34m(self, batch_size, args, resume_from_checkpoint, trial, ignore_keys_for_eval)\u001b[0m\n\u001b[1;32m   1789\u001b[0m                         \u001b[0mtr_loss_step\u001b[0m \u001b[0;34m=\u001b[0m \u001b[0mself\u001b[0m\u001b[0;34m.\u001b[0m\u001b[0mtraining_step\u001b[0m\u001b[0;34m(\u001b[0m\u001b[0mmodel\u001b[0m\u001b[0;34m,\u001b[0m \u001b[0minputs\u001b[0m\u001b[0;34m)\u001b[0m\u001b[0;34m\u001b[0m\u001b[0;34m\u001b[0m\u001b[0m\n\u001b[1;32m   1790\u001b[0m                 \u001b[0;32melse\u001b[0m\u001b[0;34m:\u001b[0m\u001b[0;34m\u001b[0m\u001b[0;34m\u001b[0m\u001b[0m\n\u001b[0;32m-> 1791\u001b[0;31m                     \u001b[0mtr_loss_step\u001b[0m \u001b[0;34m=\u001b[0m \u001b[0mself\u001b[0m\u001b[0;34m.\u001b[0m\u001b[0mtraining_step\u001b[0m\u001b[0;34m(\u001b[0m\u001b[0mmodel\u001b[0m\u001b[0;34m,\u001b[0m \u001b[0minputs\u001b[0m\u001b[0;34m)\u001b[0m\u001b[0;34m\u001b[0m\u001b[0;34m\u001b[0m\u001b[0m\n\u001b[0m\u001b[1;32m   1792\u001b[0m \u001b[0;34m\u001b[0m\u001b[0m\n\u001b[1;32m   1793\u001b[0m                 if (\n",
            "\u001b[0;32m/usr/local/lib/python3.9/dist-packages/transformers/trainer.py\u001b[0m in \u001b[0;36mtraining_step\u001b[0;34m(self, model, inputs)\u001b[0m\n\u001b[1;32m   2537\u001b[0m \u001b[0;34m\u001b[0m\u001b[0m\n\u001b[1;32m   2538\u001b[0m         \u001b[0;32mwith\u001b[0m \u001b[0mself\u001b[0m\u001b[0;34m.\u001b[0m\u001b[0mcompute_loss_context_manager\u001b[0m\u001b[0;34m(\u001b[0m\u001b[0;34m)\u001b[0m\u001b[0;34m:\u001b[0m\u001b[0;34m\u001b[0m\u001b[0;34m\u001b[0m\u001b[0m\n\u001b[0;32m-> 2539\u001b[0;31m             \u001b[0mloss\u001b[0m \u001b[0;34m=\u001b[0m \u001b[0mself\u001b[0m\u001b[0;34m.\u001b[0m\u001b[0mcompute_loss\u001b[0m\u001b[0;34m(\u001b[0m\u001b[0mmodel\u001b[0m\u001b[0;34m,\u001b[0m \u001b[0minputs\u001b[0m\u001b[0;34m)\u001b[0m\u001b[0;34m\u001b[0m\u001b[0;34m\u001b[0m\u001b[0m\n\u001b[0m\u001b[1;32m   2540\u001b[0m \u001b[0;34m\u001b[0m\u001b[0m\n\u001b[1;32m   2541\u001b[0m         \u001b[0;32mif\u001b[0m \u001b[0mself\u001b[0m\u001b[0;34m.\u001b[0m\u001b[0margs\u001b[0m\u001b[0;34m.\u001b[0m\u001b[0mn_gpu\u001b[0m \u001b[0;34m>\u001b[0m \u001b[0;36m1\u001b[0m\u001b[0;34m:\u001b[0m\u001b[0;34m\u001b[0m\u001b[0;34m\u001b[0m\u001b[0m\n",
            "\u001b[0;32m/usr/local/lib/python3.9/dist-packages/transformers/trainer.py\u001b[0m in \u001b[0;36mcompute_loss\u001b[0;34m(self, model, inputs, return_outputs)\u001b[0m\n\u001b[1;32m   2569\u001b[0m         \u001b[0;32melse\u001b[0m\u001b[0;34m:\u001b[0m\u001b[0;34m\u001b[0m\u001b[0;34m\u001b[0m\u001b[0m\n\u001b[1;32m   2570\u001b[0m             \u001b[0mlabels\u001b[0m \u001b[0;34m=\u001b[0m \u001b[0;32mNone\u001b[0m\u001b[0;34m\u001b[0m\u001b[0;34m\u001b[0m\u001b[0m\n\u001b[0;32m-> 2571\u001b[0;31m         \u001b[0moutputs\u001b[0m \u001b[0;34m=\u001b[0m \u001b[0mmodel\u001b[0m\u001b[0;34m(\u001b[0m\u001b[0;34m**\u001b[0m\u001b[0minputs\u001b[0m\u001b[0;34m)\u001b[0m\u001b[0;34m\u001b[0m\u001b[0;34m\u001b[0m\u001b[0m\n\u001b[0m\u001b[1;32m   2572\u001b[0m         \u001b[0;31m# Save past state if it exists\u001b[0m\u001b[0;34m\u001b[0m\u001b[0;34m\u001b[0m\u001b[0m\n\u001b[1;32m   2573\u001b[0m         \u001b[0;31m# TODO: this needs to be fixed and made cleaner later.\u001b[0m\u001b[0;34m\u001b[0m\u001b[0;34m\u001b[0m\u001b[0m\n",
            "\u001b[0;32m/usr/local/lib/python3.9/dist-packages/torch/nn/modules/module.py\u001b[0m in \u001b[0;36m_call_impl\u001b[0;34m(self, *input, **kwargs)\u001b[0m\n\u001b[1;32m   1192\u001b[0m         if not (self._backward_hooks or self._forward_hooks or self._forward_pre_hooks or _global_backward_hooks\n\u001b[1;32m   1193\u001b[0m                 or _global_forward_hooks or _global_forward_pre_hooks):\n\u001b[0;32m-> 1194\u001b[0;31m             \u001b[0;32mreturn\u001b[0m \u001b[0mforward_call\u001b[0m\u001b[0;34m(\u001b[0m\u001b[0;34m*\u001b[0m\u001b[0minput\u001b[0m\u001b[0;34m,\u001b[0m \u001b[0;34m**\u001b[0m\u001b[0mkwargs\u001b[0m\u001b[0;34m)\u001b[0m\u001b[0;34m\u001b[0m\u001b[0;34m\u001b[0m\u001b[0m\n\u001b[0m\u001b[1;32m   1195\u001b[0m         \u001b[0;31m# Do not call functions when jit is used\u001b[0m\u001b[0;34m\u001b[0m\u001b[0;34m\u001b[0m\u001b[0m\n\u001b[1;32m   1196\u001b[0m         \u001b[0mfull_backward_hooks\u001b[0m\u001b[0;34m,\u001b[0m \u001b[0mnon_full_backward_hooks\u001b[0m \u001b[0;34m=\u001b[0m \u001b[0;34m[\u001b[0m\u001b[0;34m]\u001b[0m\u001b[0;34m,\u001b[0m \u001b[0;34m[\u001b[0m\u001b[0;34m]\u001b[0m\u001b[0;34m\u001b[0m\u001b[0;34m\u001b[0m\u001b[0m\n",
            "\u001b[0;32m/usr/local/lib/python3.9/dist-packages/transformers/models/gpt2/modeling_gpt2.py\u001b[0m in \u001b[0;36mforward\u001b[0;34m(self, input_ids, past_key_values, attention_mask, token_type_ids, position_ids, head_mask, inputs_embeds, encoder_hidden_states, encoder_attention_mask, labels, use_cache, output_attentions, output_hidden_states, return_dict)\u001b[0m\n\u001b[1;32m   1041\u001b[0m         \u001b[0mreturn_dict\u001b[0m \u001b[0;34m=\u001b[0m \u001b[0mreturn_dict\u001b[0m \u001b[0;32mif\u001b[0m \u001b[0mreturn_dict\u001b[0m \u001b[0;32mis\u001b[0m \u001b[0;32mnot\u001b[0m \u001b[0;32mNone\u001b[0m \u001b[0;32melse\u001b[0m \u001b[0mself\u001b[0m\u001b[0;34m.\u001b[0m\u001b[0mconfig\u001b[0m\u001b[0;34m.\u001b[0m\u001b[0muse_return_dict\u001b[0m\u001b[0;34m\u001b[0m\u001b[0;34m\u001b[0m\u001b[0m\n\u001b[1;32m   1042\u001b[0m \u001b[0;34m\u001b[0m\u001b[0m\n\u001b[0;32m-> 1043\u001b[0;31m         transformer_outputs = self.transformer(\n\u001b[0m\u001b[1;32m   1044\u001b[0m             \u001b[0minput_ids\u001b[0m\u001b[0;34m,\u001b[0m\u001b[0;34m\u001b[0m\u001b[0;34m\u001b[0m\u001b[0m\n\u001b[1;32m   1045\u001b[0m             \u001b[0mpast_key_values\u001b[0m\u001b[0;34m=\u001b[0m\u001b[0mpast_key_values\u001b[0m\u001b[0;34m,\u001b[0m\u001b[0;34m\u001b[0m\u001b[0;34m\u001b[0m\u001b[0m\n",
            "\u001b[0;32m/usr/local/lib/python3.9/dist-packages/torch/nn/modules/module.py\u001b[0m in \u001b[0;36m_call_impl\u001b[0;34m(self, *input, **kwargs)\u001b[0m\n\u001b[1;32m   1192\u001b[0m         if not (self._backward_hooks or self._forward_hooks or self._forward_pre_hooks or _global_backward_hooks\n\u001b[1;32m   1193\u001b[0m                 or _global_forward_hooks or _global_forward_pre_hooks):\n\u001b[0;32m-> 1194\u001b[0;31m             \u001b[0;32mreturn\u001b[0m \u001b[0mforward_call\u001b[0m\u001b[0;34m(\u001b[0m\u001b[0;34m*\u001b[0m\u001b[0minput\u001b[0m\u001b[0;34m,\u001b[0m \u001b[0;34m**\u001b[0m\u001b[0mkwargs\u001b[0m\u001b[0;34m)\u001b[0m\u001b[0;34m\u001b[0m\u001b[0;34m\u001b[0m\u001b[0m\n\u001b[0m\u001b[1;32m   1195\u001b[0m         \u001b[0;31m# Do not call functions when jit is used\u001b[0m\u001b[0;34m\u001b[0m\u001b[0;34m\u001b[0m\u001b[0m\n\u001b[1;32m   1196\u001b[0m         \u001b[0mfull_backward_hooks\u001b[0m\u001b[0;34m,\u001b[0m \u001b[0mnon_full_backward_hooks\u001b[0m \u001b[0;34m=\u001b[0m \u001b[0;34m[\u001b[0m\u001b[0;34m]\u001b[0m\u001b[0;34m,\u001b[0m \u001b[0;34m[\u001b[0m\u001b[0;34m]\u001b[0m\u001b[0;34m\u001b[0m\u001b[0;34m\u001b[0m\u001b[0m\n",
            "\u001b[0;32m/usr/local/lib/python3.9/dist-packages/transformers/models/gpt2/modeling_gpt2.py\u001b[0m in \u001b[0;36mforward\u001b[0;34m(self, input_ids, past_key_values, attention_mask, token_type_ids, position_ids, head_mask, inputs_embeds, encoder_hidden_states, encoder_attention_mask, use_cache, output_attentions, output_hidden_states, return_dict)\u001b[0m\n\u001b[1;32m    885\u001b[0m                 )\n\u001b[1;32m    886\u001b[0m             \u001b[0;32melse\u001b[0m\u001b[0;34m:\u001b[0m\u001b[0;34m\u001b[0m\u001b[0;34m\u001b[0m\u001b[0m\n\u001b[0;32m--> 887\u001b[0;31m                 outputs = block(\n\u001b[0m\u001b[1;32m    888\u001b[0m                     \u001b[0mhidden_states\u001b[0m\u001b[0;34m,\u001b[0m\u001b[0;34m\u001b[0m\u001b[0;34m\u001b[0m\u001b[0m\n\u001b[1;32m    889\u001b[0m                     \u001b[0mlayer_past\u001b[0m\u001b[0;34m=\u001b[0m\u001b[0mlayer_past\u001b[0m\u001b[0;34m,\u001b[0m\u001b[0;34m\u001b[0m\u001b[0;34m\u001b[0m\u001b[0m\n",
            "\u001b[0;32m/usr/local/lib/python3.9/dist-packages/torch/nn/modules/module.py\u001b[0m in \u001b[0;36m_call_impl\u001b[0;34m(self, *input, **kwargs)\u001b[0m\n\u001b[1;32m   1192\u001b[0m         if not (self._backward_hooks or self._forward_hooks or self._forward_pre_hooks or _global_backward_hooks\n\u001b[1;32m   1193\u001b[0m                 or _global_forward_hooks or _global_forward_pre_hooks):\n\u001b[0;32m-> 1194\u001b[0;31m             \u001b[0;32mreturn\u001b[0m \u001b[0mforward_call\u001b[0m\u001b[0;34m(\u001b[0m\u001b[0;34m*\u001b[0m\u001b[0minput\u001b[0m\u001b[0;34m,\u001b[0m \u001b[0;34m**\u001b[0m\u001b[0mkwargs\u001b[0m\u001b[0;34m)\u001b[0m\u001b[0;34m\u001b[0m\u001b[0;34m\u001b[0m\u001b[0m\n\u001b[0m\u001b[1;32m   1195\u001b[0m         \u001b[0;31m# Do not call functions when jit is used\u001b[0m\u001b[0;34m\u001b[0m\u001b[0;34m\u001b[0m\u001b[0m\n\u001b[1;32m   1196\u001b[0m         \u001b[0mfull_backward_hooks\u001b[0m\u001b[0;34m,\u001b[0m \u001b[0mnon_full_backward_hooks\u001b[0m \u001b[0;34m=\u001b[0m \u001b[0;34m[\u001b[0m\u001b[0;34m]\u001b[0m\u001b[0;34m,\u001b[0m \u001b[0;34m[\u001b[0m\u001b[0;34m]\u001b[0m\u001b[0;34m\u001b[0m\u001b[0;34m\u001b[0m\u001b[0m\n",
            "\u001b[0;32m/usr/local/lib/python3.9/dist-packages/transformers/models/gpt2/modeling_gpt2.py\u001b[0m in \u001b[0;36mforward\u001b[0;34m(self, hidden_states, layer_past, attention_mask, head_mask, encoder_hidden_states, encoder_attention_mask, use_cache, output_attentions)\u001b[0m\n\u001b[1;32m    386\u001b[0m         \u001b[0mresidual\u001b[0m \u001b[0;34m=\u001b[0m \u001b[0mhidden_states\u001b[0m\u001b[0;34m\u001b[0m\u001b[0;34m\u001b[0m\u001b[0m\n\u001b[1;32m    387\u001b[0m         \u001b[0mhidden_states\u001b[0m \u001b[0;34m=\u001b[0m \u001b[0mself\u001b[0m\u001b[0;34m.\u001b[0m\u001b[0mln_1\u001b[0m\u001b[0;34m(\u001b[0m\u001b[0mhidden_states\u001b[0m\u001b[0;34m)\u001b[0m\u001b[0;34m\u001b[0m\u001b[0;34m\u001b[0m\u001b[0m\n\u001b[0;32m--> 388\u001b[0;31m         attn_outputs = self.attn(\n\u001b[0m\u001b[1;32m    389\u001b[0m             \u001b[0mhidden_states\u001b[0m\u001b[0;34m,\u001b[0m\u001b[0;34m\u001b[0m\u001b[0;34m\u001b[0m\u001b[0m\n\u001b[1;32m    390\u001b[0m             \u001b[0mlayer_past\u001b[0m\u001b[0;34m=\u001b[0m\u001b[0mlayer_past\u001b[0m\u001b[0;34m,\u001b[0m\u001b[0;34m\u001b[0m\u001b[0;34m\u001b[0m\u001b[0m\n",
            "\u001b[0;32m/usr/local/lib/python3.9/dist-packages/torch/nn/modules/module.py\u001b[0m in \u001b[0;36m_call_impl\u001b[0;34m(self, *input, **kwargs)\u001b[0m\n\u001b[1;32m   1192\u001b[0m         if not (self._backward_hooks or self._forward_hooks or self._forward_pre_hooks or _global_backward_hooks\n\u001b[1;32m   1193\u001b[0m                 or _global_forward_hooks or _global_forward_pre_hooks):\n\u001b[0;32m-> 1194\u001b[0;31m             \u001b[0;32mreturn\u001b[0m \u001b[0mforward_call\u001b[0m\u001b[0;34m(\u001b[0m\u001b[0;34m*\u001b[0m\u001b[0minput\u001b[0m\u001b[0;34m,\u001b[0m \u001b[0;34m**\u001b[0m\u001b[0mkwargs\u001b[0m\u001b[0;34m)\u001b[0m\u001b[0;34m\u001b[0m\u001b[0;34m\u001b[0m\u001b[0m\n\u001b[0m\u001b[1;32m   1195\u001b[0m         \u001b[0;31m# Do not call functions when jit is used\u001b[0m\u001b[0;34m\u001b[0m\u001b[0;34m\u001b[0m\u001b[0m\n\u001b[1;32m   1196\u001b[0m         \u001b[0mfull_backward_hooks\u001b[0m\u001b[0;34m,\u001b[0m \u001b[0mnon_full_backward_hooks\u001b[0m \u001b[0;34m=\u001b[0m \u001b[0;34m[\u001b[0m\u001b[0;34m]\u001b[0m\u001b[0;34m,\u001b[0m \u001b[0;34m[\u001b[0m\u001b[0;34m]\u001b[0m\u001b[0;34m\u001b[0m\u001b[0;34m\u001b[0m\u001b[0m\n",
            "\u001b[0;32m/usr/local/lib/python3.9/dist-packages/transformers/models/gpt2/modeling_gpt2.py\u001b[0m in \u001b[0;36mforward\u001b[0;34m(self, hidden_states, layer_past, attention_mask, head_mask, encoder_hidden_states, encoder_attention_mask, use_cache, output_attentions)\u001b[0m\n\u001b[1;32m    327\u001b[0m             \u001b[0mattn_output\u001b[0m\u001b[0;34m,\u001b[0m \u001b[0mattn_weights\u001b[0m \u001b[0;34m=\u001b[0m \u001b[0mself\u001b[0m\u001b[0;34m.\u001b[0m\u001b[0m_upcast_and_reordered_attn\u001b[0m\u001b[0;34m(\u001b[0m\u001b[0mquery\u001b[0m\u001b[0;34m,\u001b[0m \u001b[0mkey\u001b[0m\u001b[0;34m,\u001b[0m \u001b[0mvalue\u001b[0m\u001b[0;34m,\u001b[0m \u001b[0mattention_mask\u001b[0m\u001b[0;34m,\u001b[0m \u001b[0mhead_mask\u001b[0m\u001b[0;34m)\u001b[0m\u001b[0;34m\u001b[0m\u001b[0;34m\u001b[0m\u001b[0m\n\u001b[1;32m    328\u001b[0m         \u001b[0;32melse\u001b[0m\u001b[0;34m:\u001b[0m\u001b[0;34m\u001b[0m\u001b[0;34m\u001b[0m\u001b[0m\n\u001b[0;32m--> 329\u001b[0;31m             \u001b[0mattn_output\u001b[0m\u001b[0;34m,\u001b[0m \u001b[0mattn_weights\u001b[0m \u001b[0;34m=\u001b[0m \u001b[0mself\u001b[0m\u001b[0;34m.\u001b[0m\u001b[0m_attn\u001b[0m\u001b[0;34m(\u001b[0m\u001b[0mquery\u001b[0m\u001b[0;34m,\u001b[0m \u001b[0mkey\u001b[0m\u001b[0;34m,\u001b[0m \u001b[0mvalue\u001b[0m\u001b[0;34m,\u001b[0m \u001b[0mattention_mask\u001b[0m\u001b[0;34m,\u001b[0m \u001b[0mhead_mask\u001b[0m\u001b[0;34m)\u001b[0m\u001b[0;34m\u001b[0m\u001b[0;34m\u001b[0m\u001b[0m\n\u001b[0m\u001b[1;32m    330\u001b[0m \u001b[0;34m\u001b[0m\u001b[0m\n\u001b[1;32m    331\u001b[0m         \u001b[0mattn_output\u001b[0m \u001b[0;34m=\u001b[0m \u001b[0mself\u001b[0m\u001b[0;34m.\u001b[0m\u001b[0m_merge_heads\u001b[0m\u001b[0;34m(\u001b[0m\u001b[0mattn_output\u001b[0m\u001b[0;34m,\u001b[0m \u001b[0mself\u001b[0m\u001b[0;34m.\u001b[0m\u001b[0mnum_heads\u001b[0m\u001b[0;34m,\u001b[0m \u001b[0mself\u001b[0m\u001b[0;34m.\u001b[0m\u001b[0mhead_dim\u001b[0m\u001b[0;34m)\u001b[0m\u001b[0;34m\u001b[0m\u001b[0;34m\u001b[0m\u001b[0m\n",
            "\u001b[0;32m/usr/local/lib/python3.9/dist-packages/transformers/models/gpt2/modeling_gpt2.py\u001b[0m in \u001b[0;36m_attn\u001b[0;34m(self, query, key, value, attention_mask, head_mask)\u001b[0m\n\u001b[1;32m    197\u001b[0m             \u001b[0;31m# Need to be a tensor, otherwise we get error: `RuntimeError: expected scalar type float but found double`.\u001b[0m\u001b[0;34m\u001b[0m\u001b[0;34m\u001b[0m\u001b[0m\n\u001b[1;32m    198\u001b[0m             \u001b[0;31m# Need to be on the same device, otherwise `RuntimeError: ..., x and y to be on the same device`\u001b[0m\u001b[0;34m\u001b[0m\u001b[0;34m\u001b[0m\u001b[0m\n\u001b[0;32m--> 199\u001b[0;31m             \u001b[0mmask_value\u001b[0m \u001b[0;34m=\u001b[0m \u001b[0mtorch\u001b[0m\u001b[0;34m.\u001b[0m\u001b[0mfull\u001b[0m\u001b[0;34m(\u001b[0m\u001b[0;34m[\u001b[0m\u001b[0;34m]\u001b[0m\u001b[0;34m,\u001b[0m \u001b[0mmask_value\u001b[0m\u001b[0;34m,\u001b[0m \u001b[0mdtype\u001b[0m\u001b[0;34m=\u001b[0m\u001b[0mattn_weights\u001b[0m\u001b[0;34m.\u001b[0m\u001b[0mdtype\u001b[0m\u001b[0;34m)\u001b[0m\u001b[0;34m.\u001b[0m\u001b[0mto\u001b[0m\u001b[0;34m(\u001b[0m\u001b[0mattn_weights\u001b[0m\u001b[0;34m.\u001b[0m\u001b[0mdevice\u001b[0m\u001b[0;34m)\u001b[0m\u001b[0;34m\u001b[0m\u001b[0;34m\u001b[0m\u001b[0m\n\u001b[0m\u001b[1;32m    200\u001b[0m             \u001b[0mattn_weights\u001b[0m \u001b[0;34m=\u001b[0m \u001b[0mtorch\u001b[0m\u001b[0;34m.\u001b[0m\u001b[0mwhere\u001b[0m\u001b[0;34m(\u001b[0m\u001b[0mcausal_mask\u001b[0m\u001b[0;34m,\u001b[0m \u001b[0mattn_weights\u001b[0m\u001b[0;34m.\u001b[0m\u001b[0mto\u001b[0m\u001b[0;34m(\u001b[0m\u001b[0mattn_weights\u001b[0m\u001b[0;34m.\u001b[0m\u001b[0mdtype\u001b[0m\u001b[0;34m)\u001b[0m\u001b[0;34m,\u001b[0m \u001b[0mmask_value\u001b[0m\u001b[0;34m)\u001b[0m\u001b[0;34m\u001b[0m\u001b[0;34m\u001b[0m\u001b[0m\n\u001b[1;32m    201\u001b[0m \u001b[0;34m\u001b[0m\u001b[0m\n",
            "\u001b[0;31mKeyboardInterrupt\u001b[0m: "
          ]
        }
      ],
      "source": [
        "from transformers import Trainer, TrainingArguments, AutoModelWithLMHead\n",
        "\n",
        "model = AutoModelWithLMHead.from_pretrained(\"sberbank-ai/rugpt3small_based_on_gpt2\")\n",
        "\n",
        "\n",
        "training_args = TrainingArguments(\n",
        "    output_dir=\"output\",\n",
        "    num_train_epochs=3,\n",
        "    per_device_train_batch_size=3,\n",
        "    per_device_eval_batch_size=4,\n",
        "    gradient_accumulation_steps=4,\n",
        "    evaluation_strategy=\"epoch\",\n",
        "    save_strategy=\"epoch\",\n",
        "    learning_rate=5e-5,\n",
        "    weight_decay=0.01,\n",
        "    logging_dir=\"logs\",\n",
        ")\n",
        "\n",
        "# Set up the Trainer\n",
        "trainer = Trainer(\n",
        "    model=model,\n",
        "    args=training_args,\n",
        "    train_dataset=ds,\n",
        "    eval_dataset=val,\n",
        "    data_collator=data_collator,\n",
        ")\n",
        "\n",
        "# Train the model\n",
        "trainer.train()\n"
      ]
    },
    {
      "cell_type": "code",
      "source": [
        "from transformers import pipeline"
      ],
      "metadata": {
        "id": "1tYAIpgAOvnF"
      },
      "execution_count": null,
      "outputs": []
    },
    {
      "cell_type": "code",
      "source": [
        "test.iloc[0][\"text\"][:2400] + \" [SEP] \""
      ],
      "metadata": {
        "id": "34Ta1IFTVDyH",
        "outputId": "0b61d8c5-4703-4685-ec55-c3a3a2850e31",
        "colab": {
          "base_uri": "https://localhost:8080/",
          "height": 279
        }
      },
      "execution_count": null,
      "outputs": [
        {
          "output_type": "execute_result",
          "data": {
            "text/plain": [
              "'Принят Государственной Думой 30 мая 2019 года  Одобрен Советом Федерации 11 июня 2019 года  Статья 1  Внести в Федеральный закон от 24 июля 2007 года N 221-ФЗ \"О кадастровой деятельности\" (Собрание законодательства Российской Федерации, 2007, N 31, ст. 4017; 2013, N 30, ст. 4083; 2014, N 52, ст. 7558; 2016, N 27, ст. 4294; 2017, N 31, ст. 4766; 2018, N 53, ст. 8464) следующие изменения:  1) статью 35 дополнить частью 11 следующего содержания:  \"11. Кадастровые работы могут выполняться кадастровым инженером, являющимся работником юридического лица, на основании трудового договора в случае, если кадастровые работы выполняются для собственных нужд такого юридического лица. При этом заключение предусмотренного частью 1 настоящей статьи договора подряда не требуется.\";  2) в статье 421:  а) в части 1:  пункт 2 изложить в следующей редакции:  \"2) земельных участков, образование которых предусмотрено документами, указанными в части 6 настоящей статьи;\";  пункт 3 изложить в следующей редакции:  \"3) зданий, сооружений (за исключением линейных объектов), а также объектов незавершенного строительства, сведения о которых содержатся в Едином государственном реестре недвижимости.\";  б) дополнить частью 41 следующего содержания:  \"41. В случае выявления расположенных в границах территории выполнения комплексных кадастровых работ земельных участков, сведения о которых отсутствуют в Едином государственном реестре недвижимости и в отношении которых у использующих их лиц отсутствуют документы, устанавливающие или подтверждающие право пользования земельным участком, в том числе на условиях сервитута, либо иные документы, допускающие в соответствии с земельным законодательством использование земельных участков без предоставления или установления сервитута, а также зданий, сооружений, объектов незавершенного строительства, сведения о которых отсутствуют в Едином государственном реестре недвижимости и в отношении которых у использующих их лиц отсутствуют правоустанавливающие или правоудостоверяющие документы, исполнитель комплексных кадастровых работ направляет сведения о выявленных объектах (включая сведения о местоположении границ и площади земельного участка, местоположении зданий, сооружений, объектов незавершенного строительства на земельном участке) заказчику комплексных кадастровых работ и в территориальный орган федерального органа исполнительной власти, уполномоченного на [SEP] '"
            ],
            "application/vnd.google.colaboratory.intrinsic+json": {
              "type": "string"
            }
          },
          "metadata": {},
          "execution_count": 39
        }
      ]
    },
    {
      "cell_type": "code",
      "source": [
        "device = model.device"
      ],
      "metadata": {
        "id": "Tc6SXqPLVfs6"
      },
      "execution_count": null,
      "outputs": []
    },
    {
      "cell_type": "code",
      "source": [
        "text_generator = pipeline(\"text-generation\", model=model, tokenizer=tokenizer,device=0)\n",
        "\n",
        "# Generate text\n",
        "prompt = test.iloc[0][\"text\"][:2400] + \" [SEP] \"\n",
        "generated_text = text_generator(prompt, max_length=1800, num_return_sequences=1)"
      ],
      "metadata": {
        "id": "xnvkl6i7SuB0",
        "outputId": "d332ab7c-0c4e-4560-e424-751f83087c1a",
        "colab": {
          "base_uri": "https://localhost:8080/"
        }
      },
      "execution_count": null,
      "outputs": [
        {
          "output_type": "stream",
          "name": "stderr",
          "text": [
            "Generate config GenerationConfig {\n",
            "  \"bos_token_id\": 50256,\n",
            "  \"eos_token_id\": 50256,\n",
            "  \"transformers_version\": \"4.26.1\"\n",
            "}\n",
            "\n",
            "Setting `pad_token_id` to `eos_token_id`:50256 for open-end generation.\n"
          ]
        }
      ]
    },
    {
      "cell_type": "code",
      "source": [
        "\n",
        "generated_text"
      ],
      "metadata": {
        "id": "29l1LirQV9rb",
        "outputId": "73db4c35-9da7-40bb-e0c1-a86f77e4ed00",
        "colab": {
          "base_uri": "https://localhost:8080/"
        }
      },
      "execution_count": null,
      "outputs": [
        {
          "output_type": "execute_result",
          "data": {
            "text/plain": [
              "[{'generated_text': 'Принят Государственной Думой 30 мая 2019 года  Одобрен Советом Федерации 11 июня 2019 года  Статья 1  Внести в Федеральный закон от 24 июля 2007 года N 221-ФЗ \"О кадастровой деятельности\" (Собрание законодательства Российской Федерации, 2007, N 31, ст. 4017; 2013, N 30, ст. 4083; 2014, N 52, ст. 7558; 2016, N 27, ст. 4294; 2017, N 31, ст. 4766; 2018, N 53, ст. 8464) следующие изменения:  1) статью 35 дополнить частью 11 следующего содержания:  \"11. Кадастровые работы могут выполняться кадастровым инженером, являющимся работником юридического лица, на основании трудового договора в случае, если кадастровые работы выполняются для собственных нужд такого юридического лица. При этом заключение предусмотренного частью 1 настоящей статьи договора подряда не требуется.\";  2) в статье 421:  а) в части 1:  пункт 2 изложить в следующей редакции:  \"2) земельных участков, образование которых предусмотрено документами, указанными в части 6 настоящей статьи;\";  пункт 3 изложить в следующей редакции:  \"3) зданий, сооружений (за исключением линейных объектов), а также объектов незавершенного строительства, сведения о которых содержатся в Едином государственном реестре недвижимости.\";  б) дополнить частью 41 следующего содержания:  \"41. В случае выявления расположенных в границах территории выполнения комплексных кадастровых работ земельных участков, сведения о которых отсутствуют в Едином государственном реестре недвижимости и в отношении которых у использующих их лиц отсутствуют документы, устанавливающие или подтверждающие право пользования земельным участком, в том числе на условиях сервитута, либо иные документы, допускающие в соответствии с земельным законодательством использование земельных участков без предоставления или установления сервитута, а также зданий, сооружений, объектов незавершенного строительства, сведения о которых отсутствуют в Едином государственном реестре недвижимости и в отношении которых у использующих их лиц отсутствуют правоустанавливающие или правоудостоверяющие документы, исполнитель комплексных кадастровых работ направляет сведения о выявленных объектах (включая сведения о местоположении границ и площади земельного участка, местоположении зданий, сооружений, объектов незавершенного строительства на земельном участке) заказчику комплексных кадастровых работ и в территориальный орган федерального органа исполнительной власти, уполномоченного на [SEP] Внести в Федеральный закон от 21 июля 2017 года N 221-ФЗ \"О кадастре недвижимости\" (Собрание законодательства Российской Федерации, 2017, N 30, ст. 4017) следующие изменения:  1) часть 1 изложить в следующей редакции:  \"1) земельный участок, образование которых предусмотрено документами, указанными в части 6 настоящей статьи;\";  2) в части 1:  пункт 1 изложить в следующей редакции:  \"1) земельный участок, образование которого предусмотрено документами, указанными в части 6 настоящей статьи;\";  3) в части 1:  пункт 1 изложить в следующей редакции:  \"1) земельный участок, образование которого предусмотрено документами, указанными в части 6 настоящей статьи;\";  4) в части 1:  пункт 1 изложить в следующей редакции:  \"1) земельный участок, образование которого предусмотрено документами, указанными в части 6 настоящей статьи;\";  5) в части 1:  пункт 1 изложить в следующей редакции:  \"1) земельный участок, образование которого предусмотрено документами, указанными в части 6 настоящей статьи;\";  6) в части 1:  пункт 1 изложить в следующей редакции:  \"1) земельный участок, образование которого предусмотрено документами, указанными в части 6 настоящей статьи;\";  7) в части 1:  пункт 1 изложить в следующей редакции:  \"1) земельный участок, образование которого предусмотрено документами, указанными в части 6 настоящей статьи;\";  8) в части 1:  пункт 1 изложить в следующей редакции:  \"1) земельный участок, образование которого предусмотрено документами, указанными в части 6 настоящей статьи;\";  9) в части 1:  пункт 1 изложить в следующей редакции:  \"1) земельный участок, образование которого предусмотрено документами, указанными в части 6 настоящей статьи;\";  10) в части 1:  пункт 1 изложить в следующей редакции:  \"1) земельный участок, образование которого предусмотрено документами, указанными в части 6 настоящей статьи;\";  11) в части 1:  пункт 1 изложить в следующей редакции:  \"1) земельный участок, образование которого предусмотрено документами, указанными в части 6 настоящей статьи;\";  12) в части 1:  пункт 1 изложить в следующей редакции:  \"1) земельный участок, образование которого предусмотрено документами, указанными в части 6 настоящей статьи;\";  13) в части 1:  пункт 1 изложить в следующей редакции:  \"1) земельный участок, образование которого предусмотрено документами, указанными в части 6 настоящей статьи;\";  14) в части 1:  пункт 1 изложить в следующей редакции:  \"1) земельный участок, образование которого предусмотрено документами, указанными в части 6 настоящей статьи;\";  15) в части 1:  пункт 1 изложить в следующей редакции:  \"1) земельный участок, образование которого предусмотрено документами, указанными в части 6 настоящей статьи;\";  16) в части 1:  пункт 1 изложить в следующей редакции:  \"1) земельный участок, образование которого предусмотрено документами, указанными в части 6 настоящей статьи;\";  17) в части 1:  пункт 1 изложить в следующей редакции:  \"1) земельный участок, образование которого предусмотрено документами, указанными в части 6 настоящей статьи;\";  18) в части 1:  пункт 1 изложить в следующей редакции:  \"1) земельный участок, образование которого предусмотрено документами, указанными в части 6 настоящей статьи;\";  19) в части 1:  пункт 1 изложить в следующей редакции:  \"1) земельный участок, образование которого предусмотрено документами, указанными в части 6 настоящей статьи;\";  20) в части 1:  пункт 1 изложить в следующей редакции:  \"1) земельный участок, образование которого предусмотрено документами, указанными в части 6 настоящей статьи;\";  21) в части 1:  пункт 1 изложить в следующей редакции:  \"1) земельный участок, образование которого предусмотрено документами, указанными в части 6 настоящей статьи;\";  22) в части 1:  пункт 1 изложить в следующей редакции:  \"1) земельный участок, образование которого предусмотрено документами, указанными в части 6 настоящей статьи;\";  23) в части 1:  пункт 1 изложить в следующей редакции:  \"1) земельный участок, образование которого предусмотрено документами, указанными в части 6 настоящей статьи;\";  24) в части 1:  пункт 1 изложить в следующей редакции:  \"1) земельный участок, образование которого предусмотрено документами, указанными в части 6 настоящей статьи;\";  25) в части 1:  пункт 1 изложить в следующей редакции:  \"1) земельный участок, образование которого предусмотрено документами, указанными в части 6 настоящей статьи;\";  26) в части 1:  пункт 1 изложить в следующей редакции:  \"1) земельный участок, образование которого предусмотрено документами, указанными в части 6 настоящей статьи;\";  27) в части 1:  пункт 1 изложить в следующей редакции:  \"1) земельный участок, образование которого предусмотрено документами, указанными в части 6 настоящей статьи;\";  2) в части 1:  пункт 1 изложить в следующей редакции:  \"1) земельный участок, образование которого предусмотрено документами, указанными в части 6 настоящей статьи;\";  3) в части 1:  пункт 1 изложить в следующей редакции:  \"1) земельный участок, образование которого предусмотрено документами, указанными в части 6 настоящей статьи;\";  2) в части 1:  пункт 1 изложить в следующей редакции:  \"1) земельный участок, образование которого предусмотрено документами, указанными в части 6 настоящей статьи;\";  3) в части 1:  пункт 1 изложить в следующей редакции:  \"1) земельный участок, образование которого предусмотрено документами, указанными в части 6 настоящей статьи;\";  3) в части 1:  пункт 1 изложить в следующей редакции:  \"1) земельный участок, образование которого предусмотрено документами, указанными в части 6 настоящей статьи;\";  4) в части 1:  пункт 1 изложить в следующей редакции:  \"1) земельный участок, образование которого предусмотрено документами, указанными в части 6 настоящей статьи;\";  2) в части 1:  пункт 1 изложить в следующей редакции:  \"1) земельный участок, образование которого предусмотрено документами, указанными в части 6 настоящей статьи;\";  3) в части 1: '}]"
            ]
          },
          "metadata": {},
          "execution_count": 50
        }
      ]
    },
    {
      "cell_type": "code",
      "source": [],
      "metadata": {
        "id": "0qKlBuenSpGb"
      },
      "execution_count": null,
      "outputs": []
    }
  ],
  "metadata": {
    "colab": {
      "provenance": [],
      "include_colab_link": true
    },
    "gpuClass": "premium",
    "kernelspec": {
      "display_name": "Python 3",
      "name": "python3"
    },
    "widgets": {
      "application/vnd.jupyter.widget-state+json": {
        "a3565cb3027747458a220c7a38214df4": {
          "model_module": "@jupyter-widgets/controls",
          "model_name": "HBoxModel",
          "model_module_version": "1.5.0",
          "state": {
            "_dom_classes": [],
            "_model_module": "@jupyter-widgets/controls",
            "_model_module_version": "1.5.0",
            "_model_name": "HBoxModel",
            "_view_count": null,
            "_view_module": "@jupyter-widgets/controls",
            "_view_module_version": "1.5.0",
            "_view_name": "HBoxView",
            "box_style": "",
            "children": [
              "IPY_MODEL_fdc561ad610b42b28887fc737785c7c9",
              "IPY_MODEL_b58611a5391b4b81bc30e57d55876483",
              "IPY_MODEL_0f3d4098ffa548d5ab30d0d1f34a8d6e"
            ],
            "layout": "IPY_MODEL_14d029c192cc40c5ae98c9034c70e0ab"
          }
        },
        "fdc561ad610b42b28887fc737785c7c9": {
          "model_module": "@jupyter-widgets/controls",
          "model_name": "HTMLModel",
          "model_module_version": "1.5.0",
          "state": {
            "_dom_classes": [],
            "_model_module": "@jupyter-widgets/controls",
            "_model_module_version": "1.5.0",
            "_model_name": "HTMLModel",
            "_view_count": null,
            "_view_module": "@jupyter-widgets/controls",
            "_view_module_version": "1.5.0",
            "_view_name": "HTMLView",
            "description": "",
            "description_tooltip": null,
            "layout": "IPY_MODEL_ac5a6566d7a74b53b150fef75b42bdd2",
            "placeholder": "​",
            "style": "IPY_MODEL_3df4b16d8d734fcc8ce5c597c764e5c9",
            "value": "Downloading (…)lve/main/config.json: 100%"
          }
        },
        "b58611a5391b4b81bc30e57d55876483": {
          "model_module": "@jupyter-widgets/controls",
          "model_name": "FloatProgressModel",
          "model_module_version": "1.5.0",
          "state": {
            "_dom_classes": [],
            "_model_module": "@jupyter-widgets/controls",
            "_model_module_version": "1.5.0",
            "_model_name": "FloatProgressModel",
            "_view_count": null,
            "_view_module": "@jupyter-widgets/controls",
            "_view_module_version": "1.5.0",
            "_view_name": "ProgressView",
            "bar_style": "success",
            "description": "",
            "description_tooltip": null,
            "layout": "IPY_MODEL_1db57d2875fc46c5985edd657412355e",
            "max": 608,
            "min": 0,
            "orientation": "horizontal",
            "style": "IPY_MODEL_3086a2f39b934be0a962e81de73d6789",
            "value": 608
          }
        },
        "0f3d4098ffa548d5ab30d0d1f34a8d6e": {
          "model_module": "@jupyter-widgets/controls",
          "model_name": "HTMLModel",
          "model_module_version": "1.5.0",
          "state": {
            "_dom_classes": [],
            "_model_module": "@jupyter-widgets/controls",
            "_model_module_version": "1.5.0",
            "_model_name": "HTMLModel",
            "_view_count": null,
            "_view_module": "@jupyter-widgets/controls",
            "_view_module_version": "1.5.0",
            "_view_name": "HTMLView",
            "description": "",
            "description_tooltip": null,
            "layout": "IPY_MODEL_2790cf16cbe54734a552cfe3b8d60cf7",
            "placeholder": "​",
            "style": "IPY_MODEL_8318c73b5c05494cb2c39d37b57e89fb",
            "value": " 608/608 [00:00&lt;00:00, 21.0kB/s]"
          }
        },
        "14d029c192cc40c5ae98c9034c70e0ab": {
          "model_module": "@jupyter-widgets/base",
          "model_name": "LayoutModel",
          "model_module_version": "1.2.0",
          "state": {
            "_model_module": "@jupyter-widgets/base",
            "_model_module_version": "1.2.0",
            "_model_name": "LayoutModel",
            "_view_count": null,
            "_view_module": "@jupyter-widgets/base",
            "_view_module_version": "1.2.0",
            "_view_name": "LayoutView",
            "align_content": null,
            "align_items": null,
            "align_self": null,
            "border": null,
            "bottom": null,
            "display": null,
            "flex": null,
            "flex_flow": null,
            "grid_area": null,
            "grid_auto_columns": null,
            "grid_auto_flow": null,
            "grid_auto_rows": null,
            "grid_column": null,
            "grid_gap": null,
            "grid_row": null,
            "grid_template_areas": null,
            "grid_template_columns": null,
            "grid_template_rows": null,
            "height": null,
            "justify_content": null,
            "justify_items": null,
            "left": null,
            "margin": null,
            "max_height": null,
            "max_width": null,
            "min_height": null,
            "min_width": null,
            "object_fit": null,
            "object_position": null,
            "order": null,
            "overflow": null,
            "overflow_x": null,
            "overflow_y": null,
            "padding": null,
            "right": null,
            "top": null,
            "visibility": null,
            "width": null
          }
        },
        "ac5a6566d7a74b53b150fef75b42bdd2": {
          "model_module": "@jupyter-widgets/base",
          "model_name": "LayoutModel",
          "model_module_version": "1.2.0",
          "state": {
            "_model_module": "@jupyter-widgets/base",
            "_model_module_version": "1.2.0",
            "_model_name": "LayoutModel",
            "_view_count": null,
            "_view_module": "@jupyter-widgets/base",
            "_view_module_version": "1.2.0",
            "_view_name": "LayoutView",
            "align_content": null,
            "align_items": null,
            "align_self": null,
            "border": null,
            "bottom": null,
            "display": null,
            "flex": null,
            "flex_flow": null,
            "grid_area": null,
            "grid_auto_columns": null,
            "grid_auto_flow": null,
            "grid_auto_rows": null,
            "grid_column": null,
            "grid_gap": null,
            "grid_row": null,
            "grid_template_areas": null,
            "grid_template_columns": null,
            "grid_template_rows": null,
            "height": null,
            "justify_content": null,
            "justify_items": null,
            "left": null,
            "margin": null,
            "max_height": null,
            "max_width": null,
            "min_height": null,
            "min_width": null,
            "object_fit": null,
            "object_position": null,
            "order": null,
            "overflow": null,
            "overflow_x": null,
            "overflow_y": null,
            "padding": null,
            "right": null,
            "top": null,
            "visibility": null,
            "width": null
          }
        },
        "3df4b16d8d734fcc8ce5c597c764e5c9": {
          "model_module": "@jupyter-widgets/controls",
          "model_name": "DescriptionStyleModel",
          "model_module_version": "1.5.0",
          "state": {
            "_model_module": "@jupyter-widgets/controls",
            "_model_module_version": "1.5.0",
            "_model_name": "DescriptionStyleModel",
            "_view_count": null,
            "_view_module": "@jupyter-widgets/base",
            "_view_module_version": "1.2.0",
            "_view_name": "StyleView",
            "description_width": ""
          }
        },
        "1db57d2875fc46c5985edd657412355e": {
          "model_module": "@jupyter-widgets/base",
          "model_name": "LayoutModel",
          "model_module_version": "1.2.0",
          "state": {
            "_model_module": "@jupyter-widgets/base",
            "_model_module_version": "1.2.0",
            "_model_name": "LayoutModel",
            "_view_count": null,
            "_view_module": "@jupyter-widgets/base",
            "_view_module_version": "1.2.0",
            "_view_name": "LayoutView",
            "align_content": null,
            "align_items": null,
            "align_self": null,
            "border": null,
            "bottom": null,
            "display": null,
            "flex": null,
            "flex_flow": null,
            "grid_area": null,
            "grid_auto_columns": null,
            "grid_auto_flow": null,
            "grid_auto_rows": null,
            "grid_column": null,
            "grid_gap": null,
            "grid_row": null,
            "grid_template_areas": null,
            "grid_template_columns": null,
            "grid_template_rows": null,
            "height": null,
            "justify_content": null,
            "justify_items": null,
            "left": null,
            "margin": null,
            "max_height": null,
            "max_width": null,
            "min_height": null,
            "min_width": null,
            "object_fit": null,
            "object_position": null,
            "order": null,
            "overflow": null,
            "overflow_x": null,
            "overflow_y": null,
            "padding": null,
            "right": null,
            "top": null,
            "visibility": null,
            "width": null
          }
        },
        "3086a2f39b934be0a962e81de73d6789": {
          "model_module": "@jupyter-widgets/controls",
          "model_name": "ProgressStyleModel",
          "model_module_version": "1.5.0",
          "state": {
            "_model_module": "@jupyter-widgets/controls",
            "_model_module_version": "1.5.0",
            "_model_name": "ProgressStyleModel",
            "_view_count": null,
            "_view_module": "@jupyter-widgets/base",
            "_view_module_version": "1.2.0",
            "_view_name": "StyleView",
            "bar_color": null,
            "description_width": ""
          }
        },
        "2790cf16cbe54734a552cfe3b8d60cf7": {
          "model_module": "@jupyter-widgets/base",
          "model_name": "LayoutModel",
          "model_module_version": "1.2.0",
          "state": {
            "_model_module": "@jupyter-widgets/base",
            "_model_module_version": "1.2.0",
            "_model_name": "LayoutModel",
            "_view_count": null,
            "_view_module": "@jupyter-widgets/base",
            "_view_module_version": "1.2.0",
            "_view_name": "LayoutView",
            "align_content": null,
            "align_items": null,
            "align_self": null,
            "border": null,
            "bottom": null,
            "display": null,
            "flex": null,
            "flex_flow": null,
            "grid_area": null,
            "grid_auto_columns": null,
            "grid_auto_flow": null,
            "grid_auto_rows": null,
            "grid_column": null,
            "grid_gap": null,
            "grid_row": null,
            "grid_template_areas": null,
            "grid_template_columns": null,
            "grid_template_rows": null,
            "height": null,
            "justify_content": null,
            "justify_items": null,
            "left": null,
            "margin": null,
            "max_height": null,
            "max_width": null,
            "min_height": null,
            "min_width": null,
            "object_fit": null,
            "object_position": null,
            "order": null,
            "overflow": null,
            "overflow_x": null,
            "overflow_y": null,
            "padding": null,
            "right": null,
            "top": null,
            "visibility": null,
            "width": null
          }
        },
        "8318c73b5c05494cb2c39d37b57e89fb": {
          "model_module": "@jupyter-widgets/controls",
          "model_name": "DescriptionStyleModel",
          "model_module_version": "1.5.0",
          "state": {
            "_model_module": "@jupyter-widgets/controls",
            "_model_module_version": "1.5.0",
            "_model_name": "DescriptionStyleModel",
            "_view_count": null,
            "_view_module": "@jupyter-widgets/base",
            "_view_module_version": "1.2.0",
            "_view_name": "StyleView",
            "description_width": ""
          }
        },
        "2d041503dff140f8a6fb4f8248757648": {
          "model_module": "@jupyter-widgets/controls",
          "model_name": "HBoxModel",
          "model_module_version": "1.5.0",
          "state": {
            "_dom_classes": [],
            "_model_module": "@jupyter-widgets/controls",
            "_model_module_version": "1.5.0",
            "_model_name": "HBoxModel",
            "_view_count": null,
            "_view_module": "@jupyter-widgets/controls",
            "_view_module_version": "1.5.0",
            "_view_name": "HBoxView",
            "box_style": "",
            "children": [
              "IPY_MODEL_87cb036e33fa4576b69dc4e9d4676bea",
              "IPY_MODEL_5920cd8dab0841f4af455e8f2f06bbe2",
              "IPY_MODEL_ca108721fc5048a5ad17134b65608bb7"
            ],
            "layout": "IPY_MODEL_8987a531bfa7485b99b02543b974a88a"
          }
        },
        "87cb036e33fa4576b69dc4e9d4676bea": {
          "model_module": "@jupyter-widgets/controls",
          "model_name": "HTMLModel",
          "model_module_version": "1.5.0",
          "state": {
            "_dom_classes": [],
            "_model_module": "@jupyter-widgets/controls",
            "_model_module_version": "1.5.0",
            "_model_name": "HTMLModel",
            "_view_count": null,
            "_view_module": "@jupyter-widgets/controls",
            "_view_module_version": "1.5.0",
            "_view_name": "HTMLView",
            "description": "",
            "description_tooltip": null,
            "layout": "IPY_MODEL_0ba479e794a14619a1b7a958da35dae9",
            "placeholder": "​",
            "style": "IPY_MODEL_8afec69eff184f8e9869d664b4d71509",
            "value": "Downloading (…)olve/main/vocab.json: 100%"
          }
        },
        "5920cd8dab0841f4af455e8f2f06bbe2": {
          "model_module": "@jupyter-widgets/controls",
          "model_name": "FloatProgressModel",
          "model_module_version": "1.5.0",
          "state": {
            "_dom_classes": [],
            "_model_module": "@jupyter-widgets/controls",
            "_model_module_version": "1.5.0",
            "_model_name": "FloatProgressModel",
            "_view_count": null,
            "_view_module": "@jupyter-widgets/controls",
            "_view_module_version": "1.5.0",
            "_view_name": "ProgressView",
            "bar_style": "success",
            "description": "",
            "description_tooltip": null,
            "layout": "IPY_MODEL_e4dbe32276454ae8be831c33c6e91fc4",
            "max": 1713123,
            "min": 0,
            "orientation": "horizontal",
            "style": "IPY_MODEL_42a31c9de05c4d9fad541c95cc3519cf",
            "value": 1713123
          }
        },
        "ca108721fc5048a5ad17134b65608bb7": {
          "model_module": "@jupyter-widgets/controls",
          "model_name": "HTMLModel",
          "model_module_version": "1.5.0",
          "state": {
            "_dom_classes": [],
            "_model_module": "@jupyter-widgets/controls",
            "_model_module_version": "1.5.0",
            "_model_name": "HTMLModel",
            "_view_count": null,
            "_view_module": "@jupyter-widgets/controls",
            "_view_module_version": "1.5.0",
            "_view_name": "HTMLView",
            "description": "",
            "description_tooltip": null,
            "layout": "IPY_MODEL_5317fe8f9b8343f48e8bdb25d11171a8",
            "placeholder": "​",
            "style": "IPY_MODEL_7e1c4bd82e0d4757a94571805f7d2b0a",
            "value": " 1.71M/1.71M [00:01&lt;00:00, 1.29MB/s]"
          }
        },
        "8987a531bfa7485b99b02543b974a88a": {
          "model_module": "@jupyter-widgets/base",
          "model_name": "LayoutModel",
          "model_module_version": "1.2.0",
          "state": {
            "_model_module": "@jupyter-widgets/base",
            "_model_module_version": "1.2.0",
            "_model_name": "LayoutModel",
            "_view_count": null,
            "_view_module": "@jupyter-widgets/base",
            "_view_module_version": "1.2.0",
            "_view_name": "LayoutView",
            "align_content": null,
            "align_items": null,
            "align_self": null,
            "border": null,
            "bottom": null,
            "display": null,
            "flex": null,
            "flex_flow": null,
            "grid_area": null,
            "grid_auto_columns": null,
            "grid_auto_flow": null,
            "grid_auto_rows": null,
            "grid_column": null,
            "grid_gap": null,
            "grid_row": null,
            "grid_template_areas": null,
            "grid_template_columns": null,
            "grid_template_rows": null,
            "height": null,
            "justify_content": null,
            "justify_items": null,
            "left": null,
            "margin": null,
            "max_height": null,
            "max_width": null,
            "min_height": null,
            "min_width": null,
            "object_fit": null,
            "object_position": null,
            "order": null,
            "overflow": null,
            "overflow_x": null,
            "overflow_y": null,
            "padding": null,
            "right": null,
            "top": null,
            "visibility": null,
            "width": null
          }
        },
        "0ba479e794a14619a1b7a958da35dae9": {
          "model_module": "@jupyter-widgets/base",
          "model_name": "LayoutModel",
          "model_module_version": "1.2.0",
          "state": {
            "_model_module": "@jupyter-widgets/base",
            "_model_module_version": "1.2.0",
            "_model_name": "LayoutModel",
            "_view_count": null,
            "_view_module": "@jupyter-widgets/base",
            "_view_module_version": "1.2.0",
            "_view_name": "LayoutView",
            "align_content": null,
            "align_items": null,
            "align_self": null,
            "border": null,
            "bottom": null,
            "display": null,
            "flex": null,
            "flex_flow": null,
            "grid_area": null,
            "grid_auto_columns": null,
            "grid_auto_flow": null,
            "grid_auto_rows": null,
            "grid_column": null,
            "grid_gap": null,
            "grid_row": null,
            "grid_template_areas": null,
            "grid_template_columns": null,
            "grid_template_rows": null,
            "height": null,
            "justify_content": null,
            "justify_items": null,
            "left": null,
            "margin": null,
            "max_height": null,
            "max_width": null,
            "min_height": null,
            "min_width": null,
            "object_fit": null,
            "object_position": null,
            "order": null,
            "overflow": null,
            "overflow_x": null,
            "overflow_y": null,
            "padding": null,
            "right": null,
            "top": null,
            "visibility": null,
            "width": null
          }
        },
        "8afec69eff184f8e9869d664b4d71509": {
          "model_module": "@jupyter-widgets/controls",
          "model_name": "DescriptionStyleModel",
          "model_module_version": "1.5.0",
          "state": {
            "_model_module": "@jupyter-widgets/controls",
            "_model_module_version": "1.5.0",
            "_model_name": "DescriptionStyleModel",
            "_view_count": null,
            "_view_module": "@jupyter-widgets/base",
            "_view_module_version": "1.2.0",
            "_view_name": "StyleView",
            "description_width": ""
          }
        },
        "e4dbe32276454ae8be831c33c6e91fc4": {
          "model_module": "@jupyter-widgets/base",
          "model_name": "LayoutModel",
          "model_module_version": "1.2.0",
          "state": {
            "_model_module": "@jupyter-widgets/base",
            "_model_module_version": "1.2.0",
            "_model_name": "LayoutModel",
            "_view_count": null,
            "_view_module": "@jupyter-widgets/base",
            "_view_module_version": "1.2.0",
            "_view_name": "LayoutView",
            "align_content": null,
            "align_items": null,
            "align_self": null,
            "border": null,
            "bottom": null,
            "display": null,
            "flex": null,
            "flex_flow": null,
            "grid_area": null,
            "grid_auto_columns": null,
            "grid_auto_flow": null,
            "grid_auto_rows": null,
            "grid_column": null,
            "grid_gap": null,
            "grid_row": null,
            "grid_template_areas": null,
            "grid_template_columns": null,
            "grid_template_rows": null,
            "height": null,
            "justify_content": null,
            "justify_items": null,
            "left": null,
            "margin": null,
            "max_height": null,
            "max_width": null,
            "min_height": null,
            "min_width": null,
            "object_fit": null,
            "object_position": null,
            "order": null,
            "overflow": null,
            "overflow_x": null,
            "overflow_y": null,
            "padding": null,
            "right": null,
            "top": null,
            "visibility": null,
            "width": null
          }
        },
        "42a31c9de05c4d9fad541c95cc3519cf": {
          "model_module": "@jupyter-widgets/controls",
          "model_name": "ProgressStyleModel",
          "model_module_version": "1.5.0",
          "state": {
            "_model_module": "@jupyter-widgets/controls",
            "_model_module_version": "1.5.0",
            "_model_name": "ProgressStyleModel",
            "_view_count": null,
            "_view_module": "@jupyter-widgets/base",
            "_view_module_version": "1.2.0",
            "_view_name": "StyleView",
            "bar_color": null,
            "description_width": ""
          }
        },
        "5317fe8f9b8343f48e8bdb25d11171a8": {
          "model_module": "@jupyter-widgets/base",
          "model_name": "LayoutModel",
          "model_module_version": "1.2.0",
          "state": {
            "_model_module": "@jupyter-widgets/base",
            "_model_module_version": "1.2.0",
            "_model_name": "LayoutModel",
            "_view_count": null,
            "_view_module": "@jupyter-widgets/base",
            "_view_module_version": "1.2.0",
            "_view_name": "LayoutView",
            "align_content": null,
            "align_items": null,
            "align_self": null,
            "border": null,
            "bottom": null,
            "display": null,
            "flex": null,
            "flex_flow": null,
            "grid_area": null,
            "grid_auto_columns": null,
            "grid_auto_flow": null,
            "grid_auto_rows": null,
            "grid_column": null,
            "grid_gap": null,
            "grid_row": null,
            "grid_template_areas": null,
            "grid_template_columns": null,
            "grid_template_rows": null,
            "height": null,
            "justify_content": null,
            "justify_items": null,
            "left": null,
            "margin": null,
            "max_height": null,
            "max_width": null,
            "min_height": null,
            "min_width": null,
            "object_fit": null,
            "object_position": null,
            "order": null,
            "overflow": null,
            "overflow_x": null,
            "overflow_y": null,
            "padding": null,
            "right": null,
            "top": null,
            "visibility": null,
            "width": null
          }
        },
        "7e1c4bd82e0d4757a94571805f7d2b0a": {
          "model_module": "@jupyter-widgets/controls",
          "model_name": "DescriptionStyleModel",
          "model_module_version": "1.5.0",
          "state": {
            "_model_module": "@jupyter-widgets/controls",
            "_model_module_version": "1.5.0",
            "_model_name": "DescriptionStyleModel",
            "_view_count": null,
            "_view_module": "@jupyter-widgets/base",
            "_view_module_version": "1.2.0",
            "_view_name": "StyleView",
            "description_width": ""
          }
        },
        "95a63efeff4e429e844a1d9f6fa8b6e4": {
          "model_module": "@jupyter-widgets/controls",
          "model_name": "HBoxModel",
          "model_module_version": "1.5.0",
          "state": {
            "_dom_classes": [],
            "_model_module": "@jupyter-widgets/controls",
            "_model_module_version": "1.5.0",
            "_model_name": "HBoxModel",
            "_view_count": null,
            "_view_module": "@jupyter-widgets/controls",
            "_view_module_version": "1.5.0",
            "_view_name": "HBoxView",
            "box_style": "",
            "children": [
              "IPY_MODEL_43b0c69a55be450eb6a7152958353b63",
              "IPY_MODEL_c21aebaf5d6f48ed81a475961d26b55b",
              "IPY_MODEL_1891bb19f74c41f99c4e3742a01ebdfe"
            ],
            "layout": "IPY_MODEL_279e74dbe3a64aed9d5dbafe0843f911"
          }
        },
        "43b0c69a55be450eb6a7152958353b63": {
          "model_module": "@jupyter-widgets/controls",
          "model_name": "HTMLModel",
          "model_module_version": "1.5.0",
          "state": {
            "_dom_classes": [],
            "_model_module": "@jupyter-widgets/controls",
            "_model_module_version": "1.5.0",
            "_model_name": "HTMLModel",
            "_view_count": null,
            "_view_module": "@jupyter-widgets/controls",
            "_view_module_version": "1.5.0",
            "_view_name": "HTMLView",
            "description": "",
            "description_tooltip": null,
            "layout": "IPY_MODEL_dee9e6d35740433db84e6c7653d3fe5f",
            "placeholder": "​",
            "style": "IPY_MODEL_5819f480f0e34b59add73b0e05690b9a",
            "value": "Downloading (…)olve/main/merges.txt: 100%"
          }
        },
        "c21aebaf5d6f48ed81a475961d26b55b": {
          "model_module": "@jupyter-widgets/controls",
          "model_name": "FloatProgressModel",
          "model_module_version": "1.5.0",
          "state": {
            "_dom_classes": [],
            "_model_module": "@jupyter-widgets/controls",
            "_model_module_version": "1.5.0",
            "_model_name": "FloatProgressModel",
            "_view_count": null,
            "_view_module": "@jupyter-widgets/controls",
            "_view_module_version": "1.5.0",
            "_view_name": "ProgressView",
            "bar_style": "success",
            "description": "",
            "description_tooltip": null,
            "layout": "IPY_MODEL_f17a241a021c4e2ca650d9c54a9feced",
            "max": 1270925,
            "min": 0,
            "orientation": "horizontal",
            "style": "IPY_MODEL_987a0b8248af40099b7b1f0cc595c9c3",
            "value": 1270925
          }
        },
        "1891bb19f74c41f99c4e3742a01ebdfe": {
          "model_module": "@jupyter-widgets/controls",
          "model_name": "HTMLModel",
          "model_module_version": "1.5.0",
          "state": {
            "_dom_classes": [],
            "_model_module": "@jupyter-widgets/controls",
            "_model_module_version": "1.5.0",
            "_model_name": "HTMLModel",
            "_view_count": null,
            "_view_module": "@jupyter-widgets/controls",
            "_view_module_version": "1.5.0",
            "_view_name": "HTMLView",
            "description": "",
            "description_tooltip": null,
            "layout": "IPY_MODEL_16f9f1ca8f314026bbd1c8c4893a899f",
            "placeholder": "​",
            "style": "IPY_MODEL_6bf2f6229b2f47e48cec8b7efebec455",
            "value": " 1.27M/1.27M [00:01&lt;00:00, 952kB/s]"
          }
        },
        "279e74dbe3a64aed9d5dbafe0843f911": {
          "model_module": "@jupyter-widgets/base",
          "model_name": "LayoutModel",
          "model_module_version": "1.2.0",
          "state": {
            "_model_module": "@jupyter-widgets/base",
            "_model_module_version": "1.2.0",
            "_model_name": "LayoutModel",
            "_view_count": null,
            "_view_module": "@jupyter-widgets/base",
            "_view_module_version": "1.2.0",
            "_view_name": "LayoutView",
            "align_content": null,
            "align_items": null,
            "align_self": null,
            "border": null,
            "bottom": null,
            "display": null,
            "flex": null,
            "flex_flow": null,
            "grid_area": null,
            "grid_auto_columns": null,
            "grid_auto_flow": null,
            "grid_auto_rows": null,
            "grid_column": null,
            "grid_gap": null,
            "grid_row": null,
            "grid_template_areas": null,
            "grid_template_columns": null,
            "grid_template_rows": null,
            "height": null,
            "justify_content": null,
            "justify_items": null,
            "left": null,
            "margin": null,
            "max_height": null,
            "max_width": null,
            "min_height": null,
            "min_width": null,
            "object_fit": null,
            "object_position": null,
            "order": null,
            "overflow": null,
            "overflow_x": null,
            "overflow_y": null,
            "padding": null,
            "right": null,
            "top": null,
            "visibility": null,
            "width": null
          }
        },
        "dee9e6d35740433db84e6c7653d3fe5f": {
          "model_module": "@jupyter-widgets/base",
          "model_name": "LayoutModel",
          "model_module_version": "1.2.0",
          "state": {
            "_model_module": "@jupyter-widgets/base",
            "_model_module_version": "1.2.0",
            "_model_name": "LayoutModel",
            "_view_count": null,
            "_view_module": "@jupyter-widgets/base",
            "_view_module_version": "1.2.0",
            "_view_name": "LayoutView",
            "align_content": null,
            "align_items": null,
            "align_self": null,
            "border": null,
            "bottom": null,
            "display": null,
            "flex": null,
            "flex_flow": null,
            "grid_area": null,
            "grid_auto_columns": null,
            "grid_auto_flow": null,
            "grid_auto_rows": null,
            "grid_column": null,
            "grid_gap": null,
            "grid_row": null,
            "grid_template_areas": null,
            "grid_template_columns": null,
            "grid_template_rows": null,
            "height": null,
            "justify_content": null,
            "justify_items": null,
            "left": null,
            "margin": null,
            "max_height": null,
            "max_width": null,
            "min_height": null,
            "min_width": null,
            "object_fit": null,
            "object_position": null,
            "order": null,
            "overflow": null,
            "overflow_x": null,
            "overflow_y": null,
            "padding": null,
            "right": null,
            "top": null,
            "visibility": null,
            "width": null
          }
        },
        "5819f480f0e34b59add73b0e05690b9a": {
          "model_module": "@jupyter-widgets/controls",
          "model_name": "DescriptionStyleModel",
          "model_module_version": "1.5.0",
          "state": {
            "_model_module": "@jupyter-widgets/controls",
            "_model_module_version": "1.5.0",
            "_model_name": "DescriptionStyleModel",
            "_view_count": null,
            "_view_module": "@jupyter-widgets/base",
            "_view_module_version": "1.2.0",
            "_view_name": "StyleView",
            "description_width": ""
          }
        },
        "f17a241a021c4e2ca650d9c54a9feced": {
          "model_module": "@jupyter-widgets/base",
          "model_name": "LayoutModel",
          "model_module_version": "1.2.0",
          "state": {
            "_model_module": "@jupyter-widgets/base",
            "_model_module_version": "1.2.0",
            "_model_name": "LayoutModel",
            "_view_count": null,
            "_view_module": "@jupyter-widgets/base",
            "_view_module_version": "1.2.0",
            "_view_name": "LayoutView",
            "align_content": null,
            "align_items": null,
            "align_self": null,
            "border": null,
            "bottom": null,
            "display": null,
            "flex": null,
            "flex_flow": null,
            "grid_area": null,
            "grid_auto_columns": null,
            "grid_auto_flow": null,
            "grid_auto_rows": null,
            "grid_column": null,
            "grid_gap": null,
            "grid_row": null,
            "grid_template_areas": null,
            "grid_template_columns": null,
            "grid_template_rows": null,
            "height": null,
            "justify_content": null,
            "justify_items": null,
            "left": null,
            "margin": null,
            "max_height": null,
            "max_width": null,
            "min_height": null,
            "min_width": null,
            "object_fit": null,
            "object_position": null,
            "order": null,
            "overflow": null,
            "overflow_x": null,
            "overflow_y": null,
            "padding": null,
            "right": null,
            "top": null,
            "visibility": null,
            "width": null
          }
        },
        "987a0b8248af40099b7b1f0cc595c9c3": {
          "model_module": "@jupyter-widgets/controls",
          "model_name": "ProgressStyleModel",
          "model_module_version": "1.5.0",
          "state": {
            "_model_module": "@jupyter-widgets/controls",
            "_model_module_version": "1.5.0",
            "_model_name": "ProgressStyleModel",
            "_view_count": null,
            "_view_module": "@jupyter-widgets/base",
            "_view_module_version": "1.2.0",
            "_view_name": "StyleView",
            "bar_color": null,
            "description_width": ""
          }
        },
        "16f9f1ca8f314026bbd1c8c4893a899f": {
          "model_module": "@jupyter-widgets/base",
          "model_name": "LayoutModel",
          "model_module_version": "1.2.0",
          "state": {
            "_model_module": "@jupyter-widgets/base",
            "_model_module_version": "1.2.0",
            "_model_name": "LayoutModel",
            "_view_count": null,
            "_view_module": "@jupyter-widgets/base",
            "_view_module_version": "1.2.0",
            "_view_name": "LayoutView",
            "align_content": null,
            "align_items": null,
            "align_self": null,
            "border": null,
            "bottom": null,
            "display": null,
            "flex": null,
            "flex_flow": null,
            "grid_area": null,
            "grid_auto_columns": null,
            "grid_auto_flow": null,
            "grid_auto_rows": null,
            "grid_column": null,
            "grid_gap": null,
            "grid_row": null,
            "grid_template_areas": null,
            "grid_template_columns": null,
            "grid_template_rows": null,
            "height": null,
            "justify_content": null,
            "justify_items": null,
            "left": null,
            "margin": null,
            "max_height": null,
            "max_width": null,
            "min_height": null,
            "min_width": null,
            "object_fit": null,
            "object_position": null,
            "order": null,
            "overflow": null,
            "overflow_x": null,
            "overflow_y": null,
            "padding": null,
            "right": null,
            "top": null,
            "visibility": null,
            "width": null
          }
        },
        "6bf2f6229b2f47e48cec8b7efebec455": {
          "model_module": "@jupyter-widgets/controls",
          "model_name": "DescriptionStyleModel",
          "model_module_version": "1.5.0",
          "state": {
            "_model_module": "@jupyter-widgets/controls",
            "_model_module_version": "1.5.0",
            "_model_name": "DescriptionStyleModel",
            "_view_count": null,
            "_view_module": "@jupyter-widgets/base",
            "_view_module_version": "1.2.0",
            "_view_name": "StyleView",
            "description_width": ""
          }
        },
        "40db6e9dd1524c0abfc1d9a271c0a4e5": {
          "model_module": "@jupyter-widgets/controls",
          "model_name": "HBoxModel",
          "model_module_version": "1.5.0",
          "state": {
            "_dom_classes": [],
            "_model_module": "@jupyter-widgets/controls",
            "_model_module_version": "1.5.0",
            "_model_name": "HBoxModel",
            "_view_count": null,
            "_view_module": "@jupyter-widgets/controls",
            "_view_module_version": "1.5.0",
            "_view_name": "HBoxView",
            "box_style": "",
            "children": [
              "IPY_MODEL_a08f35315b614dce8c7fe2bbb60910db",
              "IPY_MODEL_aa1fffd8ff254066b01f1db8d0f2f567",
              "IPY_MODEL_8f6b13e4b6bf451d97aff52cf2eb68ec"
            ],
            "layout": "IPY_MODEL_aacd2c24d76247ee848ef4726a6739b3"
          }
        },
        "a08f35315b614dce8c7fe2bbb60910db": {
          "model_module": "@jupyter-widgets/controls",
          "model_name": "HTMLModel",
          "model_module_version": "1.5.0",
          "state": {
            "_dom_classes": [],
            "_model_module": "@jupyter-widgets/controls",
            "_model_module_version": "1.5.0",
            "_model_name": "HTMLModel",
            "_view_count": null,
            "_view_module": "@jupyter-widgets/controls",
            "_view_module_version": "1.5.0",
            "_view_name": "HTMLView",
            "description": "",
            "description_tooltip": null,
            "layout": "IPY_MODEL_52785a1ba8834c47b5f685c84fab2ad9",
            "placeholder": "​",
            "style": "IPY_MODEL_da6a8f9d33834c928d1fb128ee969c8b",
            "value": "Map: 100%"
          }
        },
        "aa1fffd8ff254066b01f1db8d0f2f567": {
          "model_module": "@jupyter-widgets/controls",
          "model_name": "FloatProgressModel",
          "model_module_version": "1.5.0",
          "state": {
            "_dom_classes": [],
            "_model_module": "@jupyter-widgets/controls",
            "_model_module_version": "1.5.0",
            "_model_name": "FloatProgressModel",
            "_view_count": null,
            "_view_module": "@jupyter-widgets/controls",
            "_view_module_version": "1.5.0",
            "_view_name": "ProgressView",
            "bar_style": "",
            "description": "",
            "description_tooltip": null,
            "layout": "IPY_MODEL_8e2c4322bb4f431293a7fa9cf30d99a5",
            "max": 1920,
            "min": 0,
            "orientation": "horizontal",
            "style": "IPY_MODEL_1cb92b4ed80e4137a456505bd0ac7502",
            "value": 1920
          }
        },
        "8f6b13e4b6bf451d97aff52cf2eb68ec": {
          "model_module": "@jupyter-widgets/controls",
          "model_name": "HTMLModel",
          "model_module_version": "1.5.0",
          "state": {
            "_dom_classes": [],
            "_model_module": "@jupyter-widgets/controls",
            "_model_module_version": "1.5.0",
            "_model_name": "HTMLModel",
            "_view_count": null,
            "_view_module": "@jupyter-widgets/controls",
            "_view_module_version": "1.5.0",
            "_view_name": "HTMLView",
            "description": "",
            "description_tooltip": null,
            "layout": "IPY_MODEL_a02104b1363942ed98b85ededb69bf57",
            "placeholder": "​",
            "style": "IPY_MODEL_555bc03d852547f7a0dee3125934c92f",
            "value": " 1920/1920 [01:00&lt;00:00, 31.88 examples/s]"
          }
        },
        "aacd2c24d76247ee848ef4726a6739b3": {
          "model_module": "@jupyter-widgets/base",
          "model_name": "LayoutModel",
          "model_module_version": "1.2.0",
          "state": {
            "_model_module": "@jupyter-widgets/base",
            "_model_module_version": "1.2.0",
            "_model_name": "LayoutModel",
            "_view_count": null,
            "_view_module": "@jupyter-widgets/base",
            "_view_module_version": "1.2.0",
            "_view_name": "LayoutView",
            "align_content": null,
            "align_items": null,
            "align_self": null,
            "border": null,
            "bottom": null,
            "display": null,
            "flex": null,
            "flex_flow": null,
            "grid_area": null,
            "grid_auto_columns": null,
            "grid_auto_flow": null,
            "grid_auto_rows": null,
            "grid_column": null,
            "grid_gap": null,
            "grid_row": null,
            "grid_template_areas": null,
            "grid_template_columns": null,
            "grid_template_rows": null,
            "height": null,
            "justify_content": null,
            "justify_items": null,
            "left": null,
            "margin": null,
            "max_height": null,
            "max_width": null,
            "min_height": null,
            "min_width": null,
            "object_fit": null,
            "object_position": null,
            "order": null,
            "overflow": null,
            "overflow_x": null,
            "overflow_y": null,
            "padding": null,
            "right": null,
            "top": null,
            "visibility": "hidden",
            "width": null
          }
        },
        "52785a1ba8834c47b5f685c84fab2ad9": {
          "model_module": "@jupyter-widgets/base",
          "model_name": "LayoutModel",
          "model_module_version": "1.2.0",
          "state": {
            "_model_module": "@jupyter-widgets/base",
            "_model_module_version": "1.2.0",
            "_model_name": "LayoutModel",
            "_view_count": null,
            "_view_module": "@jupyter-widgets/base",
            "_view_module_version": "1.2.0",
            "_view_name": "LayoutView",
            "align_content": null,
            "align_items": null,
            "align_self": null,
            "border": null,
            "bottom": null,
            "display": null,
            "flex": null,
            "flex_flow": null,
            "grid_area": null,
            "grid_auto_columns": null,
            "grid_auto_flow": null,
            "grid_auto_rows": null,
            "grid_column": null,
            "grid_gap": null,
            "grid_row": null,
            "grid_template_areas": null,
            "grid_template_columns": null,
            "grid_template_rows": null,
            "height": null,
            "justify_content": null,
            "justify_items": null,
            "left": null,
            "margin": null,
            "max_height": null,
            "max_width": null,
            "min_height": null,
            "min_width": null,
            "object_fit": null,
            "object_position": null,
            "order": null,
            "overflow": null,
            "overflow_x": null,
            "overflow_y": null,
            "padding": null,
            "right": null,
            "top": null,
            "visibility": null,
            "width": null
          }
        },
        "da6a8f9d33834c928d1fb128ee969c8b": {
          "model_module": "@jupyter-widgets/controls",
          "model_name": "DescriptionStyleModel",
          "model_module_version": "1.5.0",
          "state": {
            "_model_module": "@jupyter-widgets/controls",
            "_model_module_version": "1.5.0",
            "_model_name": "DescriptionStyleModel",
            "_view_count": null,
            "_view_module": "@jupyter-widgets/base",
            "_view_module_version": "1.2.0",
            "_view_name": "StyleView",
            "description_width": ""
          }
        },
        "8e2c4322bb4f431293a7fa9cf30d99a5": {
          "model_module": "@jupyter-widgets/base",
          "model_name": "LayoutModel",
          "model_module_version": "1.2.0",
          "state": {
            "_model_module": "@jupyter-widgets/base",
            "_model_module_version": "1.2.0",
            "_model_name": "LayoutModel",
            "_view_count": null,
            "_view_module": "@jupyter-widgets/base",
            "_view_module_version": "1.2.0",
            "_view_name": "LayoutView",
            "align_content": null,
            "align_items": null,
            "align_self": null,
            "border": null,
            "bottom": null,
            "display": null,
            "flex": null,
            "flex_flow": null,
            "grid_area": null,
            "grid_auto_columns": null,
            "grid_auto_flow": null,
            "grid_auto_rows": null,
            "grid_column": null,
            "grid_gap": null,
            "grid_row": null,
            "grid_template_areas": null,
            "grid_template_columns": null,
            "grid_template_rows": null,
            "height": null,
            "justify_content": null,
            "justify_items": null,
            "left": null,
            "margin": null,
            "max_height": null,
            "max_width": null,
            "min_height": null,
            "min_width": null,
            "object_fit": null,
            "object_position": null,
            "order": null,
            "overflow": null,
            "overflow_x": null,
            "overflow_y": null,
            "padding": null,
            "right": null,
            "top": null,
            "visibility": null,
            "width": null
          }
        },
        "1cb92b4ed80e4137a456505bd0ac7502": {
          "model_module": "@jupyter-widgets/controls",
          "model_name": "ProgressStyleModel",
          "model_module_version": "1.5.0",
          "state": {
            "_model_module": "@jupyter-widgets/controls",
            "_model_module_version": "1.5.0",
            "_model_name": "ProgressStyleModel",
            "_view_count": null,
            "_view_module": "@jupyter-widgets/base",
            "_view_module_version": "1.2.0",
            "_view_name": "StyleView",
            "bar_color": null,
            "description_width": ""
          }
        },
        "a02104b1363942ed98b85ededb69bf57": {
          "model_module": "@jupyter-widgets/base",
          "model_name": "LayoutModel",
          "model_module_version": "1.2.0",
          "state": {
            "_model_module": "@jupyter-widgets/base",
            "_model_module_version": "1.2.0",
            "_model_name": "LayoutModel",
            "_view_count": null,
            "_view_module": "@jupyter-widgets/base",
            "_view_module_version": "1.2.0",
            "_view_name": "LayoutView",
            "align_content": null,
            "align_items": null,
            "align_self": null,
            "border": null,
            "bottom": null,
            "display": null,
            "flex": null,
            "flex_flow": null,
            "grid_area": null,
            "grid_auto_columns": null,
            "grid_auto_flow": null,
            "grid_auto_rows": null,
            "grid_column": null,
            "grid_gap": null,
            "grid_row": null,
            "grid_template_areas": null,
            "grid_template_columns": null,
            "grid_template_rows": null,
            "height": null,
            "justify_content": null,
            "justify_items": null,
            "left": null,
            "margin": null,
            "max_height": null,
            "max_width": null,
            "min_height": null,
            "min_width": null,
            "object_fit": null,
            "object_position": null,
            "order": null,
            "overflow": null,
            "overflow_x": null,
            "overflow_y": null,
            "padding": null,
            "right": null,
            "top": null,
            "visibility": null,
            "width": null
          }
        },
        "555bc03d852547f7a0dee3125934c92f": {
          "model_module": "@jupyter-widgets/controls",
          "model_name": "DescriptionStyleModel",
          "model_module_version": "1.5.0",
          "state": {
            "_model_module": "@jupyter-widgets/controls",
            "_model_module_version": "1.5.0",
            "_model_name": "DescriptionStyleModel",
            "_view_count": null,
            "_view_module": "@jupyter-widgets/base",
            "_view_module_version": "1.2.0",
            "_view_name": "StyleView",
            "description_width": ""
          }
        },
        "c81eeddbacb24bde807993f4bd09bb97": {
          "model_module": "@jupyter-widgets/controls",
          "model_name": "HBoxModel",
          "model_module_version": "1.5.0",
          "state": {
            "_dom_classes": [],
            "_model_module": "@jupyter-widgets/controls",
            "_model_module_version": "1.5.0",
            "_model_name": "HBoxModel",
            "_view_count": null,
            "_view_module": "@jupyter-widgets/controls",
            "_view_module_version": "1.5.0",
            "_view_name": "HBoxView",
            "box_style": "",
            "children": [
              "IPY_MODEL_485dc77c92c247bd95a2b04a60f7a414",
              "IPY_MODEL_fb9f00345a2f4d0b9b7a8099cc6e03ee",
              "IPY_MODEL_dba92d7b2782442699e4d2174f5d559e"
            ],
            "layout": "IPY_MODEL_9c8a4dce277b4263800e1fb4c3079da9"
          }
        },
        "485dc77c92c247bd95a2b04a60f7a414": {
          "model_module": "@jupyter-widgets/controls",
          "model_name": "HTMLModel",
          "model_module_version": "1.5.0",
          "state": {
            "_dom_classes": [],
            "_model_module": "@jupyter-widgets/controls",
            "_model_module_version": "1.5.0",
            "_model_name": "HTMLModel",
            "_view_count": null,
            "_view_module": "@jupyter-widgets/controls",
            "_view_module_version": "1.5.0",
            "_view_name": "HTMLView",
            "description": "",
            "description_tooltip": null,
            "layout": "IPY_MODEL_f7542cef154a4e08a72e465bb0bfc71e",
            "placeholder": "​",
            "style": "IPY_MODEL_11b6dac303504b0998d27fcefe874f50",
            "value": "Map:  98%"
          }
        },
        "fb9f00345a2f4d0b9b7a8099cc6e03ee": {
          "model_module": "@jupyter-widgets/controls",
          "model_name": "FloatProgressModel",
          "model_module_version": "1.5.0",
          "state": {
            "_dom_classes": [],
            "_model_module": "@jupyter-widgets/controls",
            "_model_module_version": "1.5.0",
            "_model_name": "FloatProgressModel",
            "_view_count": null,
            "_view_module": "@jupyter-widgets/controls",
            "_view_module_version": "1.5.0",
            "_view_name": "ProgressView",
            "bar_style": "",
            "description": "",
            "description_tooltip": null,
            "layout": "IPY_MODEL_03759a3e4f1e48049201a12d30eddde5",
            "max": 102,
            "min": 0,
            "orientation": "horizontal",
            "style": "IPY_MODEL_2ec4408ab33e4b3e9b5a90612fdf87c3",
            "value": 102
          }
        },
        "dba92d7b2782442699e4d2174f5d559e": {
          "model_module": "@jupyter-widgets/controls",
          "model_name": "HTMLModel",
          "model_module_version": "1.5.0",
          "state": {
            "_dom_classes": [],
            "_model_module": "@jupyter-widgets/controls",
            "_model_module_version": "1.5.0",
            "_model_name": "HTMLModel",
            "_view_count": null,
            "_view_module": "@jupyter-widgets/controls",
            "_view_module_version": "1.5.0",
            "_view_name": "HTMLView",
            "description": "",
            "description_tooltip": null,
            "layout": "IPY_MODEL_64f3b56b3432479f88b348631eec4be2",
            "placeholder": "​",
            "style": "IPY_MODEL_9cdddec7cb9741678c22c85edc4d924f",
            "value": " 100/102 [00:03&lt;00:00, 21.22 examples/s]"
          }
        },
        "9c8a4dce277b4263800e1fb4c3079da9": {
          "model_module": "@jupyter-widgets/base",
          "model_name": "LayoutModel",
          "model_module_version": "1.2.0",
          "state": {
            "_model_module": "@jupyter-widgets/base",
            "_model_module_version": "1.2.0",
            "_model_name": "LayoutModel",
            "_view_count": null,
            "_view_module": "@jupyter-widgets/base",
            "_view_module_version": "1.2.0",
            "_view_name": "LayoutView",
            "align_content": null,
            "align_items": null,
            "align_self": null,
            "border": null,
            "bottom": null,
            "display": null,
            "flex": null,
            "flex_flow": null,
            "grid_area": null,
            "grid_auto_columns": null,
            "grid_auto_flow": null,
            "grid_auto_rows": null,
            "grid_column": null,
            "grid_gap": null,
            "grid_row": null,
            "grid_template_areas": null,
            "grid_template_columns": null,
            "grid_template_rows": null,
            "height": null,
            "justify_content": null,
            "justify_items": null,
            "left": null,
            "margin": null,
            "max_height": null,
            "max_width": null,
            "min_height": null,
            "min_width": null,
            "object_fit": null,
            "object_position": null,
            "order": null,
            "overflow": null,
            "overflow_x": null,
            "overflow_y": null,
            "padding": null,
            "right": null,
            "top": null,
            "visibility": "hidden",
            "width": null
          }
        },
        "f7542cef154a4e08a72e465bb0bfc71e": {
          "model_module": "@jupyter-widgets/base",
          "model_name": "LayoutModel",
          "model_module_version": "1.2.0",
          "state": {
            "_model_module": "@jupyter-widgets/base",
            "_model_module_version": "1.2.0",
            "_model_name": "LayoutModel",
            "_view_count": null,
            "_view_module": "@jupyter-widgets/base",
            "_view_module_version": "1.2.0",
            "_view_name": "LayoutView",
            "align_content": null,
            "align_items": null,
            "align_self": null,
            "border": null,
            "bottom": null,
            "display": null,
            "flex": null,
            "flex_flow": null,
            "grid_area": null,
            "grid_auto_columns": null,
            "grid_auto_flow": null,
            "grid_auto_rows": null,
            "grid_column": null,
            "grid_gap": null,
            "grid_row": null,
            "grid_template_areas": null,
            "grid_template_columns": null,
            "grid_template_rows": null,
            "height": null,
            "justify_content": null,
            "justify_items": null,
            "left": null,
            "margin": null,
            "max_height": null,
            "max_width": null,
            "min_height": null,
            "min_width": null,
            "object_fit": null,
            "object_position": null,
            "order": null,
            "overflow": null,
            "overflow_x": null,
            "overflow_y": null,
            "padding": null,
            "right": null,
            "top": null,
            "visibility": null,
            "width": null
          }
        },
        "11b6dac303504b0998d27fcefe874f50": {
          "model_module": "@jupyter-widgets/controls",
          "model_name": "DescriptionStyleModel",
          "model_module_version": "1.5.0",
          "state": {
            "_model_module": "@jupyter-widgets/controls",
            "_model_module_version": "1.5.0",
            "_model_name": "DescriptionStyleModel",
            "_view_count": null,
            "_view_module": "@jupyter-widgets/base",
            "_view_module_version": "1.2.0",
            "_view_name": "StyleView",
            "description_width": ""
          }
        },
        "03759a3e4f1e48049201a12d30eddde5": {
          "model_module": "@jupyter-widgets/base",
          "model_name": "LayoutModel",
          "model_module_version": "1.2.0",
          "state": {
            "_model_module": "@jupyter-widgets/base",
            "_model_module_version": "1.2.0",
            "_model_name": "LayoutModel",
            "_view_count": null,
            "_view_module": "@jupyter-widgets/base",
            "_view_module_version": "1.2.0",
            "_view_name": "LayoutView",
            "align_content": null,
            "align_items": null,
            "align_self": null,
            "border": null,
            "bottom": null,
            "display": null,
            "flex": null,
            "flex_flow": null,
            "grid_area": null,
            "grid_auto_columns": null,
            "grid_auto_flow": null,
            "grid_auto_rows": null,
            "grid_column": null,
            "grid_gap": null,
            "grid_row": null,
            "grid_template_areas": null,
            "grid_template_columns": null,
            "grid_template_rows": null,
            "height": null,
            "justify_content": null,
            "justify_items": null,
            "left": null,
            "margin": null,
            "max_height": null,
            "max_width": null,
            "min_height": null,
            "min_width": null,
            "object_fit": null,
            "object_position": null,
            "order": null,
            "overflow": null,
            "overflow_x": null,
            "overflow_y": null,
            "padding": null,
            "right": null,
            "top": null,
            "visibility": null,
            "width": null
          }
        },
        "2ec4408ab33e4b3e9b5a90612fdf87c3": {
          "model_module": "@jupyter-widgets/controls",
          "model_name": "ProgressStyleModel",
          "model_module_version": "1.5.0",
          "state": {
            "_model_module": "@jupyter-widgets/controls",
            "_model_module_version": "1.5.0",
            "_model_name": "ProgressStyleModel",
            "_view_count": null,
            "_view_module": "@jupyter-widgets/base",
            "_view_module_version": "1.2.0",
            "_view_name": "StyleView",
            "bar_color": null,
            "description_width": ""
          }
        },
        "64f3b56b3432479f88b348631eec4be2": {
          "model_module": "@jupyter-widgets/base",
          "model_name": "LayoutModel",
          "model_module_version": "1.2.0",
          "state": {
            "_model_module": "@jupyter-widgets/base",
            "_model_module_version": "1.2.0",
            "_model_name": "LayoutModel",
            "_view_count": null,
            "_view_module": "@jupyter-widgets/base",
            "_view_module_version": "1.2.0",
            "_view_name": "LayoutView",
            "align_content": null,
            "align_items": null,
            "align_self": null,
            "border": null,
            "bottom": null,
            "display": null,
            "flex": null,
            "flex_flow": null,
            "grid_area": null,
            "grid_auto_columns": null,
            "grid_auto_flow": null,
            "grid_auto_rows": null,
            "grid_column": null,
            "grid_gap": null,
            "grid_row": null,
            "grid_template_areas": null,
            "grid_template_columns": null,
            "grid_template_rows": null,
            "height": null,
            "justify_content": null,
            "justify_items": null,
            "left": null,
            "margin": null,
            "max_height": null,
            "max_width": null,
            "min_height": null,
            "min_width": null,
            "object_fit": null,
            "object_position": null,
            "order": null,
            "overflow": null,
            "overflow_x": null,
            "overflow_y": null,
            "padding": null,
            "right": null,
            "top": null,
            "visibility": null,
            "width": null
          }
        },
        "9cdddec7cb9741678c22c85edc4d924f": {
          "model_module": "@jupyter-widgets/controls",
          "model_name": "DescriptionStyleModel",
          "model_module_version": "1.5.0",
          "state": {
            "_model_module": "@jupyter-widgets/controls",
            "_model_module_version": "1.5.0",
            "_model_name": "DescriptionStyleModel",
            "_view_count": null,
            "_view_module": "@jupyter-widgets/base",
            "_view_module_version": "1.2.0",
            "_view_name": "StyleView",
            "description_width": ""
          }
        }
      }
    }
  },
  "nbformat": 4,
  "nbformat_minor": 0
}