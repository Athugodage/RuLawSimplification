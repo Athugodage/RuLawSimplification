{
  "cells": [
    {
      "cell_type": "markdown",
      "metadata": {
        "id": "view-in-github",
        "colab_type": "text"
      },
      "source": [
        "<a href=\"https://colab.research.google.com/github/Athugodage/RuLawSimplification/blob/main/corpus_analysis/text_cleaning.ipynb\" target=\"_parent\"><img src=\"https://colab.research.google.com/assets/colab-badge.svg\" alt=\"Open In Colab\"/></a>"
      ]
    },
    {
      "cell_type": "code",
      "execution_count": null,
      "metadata": {
        "colab": {
          "base_uri": "https://localhost:8080/"
        },
        "id": "iLl615PfoD5U",
        "outputId": "8f201ef8-ba06-42f7-a160-1b419c7ecf86"
      },
      "outputs": [
        {
          "output_type": "stream",
          "name": "stdout",
          "text": [
            "fatal: destination path 'RuLawSimplification' already exists and is not an empty directory.\n"
          ]
        }
      ],
      "source": [
        "!git clone https://github.com/Athugodage/RuLawSimplification.git"
      ]
    },
    {
      "cell_type": "code",
      "execution_count": null,
      "metadata": {
        "id": "40p8kKy3odxV",
        "outputId": "2081836a-ee95-441a-c62e-719833e6fdde",
        "colab": {
          "base_uri": "https://localhost:8080/"
        }
      },
      "outputs": [
        {
          "output_type": "stream",
          "name": "stdout",
          "text": [
            "Archive:  /content/RuLawSimplification/corpus/the_corpus.zip\n",
            "replace the_corpus.csv? [y]es, [n]o, [A]ll, [N]one, [r]ename: n\n"
          ]
        }
      ],
      "source": [
        "!unzip '/content/RuLawSimplification/corpus/the_corpus.zip'"
      ]
    },
    {
      "cell_type": "code",
      "execution_count": null,
      "metadata": {
        "id": "_jJSnpHuof4C"
      },
      "outputs": [],
      "source": [
        "import pandas as pd\n",
        "\n",
        "df = pd.read_csv('the_corpus.csv')"
      ]
    },
    {
      "cell_type": "code",
      "source": [
        "df.head()"
      ],
      "metadata": {
        "id": "wwi6V9jL_j8j",
        "outputId": "5931cea5-dc18-4b31-b283-305b858cb011",
        "colab": {
          "base_uri": "https://localhost:8080/",
          "height": 510
        }
      },
      "execution_count": null,
      "outputs": [
        {
          "output_type": "execute_result",
          "data": {
            "text/plain": [
              "                                  Название документа  \\\n",
              "0  Постановление Конституционного Суда Российской...   \n",
              "1  Постановление Пленума Верховного Суда Российск...   \n",
              "2  Федеральный закон от 21 ноября 2022 г. N 455-Ф...   \n",
              "3  Федеральный закон от 21 ноября 2022 г. N 443-Ф...   \n",
              "4  Федеральный закон от 21 ноября 2022 г. N 448-Ф...   \n",
              "\n",
              "                                              Ссылка  \\\n",
              "0  https://rg.ru/documents/2022/11/25/document-ob...   \n",
              "1  https://rg.ru/documents/2022/11/25/document-pl...   \n",
              "2  https://rg.ru/documents/2022/11/24/document-po...   \n",
              "3  https://rg.ru/documents/2022/11/24/document-na...   \n",
              "4  https://rg.ru/documents/2022/11/24/document-by...   \n",
              "\n",
              "                                               Текст  \\\n",
              "0  Именем Российской Федерации\\n  Конституционный...   \n",
              "1  В целях обеспечения единства практики применен...   \n",
              "2  Принят Государственной Думой 15 ноября 2022 го...   \n",
              "3  Принят Государственной Думой 10 ноября 2022 го...   \n",
              "4  Принят Государственной Думой 10 ноября 2022 го...   \n",
              "\n",
              "                                      Комментарий РГ        Date  \n",
              "0  Бессрочный запрет на профессию для адвокатов, ...  2022-11-25  \n",
              "1  Пленум Верховного суда России утвердил постано...  2022-11-25  \n",
              "2  Единое пособие для беременных женщин и граждан...  2022-11-24  \n",
              "3  На сладкую газировку с 1 июля 2023 года введут...  2022-11-24  \n",
              "4  Приостановленное в этом году бюджетное правило...  2022-11-24  "
            ],
            "text/html": [
              "\n",
              "  <div id=\"df-533f56fc-41c2-416b-9be6-8e0ae7cad084\">\n",
              "    <div class=\"colab-df-container\">\n",
              "      <div>\n",
              "<style scoped>\n",
              "    .dataframe tbody tr th:only-of-type {\n",
              "        vertical-align: middle;\n",
              "    }\n",
              "\n",
              "    .dataframe tbody tr th {\n",
              "        vertical-align: top;\n",
              "    }\n",
              "\n",
              "    .dataframe thead th {\n",
              "        text-align: right;\n",
              "    }\n",
              "</style>\n",
              "<table border=\"1\" class=\"dataframe\">\n",
              "  <thead>\n",
              "    <tr style=\"text-align: right;\">\n",
              "      <th></th>\n",
              "      <th>Название документа</th>\n",
              "      <th>Ссылка</th>\n",
              "      <th>Текст</th>\n",
              "      <th>Комментарий РГ</th>\n",
              "      <th>Date</th>\n",
              "    </tr>\n",
              "  </thead>\n",
              "  <tbody>\n",
              "    <tr>\n",
              "      <th>0</th>\n",
              "      <td>Постановление Конституционного Суда Российской...</td>\n",
              "      <td>https://rg.ru/documents/2022/11/25/document-ob...</td>\n",
              "      <td>Именем Российской Федерации\\n  Конституционный...</td>\n",
              "      <td>Бессрочный запрет на профессию для адвокатов, ...</td>\n",
              "      <td>2022-11-25</td>\n",
              "    </tr>\n",
              "    <tr>\n",
              "      <th>1</th>\n",
              "      <td>Постановление Пленума Верховного Суда Российск...</td>\n",
              "      <td>https://rg.ru/documents/2022/11/25/document-pl...</td>\n",
              "      <td>В целях обеспечения единства практики применен...</td>\n",
              "      <td>Пленум Верховного суда России утвердил постано...</td>\n",
              "      <td>2022-11-25</td>\n",
              "    </tr>\n",
              "    <tr>\n",
              "      <th>2</th>\n",
              "      <td>Федеральный закон от 21 ноября 2022 г. N 455-Ф...</td>\n",
              "      <td>https://rg.ru/documents/2022/11/24/document-po...</td>\n",
              "      <td>Принят Государственной Думой 15 ноября 2022 го...</td>\n",
              "      <td>Единое пособие для беременных женщин и граждан...</td>\n",
              "      <td>2022-11-24</td>\n",
              "    </tr>\n",
              "    <tr>\n",
              "      <th>3</th>\n",
              "      <td>Федеральный закон от 21 ноября 2022 г. N 443-Ф...</td>\n",
              "      <td>https://rg.ru/documents/2022/11/24/document-na...</td>\n",
              "      <td>Принят Государственной Думой 10 ноября 2022 го...</td>\n",
              "      <td>На сладкую газировку с 1 июля 2023 года введут...</td>\n",
              "      <td>2022-11-24</td>\n",
              "    </tr>\n",
              "    <tr>\n",
              "      <th>4</th>\n",
              "      <td>Федеральный закон от 21 ноября 2022 г. N 448-Ф...</td>\n",
              "      <td>https://rg.ru/documents/2022/11/24/document-by...</td>\n",
              "      <td>Принят Государственной Думой 10 ноября 2022 го...</td>\n",
              "      <td>Приостановленное в этом году бюджетное правило...</td>\n",
              "      <td>2022-11-24</td>\n",
              "    </tr>\n",
              "  </tbody>\n",
              "</table>\n",
              "</div>\n",
              "      <button class=\"colab-df-convert\" onclick=\"convertToInteractive('df-533f56fc-41c2-416b-9be6-8e0ae7cad084')\"\n",
              "              title=\"Convert this dataframe to an interactive table.\"\n",
              "              style=\"display:none;\">\n",
              "        \n",
              "  <svg xmlns=\"http://www.w3.org/2000/svg\" height=\"24px\"viewBox=\"0 0 24 24\"\n",
              "       width=\"24px\">\n",
              "    <path d=\"M0 0h24v24H0V0z\" fill=\"none\"/>\n",
              "    <path d=\"M18.56 5.44l.94 2.06.94-2.06 2.06-.94-2.06-.94-.94-2.06-.94 2.06-2.06.94zm-11 1L8.5 8.5l.94-2.06 2.06-.94-2.06-.94L8.5 2.5l-.94 2.06-2.06.94zm10 10l.94 2.06.94-2.06 2.06-.94-2.06-.94-.94-2.06-.94 2.06-2.06.94z\"/><path d=\"M17.41 7.96l-1.37-1.37c-.4-.4-.92-.59-1.43-.59-.52 0-1.04.2-1.43.59L10.3 9.45l-7.72 7.72c-.78.78-.78 2.05 0 2.83L4 21.41c.39.39.9.59 1.41.59.51 0 1.02-.2 1.41-.59l7.78-7.78 2.81-2.81c.8-.78.8-2.07 0-2.86zM5.41 20L4 18.59l7.72-7.72 1.47 1.35L5.41 20z\"/>\n",
              "  </svg>\n",
              "      </button>\n",
              "      \n",
              "  <style>\n",
              "    .colab-df-container {\n",
              "      display:flex;\n",
              "      flex-wrap:wrap;\n",
              "      gap: 12px;\n",
              "    }\n",
              "\n",
              "    .colab-df-convert {\n",
              "      background-color: #E8F0FE;\n",
              "      border: none;\n",
              "      border-radius: 50%;\n",
              "      cursor: pointer;\n",
              "      display: none;\n",
              "      fill: #1967D2;\n",
              "      height: 32px;\n",
              "      padding: 0 0 0 0;\n",
              "      width: 32px;\n",
              "    }\n",
              "\n",
              "    .colab-df-convert:hover {\n",
              "      background-color: #E2EBFA;\n",
              "      box-shadow: 0px 1px 2px rgba(60, 64, 67, 0.3), 0px 1px 3px 1px rgba(60, 64, 67, 0.15);\n",
              "      fill: #174EA6;\n",
              "    }\n",
              "\n",
              "    [theme=dark] .colab-df-convert {\n",
              "      background-color: #3B4455;\n",
              "      fill: #D2E3FC;\n",
              "    }\n",
              "\n",
              "    [theme=dark] .colab-df-convert:hover {\n",
              "      background-color: #434B5C;\n",
              "      box-shadow: 0px 1px 3px 1px rgba(0, 0, 0, 0.15);\n",
              "      filter: drop-shadow(0px 1px 2px rgba(0, 0, 0, 0.3));\n",
              "      fill: #FFFFFF;\n",
              "    }\n",
              "  </style>\n",
              "\n",
              "      <script>\n",
              "        const buttonEl =\n",
              "          document.querySelector('#df-533f56fc-41c2-416b-9be6-8e0ae7cad084 button.colab-df-convert');\n",
              "        buttonEl.style.display =\n",
              "          google.colab.kernel.accessAllowed ? 'block' : 'none';\n",
              "\n",
              "        async function convertToInteractive(key) {\n",
              "          const element = document.querySelector('#df-533f56fc-41c2-416b-9be6-8e0ae7cad084');\n",
              "          const dataTable =\n",
              "            await google.colab.kernel.invokeFunction('convertToInteractive',\n",
              "                                                     [key], {});\n",
              "          if (!dataTable) return;\n",
              "\n",
              "          const docLinkHtml = 'Like what you see? Visit the ' +\n",
              "            '<a target=\"_blank\" href=https://colab.research.google.com/notebooks/data_table.ipynb>data table notebook</a>'\n",
              "            + ' to learn more about interactive tables.';\n",
              "          element.innerHTML = '';\n",
              "          dataTable['output_type'] = 'display_data';\n",
              "          await google.colab.output.renderOutput(dataTable, element);\n",
              "          const docLink = document.createElement('div');\n",
              "          docLink.innerHTML = docLinkHtml;\n",
              "          element.appendChild(docLink);\n",
              "        }\n",
              "      </script>\n",
              "    </div>\n",
              "  </div>\n",
              "  "
            ]
          },
          "metadata": {},
          "execution_count": 4
        }
      ]
    },
    {
      "cell_type": "code",
      "source": [
        "!pip install razdel\n",
        "from razdel import sentenize"
      ],
      "metadata": {
        "id": "cGtHJESiAnba",
        "outputId": "589f61c8-9da8-4f8a-c878-79a7d61a683a",
        "colab": {
          "base_uri": "https://localhost:8080/"
        }
      },
      "execution_count": null,
      "outputs": [
        {
          "output_type": "stream",
          "name": "stdout",
          "text": [
            "Looking in indexes: https://pypi.org/simple, https://us-python.pkg.dev/colab-wheels/public/simple/\n",
            "Requirement already satisfied: razdel in /usr/local/lib/python3.9/dist-packages (0.5.0)\n"
          ]
        }
      ]
    },
    {
      "cell_type": "code",
      "source": [
        "import re\n",
        "from tqdm import tqdm\n",
        "\n",
        "tqdm.pandas()\n",
        "\n",
        "n = 0\n",
        "\n",
        "def cut_it(text):\n",
        "    sents = list(sentenize(text))\n",
        "    start = len(sents) if len(sents) < 40 else 35\n",
        "\n",
        "    sents = [s.text for s in sents[-start:]] \n",
        "    \n",
        "    new_text = ''\n",
        "    for s in sents:\n",
        "        new_text = new_text + ' ' + s\n",
        "    return new_text\n",
        "                \n",
        "\n",
        "\n",
        "df['Cut_original'] = df['Текст'].progress_apply(cut_it)\n"
      ],
      "metadata": {
        "id": "c92xw1WAuJ0B",
        "outputId": "f9906870-b139-4c51-900b-e8d227e45fee",
        "colab": {
          "base_uri": "https://localhost:8080/"
        }
      },
      "execution_count": null,
      "outputs": [
        {
          "output_type": "stream",
          "name": "stderr",
          "text": [
            "100%|██████████| 2022/2022 [00:19<00:00, 103.61it/s]\n"
          ]
        }
      ]
    },
    {
      "cell_type": "code",
      "source": [
        "def cut_it(text):\n",
        "    ## функции отличаются, т.к. в первая режет со второго предложения,\n",
        "    ## а вторая с первого. Также тут меньше предложений в итоге\n",
        "\n",
        "    sents = list(sentenize(text))\n",
        "    end = len(sents) if len(sents) < 30 else 21\n",
        "    if len(sents) > 30:\n",
        "        end = 21\n",
        "    elif len(sents) < 30:\n",
        "        end = len(sents)\n",
        "\n",
        "    sents = [s.text for s in sents[0:end]] \n",
        "    \n",
        "    new_text = ''\n",
        "    for s in sents:\n",
        "        new_text = new_text + ' ' + s\n",
        "    return new_text\n",
        "                \n",
        "df['Cut_comment'] = df['Комментарий РГ'].progress_apply(cut_it)"
      ],
      "metadata": {
        "id": "zklvHcsdM0F-",
        "outputId": "d8c75f78-01dc-4d56-f32f-6c5bb0b71cc0",
        "colab": {
          "base_uri": "https://localhost:8080/"
        }
      },
      "execution_count": null,
      "outputs": [
        {
          "output_type": "stream",
          "name": "stderr",
          "text": [
            "100%|██████████| 2022/2022 [00:01<00:00, 1568.89it/s]\n"
          ]
        }
      ]
    },
    {
      "cell_type": "code",
      "source": [
        "data = df.copy()\n",
        "\n",
        "df[['Cut_original', 'Cut_comment']]"
      ],
      "metadata": {
        "id": "-xwqbNBhNqRx",
        "outputId": "9a310530-f10b-4aa4-9581-cf1a4b2b9a18",
        "colab": {
          "base_uri": "https://localhost:8080/",
          "height": 424
        }
      },
      "execution_count": null,
      "outputs": [
        {
          "output_type": "execute_result",
          "data": {
            "text/plain": [
              "                                           Cut_original  \\\n",
              "0      При этом должны использоваться не чрезмерные,...   \n",
              "1      Суд, установив факт нарушения прав потребител...   \n",
              "2      В состав семьи, учитываемый при определении п...   \n",
              "3      2019, N 50, ст. 7201; 2022, N 27, ст. 4607) с...   \n",
              "4      Перечисление средств по таким контрактам (дог...   \n",
              "...                                                 ...   \n",
              "2017   2006, N 52 (часть I), ст. 5498; 2007, N 46, с...   \n",
              "2018   Правительство Российской Федерации постановля...   \n",
              "2019   Правительство Российской Федерации постановля...   \n",
              "2020   Правительство Российской Федерации постановля...   \n",
              "2021   Порядок исключения патентного поверенного из ...   \n",
              "\n",
              "                                            Cut_comment  \n",
              "0      Бессрочный запрет на профессию для адвокатов,...  \n",
              "1      Пленум Верховного суда России утвердил постан...  \n",
              "2      Единое пособие для беременных женщин и гражда...  \n",
              "3      На сладкую газировку с 1 июля 2023 года введу...  \n",
              "4      Приостановленное в этом году бюджетное правил...  \n",
              "...                                                 ...  \n",
              "2017   Через десять дней автомобиль можно будет пост...  \n",
              "2018   Правительство утвердило изменения в правила н...  \n",
              "2019   Правительство приняло постановление, расширяю...  \n",
              "2020   Специфическим образом теперь должны быть раск...  \n",
              "2021   В этом году деятельность патентных поверенных...  \n",
              "\n",
              "[2022 rows x 2 columns]"
            ],
            "text/html": [
              "\n",
              "  <div id=\"df-62dc1aa0-2d7b-4478-b584-0e27fe986759\">\n",
              "    <div class=\"colab-df-container\">\n",
              "      <div>\n",
              "<style scoped>\n",
              "    .dataframe tbody tr th:only-of-type {\n",
              "        vertical-align: middle;\n",
              "    }\n",
              "\n",
              "    .dataframe tbody tr th {\n",
              "        vertical-align: top;\n",
              "    }\n",
              "\n",
              "    .dataframe thead th {\n",
              "        text-align: right;\n",
              "    }\n",
              "</style>\n",
              "<table border=\"1\" class=\"dataframe\">\n",
              "  <thead>\n",
              "    <tr style=\"text-align: right;\">\n",
              "      <th></th>\n",
              "      <th>Cut_original</th>\n",
              "      <th>Cut_comment</th>\n",
              "    </tr>\n",
              "  </thead>\n",
              "  <tbody>\n",
              "    <tr>\n",
              "      <th>0</th>\n",
              "      <td>При этом должны использоваться не чрезмерные,...</td>\n",
              "      <td>Бессрочный запрет на профессию для адвокатов,...</td>\n",
              "    </tr>\n",
              "    <tr>\n",
              "      <th>1</th>\n",
              "      <td>Суд, установив факт нарушения прав потребител...</td>\n",
              "      <td>Пленум Верховного суда России утвердил постан...</td>\n",
              "    </tr>\n",
              "    <tr>\n",
              "      <th>2</th>\n",
              "      <td>В состав семьи, учитываемый при определении п...</td>\n",
              "      <td>Единое пособие для беременных женщин и гражда...</td>\n",
              "    </tr>\n",
              "    <tr>\n",
              "      <th>3</th>\n",
              "      <td>2019, N 50, ст. 7201; 2022, N 27, ст. 4607) с...</td>\n",
              "      <td>На сладкую газировку с 1 июля 2023 года введу...</td>\n",
              "    </tr>\n",
              "    <tr>\n",
              "      <th>4</th>\n",
              "      <td>Перечисление средств по таким контрактам (дог...</td>\n",
              "      <td>Приостановленное в этом году бюджетное правил...</td>\n",
              "    </tr>\n",
              "    <tr>\n",
              "      <th>...</th>\n",
              "      <td>...</td>\n",
              "      <td>...</td>\n",
              "    </tr>\n",
              "    <tr>\n",
              "      <th>2017</th>\n",
              "      <td>2006, N 52 (часть I), ст. 5498; 2007, N 46, с...</td>\n",
              "      <td>Через десять дней автомобиль можно будет пост...</td>\n",
              "    </tr>\n",
              "    <tr>\n",
              "      <th>2018</th>\n",
              "      <td>Правительство Российской Федерации постановля...</td>\n",
              "      <td>Правительство утвердило изменения в правила н...</td>\n",
              "    </tr>\n",
              "    <tr>\n",
              "      <th>2019</th>\n",
              "      <td>Правительство Российской Федерации постановля...</td>\n",
              "      <td>Правительство приняло постановление, расширяю...</td>\n",
              "    </tr>\n",
              "    <tr>\n",
              "      <th>2020</th>\n",
              "      <td>Правительство Российской Федерации постановля...</td>\n",
              "      <td>Специфическим образом теперь должны быть раск...</td>\n",
              "    </tr>\n",
              "    <tr>\n",
              "      <th>2021</th>\n",
              "      <td>Порядок исключения патентного поверенного из ...</td>\n",
              "      <td>В этом году деятельность патентных поверенных...</td>\n",
              "    </tr>\n",
              "  </tbody>\n",
              "</table>\n",
              "<p>2022 rows × 2 columns</p>\n",
              "</div>\n",
              "      <button class=\"colab-df-convert\" onclick=\"convertToInteractive('df-62dc1aa0-2d7b-4478-b584-0e27fe986759')\"\n",
              "              title=\"Convert this dataframe to an interactive table.\"\n",
              "              style=\"display:none;\">\n",
              "        \n",
              "  <svg xmlns=\"http://www.w3.org/2000/svg\" height=\"24px\"viewBox=\"0 0 24 24\"\n",
              "       width=\"24px\">\n",
              "    <path d=\"M0 0h24v24H0V0z\" fill=\"none\"/>\n",
              "    <path d=\"M18.56 5.44l.94 2.06.94-2.06 2.06-.94-2.06-.94-.94-2.06-.94 2.06-2.06.94zm-11 1L8.5 8.5l.94-2.06 2.06-.94-2.06-.94L8.5 2.5l-.94 2.06-2.06.94zm10 10l.94 2.06.94-2.06 2.06-.94-2.06-.94-.94-2.06-.94 2.06-2.06.94z\"/><path d=\"M17.41 7.96l-1.37-1.37c-.4-.4-.92-.59-1.43-.59-.52 0-1.04.2-1.43.59L10.3 9.45l-7.72 7.72c-.78.78-.78 2.05 0 2.83L4 21.41c.39.39.9.59 1.41.59.51 0 1.02-.2 1.41-.59l7.78-7.78 2.81-2.81c.8-.78.8-2.07 0-2.86zM5.41 20L4 18.59l7.72-7.72 1.47 1.35L5.41 20z\"/>\n",
              "  </svg>\n",
              "      </button>\n",
              "      \n",
              "  <style>\n",
              "    .colab-df-container {\n",
              "      display:flex;\n",
              "      flex-wrap:wrap;\n",
              "      gap: 12px;\n",
              "    }\n",
              "\n",
              "    .colab-df-convert {\n",
              "      background-color: #E8F0FE;\n",
              "      border: none;\n",
              "      border-radius: 50%;\n",
              "      cursor: pointer;\n",
              "      display: none;\n",
              "      fill: #1967D2;\n",
              "      height: 32px;\n",
              "      padding: 0 0 0 0;\n",
              "      width: 32px;\n",
              "    }\n",
              "\n",
              "    .colab-df-convert:hover {\n",
              "      background-color: #E2EBFA;\n",
              "      box-shadow: 0px 1px 2px rgba(60, 64, 67, 0.3), 0px 1px 3px 1px rgba(60, 64, 67, 0.15);\n",
              "      fill: #174EA6;\n",
              "    }\n",
              "\n",
              "    [theme=dark] .colab-df-convert {\n",
              "      background-color: #3B4455;\n",
              "      fill: #D2E3FC;\n",
              "    }\n",
              "\n",
              "    [theme=dark] .colab-df-convert:hover {\n",
              "      background-color: #434B5C;\n",
              "      box-shadow: 0px 1px 3px 1px rgba(0, 0, 0, 0.15);\n",
              "      filter: drop-shadow(0px 1px 2px rgba(0, 0, 0, 0.3));\n",
              "      fill: #FFFFFF;\n",
              "    }\n",
              "  </style>\n",
              "\n",
              "      <script>\n",
              "        const buttonEl =\n",
              "          document.querySelector('#df-62dc1aa0-2d7b-4478-b584-0e27fe986759 button.colab-df-convert');\n",
              "        buttonEl.style.display =\n",
              "          google.colab.kernel.accessAllowed ? 'block' : 'none';\n",
              "\n",
              "        async function convertToInteractive(key) {\n",
              "          const element = document.querySelector('#df-62dc1aa0-2d7b-4478-b584-0e27fe986759');\n",
              "          const dataTable =\n",
              "            await google.colab.kernel.invokeFunction('convertToInteractive',\n",
              "                                                     [key], {});\n",
              "          if (!dataTable) return;\n",
              "\n",
              "          const docLinkHtml = 'Like what you see? Visit the ' +\n",
              "            '<a target=\"_blank\" href=https://colab.research.google.com/notebooks/data_table.ipynb>data table notebook</a>'\n",
              "            + ' to learn more about interactive tables.';\n",
              "          element.innerHTML = '';\n",
              "          dataTable['output_type'] = 'display_data';\n",
              "          await google.colab.output.renderOutput(dataTable, element);\n",
              "          const docLink = document.createElement('div');\n",
              "          docLink.innerHTML = docLinkHtml;\n",
              "          element.appendChild(docLink);\n",
              "        }\n",
              "      </script>\n",
              "    </div>\n",
              "  </div>\n",
              "  "
            ]
          },
          "metadata": {},
          "execution_count": 66
        }
      ]
    },
    {
      "cell_type": "code",
      "source": [
        "df[['Cut_original', 'Cut_comment']].to_csv('cut_corpus.csv', index=False)"
      ],
      "metadata": {
        "id": "-JFSjVvkQmUS"
      },
      "execution_count": null,
      "outputs": []
    }
  ],
  "metadata": {
    "colab": {
      "provenance": [],
      "include_colab_link": true
    },
    "gpuClass": "premium",
    "kernelspec": {
      "display_name": "Python 3",
      "name": "python3"
    }
  },
  "nbformat": 4,
  "nbformat_minor": 0
}