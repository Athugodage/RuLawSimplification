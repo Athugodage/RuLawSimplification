{
  "nbformat": 4,
  "nbformat_minor": 0,
  "metadata": {
    "colab": {
      "name": "darknet_reviews.ipynb",
      "private_outputs": true,
      "provenance": [],
      "collapsed_sections": [],
      "authorship_tag": "ABX9TyOicl0iuBjBHFAb/G5YpR9X"
    },
    "kernelspec": {
      "name": "python3",
      "display_name": "Python 3"
    },
    "language_info": {
      "name": "python"
    }
  },
  "cells": [
    {
      "cell_type": "code",
      "source": [
        "!unzip 'darknet_data.zip'"
      ],
      "metadata": {
        "id": "DzqSsOfqnGX5"
      },
      "execution_count": null,
      "outputs": []
    },
    {
      "cell_type": "code",
      "execution_count": null,
      "metadata": {
        "id": "V8l--0pgmjcR"
      },
      "outputs": [],
      "source": [
        "import pandas as pd\n",
        "\n",
        "df = pd.read_csv('data.csv', encoding='utf8', delimiter=';')\n",
        "df.head()"
      ]
    },
    {
      "cell_type": "code",
      "source": [
        "X = df['content']\n",
        "y = df['sentiment']\n"
      ],
      "metadata": {
        "id": "ov6QwAnoon1p"
      },
      "execution_count": null,
      "outputs": []
    },
    {
      "cell_type": "code",
      "source": [
        "X[0]"
      ],
      "metadata": {
        "id": "gy8n9JPk8c9g"
      },
      "execution_count": null,
      "outputs": []
    },
    {
      "cell_type": "code",
      "source": [
        "!pip install razdel"
      ],
      "metadata": {
        "id": "SWktcXIv-gmC"
      },
      "execution_count": null,
      "outputs": []
    },
    {
      "cell_type": "code",
      "source": [
        "from razdel import tokenize, sentenize\n",
        "\n",
        "total = []\n",
        "\n",
        "with open('stop_words_russian.txt') as f:\n",
        "    stops = f.read().split('\\n')\n",
        "    for comment in X:\n",
        "        review = []\n",
        "        for sent in sentenize(comment):\n",
        "            sentence = []\n",
        "            for word in tokenize(str(sent.text)):\n",
        "                if word.text in stops:\n",
        "                    pass\n",
        "                elif word.text.isdigit():\n",
        "                    pass\n",
        "                else:\n",
        "                    sentence.append(word.text)\n",
        "            review.append(sentence)\n",
        "        total.append(review)\n"
      ],
      "metadata": {
        "id": "1m2PUhnpnQt6"
      },
      "execution_count": null,
      "outputs": []
    },
    {
      "cell_type": "code",
      "source": [
        "pd.DataFrame({'X': [rev for rev in total], 'y': y})"
      ],
      "metadata": {
        "id": "tk7GI_-rD3dl"
      },
      "execution_count": null,
      "outputs": []
    },
    {
      "cell_type": "code",
      "source": [
        "X = [rev for rev in total]"
      ],
      "metadata": {
        "id": "4mCNWO56FZ7y"
      },
      "execution_count": null,
      "outputs": []
    },
    {
      "cell_type": "code",
      "source": [
        "from sklearn.feature_extraction.text import TfidfVectorizer, CountVectorizer\n",
        "from sklearn.model_selection import train_test_split\n",
        "from sklearn.naive_bayes import MultinomialNB\n",
        "from sklearn import metrics\n",
        "\n",
        "\n",
        "tfidf =  TfidfVectorizer().fit_transform(df['content']).A\n",
        "vecs = CountVectorizer().fit_transform(df['content']).A"
      ],
      "metadata": {
        "id": "_d3xME-CGG3_"
      },
      "execution_count": null,
      "outputs": []
    },
    {
      "cell_type": "code",
      "source": [
        "vecs[5]"
      ],
      "metadata": {
        "id": "erWbGM4tGRYV"
      },
      "execution_count": null,
      "outputs": []
    },
    {
      "cell_type": "code",
      "source": [
        "from sklearn.model_selection import train_test_split\n",
        "\n",
        "data_train, data_test, y_train, y_test = train_test_split(tfidf, y, \n",
        "                                                    test_size=0.33, \n",
        "                                                    random_state=42)\n",
        "\n",
        "\n",
        "vec_train, vec_test, y_train, y_test = train_test_split(vecs, y, \n",
        "                                                    test_size=0.33, \n",
        "                                                    random_state=42)"
      ],
      "metadata": {
        "id": "g4hGqBc7ozy0"
      },
      "execution_count": null,
      "outputs": []
    },
    {
      "cell_type": "code",
      "source": [
        "clf = MultinomialNB().fit(data_train, y_train)\n",
        "\n",
        "predicted = clf.predict(data_test)"
      ],
      "metadata": {
        "id": "3cj92uEtqGy0"
      },
      "execution_count": null,
      "outputs": []
    },
    {
      "cell_type": "code",
      "source": [
        "# tfidf\n",
        "\n",
        "print('Accuracy of classifier: ', metrics.accuracy_score(y_test, predicted))\n",
        "print('Precision score: ', metrics.precision_score(y_test, predicted))\n",
        "print('Recall: ', metrics.recall_score(y_test, predicted))\n",
        "print('MSE: ', metrics.mean_squared_error(y_test, predicted))\n",
        "print('F1 score', metrics.f1_score(y_test, predicted))"
      ],
      "metadata": {
        "id": "yrQd-nfSGvKS"
      },
      "execution_count": null,
      "outputs": []
    },
    {
      "cell_type": "code",
      "source": [
        "clf = MultinomialNB().fit(vec_train, y_train)\n",
        "\n",
        "predicted = clf.predict(vec_test)"
      ],
      "metadata": {
        "id": "zZsf9xQtQq7L"
      },
      "execution_count": null,
      "outputs": []
    },
    {
      "cell_type": "code",
      "source": [
        "# vecs\n",
        "\n",
        "print('Accuracy of classifier: ', metrics.accuracy_score(y_test, predicted))\n",
        "print('Precision score: ', metrics.precision_score(y_test, predicted))\n",
        "print('Recall: ', metrics.recall_score(y_test, predicted))\n",
        "print('MSE: ', metrics.mean_squared_error(y_test, predicted))\n",
        "print('F1 score', metrics.f1_score(y_test, predicted))"
      ],
      "metadata": {
        "id": "brg6kOXMQvhi"
      },
      "execution_count": null,
      "outputs": []
    },
    {
      "cell_type": "markdown",
      "source": [
        "Random Forest Classifier"
      ],
      "metadata": {
        "id": "AYicTR0ZNPzX"
      }
    },
    {
      "cell_type": "code",
      "source": [
        "from sklearn.ensemble import RandomForestClassifier\n",
        "\n",
        "rfc = RandomForestClassifier(n_estimators=200, random_state=0)\n",
        "rfc.fit(data_train, y_train)"
      ],
      "metadata": {
        "id": "FOBUjDXSIi40"
      },
      "execution_count": null,
      "outputs": []
    },
    {
      "cell_type": "code",
      "source": [
        "rfc_pred = clf.predict(data_test)"
      ],
      "metadata": {
        "id": "EkCwqbY4NH5Z"
      },
      "execution_count": null,
      "outputs": []
    },
    {
      "cell_type": "code",
      "source": [
        "# random forest results\n",
        "# tfidf\n",
        "\n",
        "print('Accuracy of classifier: ', metrics.accuracy_score(y_test, rfc_pred))\n",
        "print('Precision score: ', metrics.precision_score(y_test, rfc_pred))\n",
        "print('Recall: ', metrics.recall_score(y_test, rfc_pred))\n",
        "print('MSE: ', metrics.mean_squared_error(y_test, rfc_pred))\n",
        "print('F1 score', metrics.f1_score(y_test, rfc_pred))"
      ],
      "metadata": {
        "id": "R-zqJTYlNO-M"
      },
      "execution_count": null,
      "outputs": []
    },
    {
      "cell_type": "code",
      "source": [
        "from sklearn.ensemble import RandomForestClassifier\n",
        "\n",
        "rfc = RandomForestClassifier(n_estimators=200, random_state=0)\n",
        "rfc.fit(vec_train, y_train)\n",
        "\n",
        "rfc_pred = clf.predict(vec_test)"
      ],
      "metadata": {
        "id": "u5gDKu_SRsHt"
      },
      "execution_count": null,
      "outputs": []
    },
    {
      "cell_type": "code",
      "source": [
        "# random forest results\n",
        "# vec\n",
        "\n",
        "print('Accuracy of classifier: ', metrics.accuracy_score(y_test, rfc_pred))\n",
        "print('Precision score: ', metrics.precision_score(y_test, rfc_pred))\n",
        "print('Recall: ', metrics.recall_score(y_test, rfc_pred))\n",
        "print('MSE: ', metrics.mean_squared_error(y_test, rfc_pred))\n",
        "print('F1 score', metrics.f1_score(y_test, rfc_pred))"
      ],
      "metadata": {
        "id": "U-hK7AKXR1e8"
      },
      "execution_count": null,
      "outputs": []
    },
    {
      "cell_type": "markdown",
      "source": [
        "KNN"
      ],
      "metadata": {
        "id": "O9OXnN2gNeIz"
      }
    },
    {
      "cell_type": "code",
      "source": [
        "from sklearn.neighbors import KNeighborsClassifier as knn\n",
        "\n",
        "knn_model = knn(n_neighbors=5)\n",
        "knn_model.fit(data_train, y_train)"
      ],
      "metadata": {
        "id": "39yTerWZNf3n"
      },
      "execution_count": null,
      "outputs": []
    },
    {
      "cell_type": "code",
      "source": [
        "knn_pred = knn_model.predict(data_test)"
      ],
      "metadata": {
        "id": "OIBi6Sq0NlBk"
      },
      "execution_count": null,
      "outputs": []
    },
    {
      "cell_type": "code",
      "source": [
        "# tfidf\n",
        "\n",
        "print('Accuracy of classifier: ', metrics.accuracy_score(y_test, knn_pred))\n",
        "print('Precision score: ', metrics.precision_score(y_test, knn_pred))\n",
        "print('Recall: ', metrics.recall_score(y_test, knn_pred))\n",
        "print('MSE: ', metrics.mean_squared_error(y_test, knn_pred))\n",
        "print('F1 score', metrics.f1_score(y_test, knn_pred))"
      ],
      "metadata": {
        "id": "Bjrwd5I8Nstl"
      },
      "execution_count": null,
      "outputs": []
    },
    {
      "cell_type": "code",
      "source": [
        "from sklearn.neighbors import KNeighborsClassifier as knn\n",
        "\n",
        "knn_model = knn(n_neighbors=5)\n",
        "knn_model.fit(vec_train, y_train)\n",
        "\n",
        "knn_pred = knn_model.predict(vec_test)"
      ],
      "metadata": {
        "id": "7JbuX1zzSGF0"
      },
      "execution_count": null,
      "outputs": []
    },
    {
      "cell_type": "code",
      "source": [
        "# vec\n",
        "\n",
        "\n",
        "print('Accuracy of classifier: ', metrics.accuracy_score(y_test, knn_pred))\n",
        "print('Precision score: ', metrics.precision_score(y_test, knn_pred))\n",
        "print('Recall: ', metrics.recall_score(y_test, knn_pred))\n",
        "print('MSE: ', metrics.mean_squared_error(y_test, knn_pred))\n",
        "print('F1 score', metrics.f1_score(y_test, knn_pred))"
      ],
      "metadata": {
        "id": "qD2NPm2oSOnn"
      },
      "execution_count": null,
      "outputs": []
    },
    {
      "cell_type": "markdown",
      "source": [
        "Logistic Regression"
      ],
      "metadata": {
        "id": "hISjiVUXN2kr"
      }
    },
    {
      "cell_type": "code",
      "source": [
        "from sklearn.linear_model import LogisticRegression\n",
        "\n",
        "lr = LogisticRegression()\n",
        "lr.fit(data_train, y_train)"
      ],
      "metadata": {
        "id": "49bidyqlN0LU"
      },
      "execution_count": null,
      "outputs": []
    },
    {
      "cell_type": "code",
      "source": [
        "lr_pred = lr.predict(data_test)"
      ],
      "metadata": {
        "id": "Vt5Ut5LmOI6s"
      },
      "execution_count": null,
      "outputs": []
    },
    {
      "cell_type": "code",
      "source": [
        "#tfidf\n",
        "\n",
        "print('Accuracy of classifier: ', metrics.accuracy_score(y_test, lr_pred))\n",
        "print('Precision score: ', metrics.precision_score(y_test, lr_pred))\n",
        "print('Recall: ', metrics.recall_score(y_test, lr_pred))\n",
        "print('MSE: ', metrics.mean_squared_error(y_test, lr_pred))\n",
        "print('F1 score', metrics.f1_score(y_test, lr_pred))"
      ],
      "metadata": {
        "id": "iWdG7huJOMql"
      },
      "execution_count": null,
      "outputs": []
    },
    {
      "cell_type": "code",
      "source": [
        "from sklearn.linear_model import LogisticRegression\n",
        "\n",
        "lr = LogisticRegression()\n",
        "lr.fit(vec_train, y_train)"
      ],
      "metadata": {
        "id": "eLabbIEaSqwh"
      },
      "execution_count": null,
      "outputs": []
    },
    {
      "cell_type": "code",
      "source": [
        "lr_pred = lr.predict(vec_test)"
      ],
      "metadata": {
        "id": "ibt_dzukStET"
      },
      "execution_count": null,
      "outputs": []
    },
    {
      "cell_type": "code",
      "source": [
        "# vec\n",
        "\n",
        "print('Accuracy of classifier: ', metrics.accuracy_score(y_test, lr_pred))\n",
        "print('Precision score: ', metrics.precision_score(y_test, lr_pred))\n",
        "print('Recall: ', metrics.recall_score(y_test, lr_pred))\n",
        "print('MSE: ', metrics.mean_squared_error(y_test, lr_pred))\n",
        "print('F1 score', metrics.f1_score(y_test, lr_pred))"
      ],
      "metadata": {
        "id": "Xl3vP49ESwv0"
      },
      "execution_count": null,
      "outputs": []
    }
  ]
}