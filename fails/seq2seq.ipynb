{
 "cells": [
  {
   "cell_type": "code",
   "execution_count": 1,
   "id": "668e57ec",
   "metadata": {},
   "outputs": [
    {
     "name": "stdout",
     "output_type": "stream",
     "text": [
      "Requirement already satisfied: torch in c:\\jupyter\\lib\\site-packages (1.9.0)\n",
      "Requirement already satisfied: typing-extensions in c:\\jupyter\\lib\\site-packages (from torch) (3.7.4.3)\n"
     ]
    }
   ],
   "source": [
    "!pip install torch"
   ]
  },
  {
   "cell_type": "code",
   "execution_count": 2,
   "id": "894c94a7",
   "metadata": {},
   "outputs": [
    {
     "name": "stdout",
     "output_type": "stream",
     "text": [
      "Requirement already satisfied: razdel in c:\\jupyter\\lib\\site-packages (0.5.0)\n"
     ]
    }
   ],
   "source": [
    "!pip install razdel"
   ]
  },
  {
   "cell_type": "code",
   "execution_count": 3,
   "id": "be597ab6",
   "metadata": {},
   "outputs": [
    {
     "name": "stdout",
     "output_type": "stream",
     "text": [
      "Requirement already satisfied: torchtext in c:\\users\\марк\\appdata\\roaming\\python\\python38\\site-packages (0.10.0)\n",
      "Requirement already satisfied: torch==1.9.0 in c:\\jupyter\\lib\\site-packages (from torchtext) (1.9.0)\n",
      "Requirement already satisfied: tqdm in c:\\jupyter\\lib\\site-packages (from torchtext) (4.59.0)\n",
      "Requirement already satisfied: requests in c:\\jupyter\\lib\\site-packages (from torchtext) (2.25.1)\n",
      "Requirement already satisfied: numpy in c:\\jupyter\\lib\\site-packages (from torchtext) (1.20.1)\n",
      "Requirement already satisfied: typing-extensions in c:\\jupyter\\lib\\site-packages (from torch==1.9.0->torchtext) (3.7.4.3)\n",
      "Requirement already satisfied: urllib3<1.27,>=1.21.1 in c:\\jupyter\\lib\\site-packages (from requests->torchtext) (1.26.4)\n",
      "Requirement already satisfied: idna<3,>=2.5 in c:\\jupyter\\lib\\site-packages (from requests->torchtext) (2.10)\n",
      "Requirement already satisfied: certifi>=2017.4.17 in c:\\jupyter\\lib\\site-packages (from requests->torchtext) (2020.12.5)\n",
      "Requirement already satisfied: chardet<5,>=3.0.2 in c:\\jupyter\\lib\\site-packages (from requests->torchtext) (4.0.0)\n"
     ]
    }
   ],
   "source": [
    "!pip install torchtext"
   ]
  },
  {
   "cell_type": "code",
   "execution_count": 4,
   "id": "5efb1f71",
   "metadata": {},
   "outputs": [],
   "source": [
    "import torch\n",
    "import torch.nn as nn\n",
    "import torch.optim as optim\n",
    "\n",
    "from razdel import tokenize\n",
    "from razdel import sentenize\n",
    "import numpy as np\n",
    "\n",
    "import random\n",
    "import math\n",
    "import time\n",
    "import json"
   ]
  },
  {
   "cell_type": "code",
   "execution_count": 5,
   "id": "97cc62a5",
   "metadata": {},
   "outputs": [],
   "source": [
    "def text2sent(text):\n",
    "    return list(sentenize(text))\n",
    "\n",
    "def text2token(text):\n",
    "    return list(tokenize(text))"
   ]
  },
  {
   "cell_type": "code",
   "execution_count": 6,
   "id": "32bc8c8e",
   "metadata": {},
   "outputs": [],
   "source": [
    "with open('two_way.json', 'r', encoding='utf8') as rp:\n",
    "    a = json.load(rp)\n",
    "    "
   ]
  },
  {
   "cell_type": "code",
   "execution_count": 7,
   "id": "7bc97f31",
   "metadata": {},
   "outputs": [
    {
     "data": {
      "text/plain": [
       "{'entailment score': 0.6250573396682739,\n",
       " 'comment': 'Поэтому после признания в 2019 году предприятия банкротом, АО продолжило поставки.',\n",
       " 'text': 'Указанное понимание не соотносится и с буквальным смыслом абзаца второго пункта 1 статьи 134 Закона о банкротстве, закрепляющего единственный критерий внеочередного удовлетворения требований кредитора - направленность платежей на предотвращение катастроф либо гибели людей, вне зависимости от того, связано ли обязательство по внесению платежей с исполнением обязанностей по договору, заключенному в рамках обычной хозяйственной деятельности должника, или нет.'}"
      ]
     },
     "execution_count": 7,
     "metadata": {},
     "output_type": "execute_result"
    }
   ],
   "source": [
    "a[0]['article text'][2]"
   ]
  },
  {
   "cell_type": "code",
   "execution_count": 8,
   "id": "5637629f",
   "metadata": {},
   "outputs": [
    {
     "data": {
      "text/plain": [
       "{'entailment score': 1.86528742313385,\n",
       " 'comment': 'Документ, в частности, регламентирует основные процессы по производству, хранению, реализации, транспортировке и использованию семян растений, а также по их импорту и экспорту из России.',\n",
       " 'text': 'Настоящий Федеральный закон регулирует отношения в области семеноводства (производства (выращивания), хранения, транспортировки, реализации семян сельскохозяйственных растений, их использования), включая оказание услуг в указанной области, а также ввоз семян сельскохозяйственных растений в Российскую Федерацию и вывоз семян из Российской Федерации.'}"
      ]
     },
     "execution_count": 8,
     "metadata": {},
     "output_type": "execute_result"
    }
   ],
   "source": [
    "a[10]['article text'][2]"
   ]
  },
  {
   "cell_type": "code",
   "execution_count": 9,
   "id": "577d498f",
   "metadata": {},
   "outputs": [],
   "source": [
    "X_data = []\n",
    "y_data = []\n",
    "\n",
    "for s in range(len(a[0]['article text'])):\n",
    "    X_data.append(a[0]['article text'][s]['comment'])\n",
    "    y_data.append(a[0]['article text'][s]['text'])"
   ]
  },
  {
   "cell_type": "code",
   "execution_count": 10,
   "id": "97ea3b6c",
   "metadata": {},
   "outputs": [
    {
     "data": {
      "text/plain": [
       "['В том числе компания поставляет тепло и горячую воду предприятию, эксплуатирующему шахту \"Интинская\".',\n",
       " 'Шахта считается опасным объектом.',\n",
       " 'Поэтому после признания в 2019 году предприятия банкротом, АО продолжило поставки.',\n",
       " 'Чтобы избежать возможного ЧП, эту теплоэнергию банкрот частично оплатил в приоритетном порядке.',\n",
       " 'Но это вызвало протест налоговой службы.',\n",
       " 'И она обратилась в суд.',\n",
       " 'Арбитражные суды признали платежи недействительными сделками.',\n",
       " 'А ответственность за возможные последствия возложили на самого кредитора.',\n",
       " 'По мнению АО, такое толкование нормы \"не обеспечивает защиты прав и интересов ресурсоснабжающей организации\".',\n",
       " 'Вот позиция КС.',\n",
       " '\"Организация, находящаяся в процессе банкротства, и поставщик энергоресурса должны четко понимать, когда их отношения подпадают под действие соответствующей нормы.',\n",
       " 'Специфика опасных производств и условия их взаимодействия предполагают наличие специальных технических знаний, а их недостаточность должна восполняться нормативным регулированием\".',\n",
       " 'КС заявил, что во избежание катастрофы и гибели людей может быть принципиальным не столько продолжение деятельности организации-должника, сколько поддержание работы его оборудования.',\n",
       " 'Оспоренная норма, по мнению суда, должна \"способствовать оперативному принятию решений о продолжении и объеме поставки энергоресурса и его своевременной оплате\".',\n",
       " 'Но этим критериям оспоренная норма не отвечает, значит, Основному Закону \"в данной мере не соответствует\".',\n",
       " 'КС поручил законодателю и правительству ввести правовой механизм, гарантирующий внеочередную оплату энергоресурсов должником, эксплуатирующим опасный объект.',\n",
       " 'А до этого времени установил порядок применения оспоренного законоположения и велел пересмотреть решения по делу.']"
      ]
     },
     "execution_count": 10,
     "metadata": {},
     "output_type": "execute_result"
    }
   ],
   "source": [
    "X_data"
   ]
  },
  {
   "cell_type": "code",
   "execution_count": 11,
   "id": "b934816b",
   "metadata": {},
   "outputs": [
    {
     "data": {
      "text/plain": [
       "['Указанное понимание не соотносится и с буквальным смыслом абзаца второго пункта 1 статьи 134 Закона о банкротстве, закрепляющего единственный критерий внеочередного удовлетворения требований кредитора - направленность платежей на предотвращение катастроф либо гибели людей, вне зависимости от того, связано ли обязательство по внесению платежей с исполнением обязанностей по договору, заключенному в рамках обычной хозяйственной деятельности должника, или нет.',\n",
       " '3. Абзац второй пункта 1 статьи 134 Федерального закона \"О несостоятельности (банкротстве)\", признанный настоящим Постановлением не соответствующим Конституции Российской Федерации, подлежит применению - до внесения в действующее правовое регулирование изменений, вытекающих из настоящего Постановления, - с учетом следующего.',\n",
       " 'Указанное понимание не соотносится и с буквальным смыслом абзаца второго пункта 1 статьи 134 Закона о банкротстве, закрепляющего единственный критерий внеочередного удовлетворения требований кредитора - направленность платежей на предотвращение катастроф либо гибели людей, вне зависимости от того, связано ли обязательство по внесению платежей с исполнением обязанностей по договору, заключенному в рамках обычной хозяйственной деятельности должника, или нет.',\n",
       " '3. Абзац второй пункта 1 статьи 134 Федерального закона \"О несостоятельности (банкротстве)\", признанный настоящим Постановлением не соответствующим Конституции Российской Федерации, подлежит применению - до внесения в действующее правовое регулирование изменений, вытекающих из настоящего Постановления, - с учетом следующего.',\n",
       " '3. Абзац второй пункта 1 статьи 134 Федерального закона \"О несостоятельности (банкротстве)\", признанный настоящим Постановлением не соответствующим Конституции Российской Федерации, подлежит применению - до внесения в действующее правовое регулирование изменений, вытекающих из настоящего Постановления, - с учетом следующего.',\n",
       " '3. Абзац второй пункта 1 статьи 134 Федерального закона \"О несостоятельности (банкротстве)\", признанный настоящим Постановлением не соответствующим Конституции Российской Федерации, подлежит применению - до внесения в действующее правовое регулирование изменений, вытекающих из настоящего Постановления, - с учетом следующего.',\n",
       " 'Указанное понимание не соотносится и с буквальным смыслом абзаца второго пункта 1 статьи 134 Закона о банкротстве, закрепляющего единственный критерий внеочередного удовлетворения требований кредитора - направленность платежей на предотвращение катастроф либо гибели людей, вне зависимости от того, связано ли обязательство по внесению платежей с исполнением обязанностей по договору, заключенному в рамках обычной хозяйственной деятельности должника, или нет.',\n",
       " '3. Абзац второй пункта 1 статьи 134 Федерального закона \"О несостоятельности (банкротстве)\", признанный настоящим Постановлением не соответствующим Конституции Российской Федерации, подлежит применению - до внесения в действующее правовое регулирование изменений, вытекающих из настоящего Постановления, - с учетом следующего.',\n",
       " 'Указанное понимание не соотносится и с буквальным смыслом абзаца второго пункта 1 статьи 134 Закона о банкротстве, закрепляющего единственный критерий внеочередного удовлетворения требований кредитора - направленность платежей на предотвращение катастроф либо гибели людей, вне зависимости от того, связано ли обязательство по внесению платежей с исполнением обязанностей по договору, заключенному в рамках обычной хозяйственной деятельности должника, или нет.',\n",
       " '4.2. Правовые, экономические и социальные основы обеспечения безопасной эксплуатации опасных производственных объектов определены Федеральным законом \"О промышленной безопасности опасных производственных объектов\", который направлен на предупреждение аварий на этих объектах и обеспечение готовности эксплуатирующих эти объекты юридических лиц и индивидуальных предпринимателей к локализации и ликвидации последствий аварий (преамбула); под промышленной безопасностью опасных производственных объектов понимается состояние защищенности жизненно важных интересов личности и общества от аварий на этих объектах и последствий аварий (статья 1).',\n",
       " '1.3. Таким образом, абзац второй пункта 1 статьи 134 Федерального закона \"О несостоятельности (банкротстве)\" является предметом рассмотрения Конституционного Суда Российской Федерации по настоящему делу в той мере, в какой в системе действующего правового регулирования он служит основанием для разрешения вопроса о возможности должника, осуществляющего эксплуатацию опасного производственного объекта, произвести в качестве внеочередных эксплуатационные платежи в пользу ресурсоснабжающей организации, обеспечивающей его энергоресурсом по ранее заключенному договору, поскольку прекращение поставок энергоресурса (либо ограничение поставок ниже уровня, минимально необходимого для безопасного состояния соответствующего объекта) может повлечь за собой техногенные и (или) экологические катастрофы либо гибель людей.',\n",
       " 'Как следует из представленных материалов, обосновывая в деле с участием ПАО \"Т Плюс\" вывод об отсутствии указанных оснований для отступления от очередности удовлетворения требований кредиторов по текущим платежам, установленной пунктом 2 статьи 134 Закона о банкротстве, суды исходили прежде всего из того, что оплата теплоснабжения и поставки горячей воды, осуществляемая по договору, заключенному в процессе хозяйственной деятельности должника до принятия заявления о признании его банкротом, не тождественна оплате мероприятий по недопущению катастроф; продолжение оказания услуг по теплоснабжению даже в режиме ограничения не трансформирует соответствующие обязательства из эксплуатационных во внеочередные.',\n",
       " 'Указанное понимание не соотносится и с буквальным смыслом абзаца второго пункта 1 статьи 134 Закона о банкротстве, закрепляющего единственный критерий внеочередного удовлетворения требований кредитора - направленность платежей на предотвращение катастроф либо гибели людей, вне зависимости от того, связано ли обязательство по внесению платежей с исполнением обязанностей по договору, заключенному в рамках обычной хозяйственной деятельности должника, или нет.',\n",
       " 'В таком контексте, обусловленном сложившейся правоприменительной практикой, оспариваемое ПАО \"Т Плюс\" законоположение не может быть признано конституционным.',\n",
       " 'В то же время отсутствие установленных законом - или, по указанию закона, иным нормативным актом - критериев, исходя их которых должна определяться реальность угрозы наступления соответствующих опасных последствий, а равно четких критериев отнесения тех или иных платежей к расходам по недопущению таких последствий порождает в правоприменительной практике неоднозначное истолкование и, следовательно, произвольное применение названного законоположения.',\n",
       " '1.3. Таким образом, абзац второй пункта 1 статьи 134 Федерального закона \"О несостоятельности (банкротстве)\" является предметом рассмотрения Конституционного Суда Российской Федерации по настоящему делу в той мере, в какой в системе действующего правового регулирования он служит основанием для разрешения вопроса о возможности должника, осуществляющего эксплуатацию опасного производственного объекта, произвести в качестве внеочередных эксплуатационные платежи в пользу ресурсоснабжающей организации, обеспечивающей его энергоресурсом по ранее заключенному договору, поскольку прекращение поставок энергоресурса (либо ограничение поставок ниже уровня, минимально необходимого для безопасного состояния соответствующего объекта) может повлечь за собой техногенные и (или) экологические катастрофы либо гибель людей.',\n",
       " '3. Абзац второй пункта 1 статьи 134 Федерального закона \"О несостоятельности (банкротстве)\", признанный настоящим Постановлением не соответствующим Конституции Российской Федерации, подлежит применению - до внесения в действующее правовое регулирование изменений, вытекающих из настоящего Постановления, - с учетом следующего.']"
      ]
     },
     "execution_count": 11,
     "metadata": {},
     "output_type": "execute_result"
    }
   ],
   "source": [
    "y_data"
   ]
  },
  {
   "cell_type": "code",
   "execution_count": 12,
   "id": "14e89b9d",
   "metadata": {},
   "outputs": [],
   "source": [
    "device = torch.device('cuda' if torch.cuda.is_available() else 'cpu')"
   ]
  },
  {
   "cell_type": "code",
   "execution_count": 13,
   "id": "58ebbad0",
   "metadata": {},
   "outputs": [],
   "source": [
    "class Encoder(nn.Module):\n",
    "    def __init__(self, input_dim, emb_dim, hid_dim, n_layers, dropout):\n",
    "        super().__init__()\n",
    "        \n",
    "        self.hid_dim = hid_dim\n",
    "        self.n_layers = n_layers\n",
    "        \n",
    "        self.embedding = nn.Embedding(input_dim, emb_dim)\n",
    "        \n",
    "        self.rnn = nn.LSTM(emb_dim, hid_dim, n_layers, dropout = dropout)\n",
    "        \n",
    "        self.dropout = nn.Dropout(dropout)\n",
    "        \n",
    "    def forward(self, src):\n",
    "        \n",
    "        #src = [src len, batch size]\n",
    "        \n",
    "        embedded = self.dropout(self.embedding(src))\n",
    "        \n",
    "        #embedded = [src len, batch size, emb dim]\n",
    "        \n",
    "        outputs, (hidden, cell) = self.rnn(embedded)\n",
    "        \n",
    "        #outputs = [src len, batch size, hid dim * n directions]\n",
    "        #hidden = [n layers * n directions, batch size, hid dim]\n",
    "        #cell = [n layers * n directions, batch size, hid dim]\n",
    "        \n",
    "        #outputs are always from the top hidden layer\n",
    "        \n",
    "        return hidden, cell"
   ]
  },
  {
   "cell_type": "code",
   "execution_count": 14,
   "id": "ad0517d3",
   "metadata": {},
   "outputs": [],
   "source": [
    "class Decoder(nn.Module):\n",
    "    def __init__(self, output_dim, emb_dim, hid_dim, n_layers, dropout):\n",
    "        super().__init__()\n",
    "        \n",
    "        self.output_dim = output_dim\n",
    "        self.hid_dim = hid_dim\n",
    "        self.n_layers = n_layers\n",
    "        \n",
    "        self.embedding = nn.Embedding(output_dim, emb_dim)\n",
    "        \n",
    "        self.rnn = nn.LSTM(emb_dim, hid_dim, n_layers, dropout = dropout)\n",
    "        \n",
    "        self.fc_out = nn.Linear(hid_dim, output_dim)\n",
    "        \n",
    "        self.dropout = nn.Dropout(dropout)\n",
    "        \n",
    "    def forward(self, input, hidden, cell):\n",
    "        \n",
    "        #input = [batch size]\n",
    "        #hidden = [n layers * n directions, batch size, hid dim]\n",
    "        #cell = [n layers * n directions, batch size, hid dim]\n",
    "        \n",
    "        #n directions in the decoder will both always be 1, therefore:\n",
    "        #hidden = [n layers, batch size, hid dim]\n",
    "        #context = [n layers, batch size, hid dim]\n",
    "        \n",
    "        input = input.unsqueeze(0)\n",
    "        \n",
    "        #input = [1, batch size]\n",
    "        \n",
    "        embedded = self.dropout(self.embedding(input))\n",
    "        \n",
    "        #embedded = [1, batch size, emb dim]\n",
    "                \n",
    "        output, (hidden, cell) = self.rnn(embedded, (hidden, cell))\n",
    "        \n",
    "        #output = [seq len, batch size, hid dim * n directions]\n",
    "        #hidden = [n layers * n directions, batch size, hid dim]\n",
    "        #cell = [n layers * n directions, batch size, hid dim]\n",
    "        \n",
    "        #seq len and n directions will always be 1 in the decoder, therefore:\n",
    "        #output = [1, batch size, hid dim]\n",
    "        #hidden = [n layers, batch size, hid dim]\n",
    "        #cell = [n layers, batch size, hid dim]\n",
    "        \n",
    "        prediction = self.fc_out(output.squeeze(0))\n",
    "        \n",
    "        #prediction = [batch size, output dim]\n",
    "        \n",
    "        return prediction, hidden, cell"
   ]
  },
  {
   "cell_type": "code",
   "execution_count": 15,
   "id": "32ce17fa",
   "metadata": {},
   "outputs": [],
   "source": [
    "class Seq2Seq(nn.Module):\n",
    "    def __init__(self, encoder, decoder, device):\n",
    "        super().__init__()\n",
    "        \n",
    "        self.encoder = encoder\n",
    "        self.decoder = decoder\n",
    "        self.device = device\n",
    "        \n",
    "        assert encoder.hid_dim == decoder.hid_dim, \\\n",
    "            \"Hidden dimensions of encoder and decoder must be equal!\"\n",
    "        assert encoder.n_layers == decoder.n_layers, \\\n",
    "            \"Encoder and decoder must have equal number of layers!\"\n",
    "        \n",
    "    def forward(self, src, trg, teacher_forcing_ratio = 0.5):\n",
    "        \n",
    "        #src = [src len, batch size]\n",
    "        #trg = [trg len, batch size]\n",
    "        #teacher_forcing_ratio is probability to use teacher forcing\n",
    "        #e.g. if teacher_forcing_ratio is 0.75 we use ground-truth inputs 75% of the time\n",
    "        \n",
    "        batch_size = trg.shape[1]\n",
    "        trg_len = trg.shape[0]\n",
    "        trg_vocab_size = self.decoder.output_dim\n",
    "        \n",
    "        #tensor to store decoder outputs\n",
    "        outputs = torch.zeros(trg_len, batch_size, trg_vocab_size).to(self.device)\n",
    "        \n",
    "        #last hidden state of the encoder is used as the initial hidden state of the decoder\n",
    "        hidden, cell = self.encoder(src)\n",
    "        \n",
    "        #first input to the decoder is the <sos> tokens\n",
    "        input = trg[0,:]\n",
    "        \n",
    "        for t in range(1, trg_len):\n",
    "            \n",
    "            #insert input token embedding, previous hidden and previous cell states\n",
    "            #receive output tensor (predictions) and new hidden and cell states\n",
    "            output, hidden, cell = self.decoder(input, hidden, cell)\n",
    "            \n",
    "            #place predictions in a tensor holding predictions for each token\n",
    "            outputs[t] = output\n",
    "            \n",
    "            #decide if we are going to use teacher forcing or not\n",
    "            teacher_force = random.random() < teacher_forcing_ratio\n",
    "            \n",
    "            #get the highest predicted token from our predictions\n",
    "            top1 = output.argmax(1) \n",
    "            \n",
    "            #if teacher forcing, use actual next token as next input\n",
    "            #if not, use predicted token\n",
    "            input = trg[t] if teacher_force else top1\n",
    "        \n",
    "        return outputs"
   ]
  },
  {
   "cell_type": "code",
   "execution_count": 16,
   "id": "24e8a6fe",
   "metadata": {},
   "outputs": [],
   "source": [
    "INPUT_DIM = 2\n",
    "OUTPUT_DIM = 2\n",
    "ENC_EMB_DIM = 256\n",
    "DEC_EMB_DIM = 256\n",
    "HID_DIM = 512\n",
    "N_LAYERS = 2\n",
    "ENC_DROPOUT = 0.5\n",
    "DEC_DROPOUT = 0.5\n",
    "\n",
    "enc = Encoder(INPUT_DIM, ENC_EMB_DIM, HID_DIM, N_LAYERS, ENC_DROPOUT)\n",
    "dec = Decoder(OUTPUT_DIM, DEC_EMB_DIM, HID_DIM, N_LAYERS, DEC_DROPOUT)\n",
    "\n",
    "model = Seq2Seq(enc, dec, device).to(device)"
   ]
  },
  {
   "cell_type": "code",
   "execution_count": 17,
   "id": "51a4152b",
   "metadata": {},
   "outputs": [
    {
     "data": {
      "text/plain": [
       "Seq2Seq(\n",
       "  (encoder): Encoder(\n",
       "    (embedding): Embedding(2, 256)\n",
       "    (rnn): LSTM(256, 512, num_layers=2, dropout=0.5)\n",
       "    (dropout): Dropout(p=0.5, inplace=False)\n",
       "  )\n",
       "  (decoder): Decoder(\n",
       "    (embedding): Embedding(2, 256)\n",
       "    (rnn): LSTM(256, 512, num_layers=2, dropout=0.5)\n",
       "    (fc_out): Linear(in_features=512, out_features=2, bias=True)\n",
       "    (dropout): Dropout(p=0.5, inplace=False)\n",
       "  )\n",
       ")"
      ]
     },
     "execution_count": 17,
     "metadata": {},
     "output_type": "execute_result"
    }
   ],
   "source": [
    "def init_weights(m):\n",
    "    for name, param in m.named_parameters():\n",
    "        nn.init.uniform_(param.data, -0.08, 0.08)\n",
    "        \n",
    "model.apply(init_weights)"
   ]
  },
  {
   "cell_type": "code",
   "execution_count": 18,
   "id": "831f5a6c",
   "metadata": {},
   "outputs": [
    {
     "name": "stdout",
     "output_type": "stream",
     "text": [
      "The model has 7,358,466 trainable parameters\n"
     ]
    }
   ],
   "source": [
    "def count_parameters(model):\n",
    "    return sum(p.numel() for p in model.parameters() if p.requires_grad)\n",
    "\n",
    "print(f'The model has {count_parameters(model):,} trainable parameters')"
   ]
  },
  {
   "cell_type": "code",
   "execution_count": 19,
   "id": "d20ee040",
   "metadata": {},
   "outputs": [],
   "source": [
    "optimizer = optim.Adam(model.parameters())"
   ]
  },
  {
   "cell_type": "code",
   "execution_count": 21,
   "id": "4d7425db",
   "metadata": {},
   "outputs": [
    {
     "ename": "ImportError",
     "evalue": "cannot import name 'Field' from 'torchtext.data' (C:\\Users\\Марк\\AppData\\Roaming\\Python\\Python38\\site-packages\\torchtext\\data\\__init__.py)",
     "output_type": "error",
     "traceback": [
      "\u001b[1;31m---------------------------------------------------------------------------\u001b[0m",
      "\u001b[1;31mImportError\u001b[0m                               Traceback (most recent call last)",
      "\u001b[1;32m<ipython-input-21-10033fa41553>\u001b[0m in \u001b[0;36m<module>\u001b[1;34m\u001b[0m\n\u001b[1;32m----> 1\u001b[1;33m \u001b[1;32mfrom\u001b[0m \u001b[0mtorchtext\u001b[0m\u001b[1;33m.\u001b[0m\u001b[0mdata\u001b[0m \u001b[1;32mimport\u001b[0m \u001b[0mField\u001b[0m\u001b[1;33m,\u001b[0m \u001b[0mBucketIterator\u001b[0m\u001b[1;33m\u001b[0m\u001b[1;33m\u001b[0m\u001b[0m\n\u001b[0m",
      "\u001b[1;31mImportError\u001b[0m: cannot import name 'Field' from 'torchtext.data' (C:\\Users\\Марк\\AppData\\Roaming\\Python\\Python38\\site-packages\\torchtext\\data\\__init__.py)"
     ]
    }
   ],
   "source": [
    "from torchtext.data import Field, BucketIterator"
   ]
  },
  {
   "cell_type": "code",
   "execution_count": 37,
   "id": "55091002",
   "metadata": {},
   "outputs": [
    {
     "ename": "NameError",
     "evalue": "name 'Field' is not defined",
     "output_type": "error",
     "traceback": [
      "\u001b[1;31m---------------------------------------------------------------------------\u001b[0m",
      "\u001b[1;31mNameError\u001b[0m                                 Traceback (most recent call last)",
      "\u001b[1;32m<ipython-input-37-e7ad86c16b7d>\u001b[0m in \u001b[0;36m<module>\u001b[1;34m\u001b[0m\n\u001b[1;32m----> 1\u001b[1;33m SRC = Field(tokenize = tokenize_de, \n\u001b[0m\u001b[0;32m      2\u001b[0m             \u001b[0minit_token\u001b[0m \u001b[1;33m=\u001b[0m \u001b[1;34m'<sos>'\u001b[0m\u001b[1;33m,\u001b[0m\u001b[1;33m\u001b[0m\u001b[1;33m\u001b[0m\u001b[0m\n\u001b[0;32m      3\u001b[0m             \u001b[0meos_token\u001b[0m \u001b[1;33m=\u001b[0m \u001b[1;34m'<eos>'\u001b[0m\u001b[1;33m,\u001b[0m\u001b[1;33m\u001b[0m\u001b[1;33m\u001b[0m\u001b[0m\n\u001b[0;32m      4\u001b[0m             lower = True)\n\u001b[0;32m      5\u001b[0m \u001b[1;33m\u001b[0m\u001b[0m\n",
      "\u001b[1;31mNameError\u001b[0m: name 'Field' is not defined"
     ]
    }
   ],
   "source": [
    "SRC = Field(tokenize = tokenize_de, \n",
    "            init_token = '<sos>', \n",
    "            eos_token = '<eos>', \n",
    "            lower = True)\n",
    "\n",
    "TRG = Field(tokenize = tokenize_en, \n",
    "            init_token = '<sos>', \n",
    "            eos_token = '<eos>', \n",
    "            lower = True)"
   ]
  },
  {
   "cell_type": "code",
   "execution_count": 36,
   "id": "eeb46ad5",
   "metadata": {},
   "outputs": [
    {
     "ename": "NameError",
     "evalue": "name 'TRG' is not defined",
     "output_type": "error",
     "traceback": [
      "\u001b[1;31m---------------------------------------------------------------------------\u001b[0m",
      "\u001b[1;31mNameError\u001b[0m                                 Traceback (most recent call last)",
      "\u001b[1;32m<ipython-input-36-31c5d5a57da0>\u001b[0m in \u001b[0;36m<module>\u001b[1;34m\u001b[0m\n\u001b[1;32m----> 1\u001b[1;33m \u001b[0mTRG_PAD_IDX\u001b[0m \u001b[1;33m=\u001b[0m \u001b[0mTRG\u001b[0m\u001b[1;33m.\u001b[0m\u001b[0mvocab\u001b[0m\u001b[1;33m.\u001b[0m\u001b[0mstoi\u001b[0m\u001b[1;33m[\u001b[0m\u001b[0mTRG\u001b[0m\u001b[1;33m.\u001b[0m\u001b[0mpad_token\u001b[0m\u001b[1;33m]\u001b[0m\u001b[1;33m\u001b[0m\u001b[1;33m\u001b[0m\u001b[0m\n\u001b[0m\u001b[0;32m      2\u001b[0m \u001b[1;33m\u001b[0m\u001b[0m\n\u001b[0;32m      3\u001b[0m \u001b[0mcriterion\u001b[0m \u001b[1;33m=\u001b[0m \u001b[0mnn\u001b[0m\u001b[1;33m.\u001b[0m\u001b[0mCrossEntropyLoss\u001b[0m\u001b[1;33m(\u001b[0m\u001b[0mignore_index\u001b[0m \u001b[1;33m=\u001b[0m \u001b[0mTRG_PAD_IDX\u001b[0m\u001b[1;33m)\u001b[0m\u001b[1;33m\u001b[0m\u001b[1;33m\u001b[0m\u001b[0m\n",
      "\u001b[1;31mNameError\u001b[0m: name 'TRG' is not defined"
     ]
    }
   ],
   "source": [
    "TRG_PAD_IDX = TRG.vocab.stoi[TRG.pad_token]\n",
    "\n",
    "criterion = nn.CrossEntropyLoss(ignore_index = TRG_PAD_IDX)"
   ]
  }
 ],
 "metadata": {
  "kernelspec": {
   "display_name": "Python 3",
   "language": "python",
   "name": "python3"
  },
  "language_info": {
   "codemirror_mode": {
    "name": "ipython",
    "version": 3
   },
   "file_extension": ".py",
   "mimetype": "text/x-python",
   "name": "python",
   "nbconvert_exporter": "python",
   "pygments_lexer": "ipython3",
   "version": "3.8.8"
  }
 },
 "nbformat": 4,
 "nbformat_minor": 5
}
