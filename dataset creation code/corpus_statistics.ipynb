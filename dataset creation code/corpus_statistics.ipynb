{
 "cells": [
  {
   "cell_type": "code",
   "execution_count": 1,
   "id": "b3dd58e4",
   "metadata": {},
   "outputs": [],
   "source": [
    "import pandas as pd\n",
    "\n",
    "\n",
    "df = pd.read_csv('full_corpus.csv')"
   ]
  },
  {
   "cell_type": "code",
   "execution_count": 2,
   "id": "96e3949f",
   "metadata": {},
   "outputs": [
    {
     "data": {
      "text/html": [
       "<div>\n",
       "<style scoped>\n",
       "    .dataframe tbody tr th:only-of-type {\n",
       "        vertical-align: middle;\n",
       "    }\n",
       "\n",
       "    .dataframe tbody tr th {\n",
       "        vertical-align: top;\n",
       "    }\n",
       "\n",
       "    .dataframe thead th {\n",
       "        text-align: right;\n",
       "    }\n",
       "</style>\n",
       "<table border=\"1\" class=\"dataframe\">\n",
       "  <thead>\n",
       "    <tr style=\"text-align: right;\">\n",
       "      <th></th>\n",
       "      <th>Название документа</th>\n",
       "      <th>Ссылка</th>\n",
       "      <th>Текст</th>\n",
       "      <th>Комментарий РГ</th>\n",
       "      <th>Дата</th>\n",
       "    </tr>\n",
       "  </thead>\n",
       "  <tbody>\n",
       "    <tr>\n",
       "      <th>0</th>\n",
       "      <td>Федеральный закон от 28 мая 2022 г. N 146-ФЗ \"...</td>\n",
       "      <td>https://rg.ru/documents/2022/05/30/146biudzhet...</td>\n",
       "      <td>Принят Государственной Думой 24 мая 2022 года\\...</td>\n",
       "      <td>Объем кредитов, которые будут выданы бюджетам ...</td>\n",
       "      <td>30 мая 2022</td>\n",
       "    </tr>\n",
       "    <tr>\n",
       "      <th>1</th>\n",
       "      <td>Федеральный закон от 14 июля 2022 г. N 316-Ф3 ...</td>\n",
       "      <td>https://rg.ru/documents/2022/07/21/document-ze...</td>\n",
       "      <td>Принят Государственной Думой 6 июля 2022 года\\...</td>\n",
       "      <td>Фермеры смогут получить в аренду государственн...</td>\n",
       "      <td>21 июля 2022</td>\n",
       "    </tr>\n",
       "    <tr>\n",
       "      <th>2</th>\n",
       "      <td>Федеральный закон от 14 июля 2022 г. N 271-ФЗ ...</td>\n",
       "      <td>https://rg.ru/documents/2022/07/20/dokument-te...</td>\n",
       "      <td>Принят Государственной Думой 29 июня 2022 года...</td>\n",
       "      <td>Управляющие компании теперь могут проводить ко...</td>\n",
       "      <td>20 июля 2022</td>\n",
       "    </tr>\n",
       "    <tr>\n",
       "      <th>3</th>\n",
       "      <td>Федеральный закон от 14 июля 2022 г. N 290-ФЗ ...</td>\n",
       "      <td>https://rg.ru/documents/2022/07/20/dokument-ko...</td>\n",
       "      <td>Принят Государственной Думой 6 июля 2022 года\\...</td>\n",
       "      <td>Поправки в КоАП распространяют на бизнес так н...</td>\n",
       "      <td>20 июля 2022</td>\n",
       "    </tr>\n",
       "    <tr>\n",
       "      <th>4</th>\n",
       "      <td>Федеральный закон от 14 июля 2022 г. N 287-ФЗ ...</td>\n",
       "      <td>https://rg.ru/documents/2022/07/20/document-ko...</td>\n",
       "      <td>Принят Государственной Думой 29 июня 2022 года...</td>\n",
       "      <td>Выброс мусора из автомобиля теперь попадет в к...</td>\n",
       "      <td>20 июля 2022</td>\n",
       "    </tr>\n",
       "    <tr>\n",
       "      <th>...</th>\n",
       "      <td>...</td>\n",
       "      <td>...</td>\n",
       "      <td>...</td>\n",
       "      <td>...</td>\n",
       "      <td>...</td>\n",
       "    </tr>\n",
       "    <tr>\n",
       "      <th>2022</th>\n",
       "      <td>Утверждены правила предоставления субсидий \"РЖ...</td>\n",
       "      <td>https://rg.ru/2009/03/11/postanovlenie-dok.html</td>\n",
       "      <td>В соответствии с частью 6 статьи 25 Федерально...</td>\n",
       "      <td>Утверждены правила предоставления в 2009 году ...</td>\n",
       "      <td>11 марта 2009</td>\n",
       "    </tr>\n",
       "    <tr>\n",
       "      <th>2023</th>\n",
       "      <td>Правила перевозок пассажиров и багажа обществе...</td>\n",
       "      <td>https://rg.ru/2009/03/11/bagaj-dok.html</td>\n",
       "      <td>В соответствии со статьей 3 Федерального закон...</td>\n",
       "      <td>В России впервые за 22 года утвердили новые пр...</td>\n",
       "      <td>11 марта 2009</td>\n",
       "    </tr>\n",
       "    <tr>\n",
       "      <th>2024</th>\n",
       "      <td>Изменения в правила направления средств матери...</td>\n",
       "      <td>https://rg.ru/2009/01/16/matkapital-jilie-dok....</td>\n",
       "      <td>Правительство Российской Федерации постановляе...</td>\n",
       "      <td>Правительство утвердило изменения в правила на...</td>\n",
       "      <td>16 января 2009</td>\n",
       "    </tr>\n",
       "    <tr>\n",
       "      <th>2025</th>\n",
       "      <td>Федеральный закон \"О государственной регистрац...</td>\n",
       "      <td>https://rg.ru/2009/03/17/gosregistraciya-dok.html</td>\n",
       "      <td>Принят Государственной Думой 25 февраля 2009 г...</td>\n",
       "      <td>Все воздушные суда теперь подлежат обязательно...</td>\n",
       "      <td>17 марта 2009</td>\n",
       "    </tr>\n",
       "    <tr>\n",
       "      <th>2026</th>\n",
       "      <td>Закон о патентных поверенных — Российская газета</td>\n",
       "      <td>https://rg.ru/2008/12/31/poverennie-dok.html</td>\n",
       "      <td>Принят Государственной Думой 24 декабря 2008 г...</td>\n",
       "      <td>В этом году деятельность патентных поверенных ...</td>\n",
       "      <td>31 декабря 2008</td>\n",
       "    </tr>\n",
       "  </tbody>\n",
       "</table>\n",
       "<p>2027 rows × 5 columns</p>\n",
       "</div>"
      ],
      "text/plain": [
       "                                     Название документа  \\\n",
       "0     Федеральный закон от 28 мая 2022 г. N 146-ФЗ \"...   \n",
       "1     Федеральный закон от 14 июля 2022 г. N 316-Ф3 ...   \n",
       "2     Федеральный закон от 14 июля 2022 г. N 271-ФЗ ...   \n",
       "3     Федеральный закон от 14 июля 2022 г. N 290-ФЗ ...   \n",
       "4     Федеральный закон от 14 июля 2022 г. N 287-ФЗ ...   \n",
       "...                                                 ...   \n",
       "2022  Утверждены правила предоставления субсидий \"РЖ...   \n",
       "2023  Правила перевозок пассажиров и багажа обществе...   \n",
       "2024  Изменения в правила направления средств матери...   \n",
       "2025  Федеральный закон \"О государственной регистрац...   \n",
       "2026   Закон о патентных поверенных — Российская газета   \n",
       "\n",
       "                                                 Ссылка  \\\n",
       "0     https://rg.ru/documents/2022/05/30/146biudzhet...   \n",
       "1     https://rg.ru/documents/2022/07/21/document-ze...   \n",
       "2     https://rg.ru/documents/2022/07/20/dokument-te...   \n",
       "3     https://rg.ru/documents/2022/07/20/dokument-ko...   \n",
       "4     https://rg.ru/documents/2022/07/20/document-ko...   \n",
       "...                                                 ...   \n",
       "2022    https://rg.ru/2009/03/11/postanovlenie-dok.html   \n",
       "2023            https://rg.ru/2009/03/11/bagaj-dok.html   \n",
       "2024  https://rg.ru/2009/01/16/matkapital-jilie-dok....   \n",
       "2025  https://rg.ru/2009/03/17/gosregistraciya-dok.html   \n",
       "2026       https://rg.ru/2008/12/31/poverennie-dok.html   \n",
       "\n",
       "                                                  Текст  \\\n",
       "0     Принят Государственной Думой 24 мая 2022 года\\...   \n",
       "1     Принят Государственной Думой 6 июля 2022 года\\...   \n",
       "2     Принят Государственной Думой 29 июня 2022 года...   \n",
       "3     Принят Государственной Думой 6 июля 2022 года\\...   \n",
       "4     Принят Государственной Думой 29 июня 2022 года...   \n",
       "...                                                 ...   \n",
       "2022  В соответствии с частью 6 статьи 25 Федерально...   \n",
       "2023  В соответствии со статьей 3 Федерального закон...   \n",
       "2024  Правительство Российской Федерации постановляе...   \n",
       "2025  Принят Государственной Думой 25 февраля 2009 г...   \n",
       "2026  Принят Государственной Думой 24 декабря 2008 г...   \n",
       "\n",
       "                                         Комментарий РГ             Дата  \n",
       "0     Объем кредитов, которые будут выданы бюджетам ...      30 мая 2022  \n",
       "1     Фермеры смогут получить в аренду государственн...     21 июля 2022  \n",
       "2     Управляющие компании теперь могут проводить ко...     20 июля 2022  \n",
       "3     Поправки в КоАП распространяют на бизнес так н...     20 июля 2022  \n",
       "4     Выброс мусора из автомобиля теперь попадет в к...     20 июля 2022  \n",
       "...                                                 ...              ...  \n",
       "2022  Утверждены правила предоставления в 2009 году ...    11 марта 2009  \n",
       "2023  В России впервые за 22 года утвердили новые пр...    11 марта 2009  \n",
       "2024  Правительство утвердило изменения в правила на...   16 января 2009  \n",
       "2025  Все воздушные суда теперь подлежат обязательно...    17 марта 2009  \n",
       "2026  В этом году деятельность патентных поверенных ...  31 декабря 2008  \n",
       "\n",
       "[2027 rows x 5 columns]"
      ]
     },
     "execution_count": 2,
     "metadata": {},
     "output_type": "execute_result"
    }
   ],
   "source": [
    "df"
   ]
  },
  {
   "cell_type": "code",
   "execution_count": 3,
   "id": "46cea810",
   "metadata": {},
   "outputs": [
    {
     "data": {
      "text/html": [
       "<div>\n",
       "<style scoped>\n",
       "    .dataframe tbody tr th:only-of-type {\n",
       "        vertical-align: middle;\n",
       "    }\n",
       "\n",
       "    .dataframe tbody tr th {\n",
       "        vertical-align: top;\n",
       "    }\n",
       "\n",
       "    .dataframe thead th {\n",
       "        text-align: right;\n",
       "    }\n",
       "</style>\n",
       "<table border=\"1\" class=\"dataframe\">\n",
       "  <thead>\n",
       "    <tr style=\"text-align: right;\">\n",
       "      <th></th>\n",
       "      <th>Название документа</th>\n",
       "    </tr>\n",
       "    <tr>\n",
       "      <th>Дата</th>\n",
       "      <th></th>\n",
       "    </tr>\n",
       "  </thead>\n",
       "  <tbody>\n",
       "    <tr>\n",
       "      <th>2008</th>\n",
       "      <td>1</td>\n",
       "    </tr>\n",
       "    <tr>\n",
       "      <th>2009</th>\n",
       "      <td>151</td>\n",
       "    </tr>\n",
       "    <tr>\n",
       "      <th>2010</th>\n",
       "      <td>101</td>\n",
       "    </tr>\n",
       "    <tr>\n",
       "      <th>2011</th>\n",
       "      <td>135</td>\n",
       "    </tr>\n",
       "    <tr>\n",
       "      <th>2012</th>\n",
       "      <td>204</td>\n",
       "    </tr>\n",
       "    <tr>\n",
       "      <th>2013</th>\n",
       "      <td>101</td>\n",
       "    </tr>\n",
       "    <tr>\n",
       "      <th>2014</th>\n",
       "      <td>112</td>\n",
       "    </tr>\n",
       "    <tr>\n",
       "      <th>2015</th>\n",
       "      <td>85</td>\n",
       "    </tr>\n",
       "    <tr>\n",
       "      <th>2016</th>\n",
       "      <td>47</td>\n",
       "    </tr>\n",
       "    <tr>\n",
       "      <th>2017</th>\n",
       "      <td>140</td>\n",
       "    </tr>\n",
       "    <tr>\n",
       "      <th>2018</th>\n",
       "      <td>214</td>\n",
       "    </tr>\n",
       "    <tr>\n",
       "      <th>2019</th>\n",
       "      <td>163</td>\n",
       "    </tr>\n",
       "    <tr>\n",
       "      <th>2020</th>\n",
       "      <td>223</td>\n",
       "    </tr>\n",
       "    <tr>\n",
       "      <th>2021</th>\n",
       "      <td>245</td>\n",
       "    </tr>\n",
       "    <tr>\n",
       "      <th>2022</th>\n",
       "      <td>105</td>\n",
       "    </tr>\n",
       "  </tbody>\n",
       "</table>\n",
       "</div>"
      ],
      "text/plain": [
       "      Название документа\n",
       "Дата                    \n",
       "2008                   1\n",
       "2009                 151\n",
       "2010                 101\n",
       "2011                 135\n",
       "2012                 204\n",
       "2013                 101\n",
       "2014                 112\n",
       "2015                  85\n",
       "2016                  47\n",
       "2017                 140\n",
       "2018                 214\n",
       "2019                 163\n",
       "2020                 223\n",
       "2021                 245\n",
       "2022                 105"
      ]
     },
     "execution_count": 3,
     "metadata": {},
     "output_type": "execute_result"
    }
   ],
   "source": [
    "## статистика по годам\n",
    "\n",
    "by_year = df.groupby(df['Дата'].apply(lambda x: str(x)[-4:])).agg({'Название документа': 'count'})\n",
    "by_year\n",
    "\n",
    "## больше всего статей - от 2021 года"
   ]
  },
  {
   "cell_type": "code",
   "execution_count": 8,
   "id": "58a0a1aa",
   "metadata": {},
   "outputs": [
    {
     "data": {
      "text/html": [
       "<div>\n",
       "<style scoped>\n",
       "    .dataframe tbody tr th:only-of-type {\n",
       "        vertical-align: middle;\n",
       "    }\n",
       "\n",
       "    .dataframe tbody tr th {\n",
       "        vertical-align: top;\n",
       "    }\n",
       "\n",
       "    .dataframe thead th {\n",
       "        text-align: right;\n",
       "    }\n",
       "</style>\n",
       "<table border=\"1\" class=\"dataframe\">\n",
       "  <thead>\n",
       "    <tr style=\"text-align: right;\">\n",
       "      <th></th>\n",
       "      <th>Название документа</th>\n",
       "      <th>Ссылка</th>\n",
       "      <th>Текст</th>\n",
       "      <th>Комментарий РГ</th>\n",
       "      <th>Дата</th>\n",
       "    </tr>\n",
       "  </thead>\n",
       "  <tbody>\n",
       "    <tr>\n",
       "      <th>0</th>\n",
       "      <td>Федеральный закон от 28 мая 2022 г. N 146-ФЗ \"...</td>\n",
       "      <td>https://rg.ru/documents/2022/05/30/146biudzhet...</td>\n",
       "      <td>Принят Государственной Думой 24 мая 2022 года\\...</td>\n",
       "      <td>Объем кредитов, которые будут выданы бюджетам ...</td>\n",
       "      <td>30 мая 2022</td>\n",
       "    </tr>\n",
       "    <tr>\n",
       "      <th>2</th>\n",
       "      <td>Федеральный закон от 14 июля 2022 г. N 271-ФЗ ...</td>\n",
       "      <td>https://rg.ru/documents/2022/07/20/dokument-te...</td>\n",
       "      <td>Принят Государственной Думой 29 июня 2022 года...</td>\n",
       "      <td>Управляющие компании теперь могут проводить ко...</td>\n",
       "      <td>20 июля 2022</td>\n",
       "    </tr>\n",
       "    <tr>\n",
       "      <th>6</th>\n",
       "      <td>Федеральный закон от 14 июля 2022 г. N 255-ФЗ ...</td>\n",
       "      <td>https://rg.ru/documents/2022/07/19/document-in...</td>\n",
       "      <td>Принят Государственной Думой 29 июня 2022 года...</td>\n",
       "      <td>Законодательство в России, регулирующее деятел...</td>\n",
       "      <td>19 июля 2022</td>\n",
       "    </tr>\n",
       "    <tr>\n",
       "      <th>7</th>\n",
       "      <td>Постановление Конституционного Суда Российской...</td>\n",
       "      <td>https://rg.ru/documents/2022/07/15/ks-dohodigo...</td>\n",
       "      <td>Конституционный Суд Российской Федерации в сос...</td>\n",
       "      <td>Конституционный суд РФ запретил обвинять чинов...</td>\n",
       "      <td>15 июля 2022</td>\n",
       "    </tr>\n",
       "    <tr>\n",
       "      <th>9</th>\n",
       "      <td>Постановление Пленума Верховного Суда Российск...</td>\n",
       "      <td>https://rg.ru/documents/2022/07/13/postanovlen...</td>\n",
       "      <td>В целях единообразного применения судами полож...</td>\n",
       "      <td>Граждане получили возможность обжаловать в суд...</td>\n",
       "      <td>13 июля 2022</td>\n",
       "    </tr>\n",
       "    <tr>\n",
       "      <th>...</th>\n",
       "      <td>...</td>\n",
       "      <td>...</td>\n",
       "      <td>...</td>\n",
       "      <td>...</td>\n",
       "      <td>...</td>\n",
       "    </tr>\n",
       "    <tr>\n",
       "      <th>2008</th>\n",
       "      <td>Программа антикризисных мер Правительства Росс...</td>\n",
       "      <td>https://rg.ru/2009/03/20/programma-antikrisis-...</td>\n",
       "      <td>Программа антикризисных мер Правительства Росс...</td>\n",
       "      <td>Каждый россиянин с сегодняшнего дня может прин...</td>\n",
       "      <td>20 марта 2009</td>\n",
       "    </tr>\n",
       "    <tr>\n",
       "      <th>2010</th>\n",
       "      <td>Постановление КС о запрете заочно направлять г...</td>\n",
       "      <td>https://rg.ru/2009/03/18/psihiatria-ks-dok.html</td>\n",
       "      <td>Именем Российской Федерации  Конституционный С...</td>\n",
       "      <td>Сегодня \"Российская газета\" публикует постанов...</td>\n",
       "      <td>18 марта 2009</td>\n",
       "    </tr>\n",
       "    <tr>\n",
       "      <th>2022</th>\n",
       "      <td>Утверждены правила предоставления субсидий \"РЖ...</td>\n",
       "      <td>https://rg.ru/2009/03/11/postanovlenie-dok.html</td>\n",
       "      <td>В соответствии с частью 6 статьи 25 Федерально...</td>\n",
       "      <td>Утверждены правила предоставления в 2009 году ...</td>\n",
       "      <td>11 марта 2009</td>\n",
       "    </tr>\n",
       "    <tr>\n",
       "      <th>2025</th>\n",
       "      <td>Федеральный закон \"О государственной регистрац...</td>\n",
       "      <td>https://rg.ru/2009/03/17/gosregistraciya-dok.html</td>\n",
       "      <td>Принят Государственной Думой 25 февраля 2009 г...</td>\n",
       "      <td>Все воздушные суда теперь подлежат обязательно...</td>\n",
       "      <td>17 марта 2009</td>\n",
       "    </tr>\n",
       "    <tr>\n",
       "      <th>2026</th>\n",
       "      <td>Закон о патентных поверенных — Российская газета</td>\n",
       "      <td>https://rg.ru/2008/12/31/poverennie-dok.html</td>\n",
       "      <td>Принят Государственной Думой 24 декабря 2008 г...</td>\n",
       "      <td>В этом году деятельность патентных поверенных ...</td>\n",
       "      <td>31 декабря 2008</td>\n",
       "    </tr>\n",
       "  </tbody>\n",
       "</table>\n",
       "<p>703 rows × 5 columns</p>\n",
       "</div>"
      ],
      "text/plain": [
       "                                     Название документа  \\\n",
       "0     Федеральный закон от 28 мая 2022 г. N 146-ФЗ \"...   \n",
       "2     Федеральный закон от 14 июля 2022 г. N 271-ФЗ ...   \n",
       "6     Федеральный закон от 14 июля 2022 г. N 255-ФЗ ...   \n",
       "7     Постановление Конституционного Суда Российской...   \n",
       "9     Постановление Пленума Верховного Суда Российск...   \n",
       "...                                                 ...   \n",
       "2008  Программа антикризисных мер Правительства Росс...   \n",
       "2010  Постановление КС о запрете заочно направлять г...   \n",
       "2022  Утверждены правила предоставления субсидий \"РЖ...   \n",
       "2025  Федеральный закон \"О государственной регистрац...   \n",
       "2026   Закон о патентных поверенных — Российская газета   \n",
       "\n",
       "                                                 Ссылка  \\\n",
       "0     https://rg.ru/documents/2022/05/30/146biudzhet...   \n",
       "2     https://rg.ru/documents/2022/07/20/dokument-te...   \n",
       "6     https://rg.ru/documents/2022/07/19/document-in...   \n",
       "7     https://rg.ru/documents/2022/07/15/ks-dohodigo...   \n",
       "9     https://rg.ru/documents/2022/07/13/postanovlen...   \n",
       "...                                                 ...   \n",
       "2008  https://rg.ru/2009/03/20/programma-antikrisis-...   \n",
       "2010    https://rg.ru/2009/03/18/psihiatria-ks-dok.html   \n",
       "2022    https://rg.ru/2009/03/11/postanovlenie-dok.html   \n",
       "2025  https://rg.ru/2009/03/17/gosregistraciya-dok.html   \n",
       "2026       https://rg.ru/2008/12/31/poverennie-dok.html   \n",
       "\n",
       "                                                  Текст  \\\n",
       "0     Принят Государственной Думой 24 мая 2022 года\\...   \n",
       "2     Принят Государственной Думой 29 июня 2022 года...   \n",
       "6     Принят Государственной Думой 29 июня 2022 года...   \n",
       "7     Конституционный Суд Российской Федерации в сос...   \n",
       "9     В целях единообразного применения судами полож...   \n",
       "...                                                 ...   \n",
       "2008  Программа антикризисных мер Правительства Росс...   \n",
       "2010  Именем Российской Федерации  Конституционный С...   \n",
       "2022  В соответствии с частью 6 статьи 25 Федерально...   \n",
       "2025  Принят Государственной Думой 25 февраля 2009 г...   \n",
       "2026  Принят Государственной Думой 24 декабря 2008 г...   \n",
       "\n",
       "                                         Комментарий РГ             Дата  \n",
       "0     Объем кредитов, которые будут выданы бюджетам ...      30 мая 2022  \n",
       "2     Управляющие компании теперь могут проводить ко...     20 июля 2022  \n",
       "6     Законодательство в России, регулирующее деятел...     19 июля 2022  \n",
       "7     Конституционный суд РФ запретил обвинять чинов...     15 июля 2022  \n",
       "9     Граждане получили возможность обжаловать в суд...     13 июля 2022  \n",
       "...                                                 ...              ...  \n",
       "2008  Каждый россиянин с сегодняшнего дня может прин...    20 марта 2009  \n",
       "2010  Сегодня \"Российская газета\" публикует постанов...    18 марта 2009  \n",
       "2022  Утверждены правила предоставления в 2009 году ...    11 марта 2009  \n",
       "2025  Все воздушные суда теперь подлежат обязательно...    17 марта 2009  \n",
       "2026  В этом году деятельность патентных поверенных ...  31 декабря 2008  \n",
       "\n",
       "[703 rows x 5 columns]"
      ]
     },
     "execution_count": 8,
     "metadata": {},
     "output_type": "execute_result"
    }
   ],
   "source": [
    "df[df['Текст'].str.contains('налог')]"
   ]
  },
  {
   "cell_type": "code",
   "execution_count": 10,
   "id": "ff7da7eb",
   "metadata": {},
   "outputs": [
    {
     "data": {
      "text/html": [
       "<div>\n",
       "<style scoped>\n",
       "    .dataframe tbody tr th:only-of-type {\n",
       "        vertical-align: middle;\n",
       "    }\n",
       "\n",
       "    .dataframe tbody tr th {\n",
       "        vertical-align: top;\n",
       "    }\n",
       "\n",
       "    .dataframe thead th {\n",
       "        text-align: right;\n",
       "    }\n",
       "</style>\n",
       "<table border=\"1\" class=\"dataframe\">\n",
       "  <thead>\n",
       "    <tr style=\"text-align: right;\">\n",
       "      <th></th>\n",
       "      <th>Name</th>\n",
       "      <th>Text_len</th>\n",
       "      <th>Comment_len</th>\n",
       "      <th>Year</th>\n",
       "    </tr>\n",
       "  </thead>\n",
       "  <tbody>\n",
       "    <tr>\n",
       "      <th>0</th>\n",
       "      <td>Федеральный закон от 28 мая 2022 г. N 146-ФЗ \"...</td>\n",
       "      <td>1660</td>\n",
       "      <td>107</td>\n",
       "      <td>2022</td>\n",
       "    </tr>\n",
       "    <tr>\n",
       "      <th>1</th>\n",
       "      <td>Федеральный закон от 14 июля 2022 г. N 316-Ф3 ...</td>\n",
       "      <td>1474</td>\n",
       "      <td>165</td>\n",
       "      <td>2022</td>\n",
       "    </tr>\n",
       "    <tr>\n",
       "      <th>2</th>\n",
       "      <td>Федеральный закон от 14 июля 2022 г. N 271-ФЗ ...</td>\n",
       "      <td>5863</td>\n",
       "      <td>126</td>\n",
       "      <td>2022</td>\n",
       "    </tr>\n",
       "    <tr>\n",
       "      <th>3</th>\n",
       "      <td>Федеральный закон от 14 июля 2022 г. N 290-ФЗ ...</td>\n",
       "      <td>1430</td>\n",
       "      <td>322</td>\n",
       "      <td>2022</td>\n",
       "    </tr>\n",
       "    <tr>\n",
       "      <th>4</th>\n",
       "      <td>Федеральный закон от 14 июля 2022 г. N 287-ФЗ ...</td>\n",
       "      <td>1994</td>\n",
       "      <td>464</td>\n",
       "      <td>2022</td>\n",
       "    </tr>\n",
       "    <tr>\n",
       "      <th>...</th>\n",
       "      <td>...</td>\n",
       "      <td>...</td>\n",
       "      <td>...</td>\n",
       "      <td>...</td>\n",
       "    </tr>\n",
       "    <tr>\n",
       "      <th>2022</th>\n",
       "      <td>Утверждены правила предоставления субсидий \"РЖ...</td>\n",
       "      <td>928</td>\n",
       "      <td>198</td>\n",
       "      <td>2009</td>\n",
       "    </tr>\n",
       "    <tr>\n",
       "      <th>2023</th>\n",
       "      <td>Правила перевозок пассажиров и багажа обществе...</td>\n",
       "      <td>8368</td>\n",
       "      <td>207</td>\n",
       "      <td>2009</td>\n",
       "    </tr>\n",
       "    <tr>\n",
       "      <th>2024</th>\n",
       "      <td>Изменения в правила направления средств матери...</td>\n",
       "      <td>788</td>\n",
       "      <td>514</td>\n",
       "      <td>2009</td>\n",
       "    </tr>\n",
       "    <tr>\n",
       "      <th>2025</th>\n",
       "      <td>Федеральный закон \"О государственной регистрац...</td>\n",
       "      <td>5434</td>\n",
       "      <td>126</td>\n",
       "      <td>2009</td>\n",
       "    </tr>\n",
       "    <tr>\n",
       "      <th>2026</th>\n",
       "      <td>Закон о патентных поверенных — Российская газета</td>\n",
       "      <td>3117</td>\n",
       "      <td>450</td>\n",
       "      <td>2008</td>\n",
       "    </tr>\n",
       "  </tbody>\n",
       "</table>\n",
       "<p>2027 rows × 4 columns</p>\n",
       "</div>"
      ],
      "text/plain": [
       "                                                   Name  Text_len  \\\n",
       "0     Федеральный закон от 28 мая 2022 г. N 146-ФЗ \"...      1660   \n",
       "1     Федеральный закон от 14 июля 2022 г. N 316-Ф3 ...      1474   \n",
       "2     Федеральный закон от 14 июля 2022 г. N 271-ФЗ ...      5863   \n",
       "3     Федеральный закон от 14 июля 2022 г. N 290-ФЗ ...      1430   \n",
       "4     Федеральный закон от 14 июля 2022 г. N 287-ФЗ ...      1994   \n",
       "...                                                 ...       ...   \n",
       "2022  Утверждены правила предоставления субсидий \"РЖ...       928   \n",
       "2023  Правила перевозок пассажиров и багажа обществе...      8368   \n",
       "2024  Изменения в правила направления средств матери...       788   \n",
       "2025  Федеральный закон \"О государственной регистрац...      5434   \n",
       "2026   Закон о патентных поверенных — Российская газета      3117   \n",
       "\n",
       "      Comment_len  Year  \n",
       "0             107  2022  \n",
       "1             165  2022  \n",
       "2             126  2022  \n",
       "3             322  2022  \n",
       "4             464  2022  \n",
       "...           ...   ...  \n",
       "2022          198  2009  \n",
       "2023          207  2009  \n",
       "2024          514  2009  \n",
       "2025          126  2009  \n",
       "2026          450  2008  \n",
       "\n",
       "[2027 rows x 4 columns]"
      ]
     },
     "execution_count": 10,
     "metadata": {},
     "output_type": "execute_result"
    }
   ],
   "source": [
    "stats = pd.DataFrame({})\n",
    "\n",
    "\n",
    "stats['Name'] = df['Название документа']\n",
    "stats['Text_len'] = df[\"Текст\"].astype(str).apply(lambda x: len(x.split(' ')))\n",
    "stats['Comment_len'] = df['Комментарий РГ'].astype(str).apply(lambda x: len(x.split(' ')))\n",
    "stats['Year'] = df['Дата'].apply(lambda x: str(x)[-4:])\n",
    "stats"
   ]
  },
  {
   "cell_type": "code",
   "execution_count": 21,
   "id": "97800b2c",
   "metadata": {},
   "outputs": [
    {
     "data": {
      "text/plain": [
       "<AxesSubplot:>"
      ]
     },
     "execution_count": 21,
     "metadata": {},
     "output_type": "execute_result"
    },
    {
     "data": {
      "image/png": "[encoded data removed]",
      "text/plain": [
       "<Figure size 432x288 with 1 Axes>"
      ]
     },
     "metadata": {
      "needs_background": "light"
     },
     "output_type": "display_data"
    }
   ],
   "source": [
    "stats['Text_len'].hist()\n",
    "\n",
    "## распределение токенов в законе"
   ]
  },
  {
   "cell_type": "code",
   "execution_count": 20,
   "id": "04020bf9",
   "metadata": {},
   "outputs": [
    {
     "data": {
      "text/plain": [
       "<AxesSubplot:>"
      ]
     },
     "execution_count": 20,
     "metadata": {},
     "output_type": "execute_result"
    },
    {
     "data": {
      "image/png": "[encoded data removed]",
      "text/plain": [
       "<Figure size 432x288 with 1 Axes>"
      ]
     },
     "metadata": {
      "needs_background": "light"
     },
     "output_type": "display_data"
    }
   ],
   "source": [
    "stats['Comment_len'].hist()\n",
    "\n",
    "## распределение токенов в упрощенном тексте (комменте)"
   ]
  },
  {
   "cell_type": "code",
   "execution_count": 18,
   "id": "aac117ca",
   "metadata": {},
   "outputs": [
    {
     "data": {
      "text/html": [
       "<div>\n",
       "<style scoped>\n",
       "    .dataframe tbody tr th:only-of-type {\n",
       "        vertical-align: middle;\n",
       "    }\n",
       "\n",
       "    .dataframe tbody tr th {\n",
       "        vertical-align: top;\n",
       "    }\n",
       "\n",
       "    .dataframe thead tr th {\n",
       "        text-align: left;\n",
       "    }\n",
       "\n",
       "    .dataframe thead tr:last-of-type th {\n",
       "        text-align: right;\n",
       "    }\n",
       "</style>\n",
       "<table border=\"1\" class=\"dataframe\">\n",
       "  <thead>\n",
       "    <tr>\n",
       "      <th></th>\n",
       "      <th colspan=\"3\" halign=\"left\">Text_len</th>\n",
       "      <th colspan=\"3\" halign=\"left\">Comment_len</th>\n",
       "    </tr>\n",
       "    <tr>\n",
       "      <th></th>\n",
       "      <th>min</th>\n",
       "      <th>max</th>\n",
       "      <th>mean</th>\n",
       "      <th>min</th>\n",
       "      <th>max</th>\n",
       "      <th>mean</th>\n",
       "    </tr>\n",
       "    <tr>\n",
       "      <th>Year</th>\n",
       "      <th></th>\n",
       "      <th></th>\n",
       "      <th></th>\n",
       "      <th></th>\n",
       "      <th></th>\n",
       "      <th></th>\n",
       "    </tr>\n",
       "  </thead>\n",
       "  <tbody>\n",
       "    <tr>\n",
       "      <th>2008</th>\n",
       "      <td>3117</td>\n",
       "      <td>3117</td>\n",
       "      <td>3117.000000</td>\n",
       "      <td>450</td>\n",
       "      <td>450</td>\n",
       "      <td>450.000000</td>\n",
       "    </tr>\n",
       "    <tr>\n",
       "      <th>2009</th>\n",
       "      <td>416</td>\n",
       "      <td>26443</td>\n",
       "      <td>4319.476821</td>\n",
       "      <td>112</td>\n",
       "      <td>1934</td>\n",
       "      <td>411.854305</td>\n",
       "    </tr>\n",
       "    <tr>\n",
       "      <th>2010</th>\n",
       "      <td>436</td>\n",
       "      <td>37066</td>\n",
       "      <td>5835.772277</td>\n",
       "      <td>138</td>\n",
       "      <td>2196</td>\n",
       "      <td>428.138614</td>\n",
       "    </tr>\n",
       "    <tr>\n",
       "      <th>2011</th>\n",
       "      <td>436</td>\n",
       "      <td>30504</td>\n",
       "      <td>5528.155556</td>\n",
       "      <td>165</td>\n",
       "      <td>1331</td>\n",
       "      <td>467.725926</td>\n",
       "    </tr>\n",
       "    <tr>\n",
       "      <th>2012</th>\n",
       "      <td>403</td>\n",
       "      <td>54919</td>\n",
       "      <td>4392.607843</td>\n",
       "      <td>1</td>\n",
       "      <td>1981</td>\n",
       "      <td>381.588235</td>\n",
       "    </tr>\n",
       "    <tr>\n",
       "      <th>2013</th>\n",
       "      <td>438</td>\n",
       "      <td>48537</td>\n",
       "      <td>5255.198020</td>\n",
       "      <td>115</td>\n",
       "      <td>1724</td>\n",
       "      <td>465.267327</td>\n",
       "    </tr>\n",
       "    <tr>\n",
       "      <th>2014</th>\n",
       "      <td>412</td>\n",
       "      <td>74918</td>\n",
       "      <td>5856.758929</td>\n",
       "      <td>144</td>\n",
       "      <td>923</td>\n",
       "      <td>367.044643</td>\n",
       "    </tr>\n",
       "    <tr>\n",
       "      <th>2015</th>\n",
       "      <td>420</td>\n",
       "      <td>73854</td>\n",
       "      <td>5661.600000</td>\n",
       "      <td>1</td>\n",
       "      <td>979</td>\n",
       "      <td>398.105882</td>\n",
       "    </tr>\n",
       "    <tr>\n",
       "      <th>2016</th>\n",
       "      <td>471</td>\n",
       "      <td>20902</td>\n",
       "      <td>4702.574468</td>\n",
       "      <td>154</td>\n",
       "      <td>1537</td>\n",
       "      <td>446.489362</td>\n",
       "    </tr>\n",
       "    <tr>\n",
       "      <th>2017</th>\n",
       "      <td>416</td>\n",
       "      <td>22419</td>\n",
       "      <td>4364.735714</td>\n",
       "      <td>81</td>\n",
       "      <td>1926</td>\n",
       "      <td>374.085714</td>\n",
       "    </tr>\n",
       "    <tr>\n",
       "      <th>2018</th>\n",
       "      <td>435</td>\n",
       "      <td>28038</td>\n",
       "      <td>2800.883178</td>\n",
       "      <td>42</td>\n",
       "      <td>1637</td>\n",
       "      <td>397.154206</td>\n",
       "    </tr>\n",
       "    <tr>\n",
       "      <th>2019</th>\n",
       "      <td>402</td>\n",
       "      <td>38269</td>\n",
       "      <td>4411.349693</td>\n",
       "      <td>72</td>\n",
       "      <td>966</td>\n",
       "      <td>364.104294</td>\n",
       "    </tr>\n",
       "    <tr>\n",
       "      <th>2020</th>\n",
       "      <td>408</td>\n",
       "      <td>28783</td>\n",
       "      <td>3231.215247</td>\n",
       "      <td>39</td>\n",
       "      <td>1063</td>\n",
       "      <td>300.022422</td>\n",
       "    </tr>\n",
       "    <tr>\n",
       "      <th>2021</th>\n",
       "      <td>401</td>\n",
       "      <td>42234</td>\n",
       "      <td>3184.093878</td>\n",
       "      <td>50</td>\n",
       "      <td>762</td>\n",
       "      <td>245.081633</td>\n",
       "    </tr>\n",
       "    <tr>\n",
       "      <th>2022</th>\n",
       "      <td>408</td>\n",
       "      <td>31971</td>\n",
       "      <td>3574.628571</td>\n",
       "      <td>29</td>\n",
       "      <td>1177</td>\n",
       "      <td>309.400000</td>\n",
       "    </tr>\n",
       "  </tbody>\n",
       "</table>\n",
       "</div>"
      ],
      "text/plain": [
       "     Text_len                     Comment_len                  \n",
       "          min    max         mean         min   max        mean\n",
       "Year                                                           \n",
       "2008     3117   3117  3117.000000         450   450  450.000000\n",
       "2009      416  26443  4319.476821         112  1934  411.854305\n",
       "2010      436  37066  5835.772277         138  2196  428.138614\n",
       "2011      436  30504  5528.155556         165  1331  467.725926\n",
       "2012      403  54919  4392.607843           1  1981  381.588235\n",
       "2013      438  48537  5255.198020         115  1724  465.267327\n",
       "2014      412  74918  5856.758929         144   923  367.044643\n",
       "2015      420  73854  5661.600000           1   979  398.105882\n",
       "2016      471  20902  4702.574468         154  1537  446.489362\n",
       "2017      416  22419  4364.735714          81  1926  374.085714\n",
       "2018      435  28038  2800.883178          42  1637  397.154206\n",
       "2019      402  38269  4411.349693          72   966  364.104294\n",
       "2020      408  28783  3231.215247          39  1063  300.022422\n",
       "2021      401  42234  3184.093878          50   762  245.081633\n",
       "2022      408  31971  3574.628571          29  1177  309.400000"
      ]
     },
     "execution_count": 18,
     "metadata": {},
     "output_type": "execute_result"
    }
   ],
   "source": [
    "stats.groupby(['Year']).agg({'Text_len': ['min', 'max', 'mean'], \n",
    "                             'Comment_len':  ['min', 'max', 'mean']})"
   ]
  },
  {
   "cell_type": "code",
   "execution_count": 19,
   "id": "31e8c1b7",
   "metadata": {},
   "outputs": [
    {
     "data": {
      "text/plain": [
       "<AxesSubplot:xlabel='Year'>"
      ]
     },
     "execution_count": 19,
     "metadata": {},
     "output_type": "execute_result"
    },
    {
     "data": {
      "image/png": "[encoded data removed]",
      "text/plain": [
       "<Figure size 432x288 with 1 Axes>"
      ]
     },
     "metadata": {
      "needs_background": "light"
     },
     "output_type": "display_data"
    }
   ],
   "source": [
    "stats.groupby(['Year']).agg({'Text_len': 'mean', 'Comment_len': 'mean'}).plot()\n",
    "\n",
    "## Среднее количество токенов в текстах (синее) и комментах (оранжевое) по годам"
   ]
  },
  {
   "cell_type": "code",
   "execution_count": 16,
   "id": "69fe5fbf",
   "metadata": {},
   "outputs": [
    {
     "data": {
      "text/plain": [
       "<AxesSubplot:xlabel='Year'>"
      ]
     },
     "execution_count": 16,
     "metadata": {},
     "output_type": "execute_result"
    },
    {
     "data": {
      "image/png": "[encoded data removed]",
      "text/plain": [
       "<Figure size 432x288 with 1 Axes>"
      ]
     },
     "metadata": {
      "needs_background": "light"
     },
     "output_type": "display_data"
    }
   ],
   "source": [
    "stats.groupby(['Year']).agg({'Text_len': ['min', 'max', 'mean']}).plot()\n",
    "\n",
    "## Анализ законов по годам"
   ]
  },
  {
   "cell_type": "code",
   "execution_count": 17,
   "id": "a153309f",
   "metadata": {},
   "outputs": [
    {
     "data": {
      "text/plain": [
       "<AxesSubplot:xlabel='Year'>"
      ]
     },
     "execution_count": 17,
     "metadata": {},
     "output_type": "execute_result"
    },
    {
     "data": {
      "image/png": "[encoded data removed]",
      "text/plain": [
       "<Figure size 432x288 with 1 Axes>"
      ]
     },
     "metadata": {
      "needs_background": "light"
     },
     "output_type": "display_data"
    }
   ],
   "source": [
    "stats.groupby(['Year']).agg({'Comment_len':  ['min', 'max', 'mean']}).plot()\n",
    "\n",
    "## Анализ комментов по годам"
   ]
  },
  {
   "cell_type": "code",
   "execution_count": 28,
   "id": "4b1ac5bf",
   "metadata": {},
   "outputs": [
    {
     "data": {
      "image/png": "[encoded data removed]",
      "text/plain": [
       "<Figure size 432x288 with 1 Axes>"
      ]
     },
     "metadata": {
      "needs_background": "light"
     },
     "output_type": "display_data"
    }
   ],
   "source": [
    "import matplotlib.pyplot as plt \n",
    "\n",
    "\n",
    "stats.plot.scatter(x='Year',\n",
    "                   y='Text_len',\n",
    "                   ylabel='Number of tokens in the law',\n",
    "                   c='green')\n",
    "\n",
    "plt.xticks(rotation=90)\n",
    "plt.show()"
   ]
  },
  {
   "cell_type": "code",
   "execution_count": 30,
   "id": "6dc0c57b",
   "metadata": {},
   "outputs": [
    {
     "data": {
      "image/png": "[encoded data removed]",
      "text/plain": [
       "<Figure size 432x288 with 1 Axes>"
      ]
     },
     "metadata": {
      "needs_background": "light"
     },
     "output_type": "display_data"
    }
   ],
   "source": [
    "import matplotlib.pyplot as plt \n",
    "\n",
    "\n",
    "stats.plot.scatter(x='Year',\n",
    "                   y='Comment_len',\n",
    "                   ylabel='Number of tokens in the summerized article',\n",
    "                   c='red')\n",
    "\n",
    "plt.xticks(rotation=90)\n",
    "plt.show()"
   ]
  },
  {
   "cell_type": "code",
   "execution_count": 31,
   "id": "76315668",
   "metadata": {},
   "outputs": [
    {
     "data": {
      "text/plain": [
       "249.46624855623216"
      ]
     },
     "execution_count": 31,
     "metadata": {},
     "output_type": "execute_result"
    }
   ],
   "source": [
    "import statistics\n",
    "\n",
    "statistics.stdev(stats['Comment_len'])"
   ]
  },
  {
   "cell_type": "code",
   "execution_count": 38,
   "id": "624f0efe",
   "metadata": {},
   "outputs": [
    {
     "data": {
      "text/plain": [
       "0.18424030376012926"
      ]
     },
     "execution_count": 38,
     "metadata": {},
     "output_type": "execute_result"
    }
   ],
   "source": [
    "stats['Text_len'].corr(stats['Comment_len'], method='pearson')"
   ]
  },
  {
   "cell_type": "code",
   "execution_count": 42,
   "id": "61b74a40",
   "metadata": {},
   "outputs": [
    {
     "name": "stdout",
     "output_type": "stream",
     "text": [
      "For law:\n",
      "The highest quantile:  5202.5\n",
      "The lowest quantile:  1015.5\n",
      "\n",
      "For comment:\n",
      "The highest quantile:  461.0\n",
      "The lowest quantile:  202.0\n"
     ]
    }
   ],
   "source": [
    "import numpy as np\n",
    "\n",
    "print('For law:')\n",
    "print('The highest quantile: ', np.quantile(stats['Text_len'], 0.75))\n",
    "print('The lowest quantile: ', np.quantile(stats['Text_len'], 0.25))\n",
    "\n",
    "print('\\nFor comment:')\n",
    "print('The highest quantile: ', np.quantile(stats['Comment_len'], 0.75))\n",
    "print('The lowest quantile: ', np.quantile(stats['Comment_len'], 0.25))"
   ]
  },
  {
   "cell_type": "code",
   "execution_count": 49,
   "id": "c9c84c5e",
   "metadata": {},
   "outputs": [
    {
     "name": "stdout",
     "output_type": "stream",
     "text": [
      "chisquare for normdiscrete: chi2 = 16700221.195 pvalue = 0.0000\n"
     ]
    }
   ],
   "source": [
    "import scipy.stats as st\n",
    "\n",
    "ch2, pval = st.chisquare(stats['Text_len'])\n",
    "print('chisquare for normdiscrete: chi2 = %6.3f pvalue = %6.4f' % (ch2, pval))"
   ]
  },
  {
   "cell_type": "code",
   "execution_count": 48,
   "id": "2a786d5d",
   "metadata": {},
   "outputs": [
    {
     "name": "stdout",
     "output_type": "stream",
     "text": [
      "chisquare for normdiscrete: chi2 = 342618.760 pvalue = 0.0000\n"
     ]
    }
   ],
   "source": [
    "ch2, pval = st.chisquare(stats['Comment_len'])\n",
    "print('chisquare for normdiscrete: chi2 = %6.3f pvalue = %6.4f' % (ch2, pval))"
   ]
  }
 ],
 "metadata": {
  "kernelspec": {
   "display_name": "Python 3",
   "language": "python",
   "name": "python3"
  },
  "language_info": {
   "codemirror_mode": {
    "name": "ipython",
    "version": 3
   },
   "file_extension": ".py",
   "mimetype": "text/x-python",
   "name": "python",
   "nbconvert_exporter": "python",
   "pygments_lexer": "ipython3",
   "version": "3.8.8"
  }
 },
 "nbformat": 4,
 "nbformat_minor": 5
}
