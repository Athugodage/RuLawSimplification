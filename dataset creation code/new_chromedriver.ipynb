{
 "cells": [
  {
   "cell_type": "code",
   "execution_count": 9,
   "id": "21fb2bd4",
   "metadata": {},
   "outputs": [],
   "source": [
    "from selenium import webdriver\n",
    "\n",
    "from selenium.webdriver import Chrome\n",
    "from selenium.webdriver.common.keys import Keys\n",
    "from selenium.webdriver.common.by import By\n",
    "from selenium.webdriver.support.ui import WebDriverWait as Wait\n",
    "from selenium.webdriver.support import expected_conditions as EC\n",
    "\n",
    "from selenium.common.exceptions import NoSuchElementException\n",
    "from selenium.common.exceptions import ElementClickInterceptedException\n",
    "\n",
    "from selenium.webdriver.support.ui import Select\n",
    "from selenium.webdriver.common.action_chains import ActionChains\n",
    "\n",
    "from bs4 import BeautifulSoup as bs\n",
    "\n",
    "from time import sleep\n",
    "\n",
    "from webdriver_manager.chrome import ChromeDriverManager\n",
    "\n",
    "import csv\n",
    "\n",
    "import requests\n",
    "\n",
    "from lxml import html\n",
    "\n",
    "import re"
   ]
  },
  {
   "cell_type": "code",
   "execution_count": 10,
   "id": "afbd5379",
   "metadata": {},
   "outputs": [],
   "source": [
    "with open('doc_links2019.txt', 'w') as l:\n",
    "    pass"
   ]
  },
  {
   "cell_type": "code",
   "execution_count": 22,
   "id": "3c849722",
   "metadata": {},
   "outputs": [],
   "source": [
    "# НАЖИМАЕМ КНОПКУ \"ЗАГРУЗИТЬ ЕЩЕ\" \n",
    "\n",
    "def click_more(driver):\n",
    "    span = '//*[@id=\"searchResults\"]/div[2]/span'\n",
    "    element = Wait(driver, 15).until(EC.presence_of_element_located((By.XPATH, span)))\n",
    "    try:\n",
    "        element.click()\n",
    "    except:\n",
    "        pass\n",
    "    \n",
    "    \n",
    "def down_more(driver, soup):\n",
    "    articles = soup.find('div', class_='b-news-inner__list')\n",
    "    divs = articles.find_all('div', class_='b-news-inner__list-item b-news-inner__list-item_doc')\n",
    "    \n",
    "    for raz in range(20):\n",
    "        try:\n",
    "            last = divs[len(divs)-1].find('div', class_='b-news-inner__list-item-date _date').get_text()\n",
    "            if bool(re.match('01.\\d\\d.\\d\\d\\d\\d', str(last))) is True:\n",
    "                print(raz, 'Nothing to search here')\n",
    "                break\n",
    "\n",
    "            try:\n",
    "                click_more(driver)\n",
    "\n",
    "            except ElementClickInterceptedException:\n",
    "                action = ActionChains(driver)\n",
    "                action.key_down(Keys.END).perform()\n",
    "                sleep(3)\n",
    "                click_more(driver)\n",
    "\n",
    "            except:\n",
    "                print(raz, \"cannot search more\")\n",
    "                break    \n",
    "        \n",
    "        except IndexError:\n",
    "            pass"
   ]
  },
  {
   "cell_type": "code",
   "execution_count": 12,
   "id": "8a746f62",
   "metadata": {},
   "outputs": [],
   "source": [
    "# СОБИАРЕМ ССЫЛКИ (ФУНКЦИЯ)\n",
    "\n",
    "def gather_links(driver, links, soup):\n",
    "    host = 'https://rg.ru'\n",
    "    for article in soup.findAll('div', class_='b-news-inner__list-item-wrapper'):\n",
    "        link = article.find('a', href=True)\n",
    "        wholelink = host+link['href']\n",
    "        links.write(wholelink)\n",
    "        links.write('\\n')"
   ]
  },
  {
   "cell_type": "code",
   "execution_count": 13,
   "id": "032594a0",
   "metadata": {},
   "outputs": [
    {
     "name": "stderr",
     "output_type": "stream",
     "text": [
      "\n",
      "\n",
      "====== WebDriver manager ======\n",
      "Current google-chrome version is 99.0.4844\n",
      "Get LATEST chromedriver version for 99.0.4844 google-chrome\n",
      "Driver [C:\\Users\\Марк\\.wdm\\drivers\\chromedriver\\win32\\99.0.4844.51\\chromedriver.exe] found in cache\n",
      "<ipython-input-13-0d9242eb10b9>:1: DeprecationWarning: executable_path has been deprecated, please pass in a Service object\n",
      "  driver = webdriver.Chrome(ChromeDriverManager().install())\n"
     ]
    }
   ],
   "source": [
    "driver = webdriver.Chrome(ChromeDriverManager().install())\n",
    "driver.maximize_window()"
   ]
  },
  {
   "cell_type": "code",
   "execution_count": 28,
   "id": "f8f11cf3",
   "metadata": {},
   "outputs": [
    {
     "name": "stdout",
     "output_type": "stream",
     "text": [
      "00.08.2018\n",
      "00.07.2018\n",
      "00.06.2018\n",
      "00.05.2018\n",
      "00.04.2018\n",
      "00.03.2018\n",
      "00.02.2018\n",
      "00.01.2018\n"
     ]
    }
   ],
   "source": [
    "# ИЩЕМ ССЫЛКИ\n",
    "\n",
    "with open('doc_links2019.txt', 'a') as links:\n",
    "    for year in range(2018, 2017, -1):\n",
    "        for month in range(8, 0, -1):\n",
    "            \n",
    "            month = str(month).zfill(2)\n",
    "            print(f'00.{month}.{year}')\n",
    "            \n",
    "            for d in range(4):\n",
    "                if d == 0:\n",
    "                    first_day = '24'\n",
    "                    \n",
    "                    if month == '02':\n",
    "                        last_day = '28'\n",
    "                    elif month == '04' or '06' or '09' or '11':\n",
    "                        last_day = '30'\n",
    "                    else:\n",
    "                        last_day = '31'\n",
    "                        \n",
    "                elif d == 1:\n",
    "                    first_day = '16'\n",
    "                    last_day = '23'\n",
    "                    \n",
    "                elif d == 2:\n",
    "                    first_day = '8'\n",
    "                    last_day = '15'\n",
    "                \n",
    "                else:\n",
    "                    first_day = '1'\n",
    "                    last_day = '7'\n",
    "                    \n",
    "                first_day = str(first_day).zfill(2)\n",
    "                last_day = str(last_day).zfill(2)\n",
    "                \n",
    "                \n",
    "                try:\n",
    "                    driver.get(f'https://rg.ru/doc-search/?materialTypes=doc&from={first_day}.{month}.{year}&to={last_day}.{month}.{year}')\n",
    "                    soup = bs(driver.page_source, 'html.parser')\n",
    "                    nothing = soup.find('div', class_='b-news-inner__list').get_text()\n",
    "                    nichego = 'Ничего не найдено'\n",
    "                    if nichego in nothing:\n",
    "                        continue\n",
    "\n",
    "                    else:\n",
    "                        down_more(driver, soup)\n",
    "                        gather_links(driver, links, soup)\n",
    "                        \n",
    "                        \n",
    "                except WebDriverException:\n",
    "                    pass\n",
    "                "
   ]
  },
  {
   "cell_type": "code",
   "execution_count": 168,
   "id": "e1947b91",
   "metadata": {},
   "outputs": [
    {
     "name": "stdout",
     "output_type": "stream",
     "text": [
      "  Ничего не найдено\n"
     ]
    }
   ],
   "source": [
    "soup = bs(driver.page_source, 'html.parser')\n",
    "nothing = soup.find('div', class_='b-news-inner__list').get_text()\n",
    "print(nothing)"
   ]
  },
  {
   "cell_type": "code",
   "execution_count": 32,
   "id": "ebe51e50",
   "metadata": {},
   "outputs": [
    {
     "name": "stdout",
     "output_type": "stream",
     "text": [
      "0\n"
     ]
    }
   ],
   "source": [
    "\n",
    "        \n",
    "                \n",
    "        "
   ]
  }
 ],
 "metadata": {
  "kernelspec": {
   "display_name": "Python 3",
   "language": "python",
   "name": "python3"
  },
  "language_info": {
   "codemirror_mode": {
    "name": "ipython",
    "version": 3
   },
   "file_extension": ".py",
   "mimetype": "text/x-python",
   "name": "python",
   "nbconvert_exporter": "python",
   "pygments_lexer": "ipython3",
   "version": "3.8.8"
  }
 },
 "nbformat": 4,
 "nbformat_minor": 5
}
