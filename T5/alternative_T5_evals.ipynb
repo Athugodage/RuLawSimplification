{
  "cells": [
    {
      "cell_type": "markdown",
      "metadata": {
        "id": "view-in-github",
        "colab_type": "text"
      },
      "source": [
        "<a href=\"https://colab.research.google.com/github/Athugodage/RuLawSimplification/blob/main/T5/alternative_T5_evals.ipynb\" target=\"_parent\"><img src=\"https://colab.research.google.com/assets/colab-badge.svg\" alt=\"Open In Colab\"/></a>"
      ]
    },
    {
      "cell_type": "code",
      "execution_count": null,
      "metadata": {
        "colab": {
          "base_uri": "https://localhost:8080/"
        },
        "id": "DvmdtNFHuHjf",
        "outputId": "3b047630-32a3-43c0-9b41-a7989ede054a"
      },
      "outputs": [
        {
          "name": "stdout",
          "output_type": "stream",
          "text": [
            "Cloning into 'RuLawSimplification'...\n",
            "remote: Enumerating objects: 722, done.\u001b[K\n",
            "remote: Counting objects: 100% (456/456), done.\u001b[K\n",
            "remote: Compressing objects: 100% (292/292), done.\u001b[K\n",
            "remote: Total 722 (delta 219), reused 276 (delta 143), pack-reused 266\u001b[K\n",
            "Receiving objects: 100% (722/722), 243.57 MiB | 20.75 MiB/s, done.\n",
            "Resolving deltas: 100% (332/332), done.\n"
          ]
        }
      ],
      "source": [
        "!git clone https://github.com/Athugodage/RuLawSimplification.git"
      ]
    },
    {
      "cell_type": "code",
      "execution_count": null,
      "metadata": {
        "colab": {
          "base_uri": "https://localhost:8080/"
        },
        "id": "RsSPoI6xuSmk",
        "outputId": "6479642e-e1ce-4701-c5b3-a50387c68643"
      },
      "outputs": [
        {
          "name": "stdout",
          "output_type": "stream",
          "text": [
            "Archive:  /content/RuLawSimplification/corpus/the_corpus.zip\n",
            "  inflating: the_corpus.csv          \n"
          ]
        }
      ],
      "source": [
        "!unzip '/content/RuLawSimplification/corpus/the_corpus.zip'"
      ]
    },
    {
      "cell_type": "code",
      "execution_count": null,
      "metadata": {
        "id": "8nezt3WjuX9i"
      },
      "outputs": [],
      "source": [
        "\n",
        "import pandas as pd\n",
        "\n",
        "df = pd.read_csv('the_corpus.csv')"
      ]
    },
    {
      "cell_type": "code",
      "execution_count": null,
      "metadata": {
        "colab": {
          "base_uri": "https://localhost:8080/"
        },
        "id": "188lSElAumQI",
        "outputId": "38bffa5c-ce33-431d-b665-f44e20964ac8"
      },
      "outputs": [
        {
          "data": {
            "text/plain": [
              "Index(['Название документа', 'Ссылка', 'Текст', 'Комментарий РГ', 'Date'], dtype='object')"
            ]
          },
          "execution_count": 4,
          "metadata": {},
          "output_type": "execute_result"
        }
      ],
      "source": [
        "df.columns"
      ]
    },
    {
      "cell_type": "code",
      "execution_count": null,
      "metadata": {
        "id": "YZdCiN39uiUb"
      },
      "outputs": [],
      "source": [
        "df = df.drop(columns=['Название документа', 'Ссылка','Date'])"
      ]
    },
    {
      "cell_type": "code",
      "execution_count": null,
      "metadata": {
        "id": "06xHPHZUuavo"
      },
      "outputs": [],
      "source": [
        "from sklearn.model_selection import train_test_split\n",
        "\n",
        "train, test = train_test_split(df, random_state=42, test_size=0.05)"
      ]
    },
    {
      "cell_type": "code",
      "execution_count": null,
      "metadata": {
        "id": "Yi7HVzRwufFf"
      },
      "outputs": [],
      "source": [
        "train.columns = [\"text\", \"commentary\"]\n",
        "test.columns = [\"text\", \"commentary\"]"
      ]
    },
    {
      "cell_type": "code",
      "execution_count": null,
      "metadata": {
        "id": "yNAQ0aZDuhzg"
      },
      "outputs": [],
      "source": []
    },
    {
      "cell_type": "code",
      "execution_count": null,
      "metadata": {
        "colab": {
          "base_uri": "https://localhost:8080/"
        },
        "id": "2u9TxjXPrApA",
        "outputId": "cd05fdfc-9e62-4f6c-af05-8360d10bbea1"
      },
      "outputs": [
        {
          "name": "stdout",
          "output_type": "stream",
          "text": [
            "Looking in indexes: https://pypi.org/simple, https://us-python.pkg.dev/colab-wheels/public/simple/\n",
            "Collecting transformers\n",
            "  Downloading transformers-4.29.2-py3-none-any.whl (7.1 MB)\n",
            "\u001b[2K     \u001b[90m━━━━━━━━━━━━━━━━━━━━━━━━━━━━━━━━━━━━━━━━\u001b[0m \u001b[32m7.1/7.1 MB\u001b[0m \u001b[31m55.1 MB/s\u001b[0m eta \u001b[36m0:00:00\u001b[0m\n",
            "\u001b[?25hCollecting rouge_score\n",
            "  Downloading rouge_score-0.1.2.tar.gz (17 kB)\n",
            "  Preparing metadata (setup.py) ... \u001b[?25l\u001b[?25hdone\n",
            "Collecting evaluate\n",
            "  Downloading evaluate-0.4.0-py3-none-any.whl (81 kB)\n",
            "\u001b[2K     \u001b[90m━━━━━━━━━━━━━━━━━━━━━━━━━━━━━━━━━━━━━━━━\u001b[0m \u001b[32m81.4/81.4 kB\u001b[0m \u001b[31m11.3 MB/s\u001b[0m eta \u001b[36m0:00:00\u001b[0m\n",
            "\u001b[?25hCollecting Sentencepiece\n",
            "  Downloading sentencepiece-0.1.99-cp310-cp310-manylinux_2_17_x86_64.manylinux2014_x86_64.whl (1.3 MB)\n",
            "\u001b[2K     \u001b[90m━━━━━━━━━━━━━━━━━━━━━━━━━━━━━━━━━━━━━━━━\u001b[0m \u001b[32m1.3/1.3 MB\u001b[0m \u001b[31m86.0 MB/s\u001b[0m eta \u001b[36m0:00:00\u001b[0m\n",
            "\u001b[?25hRequirement already satisfied: filelock in /usr/local/lib/python3.10/dist-packages (from transformers) (3.12.0)\n",
            "Collecting huggingface-hub<1.0,>=0.14.1 (from transformers)\n",
            "  Downloading huggingface_hub-0.14.1-py3-none-any.whl (224 kB)\n",
            "\u001b[2K     \u001b[90m━━━━━━━━━━━━━━━━━━━━━━━━━━━━━━━━━━━━━━\u001b[0m \u001b[32m224.5/224.5 kB\u001b[0m \u001b[31m28.7 MB/s\u001b[0m eta \u001b[36m0:00:00\u001b[0m\n",
            "\u001b[?25hRequirement already satisfied: numpy>=1.17 in /usr/local/lib/python3.10/dist-packages (from transformers) (1.22.4)\n",
            "Requirement already satisfied: packaging>=20.0 in /usr/local/lib/python3.10/dist-packages (from transformers) (23.1)\n",
            "Requirement already satisfied: pyyaml>=5.1 in /usr/local/lib/python3.10/dist-packages (from transformers) (6.0)\n",
            "Requirement already satisfied: regex!=2019.12.17 in /usr/local/lib/python3.10/dist-packages (from transformers) (2022.10.31)\n",
            "Requirement already satisfied: requests in /usr/local/lib/python3.10/dist-packages (from transformers) (2.27.1)\n",
            "Collecting tokenizers!=0.11.3,<0.14,>=0.11.1 (from transformers)\n",
            "  Downloading tokenizers-0.13.3-cp310-cp310-manylinux_2_17_x86_64.manylinux2014_x86_64.whl (7.8 MB)\n",
            "\u001b[2K     \u001b[90m━━━━━━━━━━━━━━━━━━━━━━━━━━━━━━━━━━━━━━━━\u001b[0m \u001b[32m7.8/7.8 MB\u001b[0m \u001b[31m99.2 MB/s\u001b[0m eta \u001b[36m0:00:00\u001b[0m\n",
            "\u001b[?25hRequirement already satisfied: tqdm>=4.27 in /usr/local/lib/python3.10/dist-packages (from transformers) (4.65.0)\n",
            "Requirement already satisfied: absl-py in /usr/local/lib/python3.10/dist-packages (from rouge_score) (1.4.0)\n",
            "Requirement already satisfied: nltk in /usr/local/lib/python3.10/dist-packages (from rouge_score) (3.8.1)\n",
            "Requirement already satisfied: six>=1.14.0 in /usr/local/lib/python3.10/dist-packages (from rouge_score) (1.16.0)\n",
            "Collecting datasets>=2.0.0 (from evaluate)\n",
            "  Downloading datasets-2.12.0-py3-none-any.whl (474 kB)\n",
            "\u001b[2K     \u001b[90m━━━━━━━━━━━━━━━━━━━━━━━━━━━━━━━━━━━━━━\u001b[0m \u001b[32m474.6/474.6 kB\u001b[0m \u001b[31m49.6 MB/s\u001b[0m eta \u001b[36m0:00:00\u001b[0m\n",
            "\u001b[?25hCollecting dill (from evaluate)\n",
            "  Downloading dill-0.3.6-py3-none-any.whl (110 kB)\n",
            "\u001b[2K     \u001b[90m━━━━━━━━━━━━━━━━━━━━━━━━━━━━━━━━━━━━━━\u001b[0m \u001b[32m110.5/110.5 kB\u001b[0m \u001b[31m14.9 MB/s\u001b[0m eta \u001b[36m0:00:00\u001b[0m\n",
            "\u001b[?25hRequirement already satisfied: pandas in /usr/local/lib/python3.10/dist-packages (from evaluate) (1.5.3)\n",
            "Collecting xxhash (from evaluate)\n",
            "  Downloading xxhash-3.2.0-cp310-cp310-manylinux_2_17_x86_64.manylinux2014_x86_64.whl (212 kB)\n",
            "\u001b[2K     \u001b[90m━━━━━━━━━━━━━━━━━━━━━━━━━━━━━━━━━━━━━━\u001b[0m \u001b[32m212.5/212.5 kB\u001b[0m \u001b[31m27.7 MB/s\u001b[0m eta \u001b[36m0:00:00\u001b[0m\n",
            "\u001b[?25hCollecting multiprocess (from evaluate)\n",
            "  Downloading multiprocess-0.70.14-py310-none-any.whl (134 kB)\n",
            "\u001b[2K     \u001b[90m━━━━━━━━━━━━━━━━━━━━━━━━━━━━━━━━━━━━━━\u001b[0m \u001b[32m134.3/134.3 kB\u001b[0m \u001b[31m18.5 MB/s\u001b[0m eta \u001b[36m0:00:00\u001b[0m\n",
            "\u001b[?25hRequirement already satisfied: fsspec[http]>=2021.05.0 in /usr/local/lib/python3.10/dist-packages (from evaluate) (2023.4.0)\n",
            "Collecting responses<0.19 (from evaluate)\n",
            "  Downloading responses-0.18.0-py3-none-any.whl (38 kB)\n",
            "Requirement already satisfied: pyarrow>=8.0.0 in /usr/local/lib/python3.10/dist-packages (from datasets>=2.0.0->evaluate) (9.0.0)\n",
            "Collecting aiohttp (from datasets>=2.0.0->evaluate)\n",
            "  Downloading aiohttp-3.8.4-cp310-cp310-manylinux_2_17_x86_64.manylinux2014_x86_64.whl (1.0 MB)\n",
            "\u001b[2K     \u001b[90m━━━━━━━━━━━━━━━━━━━━━━━━━━━━━━━━━━━━━━━━\u001b[0m \u001b[32m1.0/1.0 MB\u001b[0m \u001b[31m84.0 MB/s\u001b[0m eta \u001b[36m0:00:00\u001b[0m\n",
            "\u001b[?25hRequirement already satisfied: typing-extensions>=3.7.4.3 in /usr/local/lib/python3.10/dist-packages (from huggingface-hub<1.0,>=0.14.1->transformers) (4.5.0)\n",
            "Requirement already satisfied: urllib3<1.27,>=1.21.1 in /usr/local/lib/python3.10/dist-packages (from requests->transformers) (1.26.15)\n",
            "Requirement already satisfied: certifi>=2017.4.17 in /usr/local/lib/python3.10/dist-packages (from requests->transformers) (2022.12.7)\n",
            "Requirement already satisfied: charset-normalizer~=2.0.0 in /usr/local/lib/python3.10/dist-packages (from requests->transformers) (2.0.12)\n",
            "Requirement already satisfied: idna<4,>=2.5 in /usr/local/lib/python3.10/dist-packages (from requests->transformers) (3.4)\n",
            "Requirement already satisfied: click in /usr/local/lib/python3.10/dist-packages (from nltk->rouge_score) (8.1.3)\n",
            "Requirement already satisfied: joblib in /usr/local/lib/python3.10/dist-packages (from nltk->rouge_score) (1.2.0)\n",
            "Requirement already satisfied: python-dateutil>=2.8.1 in /usr/local/lib/python3.10/dist-packages (from pandas->evaluate) (2.8.2)\n",
            "Requirement already satisfied: pytz>=2020.1 in /usr/local/lib/python3.10/dist-packages (from pandas->evaluate) (2022.7.1)\n",
            "Requirement already satisfied: attrs>=17.3.0 in /usr/local/lib/python3.10/dist-packages (from aiohttp->datasets>=2.0.0->evaluate) (23.1.0)\n",
            "Collecting multidict<7.0,>=4.5 (from aiohttp->datasets>=2.0.0->evaluate)\n",
            "  Downloading multidict-6.0.4-cp310-cp310-manylinux_2_17_x86_64.manylinux2014_x86_64.whl (114 kB)\n",
            "\u001b[2K     \u001b[90m━━━━━━━━━━━━━━━━━━━━━━━━━━━━━━━━━━━━━━\u001b[0m \u001b[32m114.5/114.5 kB\u001b[0m \u001b[31m11.5 MB/s\u001b[0m eta \u001b[36m0:00:00\u001b[0m\n",
            "\u001b[?25hCollecting async-timeout<5.0,>=4.0.0a3 (from aiohttp->datasets>=2.0.0->evaluate)\n",
            "  Downloading async_timeout-4.0.2-py3-none-any.whl (5.8 kB)\n",
            "Collecting yarl<2.0,>=1.0 (from aiohttp->datasets>=2.0.0->evaluate)\n",
            "  Downloading yarl-1.9.2-cp310-cp310-manylinux_2_17_x86_64.manylinux2014_x86_64.whl (268 kB)\n",
            "\u001b[2K     \u001b[90m━━━━━━━━━━━━━━━━━━━━━━━━━━━━━━━━━━━━━━\u001b[0m \u001b[32m268.8/268.8 kB\u001b[0m \u001b[31m34.4 MB/s\u001b[0m eta \u001b[36m0:00:00\u001b[0m\n",
            "\u001b[?25hCollecting frozenlist>=1.1.1 (from aiohttp->datasets>=2.0.0->evaluate)\n",
            "  Downloading frozenlist-1.3.3-cp310-cp310-manylinux_2_5_x86_64.manylinux1_x86_64.manylinux_2_17_x86_64.manylinux2014_x86_64.whl (149 kB)\n",
            "\u001b[2K     \u001b[90m━━━━━━━━━━━━━━━━━━━━━━━━━━━━━━━━━━━━━━\u001b[0m \u001b[32m149.6/149.6 kB\u001b[0m \u001b[31m20.1 MB/s\u001b[0m eta \u001b[36m0:00:00\u001b[0m\n",
            "\u001b[?25hCollecting aiosignal>=1.1.2 (from aiohttp->datasets>=2.0.0->evaluate)\n",
            "  Downloading aiosignal-1.3.1-py3-none-any.whl (7.6 kB)\n",
            "Building wheels for collected packages: rouge_score\n",
            "  Building wheel for rouge_score (setup.py) ... \u001b[?25l\u001b[?25hdone\n",
            "  Created wheel for rouge_score: filename=rouge_score-0.1.2-py3-none-any.whl size=24934 sha256=7ea813e71873ca1d28c330909286f664dc7c7527da6282a62d8c86b862bfcd30\n",
            "  Stored in directory: /root/.cache/pip/wheels/5f/dd/89/461065a73be61a532ff8599a28e9beef17985c9e9c31e541b4\n",
            "Successfully built rouge_score\n",
            "Installing collected packages: tokenizers, Sentencepiece, xxhash, multidict, frozenlist, dill, async-timeout, yarl, rouge_score, responses, multiprocess, huggingface-hub, aiosignal, transformers, aiohttp, datasets, evaluate\n",
            "Successfully installed Sentencepiece-0.1.99 aiohttp-3.8.4 aiosignal-1.3.1 async-timeout-4.0.2 datasets-2.12.0 dill-0.3.6 evaluate-0.4.0 frozenlist-1.3.3 huggingface-hub-0.14.1 multidict-6.0.4 multiprocess-0.70.14 responses-0.18.0 rouge_score-0.1.2 tokenizers-0.13.3 transformers-4.29.2 xxhash-3.2.0 yarl-1.9.2\n"
          ]
        }
      ],
      "source": [
        "!pip install transformers rouge_score evaluate Sentencepiece"
      ]
    },
    {
      "cell_type": "code",
      "execution_count": null,
      "metadata": {
        "colab": {
          "base_uri": "https://localhost:8080/",
          "height": 177,
          "referenced_widgets": [
            "94255b1c0ebd4b9196b05e5b14652a67",
            "129d2757e5014b7faae8d9ab9ed54225",
            "3a27e7e7f1d0454e966cfc528ab81951",
            "e42067d2ec95491196fea4766ef48455",
            "fdc90420720a471fb8c9ec11a8f57da6",
            "9de05c53707d403f824a2f4151457e24",
            "51e6676e96e84e8aa03a7ae618b02c80",
            "14f540a72dc447e3874909fa0229de7f",
            "a32e798a9ca64110a45db5a293b8b938",
            "11b58002303846f8912921c128ebc955",
            "2097f1fc60424c95ba9f7302639e1cdb",
            "6bac22b682804277af6ccb931b0d32de",
            "7d8326a373d3467baff710ca0f9badaf",
            "e638ea3213b24c9589cd0b4067348b41",
            "1e529134f20f480fbabdb94b80933218",
            "e0e379b2fbc54e1d8add73fa76fa8c72",
            "cb96bb0a92f84ddc8948271c2e88e6ab",
            "5317fbe515e245adaf583375fe87067f",
            "4198661219be4785a59ef8a9fc465b47",
            "0eae70f04cc64fca87dc4c0b807e3ae0",
            "f7f86c4be1134144b5a2f3528eb46a85",
            "cf8dc19d386142f09037e43d50a8e71d",
            "1208e80b37ea4c319812ac8900984df4",
            "8d4fda8a2a9149d0844e729df51c0edf",
            "9fbff56522b843f5af4a5586843f8926",
            "edc885a2356649019c3399a14aac0a7e",
            "f131f7bc3f854ceda5683385d2ef5498",
            "0e3c81f529be4ed3b795bc5e936f9d2d",
            "21879e86609146feaefba28dd7fc52ad",
            "d668af6771124eafa6cd43d2fc119992",
            "cd8bdac514014910af399e8240f7e6fb",
            "808cbe3cbf074e3c9b64f9a251bc2219",
            "38720cbf4276402697358bc6928879d5",
            "ac4d5d084ac74e7a908a2fdccefeeca9",
            "7a3ce875cda441509dd892f7702c9fe2",
            "439566b7019c4ca3badcb57c126d1e62",
            "875c333281794a1a9d813b522a280ee1",
            "24e07f8301c041bc84f2c0da7c69ad7e",
            "68f2686f1e504a07b44420b79a7a62af",
            "0648175bbd5b4882a342a1b2a89dc1e7",
            "aa6fa5d837064b189c238dc4c7ce304f",
            "ce12d1e4958641ab80b0132655fbb346",
            "1351fdde7b2c43adab716f4542a9badd",
            "63919d3fbbea4ee9a7b18159a7da7ed0",
            "503aeb42d1ec4e8a8c8f9ed5dace64f4",
            "f18db5c280764e349ccc05e7794f47d8",
            "fd21d483138641c8baca1f0092df9e7b",
            "9d9f25e0440d4879bd461c8f95ebb044",
            "66a654fc371c475ba589ce3799d89f09",
            "e245ee92a539459e8ca5ac2b57f7747b",
            "aef76f59b50a43b182b1be7e8e7ad27b",
            "a4c30c623a804b07b07cb35e0b2a8e35",
            "60fe799363b6449999adab3aa666ad14",
            "3fad8d1459c6442d9b319827356fa312",
            "8001b0d2d83e4b4bab3473e53184721f"
          ]
        },
        "id": "CV2TViTYqcP0",
        "outputId": "8424ba30-f379-432e-a1af-7db8b5aecfb3"
      },
      "outputs": [
        {
          "data": {
            "application/vnd.jupyter.widget-view+json": {
              "model_id": "94255b1c0ebd4b9196b05e5b14652a67",
              "version_major": 2,
              "version_minor": 0
            },
            "text/plain": [
              "Downloading pytorch_model.bin:   0%|          | 0.00/977M [00:00<?, ?B/s]"
            ]
          },
          "metadata": {},
          "output_type": "display_data"
        },
        {
          "data": {
            "application/vnd.jupyter.widget-view+json": {
              "model_id": "6bac22b682804277af6ccb931b0d32de",
              "version_major": 2,
              "version_minor": 0
            },
            "text/plain": [
              "Downloading (…)okenizer_config.json:   0%|          | 0.00/308 [00:00<?, ?B/s]"
            ]
          },
          "metadata": {},
          "output_type": "display_data"
        },
        {
          "data": {
            "application/vnd.jupyter.widget-view+json": {
              "model_id": "1208e80b37ea4c319812ac8900984df4",
              "version_major": 2,
              "version_minor": 0
            },
            "text/plain": [
              "Downloading spiece.model:   0%|          | 0.00/828k [00:00<?, ?B/s]"
            ]
          },
          "metadata": {},
          "output_type": "display_data"
        },
        {
          "data": {
            "application/vnd.jupyter.widget-view+json": {
              "model_id": "ac4d5d084ac74e7a908a2fdccefeeca9",
              "version_major": 2,
              "version_minor": 0
            },
            "text/plain": [
              "Downloading (…)/main/tokenizer.json:   0%|          | 0.00/2.27M [00:00<?, ?B/s]"
            ]
          },
          "metadata": {},
          "output_type": "display_data"
        },
        {
          "data": {
            "application/vnd.jupyter.widget-view+json": {
              "model_id": "503aeb42d1ec4e8a8c8f9ed5dace64f4",
              "version_major": 2,
              "version_minor": 0
            },
            "text/plain": [
              "Downloading (…)cial_tokens_map.json:   0%|          | 0.00/74.0 [00:00<?, ?B/s]"
            ]
          },
          "metadata": {},
          "output_type": "display_data"
        }
      ],
      "source": [
        "from transformers import pipeline\n",
        "\n",
        "checkpoint = 'marcus2000/T5-RLS500'\n",
        "summarizer = pipeline('summarization', model=checkpoint, tokenizer=checkpoint)"
      ]
    },
    {
      "cell_type": "code",
      "execution_count": null,
      "metadata": {
        "colab": {
          "base_uri": "https://localhost:8080/",
          "height": 87
        },
        "id": "5Qvq-1jqTLiU",
        "outputId": "85b87fe4-e9b1-4c0c-abaf-b1f72736d9ee"
      },
      "outputs": [
        {
          "data": {
            "application/vnd.google.colaboratory.intrinsic+json": {
              "type": "string"
            },
            "text/plain": [
              "'Внесение изменений в постановление Главгосстрахнадзора РФ от 18 марта 2020 г. No 7 «Об утверждении режима изолирования в целях предупреждения распространения СОВИД-2019» (зарегистрирован Министерством Юстиции РФ от 13 июля 2020 г. No 58912), от 27 июля 2020 г. No22 (зарегистрирован Министерством Юстиции РФ от 31 июля 2020 г. No 59135), от 09 апреля 2020 г. No12 (зарегистрирован Министерством Юстиции РФ от 14 апреля 2020 г. No 63125), от 16 апреля 2020 г. No13 (зарегистрирован Министерством Юстиции РФ от 16 апреля 2020 г. No13) и 16 апреля 2020 г. No13 (зарегистрирован Министерством Юстиции РФ от 20 апреля 2020 г. No63181).'"
            ]
          },
          "execution_count": 33,
          "metadata": {},
          "output_type": "execute_result"
        }
      ],
      "source": [
        "text = 'Внести изменения в постановление Главного государственного санитарного врача Российской Федерации от 18.03.2020 № 7 \"Об обеспечении режима изоляции в целях предотвращения распространения COVID-2019\" (зарегистрировано Министерством юстиции Российской Федерации 18.03.2020, регистрационный № 57771) с изменениями, внесенными постановлениями Главного государственного санитарного врача Российской Федерации от 07.07.2020 № 18 (зарегистрировано Министерством юстиции Российской Федерации 13.07.2020, регистрационный № 58912), от 27.07.2020 № 22 (зарегистрировано Министерством юстиции Российской Федерации 31.07.2020, регистрационный № 59135), от 18.09.2020 № 27 (зарегистрировано Министерством юстиции Российской Федерации 23.09.2020, регистрационный № 59987), от 09.04.2021 № 12 (зарегистрировано Министерством юстиции Российской Федерации 14.04.2021, регистрационный № 63125) и от 16.04.2021 № 13 (зарегистрировано Министерством юстиции Российской Федерации 20.04.2021, регистрационный № 63181), согласно приложению.'\n",
        "paraphrase(text)"
      ]
    },
    {
      "cell_type": "code",
      "execution_count": null,
      "metadata": {
        "colab": {
          "background_save": true,
          "base_uri": "https://localhost:8080/"
        },
        "id": "XDz4cF84rP0P",
        "outputId": "d674ad41-2449-4639-b6a7-bc528e418a03"
      },
      "outputs": [
        {
          "name": "stderr",
          "output_type": "stream",
          "text": [
            "\n",
            "  0%|          | 0/102 [00:00<?, ?it/s]\u001b[A\n",
            "  1%|          | 1/102 [00:34<58:52, 34.97s/it]\u001b[A\n",
            "  2%|▏         | 2/102 [01:04<52:42, 31.62s/it]\u001b[A\n",
            "  3%|▎         | 3/102 [01:33<50:20, 30.51s/it]\u001b[A\n",
            "  4%|▍         | 4/102 [02:02<48:50, 29.91s/it]\u001b[A\n",
            "  5%|▍         | 5/102 [02:40<53:22, 33.02s/it]\u001b[A\n",
            "  6%|▌         | 6/102 [03:06<48:47, 30.49s/it]\u001b[A\n",
            "  7%|▋         | 7/102 [03:26<42:51, 27.07s/it]\u001b[A\n",
            "  8%|▊         | 8/102 [03:55<43:27, 27.74s/it]\u001b[A\n",
            "  9%|▉         | 9/102 [04:48<55:08, 35.58s/it]\u001b[A\n",
            " 10%|▉         | 10/102 [05:29<57:17, 37.36s/it]\u001b[A\n",
            " 11%|█         | 11/102 [05:59<53:02, 34.97s/it]\u001b[A\n",
            " 12%|█▏        | 12/102 [06:24<47:42, 31.80s/it]\u001b[A\n",
            " 13%|█▎        | 13/102 [06:58<48:35, 32.76s/it]\u001b[A\n",
            " 14%|█▎        | 14/102 [07:21<43:31, 29.68s/it]\u001b[A\n",
            " 15%|█▍        | 15/102 [07:49<42:20, 29.20s/it]\u001b[A\n",
            " 16%|█▌        | 16/102 [08:10<38:10, 26.64s/it]\u001b[A\n",
            " 17%|█▋        | 17/102 [08:42<40:09, 28.35s/it]\u001b[A\n",
            " 18%|█▊        | 18/102 [09:17<42:14, 30.17s/it]\u001b[A\n",
            " 19%|█▊        | 19/102 [09:42<39:54, 28.85s/it]\u001b[A\n",
            " 20%|█▉        | 20/102 [10:09<38:23, 28.10s/it]\u001b[A\n",
            " 21%|██        | 21/102 [10:32<36:08, 26.77s/it]\u001b[A\n",
            " 22%|██▏       | 22/102 [10:56<34:36, 25.95s/it]\u001b[A\n",
            " 23%|██▎       | 23/102 [11:23<34:27, 26.17s/it]\u001b[A\n",
            " 24%|██▎       | 24/102 [11:56<36:43, 28.25s/it]\u001b[A\n",
            " 25%|██▍       | 25/102 [12:28<37:36, 29.31s/it]\u001b[A\n",
            " 25%|██▌       | 26/102 [12:57<36:51, 29.10s/it]\u001b[A\n",
            " 26%|██▋       | 27/102 [13:45<43:32, 34.84s/it]\u001b[A\n",
            " 27%|██▋       | 28/102 [14:21<43:20, 35.14s/it]\u001b[A\n",
            " 28%|██▊       | 29/102 [14:51<40:52, 33.59s/it]\u001b[A\n",
            " 29%|██▉       | 30/102 [15:20<38:42, 32.26s/it]\u001b[A\n",
            " 30%|███       | 31/102 [15:40<34:03, 28.79s/it]\u001b[A\n",
            " 31%|███▏      | 32/102 [16:04<31:55, 27.37s/it]\u001b[A\n",
            " 32%|███▏      | 33/102 [16:33<31:55, 27.76s/it]\u001b[A\n",
            " 33%|███▎      | 34/102 [17:02<31:57, 28.20s/it]\u001b[A\n",
            " 34%|███▍      | 35/102 [17:38<34:04, 30.51s/it]\u001b[A\n",
            " 35%|███▌      | 36/102 [18:09<33:44, 30.68s/it]\u001b[A\n",
            " 36%|███▋      | 37/102 [18:33<30:53, 28.51s/it]\u001b[A\n",
            " 37%|███▋      | 38/102 [19:03<31:05, 29.16s/it]\u001b[A\n",
            " 38%|███▊      | 39/102 [19:26<28:34, 27.21s/it]\u001b[A\n",
            " 39%|███▉      | 40/102 [19:59<29:57, 28.99s/it]\u001b[A\n",
            " 40%|████      | 41/102 [20:24<28:11, 27.73s/it]\u001b[A\n",
            " 41%|████      | 42/102 [20:48<26:44, 26.73s/it]\u001b[A\n",
            " 42%|████▏     | 43/102 [21:48<35:58, 36.58s/it]\u001b[A\n",
            " 43%|████▎     | 44/102 [22:21<34:20, 35.52s/it]\u001b[A\n",
            " 44%|████▍     | 45/102 [22:55<33:22, 35.13s/it]\u001b[A\n",
            " 45%|████▌     | 46/102 [23:16<28:51, 30.92s/it]\u001b[A\n",
            " 46%|████▌     | 47/102 [23:49<28:46, 31.39s/it]\u001b[A\n",
            " 47%|████▋     | 48/102 [24:10<25:27, 28.28s/it]\u001b[A\n",
            " 48%|████▊     | 49/102 [24:45<26:46, 30.30s/it]\u001b[A\n",
            " 49%|████▉     | 50/102 [25:11<25:17, 29.18s/it]\u001b[A\n",
            " 50%|█████     | 51/102 [25:44<25:42, 30.24s/it]\u001b[A\n",
            " 51%|█████     | 52/102 [26:13<24:49, 29.80s/it]\u001b[A\n",
            " 52%|█████▏    | 53/102 [26:41<23:58, 29.35s/it]\u001b[A\n",
            " 53%|█████▎    | 54/102 [27:13<24:05, 30.11s/it]\u001b[A\n",
            " 54%|█████▍    | 55/102 [27:45<24:02, 30.70s/it]\u001b[A\n",
            " 55%|█████▍    | 56/102 [28:20<24:33, 32.04s/it]\u001b[A\n",
            " 56%|█████▌    | 57/102 [28:52<23:54, 31.88s/it]\u001b[A\n",
            " 57%|█████▋    | 58/102 [29:25<23:39, 32.25s/it]\u001b[A\n",
            " 58%|█████▊    | 59/102 [29:45<20:24, 28.49s/it]\u001b[A\n",
            " 59%|█████▉    | 60/102 [30:20<21:21, 30.51s/it]\u001b[A\n",
            " 60%|█████▉    | 61/102 [30:43<19:22, 28.35s/it]\u001b[A\n",
            " 61%|██████    | 62/102 [31:04<17:16, 25.91s/it]\u001b[A\n",
            " 62%|██████▏   | 63/102 [31:31<17:06, 26.31s/it]\u001b[A\n",
            " 63%|██████▎   | 64/102 [31:58<16:46, 26.48s/it]\u001b[A\n",
            " 64%|██████▎   | 65/102 [32:40<19:13, 31.16s/it]\u001b[A\n",
            " 65%|██████▍   | 66/102 [33:05<17:33, 29.27s/it]\u001b[A\n",
            " 66%|██████▌   | 67/102 [33:26<15:44, 26.98s/it]\u001b[A\n",
            " 67%|██████▋   | 68/102 [33:49<14:39, 25.85s/it]\u001b[A\n",
            " 68%|██████▊   | 69/102 [34:19<14:50, 26.98s/it]\u001b[A\n",
            " 69%|██████▊   | 70/102 [34:43<13:51, 25.98s/it]\u001b[A\n",
            " 70%|██████▉   | 71/102 [35:15<14:25, 27.91s/it]\u001b[A\n",
            " 71%|███████   | 72/102 [35:47<14:37, 29.25s/it]\u001b[A\n",
            " 72%|███████▏  | 73/102 [36:14<13:48, 28.58s/it]\u001b[A\n",
            " 73%|███████▎  | 74/102 [36:55<15:03, 32.26s/it]\u001b[A\n",
            " 74%|███████▎  | 75/102 [37:41<16:17, 36.19s/it]\u001b[A\n",
            " 75%|███████▍  | 76/102 [38:40<18:44, 43.25s/it]\u001b[A\n",
            " 75%|███████▌  | 77/102 [39:09<16:13, 38.95s/it]\u001b[A\n",
            " 76%|███████▋  | 78/102 [39:39<14:24, 36.04s/it]\u001b[A\n",
            " 77%|███████▋  | 79/102 [40:06<12:46, 33.32s/it]\u001b[A\n",
            " 78%|███████▊  | 80/102 [41:08<15:22, 41.94s/it]\u001b[A\n",
            " 79%|███████▉  | 81/102 [41:33<12:58, 37.05s/it]\u001b[A\n",
            " 80%|████████  | 82/102 [42:00<11:21, 34.09s/it]\u001b[A\n",
            " 81%|████████▏ | 83/102 [42:23<09:43, 30.72s/it]\u001b[A\n",
            " 82%|████████▏ | 84/102 [42:56<09:25, 31.39s/it]\u001b[A\n",
            " 83%|████████▎ | 85/102 [43:15<07:49, 27.64s/it]\u001b[A\n",
            " 84%|████████▍ | 86/102 [43:40<07:09, 26.84s/it]\u001b[A\n",
            " 85%|████████▌ | 87/102 [44:05<06:34, 26.27s/it]\u001b[A\n",
            " 86%|████████▋ | 88/102 [44:32<06:10, 26.46s/it]\u001b[A\n",
            " 87%|████████▋ | 89/102 [45:03<06:02, 27.91s/it]\u001b[A\n",
            " 88%|████████▊ | 90/102 [45:37<05:55, 29.59s/it]\u001b[A\n",
            " 89%|████████▉ | 91/102 [46:01<05:07, 27.99s/it]\u001b[A\n",
            " 90%|█████████ | 92/102 [46:29<04:41, 28.12s/it]\u001b[A\n",
            " 91%|█████████ | 93/102 [46:55<04:06, 27.39s/it]\u001b[A\n",
            " 92%|█████████▏| 94/102 [47:19<03:31, 26.48s/it]\u001b[A\n",
            " 93%|█████████▎| 95/102 [47:37<02:47, 23.92s/it]\u001b[A\n",
            " 94%|█████████▍| 96/102 [48:05<02:30, 25.03s/it]\u001b[A\n",
            " 95%|█████████▌| 97/102 [48:33<02:09, 25.92s/it]\u001b[A\n",
            " 96%|█████████▌| 98/102 [48:57<01:41, 25.32s/it]\u001b[A\n",
            " 97%|█████████▋| 99/102 [49:24<01:17, 25.85s/it]\u001b[A\n",
            " 98%|█████████▊| 100/102 [49:53<00:53, 26.85s/it]\u001b[A\n",
            " 99%|█████████▉| 101/102 [50:16<00:25, 25.61s/it]\u001b[A\n",
            "100%|██████████| 102/102 [50:44<00:00, 29.85s/it]\n"
          ]
        }
      ],
      "source": [
        "from tqdm import tqdm\n",
        "\n",
        "\n",
        "predicted = []\n",
        "\n",
        "for text in tqdm(test['text']):\n",
        "    if len(text) > 3000:\n",
        "      text = text[:3000]\n",
        "      \n",
        "    summarized = summarizer([text])[0]\n",
        "    predicted.append(summarized['summary_text'])"
      ]
    },
    {
      "cell_type": "code",
      "execution_count": 51,
      "metadata": {
        "colab": {
          "base_uri": "https://localhost:8080/"
        },
        "id": "E2DtxHSG-Mq-",
        "outputId": "390df9fb-4edd-4bd9-a1a7-3c9aa34de6c8"
      },
      "outputs": [
        {
          "output_type": "execute_result",
          "data": {
            "text/plain": [
              "{'rouge1': 0.02845638644490739,\n",
              " 'rouge2': 0.01601157623842349,\n",
              " 'rougeL': 0.026338536492293604,\n",
              " 'rougeLsum': 0.026591688338277124}"
            ]
          },
          "metadata": {},
          "execution_count": 51
        }
      ],
      "source": [
        "import evaluate\n",
        "\n",
        "rouge = evaluate.load(\"rouge\")\n",
        "rouge.compute(references=test['text'].to_list(), predictions=[str(p) for p in predicted])"
      ]
    },
    {
      "cell_type": "code",
      "execution_count": 52,
      "metadata": {
        "colab": {
          "base_uri": "https://localhost:8080/"
        },
        "id": "gnv7QX-_-sqr",
        "outputId": "b01a0e1a-13be-4b56-8737-8e2d8d57cdc9"
      },
      "outputs": [
        {
          "output_type": "stream",
          "name": "stdout",
          "text": [
            "Looking in indexes: https://pypi.org/simple, https://us-python.pkg.dev/colab-wheels/public/simple/\n",
            "Requirement already satisfied: sacrebleu in /usr/local/lib/python3.10/dist-packages (2.3.1)\n",
            "Requirement already satisfied: sacremoses in /usr/local/lib/python3.10/dist-packages (0.0.53)\n",
            "Requirement already satisfied: portalocker in /usr/local/lib/python3.10/dist-packages (from sacrebleu) (2.7.0)\n",
            "Requirement already satisfied: regex in /usr/local/lib/python3.10/dist-packages (from sacrebleu) (2022.10.31)\n",
            "Requirement already satisfied: tabulate>=0.8.9 in /usr/local/lib/python3.10/dist-packages (from sacrebleu) (0.8.10)\n",
            "Requirement already satisfied: numpy>=1.17 in /usr/local/lib/python3.10/dist-packages (from sacrebleu) (1.22.4)\n",
            "Requirement already satisfied: colorama in /usr/local/lib/python3.10/dist-packages (from sacrebleu) (0.4.6)\n",
            "Requirement already satisfied: lxml in /usr/local/lib/python3.10/dist-packages (from sacrebleu) (4.9.2)\n",
            "Requirement already satisfied: six in /usr/local/lib/python3.10/dist-packages (from sacremoses) (1.16.0)\n",
            "Requirement already satisfied: click in /usr/local/lib/python3.10/dist-packages (from sacremoses) (8.1.3)\n",
            "Requirement already satisfied: joblib in /usr/local/lib/python3.10/dist-packages (from sacremoses) (1.2.0)\n",
            "Requirement already satisfied: tqdm in /usr/local/lib/python3.10/dist-packages (from sacremoses) (4.65.0)\n"
          ]
        }
      ],
      "source": [
        "!pip install sacrebleu sacremoses"
      ]
    },
    {
      "cell_type": "code",
      "execution_count": 53,
      "metadata": {
        "colab": {
          "base_uri": "https://localhost:8080/"
        },
        "id": "KVTWX2Fh-hiF",
        "outputId": "35cc25db-364e-49fd-f858-af367408669d"
      },
      "outputs": [
        {
          "output_type": "execute_result",
          "data": {
            "text/plain": [
              "{'sari': 35.51942786467448}"
            ]
          },
          "metadata": {},
          "execution_count": 53
        }
      ],
      "source": [
        "sari = evaluate.load(\"sari\")\n",
        "\n",
        "real = [list(orig) for orig in test['text']]\n",
        "\n",
        "\n",
        "sari.compute(sources=test['text'].to_list(),  ## original\n",
        "             references=[[ref] for ref in test['commentary'].to_list()], ## the comment from RG\n",
        "             predictions=[str(p) for p in predicted]  ## model's version\n",
        "             )"
      ]
    },
    {
      "cell_type": "code",
      "execution_count": 54,
      "metadata": {
        "colab": {
          "base_uri": "https://localhost:8080/"
        },
        "id": "YTRIcI7y-7xJ",
        "outputId": "29a4868d-18de-4222-bceb-45f6c8a53aaa"
      },
      "outputs": [
        {
          "output_type": "stream",
          "name": "stdout",
          "text": [
            "Looking in indexes: https://pypi.org/simple, https://us-python.pkg.dev/colab-wheels/public/simple/\n",
            "Requirement already satisfied: bert_score in /usr/local/lib/python3.10/dist-packages (0.3.13)\n",
            "Requirement already satisfied: torch>=1.0.0 in /usr/local/lib/python3.10/dist-packages (from bert_score) (2.0.1+cu118)\n",
            "Requirement already satisfied: pandas>=1.0.1 in /usr/local/lib/python3.10/dist-packages (from bert_score) (1.5.3)\n",
            "Requirement already satisfied: transformers>=3.0.0 in /usr/local/lib/python3.10/dist-packages (from bert_score) (4.29.2)\n",
            "Requirement already satisfied: numpy in /usr/local/lib/python3.10/dist-packages (from bert_score) (1.22.4)\n",
            "Requirement already satisfied: requests in /usr/local/lib/python3.10/dist-packages (from bert_score) (2.27.1)\n",
            "Requirement already satisfied: tqdm>=4.31.1 in /usr/local/lib/python3.10/dist-packages (from bert_score) (4.65.0)\n",
            "Requirement already satisfied: matplotlib in /usr/local/lib/python3.10/dist-packages (from bert_score) (3.7.1)\n",
            "Requirement already satisfied: packaging>=20.9 in /usr/local/lib/python3.10/dist-packages (from bert_score) (23.1)\n",
            "Requirement already satisfied: python-dateutil>=2.8.1 in /usr/local/lib/python3.10/dist-packages (from pandas>=1.0.1->bert_score) (2.8.2)\n",
            "Requirement already satisfied: pytz>=2020.1 in /usr/local/lib/python3.10/dist-packages (from pandas>=1.0.1->bert_score) (2022.7.1)\n",
            "Requirement already satisfied: filelock in /usr/local/lib/python3.10/dist-packages (from torch>=1.0.0->bert_score) (3.12.0)\n",
            "Requirement already satisfied: typing-extensions in /usr/local/lib/python3.10/dist-packages (from torch>=1.0.0->bert_score) (4.5.0)\n",
            "Requirement already satisfied: sympy in /usr/local/lib/python3.10/dist-packages (from torch>=1.0.0->bert_score) (1.11.1)\n",
            "Requirement already satisfied: networkx in /usr/local/lib/python3.10/dist-packages (from torch>=1.0.0->bert_score) (3.1)\n",
            "Requirement already satisfied: jinja2 in /usr/local/lib/python3.10/dist-packages (from torch>=1.0.0->bert_score) (3.1.2)\n",
            "Requirement already satisfied: triton==2.0.0 in /usr/local/lib/python3.10/dist-packages (from torch>=1.0.0->bert_score) (2.0.0)\n",
            "Requirement already satisfied: cmake in /usr/local/lib/python3.10/dist-packages (from triton==2.0.0->torch>=1.0.0->bert_score) (3.25.2)\n",
            "Requirement already satisfied: lit in /usr/local/lib/python3.10/dist-packages (from triton==2.0.0->torch>=1.0.0->bert_score) (16.0.5)\n",
            "Requirement already satisfied: huggingface-hub<1.0,>=0.14.1 in /usr/local/lib/python3.10/dist-packages (from transformers>=3.0.0->bert_score) (0.14.1)\n",
            "Requirement already satisfied: pyyaml>=5.1 in /usr/local/lib/python3.10/dist-packages (from transformers>=3.0.0->bert_score) (6.0)\n",
            "Requirement already satisfied: regex!=2019.12.17 in /usr/local/lib/python3.10/dist-packages (from transformers>=3.0.0->bert_score) (2022.10.31)\n",
            "Requirement already satisfied: tokenizers!=0.11.3,<0.14,>=0.11.1 in /usr/local/lib/python3.10/dist-packages (from transformers>=3.0.0->bert_score) (0.13.3)\n",
            "Requirement already satisfied: contourpy>=1.0.1 in /usr/local/lib/python3.10/dist-packages (from matplotlib->bert_score) (1.0.7)\n",
            "Requirement already satisfied: cycler>=0.10 in /usr/local/lib/python3.10/dist-packages (from matplotlib->bert_score) (0.11.0)\n",
            "Requirement already satisfied: fonttools>=4.22.0 in /usr/local/lib/python3.10/dist-packages (from matplotlib->bert_score) (4.39.3)\n",
            "Requirement already satisfied: kiwisolver>=1.0.1 in /usr/local/lib/python3.10/dist-packages (from matplotlib->bert_score) (1.4.4)\n",
            "Requirement already satisfied: pillow>=6.2.0 in /usr/local/lib/python3.10/dist-packages (from matplotlib->bert_score) (8.4.0)\n",
            "Requirement already satisfied: pyparsing>=2.3.1 in /usr/local/lib/python3.10/dist-packages (from matplotlib->bert_score) (3.0.9)\n",
            "Requirement already satisfied: urllib3<1.27,>=1.21.1 in /usr/local/lib/python3.10/dist-packages (from requests->bert_score) (1.26.15)\n",
            "Requirement already satisfied: certifi>=2017.4.17 in /usr/local/lib/python3.10/dist-packages (from requests->bert_score) (2022.12.7)\n",
            "Requirement already satisfied: charset-normalizer~=2.0.0 in /usr/local/lib/python3.10/dist-packages (from requests->bert_score) (2.0.12)\n",
            "Requirement already satisfied: idna<4,>=2.5 in /usr/local/lib/python3.10/dist-packages (from requests->bert_score) (3.4)\n",
            "Requirement already satisfied: fsspec in /usr/local/lib/python3.10/dist-packages (from huggingface-hub<1.0,>=0.14.1->transformers>=3.0.0->bert_score) (2023.4.0)\n",
            "Requirement already satisfied: six>=1.5 in /usr/local/lib/python3.10/dist-packages (from python-dateutil>=2.8.1->pandas>=1.0.1->bert_score) (1.16.0)\n",
            "Requirement already satisfied: MarkupSafe>=2.0 in /usr/local/lib/python3.10/dist-packages (from jinja2->torch>=1.0.0->bert_score) (2.1.2)\n",
            "Requirement already satisfied: mpmath>=0.19 in /usr/local/lib/python3.10/dist-packages (from sympy->torch>=1.0.0->bert_score) (1.3.0)\n"
          ]
        }
      ],
      "source": [
        "!pip install bert_score"
      ]
    },
    {
      "cell_type": "code",
      "execution_count": 55,
      "metadata": {
        "id": "oouAW4ST-1IY"
      },
      "outputs": [],
      "source": [
        "bertscore = evaluate.load(\"bertscore\")\n",
        "\n",
        "results = bertscore.compute(predictions=[str(p) for p in predicted], \n",
        "                            references=[[ref] for ref in test['commentary'].to_list()], lang='ru')\n",
        "     "
      ]
    },
    {
      "cell_type": "code",
      "execution_count": 56,
      "metadata": {
        "colab": {
          "base_uri": "https://localhost:8080/"
        },
        "id": "XGZ6RWHL_IJT",
        "outputId": "4d990f18-b3e5-4485-a2b0-9dc5bea9dc7e"
      },
      "outputs": [
        {
          "output_type": "stream",
          "name": "stdout",
          "text": [
            "Precision:  0.673158294429966 F1: 0.6332572651844398\n"
          ]
        }
      ],
      "source": [
        "from statistics import mean\n",
        "print('Precision: ', mean(results['precision']),\n",
        "                          'F1:', mean(results['f1']))"
      ]
    },
    {
      "cell_type": "code",
      "execution_count": 57,
      "metadata": {
        "colab": {
          "base_uri": "https://localhost:8080/"
        },
        "id": "LN2z63my_cEj",
        "outputId": "60673a31-0393-455a-868c-34bc86c74588"
      },
      "outputs": [
        {
          "output_type": "stream",
          "name": "stderr",
          "text": [
            "[nltk_data] Downloading package punkt to /root/nltk_data...\n",
            "[nltk_data]   Package punkt is already up-to-date!\n"
          ]
        }
      ],
      "source": [
        "import nltk\n",
        "\n",
        "nltk.download('punkt')\n",
        "## GUNNING FOG READABILITY INDEX\n",
        "\n",
        "def gunning_fog(text):\n",
        "  text = str(text)\n",
        "\n",
        "  tokens = nltk.word_tokenize(text)\n",
        "  tokens_length = len(tokens)\n",
        "  sent_length = len(nltk.sent_tokenize(text))\n",
        "  complex_tokens_len = len([tok for tok in tokens if len(tok) > 6])\n",
        "  formule = 0.4 * (tokens_length / sent_length) + 100 * (complex_tokens_len / tokens_length)\n",
        "  return formule"
      ]
    },
    {
      "cell_type": "code",
      "execution_count": 58,
      "metadata": {
        "colab": {
          "base_uri": "https://localhost:8080/"
        },
        "id": "Tp8eDKg3_iDX",
        "outputId": "34eb2223-cb2c-414f-8c77-a5daeec108f0"
      },
      "outputs": [
        {
          "output_type": "stream",
          "name": "stdout",
          "text": [
            "Original text readability: 53.29907835008921\n",
            "Summarized text readability: 62.706282784757974\n"
          ]
        }
      ],
      "source": [
        "indexes = []\n",
        "\n",
        "## original\n",
        "\n",
        "for t in test['text'].to_list():\n",
        "  indexes.append(gunning_fog(t))\n",
        "\n",
        "print('Original text readability:', mean(indexes))\n",
        "\n",
        "\n",
        "indexes = []\n",
        "\n",
        "## simplified by model\n",
        "\n",
        "for pred in predicted:\n",
        "  indexes.append(gunning_fog(pred))\n",
        "\n",
        "print('Summarized text readability:', mean(indexes))"
      ]
    },
    {
      "cell_type": "code",
      "execution_count": 59,
      "metadata": {
        "colab": {
          "base_uri": "https://localhost:8080/"
        },
        "id": "6jy37T-0E-58",
        "outputId": "eb990b73-3063-4d0a-dd4b-b9ac4de225e8"
      },
      "outputs": [
        {
          "output_type": "stream",
          "name": "stdout",
          "text": [
            "Looking in indexes: https://pypi.org/simple, https://us-python.pkg.dev/colab-wheels/public/simple/\n",
            "Requirement already satisfied: razdel in /usr/local/lib/python3.10/dist-packages (0.5.0)\n"
          ]
        }
      ],
      "source": [
        "!pip install razdel"
      ]
    },
    {
      "cell_type": "code",
      "execution_count": 60,
      "metadata": {
        "colab": {
          "base_uri": "https://localhost:8080/"
        },
        "id": "j6qABPRvAGzD",
        "outputId": "e075200f-417d-4a91-92b4-9589689180e5"
      },
      "outputs": [
        {
          "output_type": "stream",
          "name": "stdout",
          "text": [
            "FKGL\n",
            "Original text readability: 26.582805927512325\n",
            "Summarized text readability: 29.049184920070907\n"
          ]
        }
      ],
      "source": [
        "from razdel import sentenize, tokenize\n",
        "import numpy as np\n",
        "\n",
        "\n",
        "def all_syl_number(string):\n",
        "    num_vowels = 0\n",
        "\n",
        "    for char in string.lower():\n",
        "        if char in \"яыуаеиоюэ\":\n",
        "            num_vowels = num_vowels+1\n",
        "       \n",
        "    return num_vowels\n",
        "\n",
        "def total_words(string):\n",
        "    return len(list(tokenize(string)))\n",
        "\n",
        "def total_sents(string):\n",
        "    return len(list(sentenize(string)))\n",
        "    \n",
        "def fkgl(string):\n",
        "    n_of_sents = total_sents(string)\n",
        "    n_of_words = total_words(string)\n",
        "    n_of_syls = all_syl_number(string)\n",
        "    fkgl = (0.39 * (n_of_words/n_of_sents) + 11.8 * (n_of_syls/n_of_words)) - 15.39\n",
        "    return float(fkgl)\n",
        "\n",
        "# FKGL\n",
        "print('FKGL')\n",
        "\n",
        "indexes = []\n",
        "\n",
        "## original\n",
        "\n",
        "for t in test['text'].to_list():\n",
        "  indexes.append(fkgl(t))\n",
        "\n",
        "print('Original text readability:', np.mean(indexes))\n",
        "\n",
        "indexes = []\n",
        "\n",
        "## simplified by model\n",
        "\n",
        "for pred in predicted:\n",
        "  indexes.append(fkgl(pred))\n",
        "\n",
        "print('Summarized text readability:', np.mean(indexes))"
      ]
    },
    {
      "cell_type": "code",
      "execution_count": 61,
      "metadata": {
        "id": "NTbrcxSPHmKl"
      },
      "outputs": [],
      "source": [
        "import pandas as pd\n",
        "\n",
        "df = pd.DataFrame({'Текст': test['text'],\n",
        "                   'Комментарий РГ': predicted})"
      ]
    },
    {
      "cell_type": "code",
      "execution_count": 46,
      "metadata": {
        "id": "Vtmod5DvIpg-",
        "colab": {
          "base_uri": "https://localhost:8080/"
        },
        "outputId": "afb10cb2-1db4-406a-a751-5564ce018421"
      },
      "outputs": [
        {
          "metadata": {
            "tags": null
          },
          "name": "stdout",
          "output_type": "stream",
          "text": [
            "Archive:  /content/russian.zip\n",
            "replace russian? [y]es, [n]o, [A]ll, [N]one, [r]ename: "
          ]
        }
      ],
      "source": [
        "!unzip '/content/russian.zip'"
      ]
    },
    {
      "cell_type": "code",
      "execution_count": 47,
      "metadata": {
        "id": "jqbgdE5dGwNN"
      },
      "outputs": [],
      "source": [
        "\n",
        "from sklearn.decomposition import LatentDirichletAllocation\n",
        "from sklearn.feature_extraction.text import CountVectorizer\n",
        "import gensim\n",
        "\n",
        "\n",
        "\n",
        "def topicmodelling(target, df):\n",
        "    NUM_TOPICS = 10\n",
        "    N_FIRST = 10 # сколько первых слов на тему выводить\n",
        "    MIN_DF = 3 # минимальное число вхождений слова в документ, чтобы мы его учитывали (включали в вектор документа)\n",
        "    MAX_DF = 0.99 # в каком проценте документов должно присутствовать слово, чтобы оно не рассматривалось\n",
        "\n",
        "    df[target] = df[target].astype(str)\n",
        "    stop_words = open(\"russian\", 'r', encoding='utf-8').read()\n",
        "\n",
        "    count_vectorizer = CountVectorizer(min_df=MIN_DF, max_df=MAX_DF, stop_words = [w for w in stop_words.split('\\n')])\n",
        "    data_count_vectorized = count_vectorizer.fit_transform(df['Текст'])\n",
        "\n",
        "    lda_model = LatentDirichletAllocation(n_components=NUM_TOPICS, max_iter=10, learning_method='batch', batch_size=512, random_state = 2)\n",
        "    lda_model.fit_transform(data_count_vectorized);\n",
        "\n",
        "    temi_slova = []\n",
        "    all_ = []\n",
        "\n",
        "    for idx, topic in enumerate(lda_model.components_):\n",
        "        all_.append([(count_vectorizer.get_feature_names_out()[i], topic[i])\n",
        "                        for i in topic.argsort()[:-N_FIRST - 1:-1]])\n",
        "\n",
        "\n",
        "    for i,topic in enumerate(all_):\n",
        "        for para in topic:\n",
        "            temi_slova.append(para[0])\n",
        "\n",
        "    dic = {}\n",
        "\n",
        "    for theme_id, topic in enumerate(all_):\n",
        "        dic[theme_id] = []\n",
        "        for para in topic:\n",
        "            dic[theme_id].append(para[0])\n",
        "\n",
        "\n",
        "    topics_10_words = []\n",
        "\n",
        "    for topic_id in dic:\n",
        "        topic = ' '.join(dic[topic_id][:10])\n",
        "        topics_10_words.append(topic)\n",
        "\n",
        "    with open(f'{target}_10.txt', 'w') as w:\n",
        "        for t in topics_10_words:\n",
        "            w.write(str(t))\n",
        "            w.write('\\n')"
      ]
    },
    {
      "cell_type": "code",
      "execution_count": 48,
      "metadata": {
        "id": "pxpL_53eHgei"
      },
      "outputs": [],
      "source": [
        "topicmodelling('Текст', df)\n",
        "topicmodelling('Комментарий РГ', df)"
      ]
    },
    {
      "cell_type": "code",
      "execution_count": 49,
      "metadata": {
        "id": "PYODBcgwJI7z"
      },
      "outputs": [],
      "source": [
        "with open('/content/Текст_10.txt', 'r') as f1:\n",
        "    with open('/content/Комментарий РГ_10.txt', 'r') as f2: \n",
        "        first_orig = set([word for metka in f1.read().split('\\n') for word in metka.split(' ')])\n",
        "        first_comm = set([word for metka in f2.read().split('\\n') for word in metka.split(' ')])"
      ]
    },
    {
      "cell_type": "code",
      "execution_count": 50,
      "metadata": {
        "id": "7a2j4pUEJLW_",
        "colab": {
          "base_uri": "https://localhost:8080/"
        },
        "outputId": "5eda5e83-0ab4-41f0-fafe-c0127d117caf"
      },
      "outputs": [
        {
          "output_type": "stream",
          "name": "stdout",
          "text": [
            "82 / 82\n",
            "100.0 %\n"
          ]
        }
      ],
      "source": [
        "n = 0\n",
        "total = len(first_comm)\n",
        "first_comm = set(first_comm)\n",
        "first_orig = set(first_orig)\n",
        "\n",
        "\n",
        "for label in first_comm:\n",
        "    if label in first_orig:\n",
        "        n += 1\n",
        "        \n",
        "print(n, '/', total)\n",
        "print(n * 100 / total, '%')"
      ]
    }
  ],
  "metadata": {
    "accelerator": "GPU",
    "colab": {
      "provenance": [],
      "authorship_tag": "ABX9TyPvYO1hsIdTQKdyFxtDnLWJ",
      "include_colab_link": true
    },
    "kernelspec": {
      "display_name": "Python 3",
      "name": "python3"
    },
    "language_info": {
      "name": "python"
    },
    "widgets": {
      "application/vnd.jupyter.widget-state+json": {
        "0648175bbd5b4882a342a1b2a89dc1e7": {
          "model_module": "@jupyter-widgets/controls",
          "model_module_version": "1.5.0",
          "model_name": "DescriptionStyleModel",
          "state": {
            "_model_module": "@jupyter-widgets/controls",
            "_model_module_version": "1.5.0",
            "_model_name": "DescriptionStyleModel",
            "_view_count": null,
            "_view_module": "@jupyter-widgets/base",
            "_view_module_version": "1.2.0",
            "_view_name": "StyleView",
            "description_width": ""
          }
        },
        "0e3c81f529be4ed3b795bc5e936f9d2d": {
          "model_module": "@jupyter-widgets/base",
          "model_module_version": "1.2.0",
          "model_name": "LayoutModel",
          "state": {
            "_model_module": "@jupyter-widgets/base",
            "_model_module_version": "1.2.0",
            "_model_name": "LayoutModel",
            "_view_count": null,
            "_view_module": "@jupyter-widgets/base",
            "_view_module_version": "1.2.0",
            "_view_name": "LayoutView",
            "align_content": null,
            "align_items": null,
            "align_self": null,
            "border": null,
            "bottom": null,
            "display": null,
            "flex": null,
            "flex_flow": null,
            "grid_area": null,
            "grid_auto_columns": null,
            "grid_auto_flow": null,
            "grid_auto_rows": null,
            "grid_column": null,
            "grid_gap": null,
            "grid_row": null,
            "grid_template_areas": null,
            "grid_template_columns": null,
            "grid_template_rows": null,
            "height": null,
            "justify_content": null,
            "justify_items": null,
            "left": null,
            "margin": null,
            "max_height": null,
            "max_width": null,
            "min_height": null,
            "min_width": null,
            "object_fit": null,
            "object_position": null,
            "order": null,
            "overflow": null,
            "overflow_x": null,
            "overflow_y": null,
            "padding": null,
            "right": null,
            "top": null,
            "visibility": null,
            "width": null
          }
        },
        "0eae70f04cc64fca87dc4c0b807e3ae0": {
          "model_module": "@jupyter-widgets/controls",
          "model_module_version": "1.5.0",
          "model_name": "ProgressStyleModel",
          "state": {
            "_model_module": "@jupyter-widgets/controls",
            "_model_module_version": "1.5.0",
            "_model_name": "ProgressStyleModel",
            "_view_count": null,
            "_view_module": "@jupyter-widgets/base",
            "_view_module_version": "1.2.0",
            "_view_name": "StyleView",
            "bar_color": null,
            "description_width": ""
          }
        },
        "11b58002303846f8912921c128ebc955": {
          "model_module": "@jupyter-widgets/base",
          "model_module_version": "1.2.0",
          "model_name": "LayoutModel",
          "state": {
            "_model_module": "@jupyter-widgets/base",
            "_model_module_version": "1.2.0",
            "_model_name": "LayoutModel",
            "_view_count": null,
            "_view_module": "@jupyter-widgets/base",
            "_view_module_version": "1.2.0",
            "_view_name": "LayoutView",
            "align_content": null,
            "align_items": null,
            "align_self": null,
            "border": null,
            "bottom": null,
            "display": null,
            "flex": null,
            "flex_flow": null,
            "grid_area": null,
            "grid_auto_columns": null,
            "grid_auto_flow": null,
            "grid_auto_rows": null,
            "grid_column": null,
            "grid_gap": null,
            "grid_row": null,
            "grid_template_areas": null,
            "grid_template_columns": null,
            "grid_template_rows": null,
            "height": null,
            "justify_content": null,
            "justify_items": null,
            "left": null,
            "margin": null,
            "max_height": null,
            "max_width": null,
            "min_height": null,
            "min_width": null,
            "object_fit": null,
            "object_position": null,
            "order": null,
            "overflow": null,
            "overflow_x": null,
            "overflow_y": null,
            "padding": null,
            "right": null,
            "top": null,
            "visibility": null,
            "width": null
          }
        },
        "1208e80b37ea4c319812ac8900984df4": {
          "model_module": "@jupyter-widgets/controls",
          "model_module_version": "1.5.0",
          "model_name": "HBoxModel",
          "state": {
            "_dom_classes": [],
            "_model_module": "@jupyter-widgets/controls",
            "_model_module_version": "1.5.0",
            "_model_name": "HBoxModel",
            "_view_count": null,
            "_view_module": "@jupyter-widgets/controls",
            "_view_module_version": "1.5.0",
            "_view_name": "HBoxView",
            "box_style": "",
            "children": [
              "IPY_MODEL_8d4fda8a2a9149d0844e729df51c0edf",
              "IPY_MODEL_9fbff56522b843f5af4a5586843f8926",
              "IPY_MODEL_edc885a2356649019c3399a14aac0a7e"
            ],
            "layout": "IPY_MODEL_f131f7bc3f854ceda5683385d2ef5498"
          }
        },
        "129d2757e5014b7faae8d9ab9ed54225": {
          "model_module": "@jupyter-widgets/controls",
          "model_module_version": "1.5.0",
          "model_name": "HTMLModel",
          "state": {
            "_dom_classes": [],
            "_model_module": "@jupyter-widgets/controls",
            "_model_module_version": "1.5.0",
            "_model_name": "HTMLModel",
            "_view_count": null,
            "_view_module": "@jupyter-widgets/controls",
            "_view_module_version": "1.5.0",
            "_view_name": "HTMLView",
            "description": "",
            "description_tooltip": null,
            "layout": "IPY_MODEL_9de05c53707d403f824a2f4151457e24",
            "placeholder": "​",
            "style": "IPY_MODEL_51e6676e96e84e8aa03a7ae618b02c80",
            "value": "Downloading pytorch_model.bin: 100%"
          }
        },
        "1351fdde7b2c43adab716f4542a9badd": {
          "model_module": "@jupyter-widgets/base",
          "model_module_version": "1.2.0",
          "model_name": "LayoutModel",
          "state": {
            "_model_module": "@jupyter-widgets/base",
            "_model_module_version": "1.2.0",
            "_model_name": "LayoutModel",
            "_view_count": null,
            "_view_module": "@jupyter-widgets/base",
            "_view_module_version": "1.2.0",
            "_view_name": "LayoutView",
            "align_content": null,
            "align_items": null,
            "align_self": null,
            "border": null,
            "bottom": null,
            "display": null,
            "flex": null,
            "flex_flow": null,
            "grid_area": null,
            "grid_auto_columns": null,
            "grid_auto_flow": null,
            "grid_auto_rows": null,
            "grid_column": null,
            "grid_gap": null,
            "grid_row": null,
            "grid_template_areas": null,
            "grid_template_columns": null,
            "grid_template_rows": null,
            "height": null,
            "justify_content": null,
            "justify_items": null,
            "left": null,
            "margin": null,
            "max_height": null,
            "max_width": null,
            "min_height": null,
            "min_width": null,
            "object_fit": null,
            "object_position": null,
            "order": null,
            "overflow": null,
            "overflow_x": null,
            "overflow_y": null,
            "padding": null,
            "right": null,
            "top": null,
            "visibility": null,
            "width": null
          }
        },
        "14f540a72dc447e3874909fa0229de7f": {
          "model_module": "@jupyter-widgets/base",
          "model_module_version": "1.2.0",
          "model_name": "LayoutModel",
          "state": {
            "_model_module": "@jupyter-widgets/base",
            "_model_module_version": "1.2.0",
            "_model_name": "LayoutModel",
            "_view_count": null,
            "_view_module": "@jupyter-widgets/base",
            "_view_module_version": "1.2.0",
            "_view_name": "LayoutView",
            "align_content": null,
            "align_items": null,
            "align_self": null,
            "border": null,
            "bottom": null,
            "display": null,
            "flex": null,
            "flex_flow": null,
            "grid_area": null,
            "grid_auto_columns": null,
            "grid_auto_flow": null,
            "grid_auto_rows": null,
            "grid_column": null,
            "grid_gap": null,
            "grid_row": null,
            "grid_template_areas": null,
            "grid_template_columns": null,
            "grid_template_rows": null,
            "height": null,
            "justify_content": null,
            "justify_items": null,
            "left": null,
            "margin": null,
            "max_height": null,
            "max_width": null,
            "min_height": null,
            "min_width": null,
            "object_fit": null,
            "object_position": null,
            "order": null,
            "overflow": null,
            "overflow_x": null,
            "overflow_y": null,
            "padding": null,
            "right": null,
            "top": null,
            "visibility": null,
            "width": null
          }
        },
        "1e529134f20f480fbabdb94b80933218": {
          "model_module": "@jupyter-widgets/controls",
          "model_module_version": "1.5.0",
          "model_name": "HTMLModel",
          "state": {
            "_dom_classes": [],
            "_model_module": "@jupyter-widgets/controls",
            "_model_module_version": "1.5.0",
            "_model_name": "HTMLModel",
            "_view_count": null,
            "_view_module": "@jupyter-widgets/controls",
            "_view_module_version": "1.5.0",
            "_view_name": "HTMLView",
            "description": "",
            "description_tooltip": null,
            "layout": "IPY_MODEL_f7f86c4be1134144b5a2f3528eb46a85",
            "placeholder": "​",
            "style": "IPY_MODEL_cf8dc19d386142f09037e43d50a8e71d",
            "value": " 308/308 [00:00&lt;00:00, 16.3kB/s]"
          }
        },
        "2097f1fc60424c95ba9f7302639e1cdb": {
          "model_module": "@jupyter-widgets/controls",
          "model_module_version": "1.5.0",
          "model_name": "DescriptionStyleModel",
          "state": {
            "_model_module": "@jupyter-widgets/controls",
            "_model_module_version": "1.5.0",
            "_model_name": "DescriptionStyleModel",
            "_view_count": null,
            "_view_module": "@jupyter-widgets/base",
            "_view_module_version": "1.2.0",
            "_view_name": "StyleView",
            "description_width": ""
          }
        },
        "21879e86609146feaefba28dd7fc52ad": {
          "model_module": "@jupyter-widgets/controls",
          "model_module_version": "1.5.0",
          "model_name": "DescriptionStyleModel",
          "state": {
            "_model_module": "@jupyter-widgets/controls",
            "_model_module_version": "1.5.0",
            "_model_name": "DescriptionStyleModel",
            "_view_count": null,
            "_view_module": "@jupyter-widgets/base",
            "_view_module_version": "1.2.0",
            "_view_name": "StyleView",
            "description_width": ""
          }
        },
        "24e07f8301c041bc84f2c0da7c69ad7e": {
          "model_module": "@jupyter-widgets/base",
          "model_module_version": "1.2.0",
          "model_name": "LayoutModel",
          "state": {
            "_model_module": "@jupyter-widgets/base",
            "_model_module_version": "1.2.0",
            "_model_name": "LayoutModel",
            "_view_count": null,
            "_view_module": "@jupyter-widgets/base",
            "_view_module_version": "1.2.0",
            "_view_name": "LayoutView",
            "align_content": null,
            "align_items": null,
            "align_self": null,
            "border": null,
            "bottom": null,
            "display": null,
            "flex": null,
            "flex_flow": null,
            "grid_area": null,
            "grid_auto_columns": null,
            "grid_auto_flow": null,
            "grid_auto_rows": null,
            "grid_column": null,
            "grid_gap": null,
            "grid_row": null,
            "grid_template_areas": null,
            "grid_template_columns": null,
            "grid_template_rows": null,
            "height": null,
            "justify_content": null,
            "justify_items": null,
            "left": null,
            "margin": null,
            "max_height": null,
            "max_width": null,
            "min_height": null,
            "min_width": null,
            "object_fit": null,
            "object_position": null,
            "order": null,
            "overflow": null,
            "overflow_x": null,
            "overflow_y": null,
            "padding": null,
            "right": null,
            "top": null,
            "visibility": null,
            "width": null
          }
        },
        "38720cbf4276402697358bc6928879d5": {
          "model_module": "@jupyter-widgets/controls",
          "model_module_version": "1.5.0",
          "model_name": "DescriptionStyleModel",
          "state": {
            "_model_module": "@jupyter-widgets/controls",
            "_model_module_version": "1.5.0",
            "_model_name": "DescriptionStyleModel",
            "_view_count": null,
            "_view_module": "@jupyter-widgets/base",
            "_view_module_version": "1.2.0",
            "_view_name": "StyleView",
            "description_width": ""
          }
        },
        "3a27e7e7f1d0454e966cfc528ab81951": {
          "model_module": "@jupyter-widgets/controls",
          "model_module_version": "1.5.0",
          "model_name": "FloatProgressModel",
          "state": {
            "_dom_classes": [],
            "_model_module": "@jupyter-widgets/controls",
            "_model_module_version": "1.5.0",
            "_model_name": "FloatProgressModel",
            "_view_count": null,
            "_view_module": "@jupyter-widgets/controls",
            "_view_module_version": "1.5.0",
            "_view_name": "ProgressView",
            "bar_style": "success",
            "description": "",
            "description_tooltip": null,
            "layout": "IPY_MODEL_14f540a72dc447e3874909fa0229de7f",
            "max": 977332173,
            "min": 0,
            "orientation": "horizontal",
            "style": "IPY_MODEL_a32e798a9ca64110a45db5a293b8b938",
            "value": 977332173
          }
        },
        "3fad8d1459c6442d9b319827356fa312": {
          "model_module": "@jupyter-widgets/base",
          "model_module_version": "1.2.0",
          "model_name": "LayoutModel",
          "state": {
            "_model_module": "@jupyter-widgets/base",
            "_model_module_version": "1.2.0",
            "_model_name": "LayoutModel",
            "_view_count": null,
            "_view_module": "@jupyter-widgets/base",
            "_view_module_version": "1.2.0",
            "_view_name": "LayoutView",
            "align_content": null,
            "align_items": null,
            "align_self": null,
            "border": null,
            "bottom": null,
            "display": null,
            "flex": null,
            "flex_flow": null,
            "grid_area": null,
            "grid_auto_columns": null,
            "grid_auto_flow": null,
            "grid_auto_rows": null,
            "grid_column": null,
            "grid_gap": null,
            "grid_row": null,
            "grid_template_areas": null,
            "grid_template_columns": null,
            "grid_template_rows": null,
            "height": null,
            "justify_content": null,
            "justify_items": null,
            "left": null,
            "margin": null,
            "max_height": null,
            "max_width": null,
            "min_height": null,
            "min_width": null,
            "object_fit": null,
            "object_position": null,
            "order": null,
            "overflow": null,
            "overflow_x": null,
            "overflow_y": null,
            "padding": null,
            "right": null,
            "top": null,
            "visibility": null,
            "width": null
          }
        },
        "4198661219be4785a59ef8a9fc465b47": {
          "model_module": "@jupyter-widgets/base",
          "model_module_version": "1.2.0",
          "model_name": "LayoutModel",
          "state": {
            "_model_module": "@jupyter-widgets/base",
            "_model_module_version": "1.2.0",
            "_model_name": "LayoutModel",
            "_view_count": null,
            "_view_module": "@jupyter-widgets/base",
            "_view_module_version": "1.2.0",
            "_view_name": "LayoutView",
            "align_content": null,
            "align_items": null,
            "align_self": null,
            "border": null,
            "bottom": null,
            "display": null,
            "flex": null,
            "flex_flow": null,
            "grid_area": null,
            "grid_auto_columns": null,
            "grid_auto_flow": null,
            "grid_auto_rows": null,
            "grid_column": null,
            "grid_gap": null,
            "grid_row": null,
            "grid_template_areas": null,
            "grid_template_columns": null,
            "grid_template_rows": null,
            "height": null,
            "justify_content": null,
            "justify_items": null,
            "left": null,
            "margin": null,
            "max_height": null,
            "max_width": null,
            "min_height": null,
            "min_width": null,
            "object_fit": null,
            "object_position": null,
            "order": null,
            "overflow": null,
            "overflow_x": null,
            "overflow_y": null,
            "padding": null,
            "right": null,
            "top": null,
            "visibility": null,
            "width": null
          }
        },
        "439566b7019c4ca3badcb57c126d1e62": {
          "model_module": "@jupyter-widgets/controls",
          "model_module_version": "1.5.0",
          "model_name": "FloatProgressModel",
          "state": {
            "_dom_classes": [],
            "_model_module": "@jupyter-widgets/controls",
            "_model_module_version": "1.5.0",
            "_model_name": "FloatProgressModel",
            "_view_count": null,
            "_view_module": "@jupyter-widgets/controls",
            "_view_module_version": "1.5.0",
            "_view_name": "ProgressView",
            "bar_style": "success",
            "description": "",
            "description_tooltip": null,
            "layout": "IPY_MODEL_aa6fa5d837064b189c238dc4c7ce304f",
            "max": 2269139,
            "min": 0,
            "orientation": "horizontal",
            "style": "IPY_MODEL_ce12d1e4958641ab80b0132655fbb346",
            "value": 2269139
          }
        },
        "503aeb42d1ec4e8a8c8f9ed5dace64f4": {
          "model_module": "@jupyter-widgets/controls",
          "model_module_version": "1.5.0",
          "model_name": "HBoxModel",
          "state": {
            "_dom_classes": [],
            "_model_module": "@jupyter-widgets/controls",
            "_model_module_version": "1.5.0",
            "_model_name": "HBoxModel",
            "_view_count": null,
            "_view_module": "@jupyter-widgets/controls",
            "_view_module_version": "1.5.0",
            "_view_name": "HBoxView",
            "box_style": "",
            "children": [
              "IPY_MODEL_f18db5c280764e349ccc05e7794f47d8",
              "IPY_MODEL_fd21d483138641c8baca1f0092df9e7b",
              "IPY_MODEL_9d9f25e0440d4879bd461c8f95ebb044"
            ],
            "layout": "IPY_MODEL_66a654fc371c475ba589ce3799d89f09"
          }
        },
        "51e6676e96e84e8aa03a7ae618b02c80": {
          "model_module": "@jupyter-widgets/controls",
          "model_module_version": "1.5.0",
          "model_name": "DescriptionStyleModel",
          "state": {
            "_model_module": "@jupyter-widgets/controls",
            "_model_module_version": "1.5.0",
            "_model_name": "DescriptionStyleModel",
            "_view_count": null,
            "_view_module": "@jupyter-widgets/base",
            "_view_module_version": "1.2.0",
            "_view_name": "StyleView",
            "description_width": ""
          }
        },
        "5317fbe515e245adaf583375fe87067f": {
          "model_module": "@jupyter-widgets/controls",
          "model_module_version": "1.5.0",
          "model_name": "DescriptionStyleModel",
          "state": {
            "_model_module": "@jupyter-widgets/controls",
            "_model_module_version": "1.5.0",
            "_model_name": "DescriptionStyleModel",
            "_view_count": null,
            "_view_module": "@jupyter-widgets/base",
            "_view_module_version": "1.2.0",
            "_view_name": "StyleView",
            "description_width": ""
          }
        },
        "60fe799363b6449999adab3aa666ad14": {
          "model_module": "@jupyter-widgets/controls",
          "model_module_version": "1.5.0",
          "model_name": "ProgressStyleModel",
          "state": {
            "_model_module": "@jupyter-widgets/controls",
            "_model_module_version": "1.5.0",
            "_model_name": "ProgressStyleModel",
            "_view_count": null,
            "_view_module": "@jupyter-widgets/base",
            "_view_module_version": "1.2.0",
            "_view_name": "StyleView",
            "bar_color": null,
            "description_width": ""
          }
        },
        "63919d3fbbea4ee9a7b18159a7da7ed0": {
          "model_module": "@jupyter-widgets/controls",
          "model_module_version": "1.5.0",
          "model_name": "DescriptionStyleModel",
          "state": {
            "_model_module": "@jupyter-widgets/controls",
            "_model_module_version": "1.5.0",
            "_model_name": "DescriptionStyleModel",
            "_view_count": null,
            "_view_module": "@jupyter-widgets/base",
            "_view_module_version": "1.2.0",
            "_view_name": "StyleView",
            "description_width": ""
          }
        },
        "66a654fc371c475ba589ce3799d89f09": {
          "model_module": "@jupyter-widgets/base",
          "model_module_version": "1.2.0",
          "model_name": "LayoutModel",
          "state": {
            "_model_module": "@jupyter-widgets/base",
            "_model_module_version": "1.2.0",
            "_model_name": "LayoutModel",
            "_view_count": null,
            "_view_module": "@jupyter-widgets/base",
            "_view_module_version": "1.2.0",
            "_view_name": "LayoutView",
            "align_content": null,
            "align_items": null,
            "align_self": null,
            "border": null,
            "bottom": null,
            "display": null,
            "flex": null,
            "flex_flow": null,
            "grid_area": null,
            "grid_auto_columns": null,
            "grid_auto_flow": null,
            "grid_auto_rows": null,
            "grid_column": null,
            "grid_gap": null,
            "grid_row": null,
            "grid_template_areas": null,
            "grid_template_columns": null,
            "grid_template_rows": null,
            "height": null,
            "justify_content": null,
            "justify_items": null,
            "left": null,
            "margin": null,
            "max_height": null,
            "max_width": null,
            "min_height": null,
            "min_width": null,
            "object_fit": null,
            "object_position": null,
            "order": null,
            "overflow": null,
            "overflow_x": null,
            "overflow_y": null,
            "padding": null,
            "right": null,
            "top": null,
            "visibility": null,
            "width": null
          }
        },
        "68f2686f1e504a07b44420b79a7a62af": {
          "model_module": "@jupyter-widgets/base",
          "model_module_version": "1.2.0",
          "model_name": "LayoutModel",
          "state": {
            "_model_module": "@jupyter-widgets/base",
            "_model_module_version": "1.2.0",
            "_model_name": "LayoutModel",
            "_view_count": null,
            "_view_module": "@jupyter-widgets/base",
            "_view_module_version": "1.2.0",
            "_view_name": "LayoutView",
            "align_content": null,
            "align_items": null,
            "align_self": null,
            "border": null,
            "bottom": null,
            "display": null,
            "flex": null,
            "flex_flow": null,
            "grid_area": null,
            "grid_auto_columns": null,
            "grid_auto_flow": null,
            "grid_auto_rows": null,
            "grid_column": null,
            "grid_gap": null,
            "grid_row": null,
            "grid_template_areas": null,
            "grid_template_columns": null,
            "grid_template_rows": null,
            "height": null,
            "justify_content": null,
            "justify_items": null,
            "left": null,
            "margin": null,
            "max_height": null,
            "max_width": null,
            "min_height": null,
            "min_width": null,
            "object_fit": null,
            "object_position": null,
            "order": null,
            "overflow": null,
            "overflow_x": null,
            "overflow_y": null,
            "padding": null,
            "right": null,
            "top": null,
            "visibility": null,
            "width": null
          }
        },
        "6bac22b682804277af6ccb931b0d32de": {
          "model_module": "@jupyter-widgets/controls",
          "model_module_version": "1.5.0",
          "model_name": "HBoxModel",
          "state": {
            "_dom_classes": [],
            "_model_module": "@jupyter-widgets/controls",
            "_model_module_version": "1.5.0",
            "_model_name": "HBoxModel",
            "_view_count": null,
            "_view_module": "@jupyter-widgets/controls",
            "_view_module_version": "1.5.0",
            "_view_name": "HBoxView",
            "box_style": "",
            "children": [
              "IPY_MODEL_7d8326a373d3467baff710ca0f9badaf",
              "IPY_MODEL_e638ea3213b24c9589cd0b4067348b41",
              "IPY_MODEL_1e529134f20f480fbabdb94b80933218"
            ],
            "layout": "IPY_MODEL_e0e379b2fbc54e1d8add73fa76fa8c72"
          }
        },
        "7a3ce875cda441509dd892f7702c9fe2": {
          "model_module": "@jupyter-widgets/controls",
          "model_module_version": "1.5.0",
          "model_name": "HTMLModel",
          "state": {
            "_dom_classes": [],
            "_model_module": "@jupyter-widgets/controls",
            "_model_module_version": "1.5.0",
            "_model_name": "HTMLModel",
            "_view_count": null,
            "_view_module": "@jupyter-widgets/controls",
            "_view_module_version": "1.5.0",
            "_view_name": "HTMLView",
            "description": "",
            "description_tooltip": null,
            "layout": "IPY_MODEL_68f2686f1e504a07b44420b79a7a62af",
            "placeholder": "​",
            "style": "IPY_MODEL_0648175bbd5b4882a342a1b2a89dc1e7",
            "value": "Downloading (…)/main/tokenizer.json: 100%"
          }
        },
        "7d8326a373d3467baff710ca0f9badaf": {
          "model_module": "@jupyter-widgets/controls",
          "model_module_version": "1.5.0",
          "model_name": "HTMLModel",
          "state": {
            "_dom_classes": [],
            "_model_module": "@jupyter-widgets/controls",
            "_model_module_version": "1.5.0",
            "_model_name": "HTMLModel",
            "_view_count": null,
            "_view_module": "@jupyter-widgets/controls",
            "_view_module_version": "1.5.0",
            "_view_name": "HTMLView",
            "description": "",
            "description_tooltip": null,
            "layout": "IPY_MODEL_cb96bb0a92f84ddc8948271c2e88e6ab",
            "placeholder": "​",
            "style": "IPY_MODEL_5317fbe515e245adaf583375fe87067f",
            "value": "Downloading (…)okenizer_config.json: 100%"
          }
        },
        "8001b0d2d83e4b4bab3473e53184721f": {
          "model_module": "@jupyter-widgets/controls",
          "model_module_version": "1.5.0",
          "model_name": "DescriptionStyleModel",
          "state": {
            "_model_module": "@jupyter-widgets/controls",
            "_model_module_version": "1.5.0",
            "_model_name": "DescriptionStyleModel",
            "_view_count": null,
            "_view_module": "@jupyter-widgets/base",
            "_view_module_version": "1.2.0",
            "_view_name": "StyleView",
            "description_width": ""
          }
        },
        "808cbe3cbf074e3c9b64f9a251bc2219": {
          "model_module": "@jupyter-widgets/base",
          "model_module_version": "1.2.0",
          "model_name": "LayoutModel",
          "state": {
            "_model_module": "@jupyter-widgets/base",
            "_model_module_version": "1.2.0",
            "_model_name": "LayoutModel",
            "_view_count": null,
            "_view_module": "@jupyter-widgets/base",
            "_view_module_version": "1.2.0",
            "_view_name": "LayoutView",
            "align_content": null,
            "align_items": null,
            "align_self": null,
            "border": null,
            "bottom": null,
            "display": null,
            "flex": null,
            "flex_flow": null,
            "grid_area": null,
            "grid_auto_columns": null,
            "grid_auto_flow": null,
            "grid_auto_rows": null,
            "grid_column": null,
            "grid_gap": null,
            "grid_row": null,
            "grid_template_areas": null,
            "grid_template_columns": null,
            "grid_template_rows": null,
            "height": null,
            "justify_content": null,
            "justify_items": null,
            "left": null,
            "margin": null,
            "max_height": null,
            "max_width": null,
            "min_height": null,
            "min_width": null,
            "object_fit": null,
            "object_position": null,
            "order": null,
            "overflow": null,
            "overflow_x": null,
            "overflow_y": null,
            "padding": null,
            "right": null,
            "top": null,
            "visibility": null,
            "width": null
          }
        },
        "875c333281794a1a9d813b522a280ee1": {
          "model_module": "@jupyter-widgets/controls",
          "model_module_version": "1.5.0",
          "model_name": "HTMLModel",
          "state": {
            "_dom_classes": [],
            "_model_module": "@jupyter-widgets/controls",
            "_model_module_version": "1.5.0",
            "_model_name": "HTMLModel",
            "_view_count": null,
            "_view_module": "@jupyter-widgets/controls",
            "_view_module_version": "1.5.0",
            "_view_name": "HTMLView",
            "description": "",
            "description_tooltip": null,
            "layout": "IPY_MODEL_1351fdde7b2c43adab716f4542a9badd",
            "placeholder": "​",
            "style": "IPY_MODEL_63919d3fbbea4ee9a7b18159a7da7ed0",
            "value": " 2.27M/2.27M [00:00&lt;00:00, 16.2MB/s]"
          }
        },
        "8d4fda8a2a9149d0844e729df51c0edf": {
          "model_module": "@jupyter-widgets/controls",
          "model_module_version": "1.5.0",
          "model_name": "HTMLModel",
          "state": {
            "_dom_classes": [],
            "_model_module": "@jupyter-widgets/controls",
            "_model_module_version": "1.5.0",
            "_model_name": "HTMLModel",
            "_view_count": null,
            "_view_module": "@jupyter-widgets/controls",
            "_view_module_version": "1.5.0",
            "_view_name": "HTMLView",
            "description": "",
            "description_tooltip": null,
            "layout": "IPY_MODEL_0e3c81f529be4ed3b795bc5e936f9d2d",
            "placeholder": "​",
            "style": "IPY_MODEL_21879e86609146feaefba28dd7fc52ad",
            "value": "Downloading spiece.model: 100%"
          }
        },
        "94255b1c0ebd4b9196b05e5b14652a67": {
          "model_module": "@jupyter-widgets/controls",
          "model_module_version": "1.5.0",
          "model_name": "HBoxModel",
          "state": {
            "_dom_classes": [],
            "_model_module": "@jupyter-widgets/controls",
            "_model_module_version": "1.5.0",
            "_model_name": "HBoxModel",
            "_view_count": null,
            "_view_module": "@jupyter-widgets/controls",
            "_view_module_version": "1.5.0",
            "_view_name": "HBoxView",
            "box_style": "",
            "children": [
              "IPY_MODEL_129d2757e5014b7faae8d9ab9ed54225",
              "IPY_MODEL_3a27e7e7f1d0454e966cfc528ab81951",
              "IPY_MODEL_e42067d2ec95491196fea4766ef48455"
            ],
            "layout": "IPY_MODEL_fdc90420720a471fb8c9ec11a8f57da6"
          }
        },
        "9d9f25e0440d4879bd461c8f95ebb044": {
          "model_module": "@jupyter-widgets/controls",
          "model_module_version": "1.5.0",
          "model_name": "HTMLModel",
          "state": {
            "_dom_classes": [],
            "_model_module": "@jupyter-widgets/controls",
            "_model_module_version": "1.5.0",
            "_model_name": "HTMLModel",
            "_view_count": null,
            "_view_module": "@jupyter-widgets/controls",
            "_view_module_version": "1.5.0",
            "_view_name": "HTMLView",
            "description": "",
            "description_tooltip": null,
            "layout": "IPY_MODEL_3fad8d1459c6442d9b319827356fa312",
            "placeholder": "​",
            "style": "IPY_MODEL_8001b0d2d83e4b4bab3473e53184721f",
            "value": " 74.0/74.0 [00:00&lt;00:00, 6.22kB/s]"
          }
        },
        "9de05c53707d403f824a2f4151457e24": {
          "model_module": "@jupyter-widgets/base",
          "model_module_version": "1.2.0",
          "model_name": "LayoutModel",
          "state": {
            "_model_module": "@jupyter-widgets/base",
            "_model_module_version": "1.2.0",
            "_model_name": "LayoutModel",
            "_view_count": null,
            "_view_module": "@jupyter-widgets/base",
            "_view_module_version": "1.2.0",
            "_view_name": "LayoutView",
            "align_content": null,
            "align_items": null,
            "align_self": null,
            "border": null,
            "bottom": null,
            "display": null,
            "flex": null,
            "flex_flow": null,
            "grid_area": null,
            "grid_auto_columns": null,
            "grid_auto_flow": null,
            "grid_auto_rows": null,
            "grid_column": null,
            "grid_gap": null,
            "grid_row": null,
            "grid_template_areas": null,
            "grid_template_columns": null,
            "grid_template_rows": null,
            "height": null,
            "justify_content": null,
            "justify_items": null,
            "left": null,
            "margin": null,
            "max_height": null,
            "max_width": null,
            "min_height": null,
            "min_width": null,
            "object_fit": null,
            "object_position": null,
            "order": null,
            "overflow": null,
            "overflow_x": null,
            "overflow_y": null,
            "padding": null,
            "right": null,
            "top": null,
            "visibility": null,
            "width": null
          }
        },
        "9fbff56522b843f5af4a5586843f8926": {
          "model_module": "@jupyter-widgets/controls",
          "model_module_version": "1.5.0",
          "model_name": "FloatProgressModel",
          "state": {
            "_dom_classes": [],
            "_model_module": "@jupyter-widgets/controls",
            "_model_module_version": "1.5.0",
            "_model_name": "FloatProgressModel",
            "_view_count": null,
            "_view_module": "@jupyter-widgets/controls",
            "_view_module_version": "1.5.0",
            "_view_name": "ProgressView",
            "bar_style": "success",
            "description": "",
            "description_tooltip": null,
            "layout": "IPY_MODEL_d668af6771124eafa6cd43d2fc119992",
            "max": 827566,
            "min": 0,
            "orientation": "horizontal",
            "style": "IPY_MODEL_cd8bdac514014910af399e8240f7e6fb",
            "value": 827566
          }
        },
        "a32e798a9ca64110a45db5a293b8b938": {
          "model_module": "@jupyter-widgets/controls",
          "model_module_version": "1.5.0",
          "model_name": "ProgressStyleModel",
          "state": {
            "_model_module": "@jupyter-widgets/controls",
            "_model_module_version": "1.5.0",
            "_model_name": "ProgressStyleModel",
            "_view_count": null,
            "_view_module": "@jupyter-widgets/base",
            "_view_module_version": "1.2.0",
            "_view_name": "StyleView",
            "bar_color": null,
            "description_width": ""
          }
        },
        "a4c30c623a804b07b07cb35e0b2a8e35": {
          "model_module": "@jupyter-widgets/base",
          "model_module_version": "1.2.0",
          "model_name": "LayoutModel",
          "state": {
            "_model_module": "@jupyter-widgets/base",
            "_model_module_version": "1.2.0",
            "_model_name": "LayoutModel",
            "_view_count": null,
            "_view_module": "@jupyter-widgets/base",
            "_view_module_version": "1.2.0",
            "_view_name": "LayoutView",
            "align_content": null,
            "align_items": null,
            "align_self": null,
            "border": null,
            "bottom": null,
            "display": null,
            "flex": null,
            "flex_flow": null,
            "grid_area": null,
            "grid_auto_columns": null,
            "grid_auto_flow": null,
            "grid_auto_rows": null,
            "grid_column": null,
            "grid_gap": null,
            "grid_row": null,
            "grid_template_areas": null,
            "grid_template_columns": null,
            "grid_template_rows": null,
            "height": null,
            "justify_content": null,
            "justify_items": null,
            "left": null,
            "margin": null,
            "max_height": null,
            "max_width": null,
            "min_height": null,
            "min_width": null,
            "object_fit": null,
            "object_position": null,
            "order": null,
            "overflow": null,
            "overflow_x": null,
            "overflow_y": null,
            "padding": null,
            "right": null,
            "top": null,
            "visibility": null,
            "width": null
          }
        },
        "aa6fa5d837064b189c238dc4c7ce304f": {
          "model_module": "@jupyter-widgets/base",
          "model_module_version": "1.2.0",
          "model_name": "LayoutModel",
          "state": {
            "_model_module": "@jupyter-widgets/base",
            "_model_module_version": "1.2.0",
            "_model_name": "LayoutModel",
            "_view_count": null,
            "_view_module": "@jupyter-widgets/base",
            "_view_module_version": "1.2.0",
            "_view_name": "LayoutView",
            "align_content": null,
            "align_items": null,
            "align_self": null,
            "border": null,
            "bottom": null,
            "display": null,
            "flex": null,
            "flex_flow": null,
            "grid_area": null,
            "grid_auto_columns": null,
            "grid_auto_flow": null,
            "grid_auto_rows": null,
            "grid_column": null,
            "grid_gap": null,
            "grid_row": null,
            "grid_template_areas": null,
            "grid_template_columns": null,
            "grid_template_rows": null,
            "height": null,
            "justify_content": null,
            "justify_items": null,
            "left": null,
            "margin": null,
            "max_height": null,
            "max_width": null,
            "min_height": null,
            "min_width": null,
            "object_fit": null,
            "object_position": null,
            "order": null,
            "overflow": null,
            "overflow_x": null,
            "overflow_y": null,
            "padding": null,
            "right": null,
            "top": null,
            "visibility": null,
            "width": null
          }
        },
        "ac4d5d084ac74e7a908a2fdccefeeca9": {
          "model_module": "@jupyter-widgets/controls",
          "model_module_version": "1.5.0",
          "model_name": "HBoxModel",
          "state": {
            "_dom_classes": [],
            "_model_module": "@jupyter-widgets/controls",
            "_model_module_version": "1.5.0",
            "_model_name": "HBoxModel",
            "_view_count": null,
            "_view_module": "@jupyter-widgets/controls",
            "_view_module_version": "1.5.0",
            "_view_name": "HBoxView",
            "box_style": "",
            "children": [
              "IPY_MODEL_7a3ce875cda441509dd892f7702c9fe2",
              "IPY_MODEL_439566b7019c4ca3badcb57c126d1e62",
              "IPY_MODEL_875c333281794a1a9d813b522a280ee1"
            ],
            "layout": "IPY_MODEL_24e07f8301c041bc84f2c0da7c69ad7e"
          }
        },
        "aef76f59b50a43b182b1be7e8e7ad27b": {
          "model_module": "@jupyter-widgets/controls",
          "model_module_version": "1.5.0",
          "model_name": "DescriptionStyleModel",
          "state": {
            "_model_module": "@jupyter-widgets/controls",
            "_model_module_version": "1.5.0",
            "_model_name": "DescriptionStyleModel",
            "_view_count": null,
            "_view_module": "@jupyter-widgets/base",
            "_view_module_version": "1.2.0",
            "_view_name": "StyleView",
            "description_width": ""
          }
        },
        "cb96bb0a92f84ddc8948271c2e88e6ab": {
          "model_module": "@jupyter-widgets/base",
          "model_module_version": "1.2.0",
          "model_name": "LayoutModel",
          "state": {
            "_model_module": "@jupyter-widgets/base",
            "_model_module_version": "1.2.0",
            "_model_name": "LayoutModel",
            "_view_count": null,
            "_view_module": "@jupyter-widgets/base",
            "_view_module_version": "1.2.0",
            "_view_name": "LayoutView",
            "align_content": null,
            "align_items": null,
            "align_self": null,
            "border": null,
            "bottom": null,
            "display": null,
            "flex": null,
            "flex_flow": null,
            "grid_area": null,
            "grid_auto_columns": null,
            "grid_auto_flow": null,
            "grid_auto_rows": null,
            "grid_column": null,
            "grid_gap": null,
            "grid_row": null,
            "grid_template_areas": null,
            "grid_template_columns": null,
            "grid_template_rows": null,
            "height": null,
            "justify_content": null,
            "justify_items": null,
            "left": null,
            "margin": null,
            "max_height": null,
            "max_width": null,
            "min_height": null,
            "min_width": null,
            "object_fit": null,
            "object_position": null,
            "order": null,
            "overflow": null,
            "overflow_x": null,
            "overflow_y": null,
            "padding": null,
            "right": null,
            "top": null,
            "visibility": null,
            "width": null
          }
        },
        "cd8bdac514014910af399e8240f7e6fb": {
          "model_module": "@jupyter-widgets/controls",
          "model_module_version": "1.5.0",
          "model_name": "ProgressStyleModel",
          "state": {
            "_model_module": "@jupyter-widgets/controls",
            "_model_module_version": "1.5.0",
            "_model_name": "ProgressStyleModel",
            "_view_count": null,
            "_view_module": "@jupyter-widgets/base",
            "_view_module_version": "1.2.0",
            "_view_name": "StyleView",
            "bar_color": null,
            "description_width": ""
          }
        },
        "ce12d1e4958641ab80b0132655fbb346": {
          "model_module": "@jupyter-widgets/controls",
          "model_module_version": "1.5.0",
          "model_name": "ProgressStyleModel",
          "state": {
            "_model_module": "@jupyter-widgets/controls",
            "_model_module_version": "1.5.0",
            "_model_name": "ProgressStyleModel",
            "_view_count": null,
            "_view_module": "@jupyter-widgets/base",
            "_view_module_version": "1.2.0",
            "_view_name": "StyleView",
            "bar_color": null,
            "description_width": ""
          }
        },
        "cf8dc19d386142f09037e43d50a8e71d": {
          "model_module": "@jupyter-widgets/controls",
          "model_module_version": "1.5.0",
          "model_name": "DescriptionStyleModel",
          "state": {
            "_model_module": "@jupyter-widgets/controls",
            "_model_module_version": "1.5.0",
            "_model_name": "DescriptionStyleModel",
            "_view_count": null,
            "_view_module": "@jupyter-widgets/base",
            "_view_module_version": "1.2.0",
            "_view_name": "StyleView",
            "description_width": ""
          }
        },
        "d668af6771124eafa6cd43d2fc119992": {
          "model_module": "@jupyter-widgets/base",
          "model_module_version": "1.2.0",
          "model_name": "LayoutModel",
          "state": {
            "_model_module": "@jupyter-widgets/base",
            "_model_module_version": "1.2.0",
            "_model_name": "LayoutModel",
            "_view_count": null,
            "_view_module": "@jupyter-widgets/base",
            "_view_module_version": "1.2.0",
            "_view_name": "LayoutView",
            "align_content": null,
            "align_items": null,
            "align_self": null,
            "border": null,
            "bottom": null,
            "display": null,
            "flex": null,
            "flex_flow": null,
            "grid_area": null,
            "grid_auto_columns": null,
            "grid_auto_flow": null,
            "grid_auto_rows": null,
            "grid_column": null,
            "grid_gap": null,
            "grid_row": null,
            "grid_template_areas": null,
            "grid_template_columns": null,
            "grid_template_rows": null,
            "height": null,
            "justify_content": null,
            "justify_items": null,
            "left": null,
            "margin": null,
            "max_height": null,
            "max_width": null,
            "min_height": null,
            "min_width": null,
            "object_fit": null,
            "object_position": null,
            "order": null,
            "overflow": null,
            "overflow_x": null,
            "overflow_y": null,
            "padding": null,
            "right": null,
            "top": null,
            "visibility": null,
            "width": null
          }
        },
        "e0e379b2fbc54e1d8add73fa76fa8c72": {
          "model_module": "@jupyter-widgets/base",
          "model_module_version": "1.2.0",
          "model_name": "LayoutModel",
          "state": {
            "_model_module": "@jupyter-widgets/base",
            "_model_module_version": "1.2.0",
            "_model_name": "LayoutModel",
            "_view_count": null,
            "_view_module": "@jupyter-widgets/base",
            "_view_module_version": "1.2.0",
            "_view_name": "LayoutView",
            "align_content": null,
            "align_items": null,
            "align_self": null,
            "border": null,
            "bottom": null,
            "display": null,
            "flex": null,
            "flex_flow": null,
            "grid_area": null,
            "grid_auto_columns": null,
            "grid_auto_flow": null,
            "grid_auto_rows": null,
            "grid_column": null,
            "grid_gap": null,
            "grid_row": null,
            "grid_template_areas": null,
            "grid_template_columns": null,
            "grid_template_rows": null,
            "height": null,
            "justify_content": null,
            "justify_items": null,
            "left": null,
            "margin": null,
            "max_height": null,
            "max_width": null,
            "min_height": null,
            "min_width": null,
            "object_fit": null,
            "object_position": null,
            "order": null,
            "overflow": null,
            "overflow_x": null,
            "overflow_y": null,
            "padding": null,
            "right": null,
            "top": null,
            "visibility": null,
            "width": null
          }
        },
        "e245ee92a539459e8ca5ac2b57f7747b": {
          "model_module": "@jupyter-widgets/base",
          "model_module_version": "1.2.0",
          "model_name": "LayoutModel",
          "state": {
            "_model_module": "@jupyter-widgets/base",
            "_model_module_version": "1.2.0",
            "_model_name": "LayoutModel",
            "_view_count": null,
            "_view_module": "@jupyter-widgets/base",
            "_view_module_version": "1.2.0",
            "_view_name": "LayoutView",
            "align_content": null,
            "align_items": null,
            "align_self": null,
            "border": null,
            "bottom": null,
            "display": null,
            "flex": null,
            "flex_flow": null,
            "grid_area": null,
            "grid_auto_columns": null,
            "grid_auto_flow": null,
            "grid_auto_rows": null,
            "grid_column": null,
            "grid_gap": null,
            "grid_row": null,
            "grid_template_areas": null,
            "grid_template_columns": null,
            "grid_template_rows": null,
            "height": null,
            "justify_content": null,
            "justify_items": null,
            "left": null,
            "margin": null,
            "max_height": null,
            "max_width": null,
            "min_height": null,
            "min_width": null,
            "object_fit": null,
            "object_position": null,
            "order": null,
            "overflow": null,
            "overflow_x": null,
            "overflow_y": null,
            "padding": null,
            "right": null,
            "top": null,
            "visibility": null,
            "width": null
          }
        },
        "e42067d2ec95491196fea4766ef48455": {
          "model_module": "@jupyter-widgets/controls",
          "model_module_version": "1.5.0",
          "model_name": "HTMLModel",
          "state": {
            "_dom_classes": [],
            "_model_module": "@jupyter-widgets/controls",
            "_model_module_version": "1.5.0",
            "_model_name": "HTMLModel",
            "_view_count": null,
            "_view_module": "@jupyter-widgets/controls",
            "_view_module_version": "1.5.0",
            "_view_name": "HTMLView",
            "description": "",
            "description_tooltip": null,
            "layout": "IPY_MODEL_11b58002303846f8912921c128ebc955",
            "placeholder": "​",
            "style": "IPY_MODEL_2097f1fc60424c95ba9f7302639e1cdb",
            "value": " 977M/977M [00:11&lt;00:00, 74.0MB/s]"
          }
        },
        "e638ea3213b24c9589cd0b4067348b41": {
          "model_module": "@jupyter-widgets/controls",
          "model_module_version": "1.5.0",
          "model_name": "FloatProgressModel",
          "state": {
            "_dom_classes": [],
            "_model_module": "@jupyter-widgets/controls",
            "_model_module_version": "1.5.0",
            "_model_name": "FloatProgressModel",
            "_view_count": null,
            "_view_module": "@jupyter-widgets/controls",
            "_view_module_version": "1.5.0",
            "_view_name": "ProgressView",
            "bar_style": "success",
            "description": "",
            "description_tooltip": null,
            "layout": "IPY_MODEL_4198661219be4785a59ef8a9fc465b47",
            "max": 308,
            "min": 0,
            "orientation": "horizontal",
            "style": "IPY_MODEL_0eae70f04cc64fca87dc4c0b807e3ae0",
            "value": 308
          }
        },
        "edc885a2356649019c3399a14aac0a7e": {
          "model_module": "@jupyter-widgets/controls",
          "model_module_version": "1.5.0",
          "model_name": "HTMLModel",
          "state": {
            "_dom_classes": [],
            "_model_module": "@jupyter-widgets/controls",
            "_model_module_version": "1.5.0",
            "_model_name": "HTMLModel",
            "_view_count": null,
            "_view_module": "@jupyter-widgets/controls",
            "_view_module_version": "1.5.0",
            "_view_name": "HTMLView",
            "description": "",
            "description_tooltip": null,
            "layout": "IPY_MODEL_808cbe3cbf074e3c9b64f9a251bc2219",
            "placeholder": "​",
            "style": "IPY_MODEL_38720cbf4276402697358bc6928879d5",
            "value": " 828k/828k [00:00&lt;00:00, 6.62MB/s]"
          }
        },
        "f131f7bc3f854ceda5683385d2ef5498": {
          "model_module": "@jupyter-widgets/base",
          "model_module_version": "1.2.0",
          "model_name": "LayoutModel",
          "state": {
            "_model_module": "@jupyter-widgets/base",
            "_model_module_version": "1.2.0",
            "_model_name": "LayoutModel",
            "_view_count": null,
            "_view_module": "@jupyter-widgets/base",
            "_view_module_version": "1.2.0",
            "_view_name": "LayoutView",
            "align_content": null,
            "align_items": null,
            "align_self": null,
            "border": null,
            "bottom": null,
            "display": null,
            "flex": null,
            "flex_flow": null,
            "grid_area": null,
            "grid_auto_columns": null,
            "grid_auto_flow": null,
            "grid_auto_rows": null,
            "grid_column": null,
            "grid_gap": null,
            "grid_row": null,
            "grid_template_areas": null,
            "grid_template_columns": null,
            "grid_template_rows": null,
            "height": null,
            "justify_content": null,
            "justify_items": null,
            "left": null,
            "margin": null,
            "max_height": null,
            "max_width": null,
            "min_height": null,
            "min_width": null,
            "object_fit": null,
            "object_position": null,
            "order": null,
            "overflow": null,
            "overflow_x": null,
            "overflow_y": null,
            "padding": null,
            "right": null,
            "top": null,
            "visibility": null,
            "width": null
          }
        },
        "f18db5c280764e349ccc05e7794f47d8": {
          "model_module": "@jupyter-widgets/controls",
          "model_module_version": "1.5.0",
          "model_name": "HTMLModel",
          "state": {
            "_dom_classes": [],
            "_model_module": "@jupyter-widgets/controls",
            "_model_module_version": "1.5.0",
            "_model_name": "HTMLModel",
            "_view_count": null,
            "_view_module": "@jupyter-widgets/controls",
            "_view_module_version": "1.5.0",
            "_view_name": "HTMLView",
            "description": "",
            "description_tooltip": null,
            "layout": "IPY_MODEL_e245ee92a539459e8ca5ac2b57f7747b",
            "placeholder": "​",
            "style": "IPY_MODEL_aef76f59b50a43b182b1be7e8e7ad27b",
            "value": "Downloading (…)cial_tokens_map.json: 100%"
          }
        },
        "f7f86c4be1134144b5a2f3528eb46a85": {
          "model_module": "@jupyter-widgets/base",
          "model_module_version": "1.2.0",
          "model_name": "LayoutModel",
          "state": {
            "_model_module": "@jupyter-widgets/base",
            "_model_module_version": "1.2.0",
            "_model_name": "LayoutModel",
            "_view_count": null,
            "_view_module": "@jupyter-widgets/base",
            "_view_module_version": "1.2.0",
            "_view_name": "LayoutView",
            "align_content": null,
            "align_items": null,
            "align_self": null,
            "border": null,
            "bottom": null,
            "display": null,
            "flex": null,
            "flex_flow": null,
            "grid_area": null,
            "grid_auto_columns": null,
            "grid_auto_flow": null,
            "grid_auto_rows": null,
            "grid_column": null,
            "grid_gap": null,
            "grid_row": null,
            "grid_template_areas": null,
            "grid_template_columns": null,
            "grid_template_rows": null,
            "height": null,
            "justify_content": null,
            "justify_items": null,
            "left": null,
            "margin": null,
            "max_height": null,
            "max_width": null,
            "min_height": null,
            "min_width": null,
            "object_fit": null,
            "object_position": null,
            "order": null,
            "overflow": null,
            "overflow_x": null,
            "overflow_y": null,
            "padding": null,
            "right": null,
            "top": null,
            "visibility": null,
            "width": null
          }
        },
        "fd21d483138641c8baca1f0092df9e7b": {
          "model_module": "@jupyter-widgets/controls",
          "model_module_version": "1.5.0",
          "model_name": "FloatProgressModel",
          "state": {
            "_dom_classes": [],
            "_model_module": "@jupyter-widgets/controls",
            "_model_module_version": "1.5.0",
            "_model_name": "FloatProgressModel",
            "_view_count": null,
            "_view_module": "@jupyter-widgets/controls",
            "_view_module_version": "1.5.0",
            "_view_name": "ProgressView",
            "bar_style": "success",
            "description": "",
            "description_tooltip": null,
            "layout": "IPY_MODEL_a4c30c623a804b07b07cb35e0b2a8e35",
            "max": 74,
            "min": 0,
            "orientation": "horizontal",
            "style": "IPY_MODEL_60fe799363b6449999adab3aa666ad14",
            "value": 74
          }
        },
        "fdc90420720a471fb8c9ec11a8f57da6": {
          "model_module": "@jupyter-widgets/base",
          "model_module_version": "1.2.0",
          "model_name": "LayoutModel",
          "state": {
            "_model_module": "@jupyter-widgets/base",
            "_model_module_version": "1.2.0",
            "_model_name": "LayoutModel",
            "_view_count": null,
            "_view_module": "@jupyter-widgets/base",
            "_view_module_version": "1.2.0",
            "_view_name": "LayoutView",
            "align_content": null,
            "align_items": null,
            "align_self": null,
            "border": null,
            "bottom": null,
            "display": null,
            "flex": null,
            "flex_flow": null,
            "grid_area": null,
            "grid_auto_columns": null,
            "grid_auto_flow": null,
            "grid_auto_rows": null,
            "grid_column": null,
            "grid_gap": null,
            "grid_row": null,
            "grid_template_areas": null,
            "grid_template_columns": null,
            "grid_template_rows": null,
            "height": null,
            "justify_content": null,
            "justify_items": null,
            "left": null,
            "margin": null,
            "max_height": null,
            "max_width": null,
            "min_height": null,
            "min_width": null,
            "object_fit": null,
            "object_position": null,
            "order": null,
            "overflow": null,
            "overflow_x": null,
            "overflow_y": null,
            "padding": null,
            "right": null,
            "top": null,
            "visibility": null,
            "width": null
          }
        }
      }
    }
  },
  "nbformat": 4,
  "nbformat_minor": 0
}